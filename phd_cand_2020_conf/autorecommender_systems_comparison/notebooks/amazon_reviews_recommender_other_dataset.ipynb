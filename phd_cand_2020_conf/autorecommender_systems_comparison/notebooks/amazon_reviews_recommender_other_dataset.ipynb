{
 "cells": [
  {
   "cell_type": "markdown",
   "metadata": {
    "colab_type": "text",
    "id": "rTxLNl1ubikF"
   },
   "source": [
    "# Intro\n",
    "\n",
    "This notebook is an experimentation code for \"Case study: a comparision of different consumer recommendation engines based on deep neural networks\".\n",
    "\n",
    "Paper is using [Amazon Reviews 2018 dataset](https://nijianmo.github.io/amazon/index.html)\n",
    "\n",
    "Insiration notebook [can be found here](https://github.com/iritfh1/Next-item-recommendation-using-keras/blob/master/DeepRecommendation_LAST3.ipynb)\n"
   ]
  },
  {
   "cell_type": "code",
   "execution_count": 1,
   "metadata": {
    "ExecuteTime": {
     "end_time": "2020-09-22T15:12:24.744839Z",
     "start_time": "2020-09-22T15:12:22.949927Z"
    },
    "colab": {},
    "colab_type": "code",
    "id": "bRl_UJ4idH8I"
   },
   "outputs": [],
   "source": [
    "import pandas as pd\n",
    "import os\n",
    "import json\n",
    "import gzip\n",
    "import numpy as np\n",
    "import tensorflow as tf\n",
    "import tensorflow.keras as kk\n",
    "import scipy.stats as st\n",
    "import gc \n",
    "import seaborn as sns\n",
    "import plotly.express as px\n",
    "import matplotlib.pyplot as plt\n",
    "\n",
    "from collections import defaultdict\n",
    "from sklearn.preprocessing import LabelEncoder\n",
    "from sklearn.model_selection import train_test_split\n",
    "from sklearn.metrics import mean_absolute_error, mean_squared_error\n",
    "from sklearn.model_selection import KFold\n",
    "from tqdm.auto import tqdm\n",
    "from itertools import cycle, zip_longest"
   ]
  },
  {
   "cell_type": "code",
   "execution_count": 2,
   "metadata": {
    "ExecuteTime": {
     "end_time": "2020-09-22T15:12:30.335556Z",
     "start_time": "2020-09-22T15:12:30.332823Z"
    },
    "colab": {},
    "colab_type": "code",
    "id": "HhJ9FF0OEe_3"
   },
   "outputs": [],
   "source": [
    "sns.set_style(\"whitegrid\")"
   ]
  },
  {
   "cell_type": "code",
   "execution_count": 3,
   "metadata": {
    "colab": {
     "base_uri": "https://localhost:8080/",
     "height": 275
    },
    "colab_type": "code",
    "id": "6cG2vY8_l_QN",
    "outputId": "9716cc99-37ce-4536-940b-1bace713e5ce"
   },
   "outputs": [
    {
     "name": "stdout",
     "output_type": "stream",
     "text": [
      "Collecting scikit-posthocs\n",
      "  Downloading scikit_posthocs-0.6.4-py3-none-any.whl (26 kB)\n",
      "Requirement already satisfied: seaborn in /Users/filipwojcik/opt/anaconda3/lib/python3.7/site-packages (from scikit-posthocs) (0.10.1)\n",
      "Requirement already satisfied: matplotlib in /Users/filipwojcik/opt/anaconda3/lib/python3.7/site-packages (from scikit-posthocs) (3.2.2)\n",
      "Requirement already satisfied: scipy in /Users/filipwojcik/opt/anaconda3/lib/python3.7/site-packages (from scikit-posthocs) (1.5.0)\n",
      "Requirement already satisfied: statsmodels in /Users/filipwojcik/opt/anaconda3/lib/python3.7/site-packages (from scikit-posthocs) (0.11.1)\n",
      "Requirement already satisfied: numpy in /Users/filipwojcik/opt/anaconda3/lib/python3.7/site-packages (from scikit-posthocs) (1.18.5)\n",
      "Requirement already satisfied: pandas>=0.20.0 in /Users/filipwojcik/opt/anaconda3/lib/python3.7/site-packages (from scikit-posthocs) (1.0.5)\n",
      "Requirement already satisfied: cycler>=0.10 in /Users/filipwojcik/opt/anaconda3/lib/python3.7/site-packages (from matplotlib->scikit-posthocs) (0.10.0)\n",
      "Requirement already satisfied: pyparsing!=2.0.4,!=2.1.2,!=2.1.6,>=2.0.1 in /Users/filipwojcik/opt/anaconda3/lib/python3.7/site-packages (from matplotlib->scikit-posthocs) (2.4.7)\n",
      "Requirement already satisfied: python-dateutil>=2.1 in /Users/filipwojcik/opt/anaconda3/lib/python3.7/site-packages (from matplotlib->scikit-posthocs) (2.8.1)\n",
      "Requirement already satisfied: kiwisolver>=1.0.1 in /Users/filipwojcik/opt/anaconda3/lib/python3.7/site-packages (from matplotlib->scikit-posthocs) (1.2.0)\n",
      "Requirement already satisfied: patsy>=0.5 in /Users/filipwojcik/opt/anaconda3/lib/python3.7/site-packages (from statsmodels->scikit-posthocs) (0.5.1)\n",
      "Requirement already satisfied: pytz>=2017.2 in /Users/filipwojcik/opt/anaconda3/lib/python3.7/site-packages (from pandas>=0.20.0->scikit-posthocs) (2020.1)\n",
      "Requirement already satisfied: six in /Users/filipwojcik/opt/anaconda3/lib/python3.7/site-packages (from cycler>=0.10->matplotlib->scikit-posthocs) (1.15.0)\n",
      "Installing collected packages: scikit-posthocs\n",
      "Successfully installed scikit-posthocs-0.6.4\n"
     ]
    }
   ],
   "source": [
    "!pip install scikit-posthocs"
   ]
  },
  {
   "cell_type": "code",
   "execution_count": 3,
   "metadata": {
    "ExecuteTime": {
     "end_time": "2020-09-22T15:12:32.773859Z",
     "start_time": "2020-09-22T15:12:32.751636Z"
    },
    "colab": {},
    "colab_type": "code",
    "id": "3IOgp5pemAJE"
   },
   "outputs": [],
   "source": [
    "import scikit_posthocs as sp"
   ]
  },
  {
   "cell_type": "markdown",
   "metadata": {
    "colab_type": "text",
    "id": "VLMmM1judriI"
   },
   "source": [
    "# Loading data"
   ]
  },
  {
   "cell_type": "markdown",
   "metadata": {
    "colab_type": "text",
    "id": "ltIXOW6rSvOF"
   },
   "source": [
    "## 'All beauty' data"
   ]
  },
  {
   "cell_type": "code",
   "execution_count": 4,
   "metadata": {
    "colab": {
     "base_uri": "https://localhost:8080/",
     "height": 204
    },
    "colab_type": "code",
    "id": "h-lARiDGd5tS",
    "outputId": "35e3c967-e6e4-4357-9217-d25e2c7ef1b5"
   },
   "outputs": [
    {
     "name": "stdout",
     "output_type": "stream",
     "text": [
      "/bin/sh: wget: command not found\n"
     ]
    }
   ],
   "source": [
    "!wget http://deepyeti.ucsd.edu/jianmo/amazon/categoryFilesSmall/All_Beauty_5.json.gz"
   ]
  },
  {
   "cell_type": "code",
   "execution_count": 5,
   "metadata": {
    "colab": {},
    "colab_type": "code",
    "id": "cpI_MSrAe3Au"
   },
   "outputs": [],
   "source": [
    "data_f = \"All_Beauty_5.json.gz\""
   ]
  },
  {
   "cell_type": "code",
   "execution_count": 53,
   "metadata": {
    "colab": {
     "base_uri": "https://localhost:8080/",
     "height": 71
    },
    "colab_type": "code",
    "id": "MjlbIGohdudE",
    "outputId": "dd17f6f9-638b-4bc1-d029-30ab9be516e5"
   },
   "outputs": [
    {
     "name": "stdout",
     "output_type": "stream",
     "text": [
      "5269\n",
      "{'overall': 5.0, 'verified': True, 'reviewTime': '09 1, 2016', 'reviewerID': 'A3CIUOJXQ5VDQ2', 'asin': 'B0000530HU', 'style': {'Size:': ' 7.0 oz', 'Flavor:': ' Classic Ice Blue'}, 'reviewerName': 'Shelly F', 'reviewText': 'As advertised. Reasonably priced', 'summary': 'Five Stars', 'unixReviewTime': 1472688000}\n"
     ]
    }
   ],
   "source": [
    "data = []\n",
    "with gzip.open(data_f) as f:\n",
    "    for l in f:\n",
    "        data.append(json.loads(l.strip()))\n",
    "    \n",
    "# total length of list, this number equals total number of products\n",
    "print(len(data))\n",
    "\n",
    "# first row of the list\n",
    "print(data[0])"
   ]
  },
  {
   "cell_type": "code",
   "execution_count": 54,
   "metadata": {
    "colab": {
     "base_uri": "https://localhost:8080/",
     "height": 530
    },
    "colab_type": "code",
    "id": "lkBtq5Jbe7rs",
    "outputId": "dd889891-9cdd-4d32-fc55-6c8836b888bc"
   },
   "outputs": [
    {
     "data": {
      "text/html": [
       "<div>\n",
       "<style scoped>\n",
       "    .dataframe tbody tr th:only-of-type {\n",
       "        vertical-align: middle;\n",
       "    }\n",
       "\n",
       "    .dataframe tbody tr th {\n",
       "        vertical-align: top;\n",
       "    }\n",
       "\n",
       "    .dataframe thead th {\n",
       "        text-align: right;\n",
       "    }\n",
       "</style>\n",
       "<table border=\"1\" class=\"dataframe\">\n",
       "  <thead>\n",
       "    <tr style=\"text-align: right;\">\n",
       "      <th></th>\n",
       "      <th>overall</th>\n",
       "      <th>verified</th>\n",
       "      <th>reviewTime</th>\n",
       "      <th>reviewerID</th>\n",
       "      <th>asin</th>\n",
       "      <th>style</th>\n",
       "      <th>reviewerName</th>\n",
       "      <th>reviewText</th>\n",
       "      <th>summary</th>\n",
       "      <th>unixReviewTime</th>\n",
       "      <th>vote</th>\n",
       "      <th>image</th>\n",
       "    </tr>\n",
       "  </thead>\n",
       "  <tbody>\n",
       "    <tr>\n",
       "      <th>0</th>\n",
       "      <td>5.0</td>\n",
       "      <td>True</td>\n",
       "      <td>09 1, 2016</td>\n",
       "      <td>A3CIUOJXQ5VDQ2</td>\n",
       "      <td>B0000530HU</td>\n",
       "      <td>{'Size:': ' 7.0 oz', 'Flavor:': ' Classic Ice ...</td>\n",
       "      <td>Shelly F</td>\n",
       "      <td>As advertised. Reasonably priced</td>\n",
       "      <td>Five Stars</td>\n",
       "      <td>1472688000</td>\n",
       "      <td>NaN</td>\n",
       "      <td>NaN</td>\n",
       "    </tr>\n",
       "    <tr>\n",
       "      <th>1</th>\n",
       "      <td>5.0</td>\n",
       "      <td>True</td>\n",
       "      <td>11 14, 2013</td>\n",
       "      <td>A3H7T87S984REU</td>\n",
       "      <td>B0000530HU</td>\n",
       "      <td>{'Size:': ' 7.0 oz', 'Flavor:': ' Classic Ice ...</td>\n",
       "      <td>houserules18</td>\n",
       "      <td>Like the oder and the feel when I put it on my...</td>\n",
       "      <td>Good for the face</td>\n",
       "      <td>1384387200</td>\n",
       "      <td>NaN</td>\n",
       "      <td>NaN</td>\n",
       "    </tr>\n",
       "    <tr>\n",
       "      <th>2</th>\n",
       "      <td>1.0</td>\n",
       "      <td>True</td>\n",
       "      <td>08 18, 2013</td>\n",
       "      <td>A3J034YH7UG4KT</td>\n",
       "      <td>B0000530HU</td>\n",
       "      <td>{'Size:': ' 7.0 oz', 'Flavor:': ' Classic Ice ...</td>\n",
       "      <td>Adam</td>\n",
       "      <td>I bought this to smell nice after I shave.  Wh...</td>\n",
       "      <td>Smells awful</td>\n",
       "      <td>1376784000</td>\n",
       "      <td>NaN</td>\n",
       "      <td>NaN</td>\n",
       "    </tr>\n",
       "    <tr>\n",
       "      <th>3</th>\n",
       "      <td>5.0</td>\n",
       "      <td>False</td>\n",
       "      <td>05 3, 2011</td>\n",
       "      <td>A2UEO5XR3598GI</td>\n",
       "      <td>B0000530HU</td>\n",
       "      <td>{'Size:': ' 7.0 oz', 'Flavor:': ' Classic Ice ...</td>\n",
       "      <td>Rich K</td>\n",
       "      <td>HEY!! I am an Aqua Velva Man and absolutely lo...</td>\n",
       "      <td>Truth is There IS Nothing Like an AQUA VELVA MAN.</td>\n",
       "      <td>1304380800</td>\n",
       "      <td>25</td>\n",
       "      <td>NaN</td>\n",
       "    </tr>\n",
       "    <tr>\n",
       "      <th>4</th>\n",
       "      <td>5.0</td>\n",
       "      <td>True</td>\n",
       "      <td>05 6, 2011</td>\n",
       "      <td>A3SFRT223XXWF7</td>\n",
       "      <td>B00006L9LC</td>\n",
       "      <td>{'Size:': ' 200ml/6.7oz'}</td>\n",
       "      <td>C. C. Christian</td>\n",
       "      <td>If you ever want to feel pampered by a shampoo...</td>\n",
       "      <td>Bvlgari Shampoo</td>\n",
       "      <td>1304640000</td>\n",
       "      <td>3</td>\n",
       "      <td>NaN</td>\n",
       "    </tr>\n",
       "  </tbody>\n",
       "</table>\n",
       "</div>"
      ],
      "text/plain": [
       "   overall  verified   reviewTime      reviewerID        asin  \\\n",
       "0      5.0      True   09 1, 2016  A3CIUOJXQ5VDQ2  B0000530HU   \n",
       "1      5.0      True  11 14, 2013  A3H7T87S984REU  B0000530HU   \n",
       "2      1.0      True  08 18, 2013  A3J034YH7UG4KT  B0000530HU   \n",
       "3      5.0     False   05 3, 2011  A2UEO5XR3598GI  B0000530HU   \n",
       "4      5.0      True   05 6, 2011  A3SFRT223XXWF7  B00006L9LC   \n",
       "\n",
       "                                               style     reviewerName  \\\n",
       "0  {'Size:': ' 7.0 oz', 'Flavor:': ' Classic Ice ...         Shelly F   \n",
       "1  {'Size:': ' 7.0 oz', 'Flavor:': ' Classic Ice ...     houserules18   \n",
       "2  {'Size:': ' 7.0 oz', 'Flavor:': ' Classic Ice ...             Adam   \n",
       "3  {'Size:': ' 7.0 oz', 'Flavor:': ' Classic Ice ...           Rich K   \n",
       "4                          {'Size:': ' 200ml/6.7oz'}  C. C. Christian   \n",
       "\n",
       "                                          reviewText  \\\n",
       "0                   As advertised. Reasonably priced   \n",
       "1  Like the oder and the feel when I put it on my...   \n",
       "2  I bought this to smell nice after I shave.  Wh...   \n",
       "3  HEY!! I am an Aqua Velva Man and absolutely lo...   \n",
       "4  If you ever want to feel pampered by a shampoo...   \n",
       "\n",
       "                                             summary  unixReviewTime vote  \\\n",
       "0                                         Five Stars      1472688000  NaN   \n",
       "1                                  Good for the face      1384387200  NaN   \n",
       "2                                       Smells awful      1376784000  NaN   \n",
       "3  Truth is There IS Nothing Like an AQUA VELVA MAN.      1304380800   25   \n",
       "4                                    Bvlgari Shampoo      1304640000    3   \n",
       "\n",
       "  image  \n",
       "0   NaN  \n",
       "1   NaN  \n",
       "2   NaN  \n",
       "3   NaN  \n",
       "4   NaN  "
      ]
     },
     "execution_count": 54,
     "metadata": {},
     "output_type": "execute_result"
    }
   ],
   "source": [
    "df = pd.DataFrame.from_dict(data)\n",
    "\n",
    "df.head(5)"
   ]
  },
  {
   "cell_type": "code",
   "execution_count": 55,
   "metadata": {
    "colab": {
     "base_uri": "https://localhost:8080/",
     "height": 35
    },
    "colab_type": "code",
    "id": "K8nVEy-ifCJr",
    "outputId": "5add57cc-2679-4859-805e-7854410511fc"
   },
   "outputs": [
    {
     "data": {
      "text/plain": [
       "' 7.0 oz'"
      ]
     },
     "execution_count": 55,
     "metadata": {},
     "output_type": "execute_result"
    }
   ],
   "source": [
    "df.iloc[0].style[\"Size:\"]"
   ]
  },
  {
   "cell_type": "markdown",
   "metadata": {
    "colab_type": "text",
    "id": "kShbJG7bS0Za"
   },
   "source": [
    "## Fashion data"
   ]
  },
  {
   "cell_type": "code",
   "execution_count": 56,
   "metadata": {
    "colab": {
     "base_uri": "https://localhost:8080/",
     "height": 204
    },
    "colab_type": "code",
    "id": "iouV28OiS3bq",
    "outputId": "3225dd22-7c16-4e2b-c113-7a83d282069e"
   },
   "outputs": [
    {
     "name": "stderr",
     "output_type": "stream",
     "text": [
      "'wget' is not recognized as an internal or external command,\n",
      "operable program or batch file.\n"
     ]
    }
   ],
   "source": [
    "!wget http://deepyeti.ucsd.edu/jianmo/amazon/categoryFilesSmall/AMAZON_FASHION_5.json.gz"
   ]
  },
  {
   "cell_type": "code",
   "execution_count": 45,
   "metadata": {
    "colab": {
     "base_uri": "https://localhost:8080/",
     "height": 71
    },
    "colab_type": "code",
    "id": "yfoLto22S567",
    "outputId": "b3a6ae95-3452-4aa0-fdb6-702eff7c3f12"
   },
   "outputs": [
    {
     "name": "stdout",
     "output_type": "stream",
     "text": [
      "3176\n",
      "{'overall': 5.0, 'verified': True, 'reviewTime': '09 4, 2015', 'reviewerID': 'ALJ66O1Y6SLHA', 'asin': 'B000K2PJ4K', 'style': {'Size:': ' Big Boys', 'Color:': ' Blue/Orange'}, 'reviewerName': 'Tonya B.', 'reviewText': 'Great product and price!', 'summary': 'Five Stars', 'unixReviewTime': 1441324800}\n"
     ]
    }
   ],
   "source": [
    "data_2_f = 'AMAZON_FASHION_5.json.gz'\n",
    "data2 = []\n",
    "with gzip.open(data_2_f) as f:\n",
    "    for l in f:\n",
    "        data2.append(json.loads(l.strip()))\n",
    "    \n",
    "# total length of list, this number equals total number of products\n",
    "print(len(data2))\n",
    "\n",
    "# first row of the list\n",
    "print(data2[0])"
   ]
  },
  {
   "cell_type": "code",
   "execution_count": 46,
   "metadata": {
    "colab": {
     "base_uri": "https://localhost:8080/",
     "height": 479
    },
    "colab_type": "code",
    "id": "LZK85ykpTDAc",
    "outputId": "2fec255a-998b-49d7-f1c9-a79886baf86f"
   },
   "outputs": [
    {
     "data": {
      "text/html": [
       "<div>\n",
       "<style scoped>\n",
       "    .dataframe tbody tr th:only-of-type {\n",
       "        vertical-align: middle;\n",
       "    }\n",
       "\n",
       "    .dataframe tbody tr th {\n",
       "        vertical-align: top;\n",
       "    }\n",
       "\n",
       "    .dataframe thead th {\n",
       "        text-align: right;\n",
       "    }\n",
       "</style>\n",
       "<table border=\"1\" class=\"dataframe\">\n",
       "  <thead>\n",
       "    <tr style=\"text-align: right;\">\n",
       "      <th></th>\n",
       "      <th>overall</th>\n",
       "      <th>verified</th>\n",
       "      <th>reviewTime</th>\n",
       "      <th>reviewerID</th>\n",
       "      <th>asin</th>\n",
       "      <th>style</th>\n",
       "      <th>reviewerName</th>\n",
       "      <th>reviewText</th>\n",
       "      <th>summary</th>\n",
       "      <th>unixReviewTime</th>\n",
       "      <th>vote</th>\n",
       "      <th>image</th>\n",
       "    </tr>\n",
       "  </thead>\n",
       "  <tbody>\n",
       "    <tr>\n",
       "      <th>0</th>\n",
       "      <td>5.0</td>\n",
       "      <td>True</td>\n",
       "      <td>09 4, 2015</td>\n",
       "      <td>ALJ66O1Y6SLHA</td>\n",
       "      <td>B000K2PJ4K</td>\n",
       "      <td>{'Size:': ' Big Boys', 'Color:': ' Blue/Orange'}</td>\n",
       "      <td>Tonya B.</td>\n",
       "      <td>Great product and price!</td>\n",
       "      <td>Five Stars</td>\n",
       "      <td>1441324800</td>\n",
       "      <td>NaN</td>\n",
       "      <td>NaN</td>\n",
       "    </tr>\n",
       "    <tr>\n",
       "      <th>1</th>\n",
       "      <td>5.0</td>\n",
       "      <td>True</td>\n",
       "      <td>09 4, 2015</td>\n",
       "      <td>ALJ66O1Y6SLHA</td>\n",
       "      <td>B000K2PJ4K</td>\n",
       "      <td>{'Size:': ' Big Boys', 'Color:': ' Black (3746...</td>\n",
       "      <td>Tonya B.</td>\n",
       "      <td>Great product and price!</td>\n",
       "      <td>Five Stars</td>\n",
       "      <td>1441324800</td>\n",
       "      <td>NaN</td>\n",
       "      <td>NaN</td>\n",
       "    </tr>\n",
       "    <tr>\n",
       "      <th>2</th>\n",
       "      <td>5.0</td>\n",
       "      <td>True</td>\n",
       "      <td>09 4, 2015</td>\n",
       "      <td>ALJ66O1Y6SLHA</td>\n",
       "      <td>B000K2PJ4K</td>\n",
       "      <td>{'Size:': ' Big Boys', 'Color:': ' Blue/Gray L...</td>\n",
       "      <td>Tonya B.</td>\n",
       "      <td>Great product and price!</td>\n",
       "      <td>Five Stars</td>\n",
       "      <td>1441324800</td>\n",
       "      <td>NaN</td>\n",
       "      <td>NaN</td>\n",
       "    </tr>\n",
       "    <tr>\n",
       "      <th>3</th>\n",
       "      <td>5.0</td>\n",
       "      <td>True</td>\n",
       "      <td>09 4, 2015</td>\n",
       "      <td>ALJ66O1Y6SLHA</td>\n",
       "      <td>B000K2PJ4K</td>\n",
       "      <td>{'Size:': ' Big Boys', 'Color:': ' Blue (37867...</td>\n",
       "      <td>Tonya B.</td>\n",
       "      <td>Great product and price!</td>\n",
       "      <td>Five Stars</td>\n",
       "      <td>1441324800</td>\n",
       "      <td>NaN</td>\n",
       "      <td>NaN</td>\n",
       "    </tr>\n",
       "    <tr>\n",
       "      <th>4</th>\n",
       "      <td>5.0</td>\n",
       "      <td>True</td>\n",
       "      <td>09 4, 2015</td>\n",
       "      <td>ALJ66O1Y6SLHA</td>\n",
       "      <td>B000K2PJ4K</td>\n",
       "      <td>{'Size:': ' Big Boys', 'Color:': ' Blue/Pink'}</td>\n",
       "      <td>Tonya B.</td>\n",
       "      <td>Great product and price!</td>\n",
       "      <td>Five Stars</td>\n",
       "      <td>1441324800</td>\n",
       "      <td>NaN</td>\n",
       "      <td>NaN</td>\n",
       "    </tr>\n",
       "  </tbody>\n",
       "</table>\n",
       "</div>"
      ],
      "text/plain": [
       "   overall  verified  reviewTime  ... unixReviewTime vote image\n",
       "0      5.0      True  09 4, 2015  ...     1441324800  NaN   NaN\n",
       "1      5.0      True  09 4, 2015  ...     1441324800  NaN   NaN\n",
       "2      5.0      True  09 4, 2015  ...     1441324800  NaN   NaN\n",
       "3      5.0      True  09 4, 2015  ...     1441324800  NaN   NaN\n",
       "4      5.0      True  09 4, 2015  ...     1441324800  NaN   NaN\n",
       "\n",
       "[5 rows x 12 columns]"
      ]
     },
     "execution_count": 46,
     "metadata": {
      "tags": []
     },
     "output_type": "execute_result"
    }
   ],
   "source": [
    "df2 = pd.DataFrame.from_dict(data2)\n",
    "\n",
    "df2.head(5)"
   ]
  },
  {
   "cell_type": "markdown",
   "metadata": {
    "colab_type": "text",
    "id": "SSx6NdRVTSAG"
   },
   "source": [
    "## Merge two data frames"
   ]
  },
  {
   "cell_type": "code",
   "execution_count": 46,
   "metadata": {
    "colab": {},
    "colab_type": "code",
    "id": "TSdtMRceTW-z"
   },
   "outputs": [],
   "source": []
  },
  {
   "cell_type": "markdown",
   "metadata": {
    "colab_type": "text",
    "id": "AsRggrDGfNuR"
   },
   "source": [
    "# Preprocess data"
   ]
  },
  {
   "cell_type": "markdown",
   "metadata": {
    "colab_type": "text",
    "id": "4CMOXchbfr3W"
   },
   "source": [
    "First of all, we need to extract prouct metadata from embedded dictionary. Once all possible values are known, they will be properly encoded."
   ]
  },
  {
   "cell_type": "markdown",
   "metadata": {
    "colab_type": "text",
    "id": "ileqJkOrSYGh"
   },
   "source": [
    "## Find unique values per each category"
   ]
  },
  {
   "cell_type": "code",
   "execution_count": 57,
   "metadata": {
    "colab": {},
    "colab_type": "code",
    "id": "aWAMY1uKf63E"
   },
   "outputs": [],
   "source": [
    "unique_values = defaultdict(lambda: set())\n",
    "for i, row in df.iterrows():\n",
    "    if row.style and not pd.isnull(row.style):\n",
    "        for k, v in row.style.items():\n",
    "            unique_values[k.replace(\":\", \"\")].add(v)"
   ]
  },
  {
   "cell_type": "code",
   "execution_count": 58,
   "metadata": {
    "colab": {
     "base_uri": "https://localhost:8080/",
     "height": 34
    },
    "colab_type": "code",
    "id": "JXm9yra0ix2Q",
    "outputId": "4ba8190e-1d50-453f-d489-f852ad6b4504"
   },
   "outputs": [
    {
     "data": {
      "text/plain": [
       "dict_keys(['Size', 'Flavor', 'Color', 'Scent Name', 'Style Name', 'Design'])"
      ]
     },
     "execution_count": 58,
     "metadata": {},
     "output_type": "execute_result"
    }
   ],
   "source": [
    "unique_values.keys()"
   ]
  },
  {
   "cell_type": "code",
   "execution_count": 59,
   "metadata": {
    "colab": {
     "base_uri": "https://localhost:8080/",
     "height": 119
    },
    "colab_type": "code",
    "id": "Aorfn8jN-d7H",
    "outputId": "41aa7e8a-efa9-475e-aa2a-1946d9f7f2b4"
   },
   "outputs": [
    {
     "name": "stdout",
     "output_type": "stream",
     "text": [
      "Size: 289\n",
      "Flavor: 4\n",
      "Color: 76\n",
      "Scent Name: 8\n",
      "Style Name: 4\n",
      "Design: 21\n"
     ]
    }
   ],
   "source": [
    "for k, v in unique_values.items():\n",
    "    print(f\"{k}: {len(v)}\")"
   ]
  },
  {
   "cell_type": "code",
   "execution_count": 60,
   "metadata": {
    "colab": {
     "base_uri": "https://localhost:8080/",
     "height": 343
    },
    "colab_type": "code",
    "id": "ijPtdwB-gWh5",
    "outputId": "9dd2227c-0167-4472-ac75-7488237f0e55"
   },
   "outputs": [
    {
     "name": "stdout",
     "output_type": "stream",
     "text": [
      "Size\n",
      "{' 1 ounce', ' 13 Fl. Oz', ' 61', ' 10.2 oz', ' 32', ' 169', ' 160', ' 511', ' 76', ' 103', ' 85', ' 5 oz.', ' 1.69oz', ' 2.82 oz', ' 196', ' 149', ' 34', ' B-013', ' 285', ' 7 Ounce', ' 500ml', ' 25', ' 1-Count', ' 205', ' 48', ' 1', ' 64', ' 118', ' 49', ' 505', ' 114', ' 19', ' 6.6 oz', ' 95', ' 350 Gram', ' 243', ' 33', ' 163', ' 200ml/ 6.7OZ', ' 1 Pack', ' 82', ' 162', ' 109', ' 363', ' 2 Fl. Oz.', ' 79', ' 509', ' 86', ' 4', ' 195', ' 8', ' 121', ' Original', ' 370', ' 4-piece Gift Set', ' 401', ' 46', ' 6.7 oz.', ' 187', ' w-087', ' 369', ' 200', ' 200ml/6.7oz', ' 4 Ounce (8 Count)', ' 126', ' 223', ' 354', ' 36', ' 113', ' 25.4 Fluid Ounce', ' 2 oz', ' 80', ' Small', ' 277', ' 51', ' 18', ' 44', ' 206', ' 264', ' 45', ' 10.1 oz.', ' 22', ' 6.8 oz', ' 6.5 Ounce (Pack of 4)', ' 256', ' 17', ' 100', ' 70', ' 101', ' Shower Gel 6.8 oz', ' 57', ' 228', ' 143', ' 8.0 fl. oz.', ' 11 fl. oz.', ' 280', ' 13.5 Fl.Oz.', ' 1 Pound', ' B-020', ' 104', ' 279', ' -', ' 258', ' 65', ' 77', ' 1 count', ' 14 Ounce', ' 8.4', ' 170', ' 59', ' 16.9 Ounce', ' 38', ' 468', ' 99', ' 74', ' 33.8 Ounce', ' 303', ' 263', ' 934', ' 181', ' 90', ' 191', ' 293', ' 7.6oz', ' 6', ' A-019', ' 3', ' 27', ' 3.4 fl oz', ' 1 oz', ' 120', ' 439', ' 235', ' 351', ' 265', ' 3/4 Inch', ' 1.7 oz', ' 8.5oz', ' 110', ' 287', ' 586', ' 515', ' 10', ' A-015', ' 312', ' 7', ' 184', ' 561', ' 97', ' 177', ' 367', ' 5', ' 16.9 oz.', ' 444', ' 52', ' 78', ' one size', ' 111', ' 39', ' 24 oz.', ' C-024', ' 125', ' 410', ' 174', ' 33.8 oz', ' 13', ' 91', ' 26', ' 28', ' 379', ' 23', ' 12-Ounce (Pack of 3)', ' 92', ' 203', ' 119', ' 72', ' 55', ' 176', ' 402', ' 290', ' Ultra', ' 306', ' 275', ' 352', ' 392', ' 250 Gram', ' Multiset', ' 105', ' 292', ' 214', ' 233', ' 144', ' 267', ' 361', ' 60', ' 56', ' 98', ' 87', ' 295', ' 364', ' 147', ' 67', ' 328', ' 14 oz', ' 299', ' 156', ' 248', ' 112', ' 551', ' 6.7 oz', ' 177ml/6oz', ' 340', ' 366', ' 15', ' 127', ' 71', ' 261', ' 300', ' B-002', ' Shampoo', ' 266', ' 186', ' 483', ' 150 Gram', ' 179', ' 281', ' 50', ' 3.3 oz', ' 197', ' 136', ' 304', ' 145', ' 286', ' 43', ' 291', ' 31', ' 16fl oz.', ' 283', ' 3 oz.', ' 25.3', ' 305', ' 432', ' 247', ' 53', ' C-071', ' 180', ' 157', ' 241', ' 29', ' 6 Pack', ' 122', ' 108', ' 198', ' 463', ' 192', ' C-017', ' 5.1 oz', ' 259', ' 84', ' 124', ' 16.8 Fl.Oz.', ' 329', ' 7.0 oz', ' 129', ' 175', ' 6.7 Oz.', ' 494', ' 69', ' 16', ' 268', ' 123', ' 188', ' Single Pack', ' 403', ' 1000ml/33.8oz', ' 89', ' 41', ' 3 Ounce', ' 106', ' 29.2', ' 255', ' 337', ' LG X 32', ' 6 Strips', ' 32 oz', ' 16.9', ' 30mla144', ' 178', ' 58'}\n",
      "----\n",
      "Flavor\n",
      "{' Original Floss', ' Comfort Plus Mint', ' Deep Clean Cool Mint', ' Classic Ice Blue'}\n",
      "----\n",
      "Color\n",
      "{' Juicy Pomegranate', ' Foot Paddle', ' Linen Water With Sprayer', ' Bath Mitt', ' Honey Almond', ' Coconut', ' Lavender Blossoms', ' Moisturizing Gloves', ' Black Natural and Navy', ' Body Lotion', ' Lime Zest', ' Peony', ' V.I.Please', ' Sage', ' Tiare', ' Take Me To Thread', ' Blue Spice After Shave', ' Verbena', ' Wearing Hue', ' Wildflowers', ' Violate', ' Rock The Runway', ' Linen Water Refill', ' Nail Brush', ' Volcanic Pumice Stone', ' Eye Pillow', ' Moisturizing Booties', ' Mirabelle', ' Agrumes', ' Starflower', ' Exfoliating Gloves', ' Shower Gel', ' Herbs of Provence', ' Fairy Tailor', ' Apricot Cuticle Oil', ' Boucle Bath Mitt', ' Jasmin', ' Style Stunner', ' Apple Pear', ' Millionails Treatment', ' Inside Scoop', ' Lavender', ' Rose Petal', ' Rosemary Mint', ' Loofah', ' Lemongrass', ' Mint Leaf', ' Raspberry', ' Sea Salt', ' Orgasm', ' Green Tea', ' Foot File', ' Sandalwood', ' Soap Mitt', ' Sea Sponge', ' Beau-Tie', ' Super Orgasm', ' Manicure & Pedicure Tools', ' Bath Salts', ' Milk', ' Pineapple', \" Angel's Trumpet\", ' Blueberry', ' Pomegranate', ' Cellulite Brush', ' Olive Oil', ' Manicure & Pedicure 5 Piece Set', ' Bath Pillow', ' Patchouli', ' White Gardenia', ' Heart Breaker', ' Olive Oil & Lavender', ' Linden', ' Shower Cap', ' Raspberry Navy Forest', ' Star Flower'}\n",
      "----\n",
      "Scent Name\n",
      "{' 1000 Roses Floral', ' Sugar Lemon', ' Pomegranate Anise', ' Lime Basil', ' Sugar', ' Frankincense & Myrrh', ' Redcurrant Basil', ' Sandalwood'}\n",
      "----\n",
      "Style Name\n",
      "{' Eye Cream', ' Bubble Fruit', ' Volume Plumping Whip', ' Cream, Sensitive Skin'}\n",
      "----\n",
      "Design\n",
      "{' ETA-B1EBECB839', ' ETA-4809CDF7BD', ' ETA-A14D63B301', ' ETA-8AA8B0C3A1', ' ETA-587B698A12', ' ETA-A76D0C9755', ' ETA-17D419DCD9', ' ETA-7117EE3788', ' ETA-C4893097E9', ' ETA-E6B23EAB7B', ' ETA-5AC628FDC3', ' ETA-C6B5F7C374', ' ETA-F7102291F5', ' ETA-595E2D87BD', ' ETA-03868FCB34', ' ETA-F4F7CA8275', ' ETA-F2C716495B', ' ETA-A2D23DCD64', ' ETA-BF66BD2F87', ' ETA-6C65F81441', ' ETA-BCBB1FE978'}\n",
      "----\n"
     ]
    }
   ],
   "source": [
    "for k, v in unique_values.items():\n",
    "    if k != \"Size:\":\n",
    "        print(k)\n",
    "        print(v)\n",
    "        print('----')"
   ]
  },
  {
   "cell_type": "markdown",
   "metadata": {
    "colab_type": "text",
    "id": "tsj5kbGsSiah"
   },
   "source": [
    "## Build per-category encoders"
   ]
  },
  {
   "cell_type": "code",
   "execution_count": 61,
   "metadata": {
    "colab": {},
    "colab_type": "code",
    "id": "BPrrr90dTSU5"
   },
   "outputs": [],
   "source": [
    "MISSING_VAL = 'missing'"
   ]
  },
  {
   "cell_type": "code",
   "execution_count": 62,
   "metadata": {
    "colab": {},
    "colab_type": "code",
    "id": "RaRmKkdwgxbn"
   },
   "outputs": [],
   "source": [
    "style_encoders = {}\n",
    "for category, values in unique_values.items():\n",
    "    vals = list(values)\n",
    "    vals += [MISSING_VAL]\n",
    "    le = LabelEncoder()\n",
    "    le.fit(vals)\n",
    "    style_encoders[category] = le\n",
    "    df[category] = None"
   ]
  },
  {
   "cell_type": "code",
   "execution_count": 63,
   "metadata": {
    "colab": {
     "base_uri": "https://localhost:8080/",
     "height": 383
    },
    "colab_type": "code",
    "id": "Qb6G8d_pQj5M",
    "outputId": "63c6e6e9-60b2-4f87-a170-62d29cf3119a"
   },
   "outputs": [
    {
     "data": {
      "text/html": [
       "<div>\n",
       "<style scoped>\n",
       "    .dataframe tbody tr th:only-of-type {\n",
       "        vertical-align: middle;\n",
       "    }\n",
       "\n",
       "    .dataframe tbody tr th {\n",
       "        vertical-align: top;\n",
       "    }\n",
       "\n",
       "    .dataframe thead th {\n",
       "        text-align: right;\n",
       "    }\n",
       "</style>\n",
       "<table border=\"1\" class=\"dataframe\">\n",
       "  <thead>\n",
       "    <tr style=\"text-align: right;\">\n",
       "      <th></th>\n",
       "      <th>overall</th>\n",
       "      <th>verified</th>\n",
       "      <th>reviewTime</th>\n",
       "      <th>reviewerID</th>\n",
       "      <th>asin</th>\n",
       "      <th>style</th>\n",
       "      <th>reviewerName</th>\n",
       "      <th>reviewText</th>\n",
       "      <th>summary</th>\n",
       "      <th>unixReviewTime</th>\n",
       "      <th>vote</th>\n",
       "      <th>image</th>\n",
       "      <th>Size</th>\n",
       "      <th>Flavor</th>\n",
       "      <th>Color</th>\n",
       "      <th>Scent Name</th>\n",
       "      <th>Style Name</th>\n",
       "      <th>Design</th>\n",
       "    </tr>\n",
       "  </thead>\n",
       "  <tbody>\n",
       "    <tr>\n",
       "      <th>0</th>\n",
       "      <td>5.0</td>\n",
       "      <td>True</td>\n",
       "      <td>09 1, 2016</td>\n",
       "      <td>A3CIUOJXQ5VDQ2</td>\n",
       "      <td>B0000530HU</td>\n",
       "      <td>{'Size:': ' 7.0 oz', 'Flavor:': ' Classic Ice ...</td>\n",
       "      <td>Shelly F</td>\n",
       "      <td>As advertised. Reasonably priced</td>\n",
       "      <td>Five Stars</td>\n",
       "      <td>1472688000</td>\n",
       "      <td>NaN</td>\n",
       "      <td>NaN</td>\n",
       "      <td>None</td>\n",
       "      <td>None</td>\n",
       "      <td>None</td>\n",
       "      <td>None</td>\n",
       "      <td>None</td>\n",
       "      <td>None</td>\n",
       "    </tr>\n",
       "    <tr>\n",
       "      <th>1</th>\n",
       "      <td>5.0</td>\n",
       "      <td>True</td>\n",
       "      <td>11 14, 2013</td>\n",
       "      <td>A3H7T87S984REU</td>\n",
       "      <td>B0000530HU</td>\n",
       "      <td>{'Size:': ' 7.0 oz', 'Flavor:': ' Classic Ice ...</td>\n",
       "      <td>houserules18</td>\n",
       "      <td>Like the oder and the feel when I put it on my...</td>\n",
       "      <td>Good for the face</td>\n",
       "      <td>1384387200</td>\n",
       "      <td>NaN</td>\n",
       "      <td>NaN</td>\n",
       "      <td>None</td>\n",
       "      <td>None</td>\n",
       "      <td>None</td>\n",
       "      <td>None</td>\n",
       "      <td>None</td>\n",
       "      <td>None</td>\n",
       "    </tr>\n",
       "    <tr>\n",
       "      <th>2</th>\n",
       "      <td>1.0</td>\n",
       "      <td>True</td>\n",
       "      <td>08 18, 2013</td>\n",
       "      <td>A3J034YH7UG4KT</td>\n",
       "      <td>B0000530HU</td>\n",
       "      <td>{'Size:': ' 7.0 oz', 'Flavor:': ' Classic Ice ...</td>\n",
       "      <td>Adam</td>\n",
       "      <td>I bought this to smell nice after I shave.  Wh...</td>\n",
       "      <td>Smells awful</td>\n",
       "      <td>1376784000</td>\n",
       "      <td>NaN</td>\n",
       "      <td>NaN</td>\n",
       "      <td>None</td>\n",
       "      <td>None</td>\n",
       "      <td>None</td>\n",
       "      <td>None</td>\n",
       "      <td>None</td>\n",
       "      <td>None</td>\n",
       "    </tr>\n",
       "  </tbody>\n",
       "</table>\n",
       "</div>"
      ],
      "text/plain": [
       "   overall  verified   reviewTime      reviewerID        asin  \\\n",
       "0      5.0      True   09 1, 2016  A3CIUOJXQ5VDQ2  B0000530HU   \n",
       "1      5.0      True  11 14, 2013  A3H7T87S984REU  B0000530HU   \n",
       "2      1.0      True  08 18, 2013  A3J034YH7UG4KT  B0000530HU   \n",
       "\n",
       "                                               style  reviewerName  \\\n",
       "0  {'Size:': ' 7.0 oz', 'Flavor:': ' Classic Ice ...      Shelly F   \n",
       "1  {'Size:': ' 7.0 oz', 'Flavor:': ' Classic Ice ...  houserules18   \n",
       "2  {'Size:': ' 7.0 oz', 'Flavor:': ' Classic Ice ...          Adam   \n",
       "\n",
       "                                          reviewText            summary  \\\n",
       "0                   As advertised. Reasonably priced         Five Stars   \n",
       "1  Like the oder and the feel when I put it on my...  Good for the face   \n",
       "2  I bought this to smell nice after I shave.  Wh...       Smells awful   \n",
       "\n",
       "   unixReviewTime vote image  Size Flavor Color Scent Name Style Name Design  \n",
       "0      1472688000  NaN   NaN  None   None  None       None       None   None  \n",
       "1      1384387200  NaN   NaN  None   None  None       None       None   None  \n",
       "2      1376784000  NaN   NaN  None   None  None       None       None   None  "
      ]
     },
     "execution_count": 63,
     "metadata": {},
     "output_type": "execute_result"
    }
   ],
   "source": [
    "df.head(3)"
   ]
  },
  {
   "cell_type": "markdown",
   "metadata": {
    "colab_type": "text",
    "id": "kkIu4EwySn0L"
   },
   "source": [
    "## Encode values per each record"
   ]
  },
  {
   "cell_type": "code",
   "execution_count": 64,
   "metadata": {
    "colab": {},
    "colab_type": "code",
    "id": "PiSqQ0w3iMPO"
   },
   "outputs": [],
   "source": [
    "encoded_vals = {k: [] for k in unique_values.keys()}\n",
    "\n",
    "for i, row in df.iterrows():\n",
    "    row_styles = row.style\n",
    "    if pd.isnull(row_styles):\n",
    "        for cat in unique_values.keys():\n",
    "            v = style_encoders[cat].transform([MISSING_VAL])[0]\n",
    "            encoded_vals[cat].append(v)\n",
    "    else:\n",
    "        for cat in unique_values.keys():\n",
    "            cat_with_colon = cat + \":\"\n",
    "            raw_val = row_styles[cat_with_colon] if cat_with_colon in row_styles.keys() else MISSING_VAL\n",
    "            le = style_encoders[cat]\n",
    "            v = le.transform([raw_val])[0]\n",
    "            encoded_vals[cat].append(v)"
   ]
  },
  {
   "cell_type": "code",
   "execution_count": 65,
   "metadata": {
    "colab": {},
    "colab_type": "code",
    "id": "tGgiyyshkFVm"
   },
   "outputs": [],
   "source": [
    "for k, vals in encoded_vals.items():\n",
    "    df[k] = vals"
   ]
  },
  {
   "cell_type": "code",
   "execution_count": 66,
   "metadata": {
    "colab": {},
    "colab_type": "code",
    "id": "6hw_0Te5qCSm"
   },
   "outputs": [],
   "source": [
    "uencoder = LabelEncoder()\n",
    "iencoder = LabelEncoder()\n",
    "\n",
    "uencoded = uencoder.fit_transform(df.reviewerID)\n",
    "iencoded  = iencoder.fit_transform(df.asin)"
   ]
  },
  {
   "cell_type": "code",
   "execution_count": 67,
   "metadata": {
    "colab": {},
    "colab_type": "code",
    "id": "eOJFi8fHqgA1"
   },
   "outputs": [],
   "source": [
    "df['userid'] = uencoded\n",
    "df['itemid'] = iencoded"
   ]
  },
  {
   "cell_type": "code",
   "execution_count": 68,
   "metadata": {
    "colab": {
     "base_uri": "https://localhost:8080/",
     "height": 383
    },
    "colab_type": "code",
    "id": "BMlYVUFvReey",
    "outputId": "fe982744-c7d0-45da-b5f2-9467633f455b"
   },
   "outputs": [
    {
     "data": {
      "text/html": [
       "<div>\n",
       "<style scoped>\n",
       "    .dataframe tbody tr th:only-of-type {\n",
       "        vertical-align: middle;\n",
       "    }\n",
       "\n",
       "    .dataframe tbody tr th {\n",
       "        vertical-align: top;\n",
       "    }\n",
       "\n",
       "    .dataframe thead th {\n",
       "        text-align: right;\n",
       "    }\n",
       "</style>\n",
       "<table border=\"1\" class=\"dataframe\">\n",
       "  <thead>\n",
       "    <tr style=\"text-align: right;\">\n",
       "      <th></th>\n",
       "      <th>overall</th>\n",
       "      <th>verified</th>\n",
       "      <th>reviewTime</th>\n",
       "      <th>reviewerID</th>\n",
       "      <th>asin</th>\n",
       "      <th>style</th>\n",
       "      <th>reviewerName</th>\n",
       "      <th>reviewText</th>\n",
       "      <th>summary</th>\n",
       "      <th>unixReviewTime</th>\n",
       "      <th>vote</th>\n",
       "      <th>image</th>\n",
       "      <th>Size</th>\n",
       "      <th>Flavor</th>\n",
       "      <th>Color</th>\n",
       "      <th>Scent Name</th>\n",
       "      <th>Style Name</th>\n",
       "      <th>Design</th>\n",
       "      <th>userid</th>\n",
       "      <th>itemid</th>\n",
       "    </tr>\n",
       "  </thead>\n",
       "  <tbody>\n",
       "    <tr>\n",
       "      <th>0</th>\n",
       "      <td>5.0</td>\n",
       "      <td>True</td>\n",
       "      <td>09 1, 2016</td>\n",
       "      <td>A3CIUOJXQ5VDQ2</td>\n",
       "      <td>B0000530HU</td>\n",
       "      <td>{'Size:': ' 7.0 oz', 'Flavor:': ' Classic Ice ...</td>\n",
       "      <td>Shelly F</td>\n",
       "      <td>As advertised. Reasonably priced</td>\n",
       "      <td>Five Stars</td>\n",
       "      <td>1472688000</td>\n",
       "      <td>NaN</td>\n",
       "      <td>NaN</td>\n",
       "      <td>242</td>\n",
       "      <td>0</td>\n",
       "      <td>76</td>\n",
       "      <td>8</td>\n",
       "      <td>4</td>\n",
       "      <td>21</td>\n",
       "      <td>610</td>\n",
       "      <td>0</td>\n",
       "    </tr>\n",
       "    <tr>\n",
       "      <th>1</th>\n",
       "      <td>5.0</td>\n",
       "      <td>True</td>\n",
       "      <td>11 14, 2013</td>\n",
       "      <td>A3H7T87S984REU</td>\n",
       "      <td>B0000530HU</td>\n",
       "      <td>{'Size:': ' 7.0 oz', 'Flavor:': ' Classic Ice ...</td>\n",
       "      <td>houserules18</td>\n",
       "      <td>Like the oder and the feel when I put it on my...</td>\n",
       "      <td>Good for the face</td>\n",
       "      <td>1384387200</td>\n",
       "      <td>NaN</td>\n",
       "      <td>NaN</td>\n",
       "      <td>242</td>\n",
       "      <td>0</td>\n",
       "      <td>76</td>\n",
       "      <td>8</td>\n",
       "      <td>4</td>\n",
       "      <td>21</td>\n",
       "      <td>644</td>\n",
       "      <td>0</td>\n",
       "    </tr>\n",
       "    <tr>\n",
       "      <th>2</th>\n",
       "      <td>1.0</td>\n",
       "      <td>True</td>\n",
       "      <td>08 18, 2013</td>\n",
       "      <td>A3J034YH7UG4KT</td>\n",
       "      <td>B0000530HU</td>\n",
       "      <td>{'Size:': ' 7.0 oz', 'Flavor:': ' Classic Ice ...</td>\n",
       "      <td>Adam</td>\n",
       "      <td>I bought this to smell nice after I shave.  Wh...</td>\n",
       "      <td>Smells awful</td>\n",
       "      <td>1376784000</td>\n",
       "      <td>NaN</td>\n",
       "      <td>NaN</td>\n",
       "      <td>242</td>\n",
       "      <td>0</td>\n",
       "      <td>76</td>\n",
       "      <td>8</td>\n",
       "      <td>4</td>\n",
       "      <td>21</td>\n",
       "      <td>663</td>\n",
       "      <td>0</td>\n",
       "    </tr>\n",
       "  </tbody>\n",
       "</table>\n",
       "</div>"
      ],
      "text/plain": [
       "   overall  verified   reviewTime      reviewerID        asin  \\\n",
       "0      5.0      True   09 1, 2016  A3CIUOJXQ5VDQ2  B0000530HU   \n",
       "1      5.0      True  11 14, 2013  A3H7T87S984REU  B0000530HU   \n",
       "2      1.0      True  08 18, 2013  A3J034YH7UG4KT  B0000530HU   \n",
       "\n",
       "                                               style  reviewerName  \\\n",
       "0  {'Size:': ' 7.0 oz', 'Flavor:': ' Classic Ice ...      Shelly F   \n",
       "1  {'Size:': ' 7.0 oz', 'Flavor:': ' Classic Ice ...  houserules18   \n",
       "2  {'Size:': ' 7.0 oz', 'Flavor:': ' Classic Ice ...          Adam   \n",
       "\n",
       "                                          reviewText            summary  \\\n",
       "0                   As advertised. Reasonably priced         Five Stars   \n",
       "1  Like the oder and the feel when I put it on my...  Good for the face   \n",
       "2  I bought this to smell nice after I shave.  Wh...       Smells awful   \n",
       "\n",
       "   unixReviewTime vote image  Size  Flavor  Color  Scent Name  Style Name  \\\n",
       "0      1472688000  NaN   NaN   242       0     76           8           4   \n",
       "1      1384387200  NaN   NaN   242       0     76           8           4   \n",
       "2      1376784000  NaN   NaN   242       0     76           8           4   \n",
       "\n",
       "   Design  userid  itemid  \n",
       "0      21     610       0  \n",
       "1      21     644       0  \n",
       "2      21     663       0  "
      ]
     },
     "execution_count": 68,
     "metadata": {},
     "output_type": "execute_result"
    }
   ],
   "source": [
    "df.head(3)"
   ]
  },
  {
   "cell_type": "markdown",
   "metadata": {
    "colab_type": "text",
    "id": "dtqwN8iRXyCQ"
   },
   "source": [
    "## Clean data"
   ]
  },
  {
   "cell_type": "code",
   "execution_count": 69,
   "metadata": {
    "colab": {
     "base_uri": "https://localhost:8080/",
     "height": 296
    },
    "colab_type": "code",
    "id": "MxS69RJIXzFC",
    "outputId": "e7e26255-bf94-4523-c25c-958e8f2cdedd"
   },
   "outputs": [
    {
     "data": {
      "text/plain": [
       "Text(0, 0.5, 'Count')"
      ]
     },
     "execution_count": 69,
     "metadata": {},
     "output_type": "execute_result"
    },
    {
     "data": {
      "image/png": "[encoded data removed]",
      "text/plain": [
       "<Figure size 432x288 with 1 Axes>"
      ]
     },
     "metadata": {},
     "output_type": "display_data"
    }
   ],
   "source": [
    "axarr = df.overall.hist()\n",
    "axarr.set_xlabel(\"Ratings\")\n",
    "axarr.set_ylabel(\"Count\")"
   ]
  },
  {
   "cell_type": "code",
   "execution_count": 70,
   "metadata": {
    "colab": {
     "base_uri": "https://localhost:8080/",
     "height": 34
    },
    "colab_type": "code",
    "id": "AtJyAHtIErLq",
    "outputId": "f728c916-106c-4383-be8b-9d847851f545"
   },
   "outputs": [
    {
     "data": {
      "text/plain": [
       "(5269, 20)"
      ]
     },
     "execution_count": 70,
     "metadata": {},
     "output_type": "execute_result"
    }
   ],
   "source": [
    "df.shape"
   ]
  },
  {
   "cell_type": "markdown",
   "metadata": {
    "colab_type": "text",
    "id": "uKHk0eeRVR9E"
   },
   "source": [
    "# Training models"
   ]
  },
  {
   "cell_type": "code",
   "execution_count": 71,
   "metadata": {
    "colab": {
     "base_uri": "https://localhost:8080/",
     "height": 34
    },
    "colab_type": "code",
    "id": "jgHfdreTXNWP",
    "outputId": "6f1064e2-94ff-4857-b775-da4b581d3090"
   },
   "outputs": [
    {
     "data": {
      "text/plain": [
       "(991, 85)"
      ]
     },
     "execution_count": 71,
     "metadata": {},
     "output_type": "execute_result"
    }
   ],
   "source": [
    "nusers = df.userid.nunique()\n",
    "nitems = df.itemid.nunique()\n",
    "\n",
    "nusers, nitems"
   ]
  },
  {
   "cell_type": "code",
   "execution_count": 72,
   "metadata": {
    "colab": {
     "base_uri": "https://localhost:8080/",
     "height": 119
    },
    "colab_type": "code",
    "id": "7T1sWQ1OZUyu",
    "outputId": "de380006-54ea-4f1b-ec38-021ed30c9772"
   },
   "outputs": [
    {
     "name": "stdout",
     "output_type": "stream",
     "text": [
      "Size, ncls: 290\n",
      "Flavor, ncls: 5\n",
      "Color, ncls: 77\n",
      "Scent Name, ncls: 9\n",
      "Style Name, ncls: 5\n",
      "Design, ncls: 22\n"
     ]
    }
   ],
   "source": [
    "for cat, le in style_encoders.items():\n",
    "    print(f\"{cat}, ncls: {len(le.classes_)}\")"
   ]
  },
  {
   "cell_type": "code",
   "execution_count": 73,
   "metadata": {
    "colab": {},
    "colab_type": "code",
    "id": "GPTQ2e6hdrVV"
   },
   "outputs": [],
   "source": [
    "X_train, X_test, y_train, y_test = train_test_split(df.drop(\"overall\", axis=1), df.overall, random_state=999, test_size=0.1)"
   ]
  },
  {
   "cell_type": "code",
   "execution_count": 74,
   "metadata": {
    "colab": {
     "base_uri": "https://localhost:8080/",
     "height": 34
    },
    "colab_type": "code",
    "id": "o3FsKPFmIVhJ",
    "outputId": "a389ddde-0184-46ec-b376-eaed8040e6b9"
   },
   "outputs": [
    {
     "data": {
      "text/plain": [
       "((4742, 19), (527, 19))"
      ]
     },
     "execution_count": 74,
     "metadata": {},
     "output_type": "execute_result"
    }
   ],
   "source": [
    "X_train.shape, X_test.shape"
   ]
  },
  {
   "cell_type": "code",
   "execution_count": 75,
   "metadata": {
    "colab": {
     "base_uri": "https://localhost:8080/",
     "height": 71
    },
    "colab_type": "code",
    "id": "mPoyrep5Y0hY",
    "outputId": "2aee1bc9-efb9-4469-add6-c4d996bf7e95"
   },
   "outputs": [
    {
     "name": "stderr",
     "output_type": "stream",
     "text": [
      "C:\\Users\\fwojcik\\AppData\\Local\\Continuum\\anaconda3\\lib\\site-packages\\sklearn\\model_selection\\_split.py:296: FutureWarning:\n",
      "\n",
      "Setting a random_state has no effect since shuffle is False. This will raise an error in 0.24. You should leave random_state to its default (None), or set shuffle=True.\n",
      "\n"
     ]
    }
   ],
   "source": [
    "kf = KFold(n_splits=10, random_state=777)"
   ]
  },
  {
   "cell_type": "code",
   "execution_count": 76,
   "metadata": {
    "colab": {
     "base_uri": "https://localhost:8080/",
     "height": 51
    },
    "colab_type": "code",
    "id": "lfNO50UYtXdL",
    "outputId": "29aaeb84-8842-48d7-e69d-e78b04acf625"
   },
   "outputs": [
    {
     "name": "stdout",
     "output_type": "stream",
     "text": [
      "(4267, 19)\n",
      "(475, 19)\n"
     ]
    }
   ],
   "source": [
    "for traini, testi in kf.split(X_train, y_train):\n",
    "    X_train_cv, y_train_cv = X_train.iloc[traini], y_train.iloc[traini]\n",
    "    X_test_cv, y_test_cv = X_train.iloc[testi], y_train.iloc[testi]\n",
    "    print(X_train_cv.shape)\n",
    "    print(X_test_cv.shape)\n",
    "    break"
   ]
  },
  {
   "cell_type": "code",
   "execution_count": 77,
   "metadata": {
    "colab": {},
    "colab_type": "code",
    "id": "aWYJXjkS_yDW"
   },
   "outputs": [],
   "source": [
    "def MAPE(y_true, y_pred): \n",
    "    #y_true, y_pred = check_arrays(y_true, y_pred)\n",
    "\n",
    "    ## Note: does not handle mix 1d representation\n",
    "    #if _is_1d(y_true): \n",
    "    #    y_true, y_pred = _check_1d_array(y_true, y_pred)\n",
    "\n",
    "    return np.mean(np.abs((y_true - y_pred) / y_true))"
   ]
  },
  {
   "cell_type": "code",
   "execution_count": 78,
   "metadata": {
    "colab": {},
    "colab_type": "code",
    "id": "0fTdWEjmb2pE"
   },
   "outputs": [],
   "source": [
    "def train_model(model_builder, feature_builder_f, X_train, y_train, \n",
    "                X_test, y_test, kf, *args, **kwargs):\n",
    "    mse_vals = []\n",
    "    mae_vals = []\n",
    "    mape_vals = []\n",
    "    for traini, testi in tqdm(kf.split(X_train, y_train)):\n",
    "        X_train_cv, y_train_cv = X_train.iloc[traini], y_train.iloc[traini]\n",
    "        X_test_cv, y_test_cv = X_train.iloc[testi], y_train.iloc[testi]\n",
    "\n",
    "        #print(f\"CV train: {X_train_cv.shape}, test: {X_test_cv.shape}\")\n",
    "\n",
    "        model = model_builder()\n",
    "        history = model.fit(feature_builder_f(X_train_cv), y_train_cv, epochs=10, *args, **kwargs)\n",
    "\n",
    "        yhat_cv = model.predict(feature_builder_f(X_test_cv)).squeeze()\n",
    "        mse, mae, mape = mean_squared_error(y_true=y_test_cv, y_pred=yhat_cv), mean_absolute_error(y_true=y_test_cv, y_pred=yhat_cv), MAPE(y_true=y_test_cv, y_pred=yhat_cv)\n",
    "        mse_vals.append(mse)\n",
    "        mae_vals.append(mae)\n",
    "        mape_vals.append(mape)\n",
    "\n",
    "    model_full = model_builder()\n",
    "    full_hist = model_full.fit(feature_builder_f(X_train), y_train, *args, **kwargs)\n",
    "    test_yhat = model_full.predict(feature_builder_f(X_test)).squeeze()\n",
    "    test_mse, test_mae, test_mape = mean_squared_error(y_true=y_test, y_pred=test_yhat), mean_absolute_error(y_true=y_test, y_pred=test_yhat),  MAPE(y_true=y_test, y_pred=test_yhat)\n",
    "\n",
    "    return mse_vals, mae_vals, mape_vals, test_mse, test_mae, test_mape, full_hist, model_full"
   ]
  },
  {
   "cell_type": "code",
   "execution_count": 79,
   "metadata": {
    "colab": {},
    "colab_type": "code",
    "id": "teackNK8cv2z"
   },
   "outputs": [],
   "source": [
    "def print_model_errors(model_name, mse, mae, mape, test_mse, test_mae, test_mape):\n",
    "    print(f\"\"\"\n",
    "    Model: {model_name}\n",
    "    train MSE: {np.mean(mse)}\n",
    "    train MAE: {np.mean(mae)}\n",
    "    train MAPE: {np.mean(mape)}\n",
    "\n",
    "    test MSE: {np.mean(test_mse)}\n",
    "    test MAE: {np.mean(test_mae)}\n",
    "    test MAPE: {np.mean(test_mape)}\n",
    "    \"\"\")"
   ]
  },
  {
   "cell_type": "markdown",
   "metadata": {
    "colab_type": "text",
    "id": "X6YRtUzNWimQ"
   },
   "source": [
    "## Collaborative filtering"
   ]
  },
  {
   "cell_type": "code",
   "execution_count": 80,
   "metadata": {
    "colab": {},
    "colab_type": "code",
    "id": "_5e4CvJ7WlnA"
   },
   "outputs": [],
   "source": [
    "def build_colabfilt():\n",
    "    kk.backend.clear_session()\n",
    "    gc.collect()\n",
    "\n",
    "    uiembed_sz = 32\n",
    "\n",
    "    uinput = kk.layers.Input(shape=(1,))\n",
    "    uembed = kk.layers.Embedding(\n",
    "        output_dim=uiembed_sz,\n",
    "        input_dim=nusers+1,\n",
    "        input_length=1,\n",
    "        name='userembed')(uinput)\n",
    "    uembed = kk.layers.Flatten()(uembed)\n",
    "    ubias = kk.layers.Flatten()(kk.layers.Embedding(\n",
    "        output_dim=1,\n",
    "        input_dim=nusers,\n",
    "        input_length=1,\n",
    "        name='ubias')(uinput))\n",
    "\n",
    "    iinput = kk.layers.Input(shape=(1,))\n",
    "    iembed = kk.layers.Embedding(\n",
    "        output_dim=uiembed_sz,\n",
    "        input_dim=nitems+1,\n",
    "        input_length=1,\n",
    "        name='iembed')(iinput)\n",
    "    iembed = kk.layers.Flatten()(iembed)\n",
    "    ibias = kk.layers.Flatten()(kk.layers.Embedding(\n",
    "        output_dim=1,\n",
    "        input_dim=nitems+1,\n",
    "        input_length=1,\n",
    "        name='ibias')(iinput))\n",
    "\n",
    "    ufull = kk.layers.add([uembed, ubias])\n",
    "    ifull = kk.layers.add([iembed, ibias])\n",
    "    out = kk.layers.Dot(axes=(1,1))([ifull, ufull])\n",
    "    #out = kk.layers.add([dot, ubias, ibias])\n",
    "\n",
    "    model_colab = kk.models.Model(inputs=[uinput, iinput], outputs=out)\n",
    "    opt = kk.optimizers.Adam(lr=0.001)\n",
    "    model_colab.compile(loss='mean_squared_error', optimizer=opt, metrics=['mse', 'mae', 'mape'])\n",
    "    return model_colab"
   ]
  },
  {
   "cell_type": "code",
   "execution_count": 81,
   "metadata": {
    "colab": {},
    "colab_type": "code",
    "id": "ZLg8s58Sc7_e"
   },
   "outputs": [],
   "source": [
    "colab_feature_builder = lambda data: [data.userid, data.itemid]"
   ]
  },
  {
   "cell_type": "code",
   "execution_count": 72,
   "metadata": {
    "colab": {
     "base_uri": "https://localhost:8080/",
     "height": 66,
     "referenced_widgets": [
      "fc6cb75aacfb4ba394153ca304d3b723",
      "d00cddcad588498b91d40c3c9746521f",
      "cb374406ccb14e0aa69373c88798fa84",
      "b22ba5630d69473da47b26d4d05f719d",
      "d4da992420da452bb46388c01993f57b",
      "8ed52b65b3eb4cd3b9a7dbef2de24555",
      "9c6fbb6279fc48368705eab86fe0bc9e",
      "68917a00b5bc4dbc842115a1b4e1479a"
     ]
    },
    "colab_type": "code",
    "id": "XaEQgoMBfpP7",
    "outputId": "5cb3bb36-823a-4cc3-9582-216f1cbb86a7"
   },
   "outputs": [
    {
     "data": {
      "application/vnd.jupyter.widget-view+json": {
       "model_id": "fc6cb75aacfb4ba394153ca304d3b723",
       "version_major": 2,
       "version_minor": 0
      },
      "text/plain": [
       "HBox(children=(FloatProgress(value=1.0, bar_style='info', max=1.0), HTML(value='')))"
      ]
     },
     "metadata": {
      "tags": []
     },
     "output_type": "display_data"
    },
    {
     "name": "stdout",
     "output_type": "stream",
     "text": [
      "\n"
     ]
    }
   ],
   "source": [
    "colab_mse, colab_mae, colab_mape, colab_test_mse, colab_test_mae, colab_test_mape, colab_hist, colab_model = train_model(build_colabfilt, colab_feature_builder, X_train, y_train, X_test, y_test, kf, verbose=0, validation_split=0.1)"
   ]
  },
  {
   "cell_type": "code",
   "execution_count": 73,
   "metadata": {
    "colab": {
     "base_uri": "https://localhost:8080/",
     "height": 187
    },
    "colab_type": "code",
    "id": "eyW1dyk6TmCV",
    "outputId": "6fea1f53-73ee-4986-860f-4a95bf8727cf"
   },
   "outputs": [
    {
     "name": "stdout",
     "output_type": "stream",
     "text": [
      "\n",
      "    Model: colab\n",
      "    train MSE: 0.8701976359643646\n",
      "    train MAE: 0.3476181629182874\n",
      "    train MAPE: 0.08218735328480872\n",
      "\n",
      "    test MSE: 22.857315422868076\n",
      "    test MAE: 4.7270519392276835\n",
      "    test MAPE: 0.9867103607851144\n",
      "    \n"
     ]
    }
   ],
   "source": [
    "print_model_errors(\"colab\", colab_mse, colab_mae, colab_mape, colab_test_mse, colab_test_mae, colab_test_mape)"
   ]
  },
  {
   "cell_type": "markdown",
   "metadata": {
    "colab_type": "text",
    "id": "UpdoPXc06xS_"
   },
   "source": [
    "## Deep matrix factorization"
   ]
  },
  {
   "cell_type": "code",
   "execution_count": 82,
   "metadata": {
    "colab": {},
    "colab_type": "code",
    "id": "dtvohWae60dI"
   },
   "outputs": [],
   "source": [
    "def build_deep_colabfilt():\n",
    "    kk.backend.clear_session()\n",
    "    gc.collect()\n",
    "\n",
    "    uiembed_sz = 32\n",
    "\n",
    "    uinput = kk.layers.Input(shape=(1,))\n",
    "    uembed = kk.layers.Embedding(\n",
    "        output_dim=uiembed_sz,\n",
    "        input_dim=nusers+1,\n",
    "        input_length=1,\n",
    "        name='userembed', \n",
    "        embeddings_initializer=kk.initializers.he_normal())(uinput)\n",
    "    uembed = kk.layers.Flatten()(uembed)\n",
    "    ubias = kk.layers.Flatten()(kk.layers.Embedding(\n",
    "        output_dim=1,\n",
    "        input_dim=nusers,\n",
    "        input_length=1,\n",
    "        name='ubias')(uinput))\n",
    "\n",
    "    iinput = kk.layers.Input(shape=(1,))\n",
    "    iembed = kk.layers.Embedding(\n",
    "        output_dim=uiembed_sz,\n",
    "        input_dim=nitems+1,\n",
    "        input_length=1,\n",
    "        name='iembed',\n",
    "        embeddings_initializer=kk.initializers.he_normal())(iinput)\n",
    "    iembed = kk.layers.Flatten()(iembed)\n",
    "    ibias = kk.layers.Flatten()(kk.layers.Embedding(\n",
    "        output_dim=1,\n",
    "        input_dim=nitems+1,\n",
    "        input_length=1,\n",
    "        name='ibias')(iinput))\n",
    "\n",
    "    concat = kk.layers.Concatenate()([uembed, iembed, ubias, ibias])\n",
    "    drop1 = kk.layers.Dropout(0.2)(concat)\n",
    "    d1 = kk.layers.Dense(16, activation='tanh', kernel_regularizer=kk.regularizers.l2(0.001))(drop1)\n",
    "\n",
    "    drop2 = kk.layers.Dropout(0.2)(d1)\n",
    "    d2 = kk.layers.Dense(8, activation='tanh')(drop2)\n",
    "\n",
    "    #drop3 = kk.layers.Dropout(0.2)(d1)\n",
    "    out = kk.layers.Dense(1, activation='relu',  kernel_regularizer=kk.regularizers.l2(0.001))(d2)\n",
    "\n",
    "    model_colab_deep = kk.models.Model(inputs=[uinput, iinput], outputs=out)\n",
    "    opt = kk.optimizers.Adam(lr=0.01)\n",
    "    model_colab_deep.compile(loss='mean_squared_error', optimizer=opt, metrics=['mse', 'mae', 'mape'])\n",
    "    return model_colab_deep"
   ]
  },
  {
   "cell_type": "code",
   "execution_count": 83,
   "metadata": {
    "colab": {},
    "colab_type": "code",
    "id": "QgWrw6O1dYQ2"
   },
   "outputs": [],
   "source": [
    "deepcolabfilt_feature_builder = lambda data: [data.userid, data.itemid]"
   ]
  },
  {
   "cell_type": "code",
   "execution_count": 76,
   "metadata": {
    "colab": {
     "base_uri": "https://localhost:8080/",
     "height": 66,
     "referenced_widgets": [
      "864f06b086aa4c1ba9df9676ef02f6f0",
      "787c4be717e444e49c408289877b65c5",
      "acf982b4a3484d86a9df52fa7f49f5ea",
      "9385988aaf2b450d9d4755f2fa6f4ff8",
      "75b1b831121a4e689615b80a319928ad",
      "7acf0477101845b1b423c05047fd796b",
      "0bbf224ee54d461e950d49ccb6b94da3",
      "d4d60af4c8a3463ebc811dac204f27cd"
     ]
    },
    "colab_type": "code",
    "id": "jKQMdhk-dbXb",
    "outputId": "2d068fab-1930-4880-f6df-6b37460f5ded"
   },
   "outputs": [
    {
     "data": {
      "application/vnd.jupyter.widget-view+json": {
       "model_id": "864f06b086aa4c1ba9df9676ef02f6f0",
       "version_major": 2,
       "version_minor": 0
      },
      "text/plain": [
       "HBox(children=(FloatProgress(value=1.0, bar_style='info', max=1.0), HTML(value='')))"
      ]
     },
     "metadata": {
      "tags": []
     },
     "output_type": "display_data"
    },
    {
     "name": "stdout",
     "output_type": "stream",
     "text": [
      "\n"
     ]
    }
   ],
   "source": [
    "deepcolab_mse, deepcolab_mae, deepcolab_mape, deepcolab_test_mse, deepcolab_test_mae, deepcolab_test_mape, deepcolab_hist, deepcolab_model = train_model(build_deep_colabfilt, deepcolabfilt_feature_builder, X_train, y_train, X_test, y_test, kf, verbose=0, validation_split=0.1)"
   ]
  },
  {
   "cell_type": "code",
   "execution_count": 77,
   "metadata": {
    "colab": {
     "base_uri": "https://localhost:8080/",
     "height": 187
    },
    "colab_type": "code",
    "id": "InNEVD_1Tw7L",
    "outputId": "f242bc24-774a-475c-9b71-6ff9733a5353"
   },
   "outputs": [
    {
     "name": "stdout",
     "output_type": "stream",
     "text": [
      "\n",
      "    Model: deep colab\n",
      "    train MSE: 0.12137566756044856\n",
      "    train MAE: 0.10803681771537607\n",
      "    train MAPE: 0.037663587470137226\n",
      "\n",
      "    test MSE: 0.5302707811488842\n",
      "    test MAE: 0.3592532737431535\n",
      "    test MAPE: 0.13923411587233192\n",
      "    \n"
     ]
    }
   ],
   "source": [
    "print_model_errors(\"deep colab\", deepcolab_mse, deepcolab_mae, deepcolab_mape, deepcolab_test_mse, deepcolab_test_mae, deepcolab_test_mape)"
   ]
  },
  {
   "cell_type": "code",
   "execution_count": 78,
   "metadata": {
    "colab": {
     "base_uri": "https://localhost:8080/",
     "height": 856
    },
    "colab_type": "code",
    "id": "EL2BBzDq28o9",
    "outputId": "aaee10d5-c19d-406e-9817-ab010b971c58"
   },
   "outputs": [
    {
     "data": {
      "image/png": "[encoded data removed]",
      "text/plain": [
       "<IPython.core.display.Image object>"
      ]
     },
     "execution_count": 78,
     "metadata": {
      "tags": []
     },
     "output_type": "execute_result"
    }
   ],
   "source": [
    "kk.utils.plot_model(deepcolab_model)"
   ]
  },
  {
   "cell_type": "code",
   "execution_count": 79,
   "metadata": {
    "colab": {
     "base_uri": "https://localhost:8080/",
     "height": 748
    },
    "colab_type": "code",
    "id": "-dSIburH3B5n",
    "outputId": "df2a28f9-ba6e-43e9-caaf-76f444e03d5d"
   },
   "outputs": [
    {
     "name": "stdout",
     "output_type": "stream",
     "text": [
      "Model: \"model\"\n",
      "__________________________________________________________________________________________________\n",
      "Layer (type)                    Output Shape         Param #     Connected to                     \n",
      "==================================================================================================\n",
      "input_1 (InputLayer)            [(None, 1)]          0                                            \n",
      "__________________________________________________________________________________________________\n",
      "input_2 (InputLayer)            [(None, 1)]          0                                            \n",
      "__________________________________________________________________________________________________\n",
      "userembed (Embedding)           (None, 1, 32)        31744       input_1[0][0]                    \n",
      "__________________________________________________________________________________________________\n",
      "iembed (Embedding)              (None, 1, 32)        2752        input_2[0][0]                    \n",
      "__________________________________________________________________________________________________\n",
      "ubias (Embedding)               (None, 1, 1)         991         input_1[0][0]                    \n",
      "__________________________________________________________________________________________________\n",
      "ibias (Embedding)               (None, 1, 1)         86          input_2[0][0]                    \n",
      "__________________________________________________________________________________________________\n",
      "flatten (Flatten)               (None, 32)           0           userembed[0][0]                  \n",
      "__________________________________________________________________________________________________\n",
      "flatten_2 (Flatten)             (None, 32)           0           iembed[0][0]                     \n",
      "__________________________________________________________________________________________________\n",
      "flatten_1 (Flatten)             (None, 1)            0           ubias[0][0]                      \n",
      "__________________________________________________________________________________________________\n",
      "flatten_3 (Flatten)             (None, 1)            0           ibias[0][0]                      \n",
      "__________________________________________________________________________________________________\n",
      "concatenate (Concatenate)       (None, 66)           0           flatten[0][0]                    \n",
      "                                                                 flatten_2[0][0]                  \n",
      "                                                                 flatten_1[0][0]                  \n",
      "                                                                 flatten_3[0][0]                  \n",
      "__________________________________________________________________________________________________\n",
      "dropout (Dropout)               (None, 66)           0           concatenate[0][0]                \n",
      "__________________________________________________________________________________________________\n",
      "dense (Dense)                   (None, 16)           1072        dropout[0][0]                    \n",
      "__________________________________________________________________________________________________\n",
      "dropout_1 (Dropout)             (None, 16)           0           dense[0][0]                      \n",
      "__________________________________________________________________________________________________\n",
      "dense_1 (Dense)                 (None, 8)            136         dropout_1[0][0]                  \n",
      "__________________________________________________________________________________________________\n",
      "dense_2 (Dense)                 (None, 1)            9           dense_1[0][0]                    \n",
      "==================================================================================================\n",
      "Total params: 36,790\n",
      "Trainable params: 36,790\n",
      "Non-trainable params: 0\n",
      "__________________________________________________________________________________________________\n"
     ]
    }
   ],
   "source": [
    "deepcolab_model.summary()"
   ]
  },
  {
   "cell_type": "markdown",
   "metadata": {
    "colab_type": "text",
    "id": "rZs3_b1ibA9Y"
   },
   "source": [
    "## Content based model"
   ]
  },
  {
   "cell_type": "code",
   "execution_count": 84,
   "metadata": {
    "colab": {
     "base_uri": "https://localhost:8080/",
     "height": 119
    },
    "colab_type": "code",
    "id": "qH7hM8tFOsWQ",
    "outputId": "aca9817e-9ecc-471b-ddfc-9a369d4a3866"
   },
   "outputs": [
    {
     "name": "stdout",
     "output_type": "stream",
     "text": [
      "Size, ncls: 290\n",
      "Flavor, ncls: 5\n",
      "Color, ncls: 77\n",
      "Scent Name, ncls: 9\n",
      "Style Name, ncls: 5\n",
      "Design, ncls: 22\n"
     ]
    }
   ],
   "source": [
    "for cat, le in style_encoders.items():\n",
    "    print(f\"{cat}, ncls: {len(le.classes_)}\")"
   ]
  },
  {
   "cell_type": "code",
   "execution_count": 85,
   "metadata": {
    "colab": {},
    "colab_type": "code",
    "id": "EyjBK6SWbGzE"
   },
   "outputs": [],
   "source": [
    "def build_content_model():\n",
    "    kk.backend.clear_session()\n",
    "    gc.collect()\n",
    "\n",
    "    size_embed_sz = 16\n",
    "    col_embed_sz = 16\n",
    "    design_embed_sz = 4\n",
    "    flavor_embed_sz = 4\n",
    "    style_name_embed_sz = 4\n",
    "    scent_name_embed_sz = 8\n",
    "\n",
    "    uiembed_sz = 32\n",
    "\n",
    "    iinput = kk.layers.Input(shape=(1,))\n",
    "    uinput = kk.layers.Input(shape=(1,))\n",
    "    size_input = kk.layers.Input(shape=(1,))\n",
    "    col_input = kk.layers.Input(shape=(1, ))\n",
    "    design_input = kk.layers.Input(shape=(1,))\n",
    "    flavor_input = kk.layers.Input(shape=(1,))\n",
    "    style_input = kk.layers.Input(shape=(1,))\n",
    "    scent_input = kk.layers.Input(shape=(1,))\n",
    "\n",
    "    uembed = kk.layers.Embedding(\n",
    "        output_dim=24,\n",
    "        input_dim=nusers+1,\n",
    "        input_length=1,\n",
    "        name='userembed',\n",
    "        #embeddings_initializer=kk.initializers.he_normal()\n",
    "        )(uinput)\n",
    "    uembed = kk.layers.Flatten()(uembed)\n",
    "    ubias = kk.layers.Flatten()(kk.layers.Embedding(\n",
    "        output_dim=1,\n",
    "        input_dim=nusers,\n",
    "        input_length=1,\n",
    "        name='ubias')(uinput))\n",
    "\n",
    "    iembed = kk.layers.Embedding(\n",
    "        output_dim=16,\n",
    "        input_dim=nitems+1,\n",
    "        input_length=1,\n",
    "        name='iembed',\n",
    "        #embeddings_initializer=kk.initializers.he_normal()\n",
    "        )(iinput)\n",
    "    iembed = kk.layers.Flatten()(iembed)\n",
    "    ibias = kk.layers.Flatten()(kk.layers.Embedding(\n",
    "        output_dim=1,\n",
    "        input_dim=nitems+1,\n",
    "        input_length=1,\n",
    "        name='ibias')(iinput))\n",
    "\n",
    "    size_embed = kk.layers.Flatten()(kk.layers.Embedding(\n",
    "        output_dim=size_embed_sz,\n",
    "        input_dim=len(style_encoders['Size'].classes_) + 1,\n",
    "        input_length=1,\n",
    "        name=\"size_embed\",\n",
    "     #   embeddings_initializer=kk.initializers.he_normal()\n",
    "    )(size_input))\n",
    "    color_embed = kk.layers.Flatten()(kk.layers.Embedding(\n",
    "        output_dim=col_embed_sz,\n",
    "        input_dim=len(style_encoders['Color'].classes_) + 1,\n",
    "        input_length=1,\n",
    "        name=\"col_embed\",\n",
    "       # embeddings_initializer=kk.initializers.he_normal()\n",
    "    )(col_input))\n",
    "    design_embed = kk.layers.Flatten()(kk.layers.Embedding(\n",
    "        output_dim=design_embed_sz,\n",
    "        input_dim=len(style_encoders['Design'].classes_) + 1,\n",
    "        input_length=1,\n",
    "        name=\"design_embed\",\n",
    "       # embeddings_initializer=kk.initializers.he_normal()\n",
    "    )(design_input))\n",
    "    flavor_embed = kk.layers.Flatten()(kk.layers.Embedding(\n",
    "        output_dim=flavor_embed_sz,\n",
    "        input_dim=len(style_encoders['Flavor'].classes_) + 1,\n",
    "        input_length=1,\n",
    "        name=\"flavor_embed\",\n",
    "      #  embeddings_initializer=kk.initializers.he_normal()\n",
    "    )(flavor_input))\n",
    "    stylename_embed = kk.layers.Flatten()(kk.layers.Embedding(\n",
    "        output_dim=style_name_embed_sz,\n",
    "        input_dim=len(style_encoders['Style Name'].classes_) + 1,\n",
    "        input_length=1,\n",
    "        name=\"stylename_embed\",\n",
    "      #  embeddings_initializer=kk.initializers.he_normal()\n",
    "    )(style_input))\n",
    "    scent_embed = kk.layers.Flatten()(kk.layers.Embedding(\n",
    "        output_dim=scent_name_embed_sz,\n",
    "        input_dim=len(style_encoders['Scent Name'].classes_) + 1,\n",
    "        input_length=1,\n",
    "        name=\"scent_embed\",\n",
    "     #   embeddings_initializer=kk.initializers.he_normal()\n",
    "    )(scent_input))\n",
    "\n",
    "    # 25 units\n",
    "    uall = kk.layers.Concatenate()([uembed, ubias])\n",
    "    udrop = kk.layers.Dropout(0.1)(uall)\n",
    "    udense = kk.layers.Dense(8, activation='tanh')(udrop)\n",
    "\n",
    "    # 17 units\n",
    "    iall = kk.layers.Concatenate()([iembed, ibias])\n",
    "    idrop = kk.layers.Dropout(0.1)(iall)\n",
    "    idense = kk.layers.Dense(8, activation='tanh')(idrop)\n",
    "\n",
    "    # 16 + 4 + 4 = 24 units\n",
    "    fall = kk.layers.Concatenate()([color_embed, stylename_embed, scent_embed]) #, color_embed, scent_embed])\n",
    "    fdrop = kk.layers.Dropout(0.1)(fall)\n",
    "    fdense = kk.layers.Dense(16, activation='tanh')(fdrop)\n",
    "\n",
    "    # 24 + 25 + 17\n",
    "    concat = kk.layers.Concatenate()([udense, idense, fdense])\n",
    "    #dropall = kk.layers.Dropout(0.1)(concat)\n",
    "    denseall = kk.layers.Dense(16, activation='tanh')(concat)\n",
    "    #denseall2 = kk.layers.Dense(16, activation='tanh', kernel_regularizer=kk.regularizers.l2(0.001))(denseall)\n",
    "    out = kk.layers.Dense(1, activation='relu')(denseall)\n",
    "    \"\"\"\n",
    "    concat = kk.layers.Concatenate()([uembed, ubias, iembed, ibias, size_embed, stylename_embed, flavor_embed]) #, stylename_embed, flavor_embed])\n",
    "    drop1 = kk.layers.Dropout(0.2)(concat)\n",
    "    d1 = kk.layers.Dense(32, activation='tanh', kernel_regularizer=kk.regularizers.l2(0.001))(drop1)\n",
    "\n",
    "    drop2 = kk.layers.Dropout(0.1)(d1)\n",
    "    d2 = kk.layers.Dense(16, activation='tanh')(drop2)\n",
    "\n",
    "    out = kk.layers.Dense(1, activation='relu')(d2)\n",
    "    \"\"\"\n",
    "    \n",
    "    model_content = kk.models.Model(inputs=[uinput, iinput, size_input, col_input, design_input, flavor_input, style_input, scent_input], outputs=out)\n",
    "    opt = kk.optimizers.Adam(0.01)\n",
    "    model_content.compile(loss='mean_squared_error', optimizer=opt, metrics=['mse', 'mae', 'mape'])\n",
    "    return model_content"
   ]
  },
  {
   "cell_type": "code",
   "execution_count": 86,
   "metadata": {
    "colab": {},
    "colab_type": "code",
    "id": "qos8CCJygFvc"
   },
   "outputs": [],
   "source": [
    "content_model_feature_builder = lambda data: [data.userid, data.itemid, data.Size, data.Color, data.Design, data.Flavor, data['Style Name'], data['Scent Name']]"
   ]
  },
  {
   "cell_type": "code",
   "execution_count": 94,
   "metadata": {
    "colab": {
     "base_uri": "https://localhost:8080/",
     "height": 66,
     "referenced_widgets": [
      "5750d51fd3804f5cb32d8231e7eae159",
      "1627b8b706464edaa7c7c58919c40a88",
      "101e8fe1b4a3420790e3dd8c86d1ae80",
      "b8d73a8eff7143d59cdcf43ba5f69991",
      "2ec05b1dc54045679c6a3e3c969eb50a",
      "e4dfefa5d6c14ad3a3945aa07cb094f1",
      "d5d7270e351241e58b1cbdd46b4f3187",
      "2bbcada326bd4695afd1f79454400a3e"
     ]
    },
    "colab_type": "code",
    "id": "y0fuTZ41gNfs",
    "outputId": "69585d19-d2ae-44ef-960a-afb55e87597d"
   },
   "outputs": [
    {
     "data": {
      "application/vnd.jupyter.widget-view+json": {
       "model_id": "5750d51fd3804f5cb32d8231e7eae159",
       "version_major": 2,
       "version_minor": 0
      },
      "text/plain": [
       "HBox(children=(FloatProgress(value=1.0, bar_style='info', max=1.0), HTML(value='')))"
      ]
     },
     "metadata": {
      "tags": []
     },
     "output_type": "display_data"
    },
    {
     "name": "stdout",
     "output_type": "stream",
     "text": [
      "\n"
     ]
    }
   ],
   "source": [
    "es = kk.callbacks.EarlyStopping(monitor='mse', min_delta=0.005, patience=2)\n",
    "content_mse, content_mae, content_mape, content_test_mse, content_test_mae, content_test_mape, conent_hist, content_model = train_model(build_content_model, content_model_feature_builder, X_train, y_train, X_test, y_test, kf, verbose=0, callbacks=[es])"
   ]
  },
  {
   "cell_type": "code",
   "execution_count": 96,
   "metadata": {
    "colab": {
     "base_uri": "https://localhost:8080/",
     "height": 187
    },
    "colab_type": "code",
    "id": "akCRVzW5c0zo",
    "outputId": "8463e701-fcb6-4b3c-98fa-cc31904e465a"
   },
   "outputs": [
    {
     "name": "stdout",
     "output_type": "stream",
     "text": [
      "\n",
      "    Model: Content model\n",
      "    train MSE: 0.09583486656651453\n",
      "    train MAE: 0.08693241182656625\n",
      "    train MAPE: 0.02735752764008622\n",
      "\n",
      "    test MSE: 0.16981348403016774\n",
      "    test MAE: 0.16918544117820783\n",
      "    test MAPE: 0.06523918938139128\n",
      "    \n"
     ]
    }
   ],
   "source": [
    "print_model_errors(\"Content model\", content_mse, content_mae, content_mape, content_test_mse, content_test_mae, content_test_mape)"
   ]
  },
  {
   "cell_type": "markdown",
   "metadata": {
    "colab_type": "text",
    "id": "JbJajaGVymJK"
   },
   "source": [
    "----------------------------"
   ]
  },
  {
   "cell_type": "code",
   "execution_count": null,
   "metadata": {
    "colab": {
     "base_uri": "https://localhost:8080/",
     "height": 187
    },
    "colab_type": "code",
    "id": "T-W-5dTdaCtq",
    "outputId": "49a17245-0d99-407e-aaa5-0f9e86c4a60f"
   },
   "outputs": [
    {
     "name": "stdout",
     "output_type": "stream",
     "text": [
      "\n",
      "    Model: Content model\n",
      "    train MSE: 0.09300321332403756\n",
      "    train MAE: 0.08373591233109888\n",
      "    train MAPE: 0.02883052729803167\n",
      "\n",
      "    test MSE: 0.21010976081888158\n",
      "    test MAE: 0.15495792195285746\n",
      "    test MAPE: 0.07630318119735532\n",
      "    \n"
     ]
    }
   ],
   "source": [
    "# uembed: 24  (user dense: 8 - item dense: 8 - features dense: 16) - (dense: 16 - 1) no dropout on dense, no regularization\n",
    "print_model_errors(\"Content model\", content_mse, content_mae, content_mape, content_test_mse, content_test_mae, content_test_mape)"
   ]
  },
  {
   "cell_type": "code",
   "execution_count": 85,
   "metadata": {
    "colab": {
     "base_uri": "https://localhost:8080/",
     "height": 187
    },
    "colab_type": "code",
    "id": "hQBUQRLGX0ob",
    "outputId": "1c8baa9e-17da-45e8-f66c-8cb1e207804c"
   },
   "outputs": [
    {
     "name": "stdout",
     "output_type": "stream",
     "text": [
      "\n",
      "    Model: deep colab\n",
      "    train MSE: 0.12137566756044856\n",
      "    train MAE: 0.10803681771537607\n",
      "    train MAPE: 0.037663587470137226\n",
      "\n",
      "    test MSE: 0.5302707811488842\n",
      "    test MAE: 0.3592532737431535\n",
      "    test MAPE: 0.13923411587233192\n",
      "    \n"
     ]
    }
   ],
   "source": [
    "print_model_errors(\"deep colab\", deepcolab_mse, deepcolab_mae, deepcolab_mape, deepcolab_test_mse, deepcolab_test_mae, deepcolab_test_mape)"
   ]
  },
  {
   "cell_type": "code",
   "execution_count": null,
   "metadata": {
    "colab": {
     "base_uri": "https://localhost:8080/",
     "height": 410
    },
    "colab_type": "code",
    "id": "pa8Jwj1I2rlH",
    "outputId": "f70ff964-01b5-4594-e370-071c88c16587"
   },
   "outputs": [
    {
     "data": {
      "image/png": "[encoded data removed]",
      "text/plain": [
       "<IPython.core.display.Image object>"
      ]
     },
     "execution_count": 377,
     "metadata": {
      "tags": []
     },
     "output_type": "execute_result"
    }
   ],
   "source": [
    "kk.utils.plot_model(content_model)"
   ]
  },
  {
   "cell_type": "code",
   "execution_count": null,
   "metadata": {
    "colab": {
     "base_uri": "https://localhost:8080/",
     "height": 1000
    },
    "colab_type": "code",
    "id": "sWs6WCjm22u-",
    "outputId": "825f935b-024b-4cf2-a79d-f97a2409d270"
   },
   "outputs": [
    {
     "name": "stdout",
     "output_type": "stream",
     "text": [
      "Model: \"model\"\n",
      "__________________________________________________________________________________________________\n",
      "Layer (type)                    Output Shape         Param #     Connected to                     \n",
      "==================================================================================================\n",
      "input_2 (InputLayer)            [(None, 1)]          0                                            \n",
      "__________________________________________________________________________________________________\n",
      "input_1 (InputLayer)            [(None, 1)]          0                                            \n",
      "__________________________________________________________________________________________________\n",
      "input_4 (InputLayer)            [(None, 1)]          0                                            \n",
      "__________________________________________________________________________________________________\n",
      "input_7 (InputLayer)            [(None, 1)]          0                                            \n",
      "__________________________________________________________________________________________________\n",
      "input_8 (InputLayer)            [(None, 1)]          0                                            \n",
      "__________________________________________________________________________________________________\n",
      "userembed (Embedding)           (None, 1, 24)        23808       input_2[0][0]                    \n",
      "__________________________________________________________________________________________________\n",
      "ubias (Embedding)               (None, 1, 1)         991         input_2[0][0]                    \n",
      "__________________________________________________________________________________________________\n",
      "iembed (Embedding)              (None, 1, 16)        1376        input_1[0][0]                    \n",
      "__________________________________________________________________________________________________\n",
      "ibias (Embedding)               (None, 1, 1)         86          input_1[0][0]                    \n",
      "__________________________________________________________________________________________________\n",
      "col_embed (Embedding)           (None, 1, 16)        1248        input_4[0][0]                    \n",
      "__________________________________________________________________________________________________\n",
      "stylename_embed (Embedding)     (None, 1, 4)         24          input_7[0][0]                    \n",
      "__________________________________________________________________________________________________\n",
      "scent_embed (Embedding)         (None, 1, 8)         80          input_8[0][0]                    \n",
      "__________________________________________________________________________________________________\n",
      "flatten (Flatten)               (None, 24)           0           userembed[0][0]                  \n",
      "__________________________________________________________________________________________________\n",
      "flatten_1 (Flatten)             (None, 1)            0           ubias[0][0]                      \n",
      "__________________________________________________________________________________________________\n",
      "flatten_2 (Flatten)             (None, 16)           0           iembed[0][0]                     \n",
      "__________________________________________________________________________________________________\n",
      "flatten_3 (Flatten)             (None, 1)            0           ibias[0][0]                      \n",
      "__________________________________________________________________________________________________\n",
      "flatten_5 (Flatten)             (None, 16)           0           col_embed[0][0]                  \n",
      "__________________________________________________________________________________________________\n",
      "flatten_8 (Flatten)             (None, 4)            0           stylename_embed[0][0]            \n",
      "__________________________________________________________________________________________________\n",
      "flatten_9 (Flatten)             (None, 8)            0           scent_embed[0][0]                \n",
      "__________________________________________________________________________________________________\n",
      "concatenate (Concatenate)       (None, 25)           0           flatten[0][0]                    \n",
      "                                                                 flatten_1[0][0]                  \n",
      "__________________________________________________________________________________________________\n",
      "concatenate_1 (Concatenate)     (None, 17)           0           flatten_2[0][0]                  \n",
      "                                                                 flatten_3[0][0]                  \n",
      "__________________________________________________________________________________________________\n",
      "concatenate_2 (Concatenate)     (None, 28)           0           flatten_5[0][0]                  \n",
      "                                                                 flatten_8[0][0]                  \n",
      "                                                                 flatten_9[0][0]                  \n",
      "__________________________________________________________________________________________________\n",
      "dropout (Dropout)               (None, 25)           0           concatenate[0][0]                \n",
      "__________________________________________________________________________________________________\n",
      "dropout_1 (Dropout)             (None, 17)           0           concatenate_1[0][0]              \n",
      "__________________________________________________________________________________________________\n",
      "dropout_2 (Dropout)             (None, 28)           0           concatenate_2[0][0]              \n",
      "__________________________________________________________________________________________________\n",
      "dense (Dense)                   (None, 8)            208         dropout[0][0]                    \n",
      "__________________________________________________________________________________________________\n",
      "dense_1 (Dense)                 (None, 8)            144         dropout_1[0][0]                  \n",
      "__________________________________________________________________________________________________\n",
      "dense_2 (Dense)                 (None, 16)           464         dropout_2[0][0]                  \n",
      "__________________________________________________________________________________________________\n",
      "concatenate_3 (Concatenate)     (None, 32)           0           dense[0][0]                      \n",
      "                                                                 dense_1[0][0]                    \n",
      "                                                                 dense_2[0][0]                    \n",
      "__________________________________________________________________________________________________\n",
      "dense_3 (Dense)                 (None, 16)           528         concatenate_3[0][0]              \n",
      "__________________________________________________________________________________________________\n",
      "input_3 (InputLayer)            [(None, 1)]          0                                            \n",
      "__________________________________________________________________________________________________\n",
      "input_5 (InputLayer)            [(None, 1)]          0                                            \n",
      "__________________________________________________________________________________________________\n",
      "input_6 (InputLayer)            [(None, 1)]          0                                            \n",
      "__________________________________________________________________________________________________\n",
      "dense_4 (Dense)                 (None, 1)            17          dense_3[0][0]                    \n",
      "==================================================================================================\n",
      "Total params: 28,974\n",
      "Trainable params: 28,974\n",
      "Non-trainable params: 0\n",
      "__________________________________________________________________________________________________\n"
     ]
    }
   ],
   "source": [
    "content_model.summary()"
   ]
  },
  {
   "cell_type": "markdown",
   "metadata": {},
   "source": [
    "## Test data predictions"
   ]
  },
  {
   "cell_type": "code",
   "execution_count": 37,
   "metadata": {},
   "outputs": [],
   "source": [
    "colab_model = kk.models.load_model(\"../models/colab_model\")\n",
    "content_model = kk.models.load_model(\"../models/conent_model\")\n",
    "deepcolab_model = kk.models.load_model(\"../models/deep_colab_model\")"
   ]
  },
  {
   "cell_type": "code",
   "execution_count": 44,
   "metadata": {},
   "outputs": [
    {
     "data": {
      "text/plain": [
       "(527, 1)"
      ]
     },
     "execution_count": 44,
     "metadata": {},
     "output_type": "execute_result"
    }
   ],
   "source": [
    "np.expand_dims(v1.to_numpy(), -1).shape"
   ]
  },
  {
   "cell_type": "code",
   "execution_count": 47,
   "metadata": {},
   "outputs": [
    {
     "ename": "ValueError",
     "evalue": "invalid literal for int() with base 10: 'class_name'",
     "output_type": "error",
     "traceback": [
      "\u001b[0;31m---------------------------------------------------------------------------\u001b[0m",
      "\u001b[0;31mValueError\u001b[0m                                Traceback (most recent call last)",
      "\u001b[0;32m<ipython-input-47-72d1619abfb5>\u001b[0m in \u001b[0;36m<module>\u001b[0;34m\u001b[0m\n\u001b[1;32m      2\u001b[0m \u001b[0mopt\u001b[0m \u001b[0;34m=\u001b[0m \u001b[0mkk\u001b[0m\u001b[0;34m.\u001b[0m\u001b[0moptimizers\u001b[0m\u001b[0;34m.\u001b[0m\u001b[0mAdam\u001b[0m\u001b[0;34m(\u001b[0m\u001b[0mlr\u001b[0m\u001b[0;34m=\u001b[0m\u001b[0;36m0.001\u001b[0m\u001b[0;34m)\u001b[0m\u001b[0;34m\u001b[0m\u001b[0;34m\u001b[0m\u001b[0m\n\u001b[1;32m      3\u001b[0m \u001b[0mcolab_model\u001b[0m\u001b[0;34m.\u001b[0m\u001b[0mcompile\u001b[0m\u001b[0;34m(\u001b[0m\u001b[0mloss\u001b[0m\u001b[0;34m=\u001b[0m\u001b[0;34m'mean_squared_error'\u001b[0m\u001b[0;34m,\u001b[0m \u001b[0moptimizer\u001b[0m\u001b[0;34m=\u001b[0m\u001b[0mopt\u001b[0m\u001b[0;34m,\u001b[0m \u001b[0mmetrics\u001b[0m\u001b[0;34m=\u001b[0m\u001b[0;34m[\u001b[0m\u001b[0;34m'mse'\u001b[0m\u001b[0;34m,\u001b[0m \u001b[0;34m'mae'\u001b[0m\u001b[0;34m,\u001b[0m \u001b[0;34m'mape'\u001b[0m\u001b[0;34m]\u001b[0m\u001b[0;34m)\u001b[0m\u001b[0;34m\u001b[0m\u001b[0;34m\u001b[0m\u001b[0m\n\u001b[0;32m----> 4\u001b[0;31m \u001b[0myhat_test_colab\u001b[0m \u001b[0;34m=\u001b[0m \u001b[0mcolab_model\u001b[0m\u001b[0;34m.\u001b[0m\u001b[0mpredict\u001b[0m\u001b[0;34m(\u001b[0m\u001b[0;34m[\u001b[0m\u001b[0mnp\u001b[0m\u001b[0;34m.\u001b[0m\u001b[0mexpand_dims\u001b[0m\u001b[0;34m(\u001b[0m\u001b[0mv1\u001b[0m\u001b[0;34m.\u001b[0m\u001b[0mto_numpy\u001b[0m\u001b[0;34m(\u001b[0m\u001b[0mdtype\u001b[0m\u001b[0;34m=\u001b[0m\u001b[0mnp\u001b[0m\u001b[0;34m.\u001b[0m\u001b[0mint32\u001b[0m\u001b[0;34m)\u001b[0m\u001b[0;34m,\u001b[0m \u001b[0;34m-\u001b[0m\u001b[0;36m1\u001b[0m\u001b[0;34m)\u001b[0m\u001b[0;34m,\u001b[0m \u001b[0mnp\u001b[0m\u001b[0;34m.\u001b[0m\u001b[0mexpand_dims\u001b[0m\u001b[0;34m(\u001b[0m\u001b[0mv2\u001b[0m\u001b[0;34m.\u001b[0m\u001b[0mto_numpy\u001b[0m\u001b[0;34m(\u001b[0m\u001b[0mdtype\u001b[0m\u001b[0;34m=\u001b[0m\u001b[0mnp\u001b[0m\u001b[0;34m.\u001b[0m\u001b[0mint32\u001b[0m\u001b[0;34m)\u001b[0m\u001b[0;34m,\u001b[0m \u001b[0;34m-\u001b[0m\u001b[0;36m1\u001b[0m\u001b[0;34m)\u001b[0m\u001b[0;34m]\u001b[0m\u001b[0;34m)\u001b[0m\u001b[0;34m\u001b[0m\u001b[0;34m\u001b[0m\u001b[0m\n\u001b[0m",
      "\u001b[0;32m~/opt/anaconda3/lib/python3.7/site-packages/tensorflow_core/python/keras/engine/training.py\u001b[0m in \u001b[0;36mpredict\u001b[0;34m(self, x, batch_size, verbose, steps, callbacks, max_queue_size, workers, use_multiprocessing)\u001b[0m\n\u001b[1;32m    907\u001b[0m         \u001b[0mmax_queue_size\u001b[0m\u001b[0;34m=\u001b[0m\u001b[0mmax_queue_size\u001b[0m\u001b[0;34m,\u001b[0m\u001b[0;34m\u001b[0m\u001b[0;34m\u001b[0m\u001b[0m\n\u001b[1;32m    908\u001b[0m         \u001b[0mworkers\u001b[0m\u001b[0;34m=\u001b[0m\u001b[0mworkers\u001b[0m\u001b[0;34m,\u001b[0m\u001b[0;34m\u001b[0m\u001b[0;34m\u001b[0m\u001b[0m\n\u001b[0;32m--> 909\u001b[0;31m         use_multiprocessing=use_multiprocessing)\n\u001b[0m\u001b[1;32m    910\u001b[0m \u001b[0;34m\u001b[0m\u001b[0m\n\u001b[1;32m    911\u001b[0m   \u001b[0;32mdef\u001b[0m \u001b[0mreset_metrics\u001b[0m\u001b[0;34m(\u001b[0m\u001b[0mself\u001b[0m\u001b[0;34m)\u001b[0m\u001b[0;34m:\u001b[0m\u001b[0;34m\u001b[0m\u001b[0;34m\u001b[0m\u001b[0m\n",
      "\u001b[0;32m~/opt/anaconda3/lib/python3.7/site-packages/tensorflow_core/python/keras/engine/training_v2.py\u001b[0m in \u001b[0;36mpredict\u001b[0;34m(self, model, x, batch_size, verbose, steps, callbacks, **kwargs)\u001b[0m\n\u001b[1;32m    460\u001b[0m     return self._model_iteration(\n\u001b[1;32m    461\u001b[0m         \u001b[0mmodel\u001b[0m\u001b[0;34m,\u001b[0m \u001b[0mModeKeys\u001b[0m\u001b[0;34m.\u001b[0m\u001b[0mPREDICT\u001b[0m\u001b[0;34m,\u001b[0m \u001b[0mx\u001b[0m\u001b[0;34m=\u001b[0m\u001b[0mx\u001b[0m\u001b[0;34m,\u001b[0m \u001b[0mbatch_size\u001b[0m\u001b[0;34m=\u001b[0m\u001b[0mbatch_size\u001b[0m\u001b[0;34m,\u001b[0m \u001b[0mverbose\u001b[0m\u001b[0;34m=\u001b[0m\u001b[0mverbose\u001b[0m\u001b[0;34m,\u001b[0m\u001b[0;34m\u001b[0m\u001b[0;34m\u001b[0m\u001b[0m\n\u001b[0;32m--> 462\u001b[0;31m         steps=steps, callbacks=callbacks, **kwargs)\n\u001b[0m\u001b[1;32m    463\u001b[0m \u001b[0;34m\u001b[0m\u001b[0m\n\u001b[1;32m    464\u001b[0m \u001b[0;34m\u001b[0m\u001b[0m\n",
      "\u001b[0;32m~/opt/anaconda3/lib/python3.7/site-packages/tensorflow_core/python/keras/engine/training_v2.py\u001b[0m in \u001b[0;36m_model_iteration\u001b[0;34m(self, model, mode, x, y, batch_size, verbose, sample_weight, steps, callbacks, **kwargs)\u001b[0m\n\u001b[1;32m    379\u001b[0m \u001b[0;34m\u001b[0m\u001b[0m\n\u001b[1;32m    380\u001b[0m     batch_size = model._validate_or_infer_batch_size(\n\u001b[0;32m--> 381\u001b[0;31m         batch_size, steps, x)\n\u001b[0m\u001b[1;32m    382\u001b[0m     \u001b[0mstrategy\u001b[0m \u001b[0;34m=\u001b[0m \u001b[0m_get_distribution_strategy\u001b[0m\u001b[0;34m(\u001b[0m\u001b[0mmodel\u001b[0m\u001b[0;34m)\u001b[0m\u001b[0;34m\u001b[0m\u001b[0;34m\u001b[0m\u001b[0m\n\u001b[1;32m    383\u001b[0m     batch_size, steps = dist_utils.process_batch_and_step_size(\n",
      "\u001b[0;32m~/opt/anaconda3/lib/python3.7/site-packages/tensorflow_core/python/keras/engine/training.py\u001b[0m in \u001b[0;36m_validate_or_infer_batch_size\u001b[0;34m(self, batch_size, steps, x)\u001b[0m\n\u001b[1;32m   1822\u001b[0m       \u001b[0mfirst_layer\u001b[0m \u001b[0;34m=\u001b[0m \u001b[0mlayers\u001b[0m\u001b[0;34m[\u001b[0m\u001b[0;36m0\u001b[0m\u001b[0;34m]\u001b[0m\u001b[0;34m\u001b[0m\u001b[0;34m\u001b[0m\u001b[0m\n\u001b[1;32m   1823\u001b[0m       \u001b[0;31m# The per-replica static batch size.\u001b[0m\u001b[0;34m\u001b[0m\u001b[0;34m\u001b[0m\u001b[0;34m\u001b[0m\u001b[0m\n\u001b[0;32m-> 1824\u001b[0;31m       \u001b[0mstatic_batch_size\u001b[0m \u001b[0;34m=\u001b[0m \u001b[0mtraining_utils\u001b[0m\u001b[0;34m.\u001b[0m\u001b[0mget_static_batch_size\u001b[0m\u001b[0;34m(\u001b[0m\u001b[0mfirst_layer\u001b[0m\u001b[0;34m)\u001b[0m\u001b[0;34m\u001b[0m\u001b[0;34m\u001b[0m\u001b[0m\n\u001b[0m\u001b[1;32m   1825\u001b[0m       \u001b[0;32mif\u001b[0m \u001b[0mstatic_batch_size\u001b[0m \u001b[0;32mis\u001b[0m \u001b[0;32mnot\u001b[0m \u001b[0;32mNone\u001b[0m\u001b[0;34m:\u001b[0m\u001b[0;34m\u001b[0m\u001b[0;34m\u001b[0m\u001b[0m\n\u001b[1;32m   1826\u001b[0m \u001b[0;34m\u001b[0m\u001b[0m\n",
      "\u001b[0;32m~/opt/anaconda3/lib/python3.7/site-packages/tensorflow_core/python/keras/engine/training_utils.py\u001b[0m in \u001b[0;36mget_static_batch_size\u001b[0;34m(layer)\u001b[0m\n\u001b[1;32m   1796\u001b[0m   \u001b[0mbatch_input_shape\u001b[0m\u001b[0;34m,\u001b[0m \u001b[0m_\u001b[0m \u001b[0;34m=\u001b[0m \u001b[0mget_input_shape_and_dtype\u001b[0m\u001b[0;34m(\u001b[0m\u001b[0mlayer\u001b[0m\u001b[0;34m)\u001b[0m\u001b[0;34m\u001b[0m\u001b[0;34m\u001b[0m\u001b[0m\n\u001b[1;32m   1797\u001b[0m   \u001b[0;32mif\u001b[0m \u001b[0mbatch_input_shape\u001b[0m \u001b[0;32mis\u001b[0m \u001b[0;32mnot\u001b[0m \u001b[0;32mNone\u001b[0m\u001b[0;34m:\u001b[0m\u001b[0;34m\u001b[0m\u001b[0;34m\u001b[0m\u001b[0m\n\u001b[0;32m-> 1798\u001b[0;31m     \u001b[0;32mreturn\u001b[0m \u001b[0mtensor_shape\u001b[0m\u001b[0;34m.\u001b[0m\u001b[0mas_dimension\u001b[0m\u001b[0;34m(\u001b[0m\u001b[0mbatch_input_shape\u001b[0m\u001b[0;34m[\u001b[0m\u001b[0;36m0\u001b[0m\u001b[0;34m]\u001b[0m\u001b[0;34m)\u001b[0m\u001b[0;34m.\u001b[0m\u001b[0mvalue\u001b[0m\u001b[0;34m\u001b[0m\u001b[0;34m\u001b[0m\u001b[0m\n\u001b[0m\u001b[1;32m   1799\u001b[0m   \u001b[0;32mreturn\u001b[0m \u001b[0;32mNone\u001b[0m\u001b[0;34m\u001b[0m\u001b[0;34m\u001b[0m\u001b[0m\n\u001b[1;32m   1800\u001b[0m \u001b[0;34m\u001b[0m\u001b[0m\n",
      "\u001b[0;32m~/opt/anaconda3/lib/python3.7/site-packages/tensorflow_core/python/framework/tensor_shape.py\u001b[0m in \u001b[0;36mas_dimension\u001b[0;34m(value)\u001b[0m\n\u001b[1;32m    716\u001b[0m     \u001b[0;32mreturn\u001b[0m \u001b[0mvalue\u001b[0m\u001b[0;34m\u001b[0m\u001b[0;34m\u001b[0m\u001b[0m\n\u001b[1;32m    717\u001b[0m   \u001b[0;32melse\u001b[0m\u001b[0;34m:\u001b[0m\u001b[0;34m\u001b[0m\u001b[0;34m\u001b[0m\u001b[0m\n\u001b[0;32m--> 718\u001b[0;31m     \u001b[0;32mreturn\u001b[0m \u001b[0mDimension\u001b[0m\u001b[0;34m(\u001b[0m\u001b[0mvalue\u001b[0m\u001b[0;34m)\u001b[0m\u001b[0;34m\u001b[0m\u001b[0;34m\u001b[0m\u001b[0m\n\u001b[0m\u001b[1;32m    719\u001b[0m \u001b[0;34m\u001b[0m\u001b[0m\n\u001b[1;32m    720\u001b[0m \u001b[0;34m\u001b[0m\u001b[0m\n",
      "\u001b[0;32m~/opt/anaconda3/lib/python3.7/site-packages/tensorflow_core/python/framework/tensor_shape.py\u001b[0m in \u001b[0;36m__init__\u001b[0;34m(self, value)\u001b[0m\n\u001b[1;32m    191\u001b[0m       \u001b[0;32mraise\u001b[0m \u001b[0mTypeError\u001b[0m\u001b[0;34m(\u001b[0m\u001b[0;34m\"Cannot convert %s to Dimension\"\u001b[0m \u001b[0;34m%\u001b[0m \u001b[0mvalue\u001b[0m\u001b[0;34m)\u001b[0m\u001b[0;34m\u001b[0m\u001b[0;34m\u001b[0m\u001b[0m\n\u001b[1;32m    192\u001b[0m     \u001b[0;32melse\u001b[0m\u001b[0;34m:\u001b[0m\u001b[0;34m\u001b[0m\u001b[0;34m\u001b[0m\u001b[0m\n\u001b[0;32m--> 193\u001b[0;31m       \u001b[0mself\u001b[0m\u001b[0;34m.\u001b[0m\u001b[0m_value\u001b[0m \u001b[0;34m=\u001b[0m \u001b[0mint\u001b[0m\u001b[0;34m(\u001b[0m\u001b[0mvalue\u001b[0m\u001b[0;34m)\u001b[0m\u001b[0;34m\u001b[0m\u001b[0;34m\u001b[0m\u001b[0m\n\u001b[0m\u001b[1;32m    194\u001b[0m       if (not isinstance(value, compat.bytes_or_text_types) and\n\u001b[1;32m    195\u001b[0m           self._value != value):\n",
      "\u001b[0;31mValueError\u001b[0m: invalid literal for int() with base 10: 'class_name'"
     ]
    }
   ],
   "source": [
    "v1, v2 = colab_feature_builder(X_test)\n",
    "opt = kk.optimizers.Adam(lr=0.001)\n",
    "colab_model.compile(loss='mean_squared_error', optimizer=opt, metrics=['mse', 'mae', 'mape'])\n",
    "yhat_test_colab = colab_model.predict([np.expand_dims(v1.to_numpy(dtype=np.int32), -1), np.expand_dims(v2.to_numpy(dtype=np.int32), -1)])"
   ]
  },
  {
   "cell_type": "markdown",
   "metadata": {
    "colab_type": "text",
    "id": "znxnZhayulo9"
   },
   "source": [
    "# Save model results"
   ]
  },
  {
   "cell_type": "code",
   "execution_count": 97,
   "metadata": {
    "colab": {},
    "colab_type": "code",
    "id": "ACRBo3Rou554"
   },
   "outputs": [],
   "source": [
    "train_mae = pd.DataFrame({\n",
    "    'content': content_mae,\n",
    "    'deep_colab': deepcolab_mae,\n",
    "    'colab': colab_mae\n",
    "})\n",
    "train_mse = pd.DataFrame({\n",
    "    'content': content_mse,\n",
    "    'deep_colab': deepcolab_mse,\n",
    "    'colab': colab_mse\n",
    "})\n",
    "train_mape = pd.DataFrame({\n",
    "    'content': content_mape,\n",
    "    'deep_colab': deepcolab_mape,\n",
    "    'colab': colab_mape\n",
    "})\n",
    "\n",
    "test_data_res = pd.DataFrame({\n",
    "    'colab': [colab_test_mae, colab_test_mape, colab_test_mse],\n",
    "    'deep_colab': [deepcolab_test_mae, deepcolab_test_mape, deepcolab_test_mse],\n",
    "    'content': [content_test_mae, content_test_mape, content_test_mse]\n",
    "}, index=['test_mae', 'test_mape', 'test_mse'])\n"
   ]
  },
  {
   "cell_type": "code",
   "execution_count": 98,
   "metadata": {
    "colab": {},
    "colab_type": "code",
    "id": "Sjqh1qMjfipu"
   },
   "outputs": [],
   "source": [
    "train_mae.to_csv(\"train_mae_res.csv\", index=False)\n",
    "train_mse.to_csv(\"train_mse_res.csv\", index=False)\n",
    "train_mape.to_csv(\"train_mape_res.csv\", index=False)\n",
    "\n",
    "test_data_res.to_csv(\"test_data_res.csv\", index=True)"
   ]
  },
  {
   "cell_type": "code",
   "execution_count": 4,
   "metadata": {
    "ExecuteTime": {
     "end_time": "2020-09-22T15:12:40.716152Z",
     "start_time": "2020-09-22T15:12:40.703376Z"
    }
   },
   "outputs": [],
   "source": [
    "train_mae = pd.read_csv(\"../reports/train_mae_res.csv\", index_col=None)\n",
    "train_mse = pd.read_csv(\"../reports/train_mse_res.csv\",  index_col=None)\n",
    "train_mape = pd.read_csv(\"../reports/train_mape_res.csv\",  index_col=None)\n",
    "\n",
    "test_data_res = pd.read_csv(\"../reports/test_data_res.csv\", index_col=0)"
   ]
  },
  {
   "cell_type": "code",
   "execution_count": 99,
   "metadata": {
    "colab": {
     "base_uri": "https://localhost:8080/",
     "height": 139
    },
    "colab_type": "code",
    "id": "LbEzn7Yk1Ouq",
    "outputId": "1faf59a3-00cf-40e8-cd68-42e576d81163"
   },
   "outputs": [
    {
     "name": "stdout",
     "output_type": "stream",
     "text": [
      "WARNING:tensorflow:From /usr/local/lib/python3.6/dist-packages/tensorflow/python/ops/resource_variable_ops.py:1817: calling BaseResourceVariable.__init__ (from tensorflow.python.ops.resource_variable_ops) with constraint is deprecated and will be removed in a future version.\n",
      "Instructions for updating:\n",
      "If using Keras pass *_constraint arguments to layers.\n",
      "INFO:tensorflow:Assets written to: ./colab_model/assets\n",
      "INFO:tensorflow:Assets written to: ./conent_model/assets\n",
      "INFO:tensorflow:Assets written to: ./deep_colab_model/assets\n"
     ]
    }
   ],
   "source": [
    "colab_model.save(\"./colab_model\")\n",
    "content_model.save(\"./conent_model\")\n",
    "deepcolab_model.save(\"./deep_colab_model\")"
   ]
  },
  {
   "cell_type": "code",
   "execution_count": 100,
   "metadata": {
    "colab": {
     "base_uri": "https://localhost:8080/",
     "height": 119
    },
    "colab_type": "code",
    "id": "aiOq1mU71srS",
    "outputId": "6249575b-1c36-4692-973b-814534f0478e"
   },
   "outputs": [
    {
     "name": "stdout",
     "output_type": "stream",
     "text": [
      "  adding: colab_model/ (stored 0%)\n",
      "  adding: colab_model/saved_model.pb (deflated 89%)\n",
      "  adding: colab_model/variables/ (stored 0%)\n",
      "  adding: colab_model/variables/variables.index (deflated 63%)\n",
      "  adding: colab_model/variables/variables.data-00000-of-00001 (deflated 8%)\n",
      "  adding: colab_model/assets/ (stored 0%)\n"
     ]
    }
   ],
   "source": [
    "!zip -r ./colab_model.zip ./colab_model/"
   ]
  },
  {
   "cell_type": "code",
   "execution_count": 101,
   "metadata": {
    "colab": {
     "base_uri": "https://localhost:8080/",
     "height": 119
    },
    "colab_type": "code",
    "id": "k79tXBQp1ysn",
    "outputId": "eff8cdaf-2ac7-4885-e8b0-004e598c7006"
   },
   "outputs": [
    {
     "name": "stdout",
     "output_type": "stream",
     "text": [
      "  adding: conent_model/ (stored 0%)\n",
      "  adding: conent_model/saved_model.pb (deflated 90%)\n",
      "  adding: conent_model/variables/ (stored 0%)\n",
      "  adding: conent_model/variables/variables.index (deflated 70%)\n",
      "  adding: conent_model/variables/variables.data-00000-of-00001 (deflated 9%)\n",
      "  adding: conent_model/assets/ (stored 0%)\n"
     ]
    }
   ],
   "source": [
    "!zip -r ./content_model.zip ./conent_model/"
   ]
  },
  {
   "cell_type": "code",
   "execution_count": 102,
   "metadata": {
    "colab": {
     "base_uri": "https://localhost:8080/",
     "height": 119
    },
    "colab_type": "code",
    "id": "zgH-bZAc142Q",
    "outputId": "bc95df17-ed7b-4631-dc2b-8ffc62cd48c2"
   },
   "outputs": [
    {
     "name": "stdout",
     "output_type": "stream",
     "text": [
      "  adding: deep_colab_model/ (stored 0%)\n",
      "  adding: deep_colab_model/saved_model.pb (deflated 90%)\n",
      "  adding: deep_colab_model/variables/ (stored 0%)\n",
      "  adding: deep_colab_model/variables/variables.index (deflated 67%)\n",
      "  adding: deep_colab_model/variables/variables.data-00000-of-00001 (deflated 7%)\n",
      "  adding: deep_colab_model/assets/ (stored 0%)\n"
     ]
    }
   ],
   "source": [
    "!zip -r ./deep_colab_model.zip ./deep_colab_model/"
   ]
  },
  {
   "cell_type": "markdown",
   "metadata": {
    "colab_type": "text",
    "id": "L-vdiLO9h6sq"
   },
   "source": [
    "# Statistical comparisons"
   ]
  },
  {
   "cell_type": "code",
   "execution_count": 7,
   "metadata": {
    "colab": {
     "base_uri": "https://localhost:8080/",
     "height": 297
    },
    "colab_type": "code",
    "id": "vn8mwLxxrqE0",
    "outputId": "9f73bb40-8fbd-437f-87b5-dcc295cc33ea"
   },
   "outputs": [
    {
     "data": {
      "text/html": [
       "<div>\n",
       "<style scoped>\n",
       "    .dataframe tbody tr th:only-of-type {\n",
       "        vertical-align: middle;\n",
       "    }\n",
       "\n",
       "    .dataframe tbody tr th {\n",
       "        vertical-align: top;\n",
       "    }\n",
       "\n",
       "    .dataframe thead th {\n",
       "        text-align: right;\n",
       "    }\n",
       "</style>\n",
       "<table border=\"1\" class=\"dataframe\">\n",
       "  <thead>\n",
       "    <tr style=\"text-align: right;\">\n",
       "      <th></th>\n",
       "      <th>content</th>\n",
       "      <th>deep_colab</th>\n",
       "      <th>colab</th>\n",
       "    </tr>\n",
       "  </thead>\n",
       "  <tbody>\n",
       "    <tr>\n",
       "      <th>count</th>\n",
       "      <td>10.000000</td>\n",
       "      <td>10.000000</td>\n",
       "      <td>10.000000</td>\n",
       "    </tr>\n",
       "    <tr>\n",
       "      <th>mean</th>\n",
       "      <td>0.086932</td>\n",
       "      <td>0.108037</td>\n",
       "      <td>0.347618</td>\n",
       "    </tr>\n",
       "    <tr>\n",
       "      <th>std</th>\n",
       "      <td>0.013374</td>\n",
       "      <td>0.016036</td>\n",
       "      <td>0.077915</td>\n",
       "    </tr>\n",
       "    <tr>\n",
       "      <th>min</th>\n",
       "      <td>0.071966</td>\n",
       "      <td>0.082395</td>\n",
       "      <td>0.229990</td>\n",
       "    </tr>\n",
       "    <tr>\n",
       "      <th>25%</th>\n",
       "      <td>0.077140</td>\n",
       "      <td>0.096528</td>\n",
       "      <td>0.302102</td>\n",
       "    </tr>\n",
       "    <tr>\n",
       "      <th>50%</th>\n",
       "      <td>0.082345</td>\n",
       "      <td>0.109263</td>\n",
       "      <td>0.336365</td>\n",
       "    </tr>\n",
       "    <tr>\n",
       "      <th>75%</th>\n",
       "      <td>0.100326</td>\n",
       "      <td>0.120567</td>\n",
       "      <td>0.402659</td>\n",
       "    </tr>\n",
       "    <tr>\n",
       "      <th>max</th>\n",
       "      <td>0.105977</td>\n",
       "      <td>0.131735</td>\n",
       "      <td>0.487377</td>\n",
       "    </tr>\n",
       "  </tbody>\n",
       "</table>\n",
       "</div>"
      ],
      "text/plain": [
       "         content  deep_colab      colab\n",
       "count  10.000000   10.000000  10.000000\n",
       "mean    0.086932    0.108037   0.347618\n",
       "std     0.013374    0.016036   0.077915\n",
       "min     0.071966    0.082395   0.229990\n",
       "25%     0.077140    0.096528   0.302102\n",
       "50%     0.082345    0.109263   0.336365\n",
       "75%     0.100326    0.120567   0.402659\n",
       "max     0.105977    0.131735   0.487377"
      ]
     },
     "execution_count": 7,
     "metadata": {},
     "output_type": "execute_result"
    }
   ],
   "source": [
    "train_mae.describe()"
   ]
  },
  {
   "cell_type": "code",
   "execution_count": 8,
   "metadata": {
    "colab": {
     "base_uri": "https://localhost:8080/",
     "height": 297
    },
    "colab_type": "code",
    "id": "kerLLJt0rtEe",
    "outputId": "a5b9e4bd-825a-4538-96ac-3150620d1741"
   },
   "outputs": [
    {
     "data": {
      "text/html": [
       "<div>\n",
       "<style scoped>\n",
       "    .dataframe tbody tr th:only-of-type {\n",
       "        vertical-align: middle;\n",
       "    }\n",
       "\n",
       "    .dataframe tbody tr th {\n",
       "        vertical-align: top;\n",
       "    }\n",
       "\n",
       "    .dataframe thead th {\n",
       "        text-align: right;\n",
       "    }\n",
       "</style>\n",
       "<table border=\"1\" class=\"dataframe\">\n",
       "  <thead>\n",
       "    <tr style=\"text-align: right;\">\n",
       "      <th></th>\n",
       "      <th>content</th>\n",
       "      <th>deep_colab</th>\n",
       "      <th>colab</th>\n",
       "    </tr>\n",
       "  </thead>\n",
       "  <tbody>\n",
       "    <tr>\n",
       "      <th>count</th>\n",
       "      <td>10.000000</td>\n",
       "      <td>10.000000</td>\n",
       "      <td>10.000000</td>\n",
       "    </tr>\n",
       "    <tr>\n",
       "      <th>mean</th>\n",
       "      <td>0.027358</td>\n",
       "      <td>0.037664</td>\n",
       "      <td>0.082187</td>\n",
       "    </tr>\n",
       "    <tr>\n",
       "      <th>std</th>\n",
       "      <td>0.006914</td>\n",
       "      <td>0.007112</td>\n",
       "      <td>0.018024</td>\n",
       "    </tr>\n",
       "    <tr>\n",
       "      <th>min</th>\n",
       "      <td>0.018393</td>\n",
       "      <td>0.022453</td>\n",
       "      <td>0.056065</td>\n",
       "    </tr>\n",
       "    <tr>\n",
       "      <th>25%</th>\n",
       "      <td>0.022683</td>\n",
       "      <td>0.034671</td>\n",
       "      <td>0.073383</td>\n",
       "    </tr>\n",
       "    <tr>\n",
       "      <th>50%</th>\n",
       "      <td>0.024775</td>\n",
       "      <td>0.037409</td>\n",
       "      <td>0.077206</td>\n",
       "    </tr>\n",
       "    <tr>\n",
       "      <th>75%</th>\n",
       "      <td>0.033288</td>\n",
       "      <td>0.042545</td>\n",
       "      <td>0.093773</td>\n",
       "    </tr>\n",
       "    <tr>\n",
       "      <th>max</th>\n",
       "      <td>0.039227</td>\n",
       "      <td>0.046571</td>\n",
       "      <td>0.116838</td>\n",
       "    </tr>\n",
       "  </tbody>\n",
       "</table>\n",
       "</div>"
      ],
      "text/plain": [
       "         content  deep_colab      colab\n",
       "count  10.000000   10.000000  10.000000\n",
       "mean    0.027358    0.037664   0.082187\n",
       "std     0.006914    0.007112   0.018024\n",
       "min     0.018393    0.022453   0.056065\n",
       "25%     0.022683    0.034671   0.073383\n",
       "50%     0.024775    0.037409   0.077206\n",
       "75%     0.033288    0.042545   0.093773\n",
       "max     0.039227    0.046571   0.116838"
      ]
     },
     "execution_count": 8,
     "metadata": {},
     "output_type": "execute_result"
    }
   ],
   "source": [
    "train_mape.describe()"
   ]
  },
  {
   "cell_type": "code",
   "execution_count": 9,
   "metadata": {
    "colab": {
     "base_uri": "https://localhost:8080/",
     "height": 297
    },
    "colab_type": "code",
    "id": "IQjTNPHgrwIT",
    "outputId": "948e76e2-defe-400c-d453-5efaba4b70ea"
   },
   "outputs": [
    {
     "data": {
      "text/html": [
       "<div>\n",
       "<style scoped>\n",
       "    .dataframe tbody tr th:only-of-type {\n",
       "        vertical-align: middle;\n",
       "    }\n",
       "\n",
       "    .dataframe tbody tr th {\n",
       "        vertical-align: top;\n",
       "    }\n",
       "\n",
       "    .dataframe thead th {\n",
       "        text-align: right;\n",
       "    }\n",
       "</style>\n",
       "<table border=\"1\" class=\"dataframe\">\n",
       "  <thead>\n",
       "    <tr style=\"text-align: right;\">\n",
       "      <th></th>\n",
       "      <th>content</th>\n",
       "      <th>deep_colab</th>\n",
       "      <th>colab</th>\n",
       "    </tr>\n",
       "  </thead>\n",
       "  <tbody>\n",
       "    <tr>\n",
       "      <th>count</th>\n",
       "      <td>10.000000</td>\n",
       "      <td>10.000000</td>\n",
       "      <td>10.000000</td>\n",
       "    </tr>\n",
       "    <tr>\n",
       "      <th>mean</th>\n",
       "      <td>0.095835</td>\n",
       "      <td>0.121376</td>\n",
       "      <td>0.870198</td>\n",
       "    </tr>\n",
       "    <tr>\n",
       "      <th>std</th>\n",
       "      <td>0.036194</td>\n",
       "      <td>0.026243</td>\n",
       "      <td>0.405272</td>\n",
       "    </tr>\n",
       "    <tr>\n",
       "      <th>min</th>\n",
       "      <td>0.048836</td>\n",
       "      <td>0.081004</td>\n",
       "      <td>0.367964</td>\n",
       "    </tr>\n",
       "    <tr>\n",
       "      <th>25%</th>\n",
       "      <td>0.068130</td>\n",
       "      <td>0.106168</td>\n",
       "      <td>0.658509</td>\n",
       "    </tr>\n",
       "    <tr>\n",
       "      <th>50%</th>\n",
       "      <td>0.093216</td>\n",
       "      <td>0.121486</td>\n",
       "      <td>0.772182</td>\n",
       "    </tr>\n",
       "    <tr>\n",
       "      <th>75%</th>\n",
       "      <td>0.117481</td>\n",
       "      <td>0.139986</td>\n",
       "      <td>0.947518</td>\n",
       "    </tr>\n",
       "    <tr>\n",
       "      <th>max</th>\n",
       "      <td>0.160067</td>\n",
       "      <td>0.157365</td>\n",
       "      <td>1.708260</td>\n",
       "    </tr>\n",
       "  </tbody>\n",
       "</table>\n",
       "</div>"
      ],
      "text/plain": [
       "         content  deep_colab      colab\n",
       "count  10.000000   10.000000  10.000000\n",
       "mean    0.095835    0.121376   0.870198\n",
       "std     0.036194    0.026243   0.405272\n",
       "min     0.048836    0.081004   0.367964\n",
       "25%     0.068130    0.106168   0.658509\n",
       "50%     0.093216    0.121486   0.772182\n",
       "75%     0.117481    0.139986   0.947518\n",
       "max     0.160067    0.157365   1.708260"
      ]
     },
     "execution_count": 9,
     "metadata": {},
     "output_type": "execute_result"
    }
   ],
   "source": [
    "train_mse.describe()"
   ]
  },
  {
   "cell_type": "code",
   "execution_count": 37,
   "metadata": {
    "colab": {
     "base_uri": "https://localhost:8080/",
     "height": 321
    },
    "colab_type": "code",
    "id": "6FryO4vvqRZU",
    "outputId": "e2e6b437-b401-4af9-b2c5-d495bbb84446"
   },
   "outputs": [
    {
     "data": {
      "image/png": "[encoded data removed]",
      "text/plain": [
       "<Figure size 432x288 with 1 Axes>"
      ]
     },
     "metadata": {},
     "output_type": "display_data"
    }
   ],
   "source": [
    "mae_fig =sns.boxplot(x=['DHCF model', 'Deep collab. filt.', 'Collab. filt.'], y=[train_mae.content, train_mae.deep_colab, train_mae.colab]);\n",
    "mae_fig.set_xticklabels(mae_fig.get_xticklabels(), rotation=30);\n",
    "mae_fig.set_title(\"Train MAE\");"
   ]
  },
  {
   "cell_type": "code",
   "execution_count": 38,
   "metadata": {
    "colab": {
     "base_uri": "https://localhost:8080/",
     "height": 321
    },
    "colab_type": "code",
    "id": "67CNNx2ArQ8_",
    "outputId": "b1d26535-8291-4459-ffd8-8f5ea5ffc05f"
   },
   "outputs": [
    {
     "data": {
      "image/png": "[encoded data removed]",
      "text/plain": [
       "<Figure size 432x288 with 1 Axes>"
      ]
     },
     "metadata": {},
     "output_type": "display_data"
    }
   ],
   "source": [
    "mape_fig =sns.boxplot(x=['DHCF model', 'Deep collab. filt.', 'Collab. filt.'], y=[train_mape.content, train_mape.deep_colab, train_mape.colab]);\n",
    "mape_fig.set_xticklabels(mape_fig.get_xticklabels(), rotation=30);\n",
    "mape_fig.set_title(\"Train MAPE\");"
   ]
  },
  {
   "cell_type": "code",
   "execution_count": 39,
   "metadata": {
    "colab": {
     "base_uri": "https://localhost:8080/",
     "height": 321
    },
    "colab_type": "code",
    "id": "r_n4CH0-rYrb",
    "outputId": "87ba5e00-1a90-44a7-a62c-e7d1d6956d87"
   },
   "outputs": [
    {
     "data": {
      "image/png": "[encoded data removed]",
      "text/plain": [
       "<Figure size 432x288 with 1 Axes>"
      ]
     },
     "metadata": {},
     "output_type": "display_data"
    }
   ],
   "source": [
    "mse_fig =sns.boxplot(x=['DHCF model', 'Deep collab. filt.', 'Collab. filt.'], y=[train_mse.content, train_mse.deep_colab, train_mse.colab]);\n",
    "mse_fig.set_xticklabels(mse_fig.get_xticklabels(), rotation=30);\n",
    "mse_fig.set_title(\"Train MSE\");"
   ]
  },
  {
   "cell_type": "markdown",
   "metadata": {},
   "source": [
    "Grouped plots"
   ]
  },
  {
   "cell_type": "code",
   "execution_count": 8,
   "metadata": {
    "ExecuteTime": {
     "end_time": "2020-09-22T15:15:12.410192Z",
     "start_time": "2020-09-22T15:15:12.025768Z"
    }
   },
   "outputs": [
    {
     "data": {
      "image/png": "[encoded data removed]",
      "text/plain": [
       "<Figure size 432x288 with 1 Axes>"
      ]
     },
     "metadata": {},
     "output_type": "display_data"
    }
   ],
   "source": [
    "train_mae_melt = train_mae.melt(var_name='model')\n",
    "train_mae_melt['metric'] = 'MAE'\n",
    "\n",
    "train_mape_melt = train_mape.melt(var_name='model')\n",
    "train_mape_melt['metric'] = 'MAPE'\n",
    "\n",
    "train_mse_melt = train_mse.melt(var_name='model')\n",
    "train_mse_melt['metric'] = 'MSE'\n",
    "\n",
    "train_metrics = train_mae_melt.append(train_mape_melt, ignore_index=True).append(train_mse_melt, ignore_index=True)\n",
    "#px.box(train_metrics, x='metric', y='value', color='model', template='plotly_white', labels='model', )\n",
    "train_metrics.model.replace({\n",
    "    'colab': \"CF\",\n",
    "    'deep_colab': 'DCF',\n",
    "    'content': \"DHCF\"\n",
    "}, inplace=True)\n",
    "f = plt.figure()\n",
    "boxplt = sns.boxplot(x=\"metric\", y=\"value\",\n",
    "            palette=\"bright\",\n",
    "            hue=\"model\",\n",
    "            data=train_metrics)\n",
    "sns.despine(trim=False)\n",
    "boxplt.set(xlabel='metric [stars]')\n",
    "f.savefig('boxlot.svg', format='svg')"
   ]
  },
  {
   "cell_type": "code",
   "execution_count": 25,
   "metadata": {},
   "outputs": [
    {
     "data": {
      "text/html": [
       "<div>\n",
       "<style scoped>\n",
       "    .dataframe tbody tr th:only-of-type {\n",
       "        vertical-align: middle;\n",
       "    }\n",
       "\n",
       "    .dataframe tbody tr th {\n",
       "        vertical-align: top;\n",
       "    }\n",
       "\n",
       "    .dataframe thead th {\n",
       "        text-align: right;\n",
       "    }\n",
       "</style>\n",
       "<table border=\"1\" class=\"dataframe\">\n",
       "  <thead>\n",
       "    <tr style=\"text-align: right;\">\n",
       "      <th></th>\n",
       "      <th>colab</th>\n",
       "      <th>deep_colab</th>\n",
       "      <th>content</th>\n",
       "    </tr>\n",
       "  </thead>\n",
       "  <tbody>\n",
       "    <tr>\n",
       "      <th>test_mae</th>\n",
       "      <td>4.727052</td>\n",
       "      <td>0.359253</td>\n",
       "      <td>0.169185</td>\n",
       "    </tr>\n",
       "    <tr>\n",
       "      <th>test_mape</th>\n",
       "      <td>0.986710</td>\n",
       "      <td>0.139234</td>\n",
       "      <td>0.065239</td>\n",
       "    </tr>\n",
       "    <tr>\n",
       "      <th>test_mse</th>\n",
       "      <td>22.857315</td>\n",
       "      <td>0.530271</td>\n",
       "      <td>0.169813</td>\n",
       "    </tr>\n",
       "  </tbody>\n",
       "</table>\n",
       "</div>"
      ],
      "text/plain": [
       "               colab  deep_colab   content\n",
       "test_mae    4.727052    0.359253  0.169185\n",
       "test_mape   0.986710    0.139234  0.065239\n",
       "test_mse   22.857315    0.530271  0.169813"
      ]
     },
     "execution_count": 25,
     "metadata": {},
     "output_type": "execute_result"
    }
   ],
   "source": [
    "test_data_res"
   ]
  },
  {
   "cell_type": "code",
   "execution_count": 31,
   "metadata": {
    "colab": {
     "base_uri": "https://localhost:8080/",
     "height": 34
    },
    "colab_type": "code",
    "id": "0D5cbO7sgx1S",
    "outputId": "4d308fed-8851-4f2e-b661-c96ea096b536"
   },
   "outputs": [
    {
     "data": {
      "text/plain": [
       "FriedmanchisquareResult(statistic=18.200000000000017, pvalue=0.0001116658084901137)"
      ]
     },
     "execution_count": 31,
     "metadata": {},
     "output_type": "execute_result"
    }
   ],
   "source": [
    "st.friedmanchisquare(train_mse.content, train_mse.deep_colab, train_mse.colab)"
   ]
  },
  {
   "cell_type": "code",
   "execution_count": 33,
   "metadata": {},
   "outputs": [
    {
     "data": {
      "text/plain": [
       "FriedmanchisquareResult(statistic=20.0, pvalue=4.539992976248486e-05)"
      ]
     },
     "execution_count": 33,
     "metadata": {},
     "output_type": "execute_result"
    }
   ],
   "source": [
    "st.friedmanchisquare(train_mae.content, train_mae.deep_colab, train_mae.colab)"
   ]
  },
  {
   "cell_type": "code",
   "execution_count": 34,
   "metadata": {},
   "outputs": [
    {
     "data": {
      "text/plain": [
       "FriedmanchisquareResult(statistic=20.0, pvalue=4.539992976248486e-05)"
      ]
     },
     "execution_count": 34,
     "metadata": {},
     "output_type": "execute_result"
    }
   ],
   "source": [
    "st.friedmanchisquare(train_mape.content, train_mape.deep_colab, train_mape.colab)"
   ]
  },
  {
   "cell_type": "code",
   "execution_count": 36,
   "metadata": {
    "colab": {
     "base_uri": "https://localhost:8080/",
     "height": 142
    },
    "colab_type": "code",
    "id": "z2229A7wbOVQ",
    "outputId": "c6c177b5-3e01-439e-e57b-8e147d9a816d"
   },
   "outputs": [
    {
     "data": {
      "text/html": [
       "<div>\n",
       "<style scoped>\n",
       "    .dataframe tbody tr th:only-of-type {\n",
       "        vertical-align: middle;\n",
       "    }\n",
       "\n",
       "    .dataframe tbody tr th {\n",
       "        vertical-align: top;\n",
       "    }\n",
       "\n",
       "    .dataframe thead th {\n",
       "        text-align: right;\n",
       "    }\n",
       "</style>\n",
       "<table border=\"1\" class=\"dataframe\">\n",
       "  <thead>\n",
       "    <tr style=\"text-align: right;\">\n",
       "      <th></th>\n",
       "      <th>1</th>\n",
       "      <th>2</th>\n",
       "      <th>3</th>\n",
       "    </tr>\n",
       "  </thead>\n",
       "  <tbody>\n",
       "    <tr>\n",
       "      <th>1</th>\n",
       "      <td>-1.000000e+00</td>\n",
       "      <td>0.003570</td>\n",
       "      <td>3.257647e-09</td>\n",
       "    </tr>\n",
       "    <tr>\n",
       "      <th>2</th>\n",
       "      <td>3.570100e-03</td>\n",
       "      <td>-1.000000</td>\n",
       "      <td>5.727498e-06</td>\n",
       "    </tr>\n",
       "    <tr>\n",
       "      <th>3</th>\n",
       "      <td>3.257647e-09</td>\n",
       "      <td>0.000006</td>\n",
       "      <td>-1.000000e+00</td>\n",
       "    </tr>\n",
       "  </tbody>\n",
       "</table>\n",
       "</div>"
      ],
      "text/plain": [
       "              1         2             3\n",
       "1 -1.000000e+00  0.003570  3.257647e-09\n",
       "2  3.570100e-03 -1.000000  5.727498e-06\n",
       "3  3.257647e-09  0.000006 -1.000000e+00"
      ]
     },
     "execution_count": 36,
     "metadata": {},
     "output_type": "execute_result"
    }
   ],
   "source": [
    "sp.posthoc_conover([train_mae.content, train_mae.deep_colab, train_mae.colab], p_adjust='holm')"
   ]
  },
  {
   "cell_type": "code",
   "execution_count": 41,
   "metadata": {
    "colab": {
     "base_uri": "https://localhost:8080/",
     "height": 142
    },
    "colab_type": "code",
    "id": "fkBDFaLAZn4x",
    "outputId": "12e961d6-806a-49e2-ce30-7bf069e9441d"
   },
   "outputs": [
    {
     "data": {
      "text/html": [
       "<div>\n",
       "<style scoped>\n",
       "    .dataframe tbody tr th:only-of-type {\n",
       "        vertical-align: middle;\n",
       "    }\n",
       "\n",
       "    .dataframe tbody tr th {\n",
       "        vertical-align: top;\n",
       "    }\n",
       "\n",
       "    .dataframe thead th {\n",
       "        text-align: right;\n",
       "    }\n",
       "</style>\n",
       "<table border=\"1\" class=\"dataframe\">\n",
       "  <thead>\n",
       "    <tr style=\"text-align: right;\">\n",
       "      <th></th>\n",
       "      <th>1</th>\n",
       "      <th>2</th>\n",
       "      <th>3</th>\n",
       "    </tr>\n",
       "  </thead>\n",
       "  <tbody>\n",
       "    <tr>\n",
       "      <th>1</th>\n",
       "      <td>-1.000000e+00</td>\n",
       "      <td>0.055181</td>\n",
       "      <td>6.024843e-08</td>\n",
       "    </tr>\n",
       "    <tr>\n",
       "      <th>2</th>\n",
       "      <td>5.518052e-02</td>\n",
       "      <td>-1.000000</td>\n",
       "      <td>6.626016e-06</td>\n",
       "    </tr>\n",
       "    <tr>\n",
       "      <th>3</th>\n",
       "      <td>6.024843e-08</td>\n",
       "      <td>0.000007</td>\n",
       "      <td>-1.000000e+00</td>\n",
       "    </tr>\n",
       "  </tbody>\n",
       "</table>\n",
       "</div>"
      ],
      "text/plain": [
       "              1         2             3\n",
       "1 -1.000000e+00  0.055181  6.024843e-08\n",
       "2  5.518052e-02 -1.000000  6.626016e-06\n",
       "3  6.024843e-08  0.000007 -1.000000e+00"
      ]
     },
     "execution_count": 41,
     "metadata": {},
     "output_type": "execute_result"
    }
   ],
   "source": [
    "sp.posthoc_conover([train_mse.content, train_mse.deep_colab, train_mse.colab], p_adjust='holm')"
   ]
  },
  {
   "cell_type": "code",
   "execution_count": 42,
   "metadata": {
    "colab": {
     "base_uri": "https://localhost:8080/",
     "height": 142
    },
    "colab_type": "code",
    "id": "mHK3pa1vmFET",
    "outputId": "0112177d-4c90-4fcd-94ac-3d7ce634535b"
   },
   "outputs": [
    {
     "data": {
      "text/html": [
       "<div>\n",
       "<style scoped>\n",
       "    .dataframe tbody tr th:only-of-type {\n",
       "        vertical-align: middle;\n",
       "    }\n",
       "\n",
       "    .dataframe tbody tr th {\n",
       "        vertical-align: top;\n",
       "    }\n",
       "\n",
       "    .dataframe thead th {\n",
       "        text-align: right;\n",
       "    }\n",
       "</style>\n",
       "<table border=\"1\" class=\"dataframe\">\n",
       "  <thead>\n",
       "    <tr style=\"text-align: right;\">\n",
       "      <th></th>\n",
       "      <th>1</th>\n",
       "      <th>2</th>\n",
       "      <th>3</th>\n",
       "    </tr>\n",
       "  </thead>\n",
       "  <tbody>\n",
       "    <tr>\n",
       "      <th>1</th>\n",
       "      <td>-1.000000e+00</td>\n",
       "      <td>0.002509</td>\n",
       "      <td>2.265006e-09</td>\n",
       "    </tr>\n",
       "    <tr>\n",
       "      <th>2</th>\n",
       "      <td>2.509331e-03</td>\n",
       "      <td>-1.000000</td>\n",
       "      <td>5.413948e-06</td>\n",
       "    </tr>\n",
       "    <tr>\n",
       "      <th>3</th>\n",
       "      <td>2.265006e-09</td>\n",
       "      <td>0.000005</td>\n",
       "      <td>-1.000000e+00</td>\n",
       "    </tr>\n",
       "  </tbody>\n",
       "</table>\n",
       "</div>"
      ],
      "text/plain": [
       "              1         2             3\n",
       "1 -1.000000e+00  0.002509  2.265006e-09\n",
       "2  2.509331e-03 -1.000000  5.413948e-06\n",
       "3  2.265006e-09  0.000005 -1.000000e+00"
      ]
     },
     "execution_count": 42,
     "metadata": {},
     "output_type": "execute_result"
    }
   ],
   "source": [
    "sp.posthoc_conover([train_mape.content, train_mape.deep_colab, train_mape.colab], p_adjust='holm')"
   ]
  },
  {
   "cell_type": "markdown",
   "metadata": {
    "colab": {},
    "colab_type": "code",
    "id": "LWFXTPtxtgVJ"
   },
   "source": [
    "### Test residual analysis"
   ]
  },
  {
   "cell_type": "code",
   "execution_count": 100,
   "metadata": {},
   "outputs": [],
   "source": [
    "content_model = kk.models.load_model(\"../models/conent_model/\")\n",
    "colab_model = kk.models.load_model(\"../models/colab_model/\")\n",
    "deepcolab_model = kk.models.load_model(\"../models/deep_colab_model//\")"
   ]
  },
  {
   "cell_type": "code",
   "execution_count": 101,
   "metadata": {},
   "outputs": [],
   "source": [
    "content_model.compile(optimizer=kk.optimizers.Adam(), loss='mse')\n",
    "colab_model.compile(optimizer=kk.optimizers.Adam(), loss='mse')\n",
    "deepcolab_model.compile(optimizer=kk.optimizers.Adam(), loss='mse')"
   ]
  },
  {
   "cell_type": "code",
   "execution_count": 104,
   "metadata": {},
   "outputs": [],
   "source": [
    "content_test_pred = content_model.predict(content_model_feature_builder(X_test)).squeeze()\n",
    "deepcolab_test_pred = deepcolab_model.predict(deepcolabfilt_feature_builder(X_test)).squeeze()\n",
    "colab_test_pred = colab_model.predict(colab_feature_builder(X_test)).squeeze()"
   ]
  },
  {
   "cell_type": "code",
   "execution_count": 116,
   "metadata": {},
   "outputs": [],
   "source": [
    "content_mse_resid = (y_test - content_test_pred)**2\n",
    "deepcolab_mse_resid = (y_test - deepcolab_test_pred) ** 2\n",
    "colab_mse_resid = (y_test - colab_test_pred) ** 2"
   ]
  },
  {
   "cell_type": "code",
   "execution_count": 117,
   "metadata": {},
   "outputs": [],
   "source": [
    "content_mae_resid = np.abs(y_test - content_test_pred)\n",
    "deepcolab_mae_resid = np.abs(y_test - deepcolab_test_pred)\n",
    "colab_mae_resid = np.abs(y_test - colab_test_pred)"
   ]
  },
  {
   "cell_type": "code",
   "execution_count": 118,
   "metadata": {},
   "outputs": [],
   "source": [
    "content_mape_resid = content_mae_resid / y_test\n",
    "deepcolab_mape_resid = deepcolab_mae_resid / y_test\n",
    "colab_mape_resid = colab_mae_resid / y_test"
   ]
  },
  {
   "cell_type": "code",
   "execution_count": 137,
   "metadata": {},
   "outputs": [
    {
     "data": {
      "text/html": [
       "<div>\n",
       "<style scoped>\n",
       "    .dataframe tbody tr th:only-of-type {\n",
       "        vertical-align: middle;\n",
       "    }\n",
       "\n",
       "    .dataframe tbody tr th {\n",
       "        vertical-align: top;\n",
       "    }\n",
       "\n",
       "    .dataframe thead th {\n",
       "        text-align: right;\n",
       "    }\n",
       "</style>\n",
       "<table border=\"1\" class=\"dataframe\">\n",
       "  <thead>\n",
       "    <tr style=\"text-align: right;\">\n",
       "      <th></th>\n",
       "      <th>metric</th>\n",
       "      <th>model</th>\n",
       "      <th>value</th>\n",
       "    </tr>\n",
       "  </thead>\n",
       "  <tbody>\n",
       "    <tr>\n",
       "      <th>0</th>\n",
       "      <td>mse</td>\n",
       "      <td>DHCF</td>\n",
       "      <td>0.001392</td>\n",
       "    </tr>\n",
       "    <tr>\n",
       "      <th>1</th>\n",
       "      <td>mse</td>\n",
       "      <td>DHCF</td>\n",
       "      <td>0.000763</td>\n",
       "    </tr>\n",
       "    <tr>\n",
       "      <th>2</th>\n",
       "      <td>mse</td>\n",
       "      <td>DHCF</td>\n",
       "      <td>0.000047</td>\n",
       "    </tr>\n",
       "  </tbody>\n",
       "</table>\n",
       "</div>"
      ],
      "text/plain": [
       "  metric model     value\n",
       "0    mse  DHCF  0.001392\n",
       "1    mse  DHCF  0.000763\n",
       "2    mse  DHCF  0.000047"
      ]
     },
     "execution_count": 137,
     "metadata": {},
     "output_type": "execute_result"
    }
   ],
   "source": [
    "resid_df = pd.DataFrame.from_records(\n",
    "    list(zip(cycle(['mse']),  cycle(['DHCF']), content_mse_resid.to_list())) +\n",
    "    list(zip(cycle(['mse']),  cycle(['DCF']), deepcolab_mse_resid.to_list())) + \n",
    "    list(zip(cycle(['mse']),  cycle(['CF']), colab_mse_resid.to_list())) + \n",
    "    list(zip(cycle(['mae']),  cycle(['DHCF']), content_mae_resid.to_list())) +\n",
    "    list(zip(cycle(['mae']),  cycle(['DCF']), deepcolab_mae_resid.to_list())) + \n",
    "    list(zip(cycle(['mae']),  cycle(['CF']), colab_mae_resid.to_list())) +\n",
    "    list(zip(cycle(['mape']), cycle(['DHCF']), content_mape_resid.to_list())) +\n",
    "    list(zip(cycle(['mape']), cycle(['DCF']), deepcolab_mape_resid.to_list())) + \n",
    "    list(zip(cycle(['mape']), cycle(['CF']), colab_mape_resid.to_list())), columns=['metric', 'model', 'value'])\n",
    "resid_df.head(3)"
   ]
  },
  {
   "cell_type": "code",
   "execution_count": 144,
   "metadata": {},
   "outputs": [
    {
     "data": {
      "image/png": "[encoded data removed]",
      "text/plain": [
       "<Figure size 432x288 with 1 Axes>"
      ]
     },
     "metadata": {},
     "output_type": "display_data"
    }
   ],
   "source": [
    "f = plt.figure()\n",
    "ax = sns.boxplot(x=\"metric\", y=\"value\",\n",
    "            palette=\"bright\",\n",
    "            hue=\"model\",\n",
    "            data=resid_df, showfliers = False)\n",
    "#ax.set(yscale=\"log\")\n",
    "sns.despine(trim=False)\n",
    "f.savefig('boxlot_test.svg', format='svg')"
   ]
  },
  {
   "cell_type": "code",
   "execution_count": 129,
   "metadata": {},
   "outputs": [
    {
     "data": {
      "text/plain": [
       "[('a', 1), ('b', 2), ('a', 3)]"
      ]
     },
     "execution_count": 129,
     "metadata": {},
     "output_type": "execute_result"
    }
   ],
   "source": [
    "\n",
    "\n",
    "list(zip(cycle(['a', 'b']), [1,2,3]))"
   ]
  },
  {
   "cell_type": "code",
   "execution_count": null,
   "metadata": {},
   "outputs": [],
   "source": []
  }
 ],
 "metadata": {
  "colab": {
   "collapsed_sections": [],
   "name": "amazon reviews recommender - other dataset.ipynb",
   "provenance": [],
   "toc_visible": true
  },
  "kernelspec": {
   "display_name": "Python 3",
   "language": "python",
   "name": "python3"
  },
  "language_info": {
   "codemirror_mode": {
    "name": "ipython",
    "version": 3
   },
   "file_extension": ".py",
   "mimetype": "text/x-python",
   "name": "python",
   "nbconvert_exporter": "python",
   "pygments_lexer": "ipython3",
   "version": "3.8.3"
  },
  "toc": {
   "base_numbering": 1,
   "nav_menu": {},
   "number_sections": true,
   "sideBar": true,
   "skip_h1_title": false,
   "title_cell": "Table of Contents",
   "title_sidebar": "Contents",
   "toc_cell": false,
   "toc_position": {},
   "toc_section_display": true,
   "toc_window_display": true
  },
  "widgets": {
   "application/vnd.jupyter.widget-state+json": {
    "0bbf224ee54d461e950d49ccb6b94da3": {
     "model_module": "@jupyter-widgets/controls",
     "model_name": "DescriptionStyleModel",
     "state": {
      "_model_module": "@jupyter-widgets/controls",
      "_model_module_version": "1.5.0",
      "_model_name": "DescriptionStyleModel",
      "_view_count": null,
      "_view_module": "@jupyter-widgets/base",
      "_view_module_version": "1.2.0",
      "_view_name": "StyleView",
      "description_width": ""
     }
    },
    "101e8fe1b4a3420790e3dd8c86d1ae80": {
     "model_module": "@jupyter-widgets/controls",
     "model_name": "FloatProgressModel",
     "state": {
      "_dom_classes": [],
      "_model_module": "@jupyter-widgets/controls",
      "_model_module_version": "1.5.0",
      "_model_name": "FloatProgressModel",
      "_view_count": null,
      "_view_module": "@jupyter-widgets/controls",
      "_view_module_version": "1.5.0",
      "_view_name": "ProgressView",
      "bar_style": "success",
      "description": "",
      "description_tooltip": null,
      "layout": "IPY_MODEL_e4dfefa5d6c14ad3a3945aa07cb094f1",
      "max": 1,
      "min": 0,
      "orientation": "horizontal",
      "style": "IPY_MODEL_2ec05b1dc54045679c6a3e3c969eb50a",
      "value": 1
     }
    },
    "1627b8b706464edaa7c7c58919c40a88": {
     "model_module": "@jupyter-widgets/base",
     "model_name": "LayoutModel",
     "state": {
      "_model_module": "@jupyter-widgets/base",
      "_model_module_version": "1.2.0",
      "_model_name": "LayoutModel",
      "_view_count": null,
      "_view_module": "@jupyter-widgets/base",
      "_view_module_version": "1.2.0",
      "_view_name": "LayoutView",
      "align_content": null,
      "align_items": null,
      "align_self": null,
      "border": null,
      "bottom": null,
      "display": null,
      "flex": null,
      "flex_flow": null,
      "grid_area": null,
      "grid_auto_columns": null,
      "grid_auto_flow": null,
      "grid_auto_rows": null,
      "grid_column": null,
      "grid_gap": null,
      "grid_row": null,
      "grid_template_areas": null,
      "grid_template_columns": null,
      "grid_template_rows": null,
      "height": null,
      "justify_content": null,
      "justify_items": null,
      "left": null,
      "margin": null,
      "max_height": null,
      "max_width": null,
      "min_height": null,
      "min_width": null,
      "object_fit": null,
      "object_position": null,
      "order": null,
      "overflow": null,
      "overflow_x": null,
      "overflow_y": null,
      "padding": null,
      "right": null,
      "top": null,
      "visibility": null,
      "width": null
     }
    },
    "2bbcada326bd4695afd1f79454400a3e": {
     "model_module": "@jupyter-widgets/base",
     "model_name": "LayoutModel",
     "state": {
      "_model_module": "@jupyter-widgets/base",
      "_model_module_version": "1.2.0",
      "_model_name": "LayoutModel",
      "_view_count": null,
      "_view_module": "@jupyter-widgets/base",
      "_view_module_version": "1.2.0",
      "_view_name": "LayoutView",
      "align_content": null,
      "align_items": null,
      "align_self": null,
      "border": null,
      "bottom": null,
      "display": null,
      "flex": null,
      "flex_flow": null,
      "grid_area": null,
      "grid_auto_columns": null,
      "grid_auto_flow": null,
      "grid_auto_rows": null,
      "grid_column": null,
      "grid_gap": null,
      "grid_row": null,
      "grid_template_areas": null,
      "grid_template_columns": null,
      "grid_template_rows": null,
      "height": null,
      "justify_content": null,
      "justify_items": null,
      "left": null,
      "margin": null,
      "max_height": null,
      "max_width": null,
      "min_height": null,
      "min_width": null,
      "object_fit": null,
      "object_position": null,
      "order": null,
      "overflow": null,
      "overflow_x": null,
      "overflow_y": null,
      "padding": null,
      "right": null,
      "top": null,
      "visibility": null,
      "width": null
     }
    },
    "2ec05b1dc54045679c6a3e3c969eb50a": {
     "model_module": "@jupyter-widgets/controls",
     "model_name": "ProgressStyleModel",
     "state": {
      "_model_module": "@jupyter-widgets/controls",
      "_model_module_version": "1.5.0",
      "_model_name": "ProgressStyleModel",
      "_view_count": null,
      "_view_module": "@jupyter-widgets/base",
      "_view_module_version": "1.2.0",
      "_view_name": "StyleView",
      "bar_color": null,
      "description_width": "initial"
     }
    },
    "5750d51fd3804f5cb32d8231e7eae159": {
     "model_module": "@jupyter-widgets/controls",
     "model_name": "HBoxModel",
     "state": {
      "_dom_classes": [],
      "_model_module": "@jupyter-widgets/controls",
      "_model_module_version": "1.5.0",
      "_model_name": "HBoxModel",
      "_view_count": null,
      "_view_module": "@jupyter-widgets/controls",
      "_view_module_version": "1.5.0",
      "_view_name": "HBoxView",
      "box_style": "",
      "children": [
       "IPY_MODEL_101e8fe1b4a3420790e3dd8c86d1ae80",
       "IPY_MODEL_b8d73a8eff7143d59cdcf43ba5f69991"
      ],
      "layout": "IPY_MODEL_1627b8b706464edaa7c7c58919c40a88"
     }
    },
    "68917a00b5bc4dbc842115a1b4e1479a": {
     "model_module": "@jupyter-widgets/base",
     "model_name": "LayoutModel",
     "state": {
      "_model_module": "@jupyter-widgets/base",
      "_model_module_version": "1.2.0",
      "_model_name": "LayoutModel",
      "_view_count": null,
      "_view_module": "@jupyter-widgets/base",
      "_view_module_version": "1.2.0",
      "_view_name": "LayoutView",
      "align_content": null,
      "align_items": null,
      "align_self": null,
      "border": null,
      "bottom": null,
      "display": null,
      "flex": null,
      "flex_flow": null,
      "grid_area": null,
      "grid_auto_columns": null,
      "grid_auto_flow": null,
      "grid_auto_rows": null,
      "grid_column": null,
      "grid_gap": null,
      "grid_row": null,
      "grid_template_areas": null,
      "grid_template_columns": null,
      "grid_template_rows": null,
      "height": null,
      "justify_content": null,
      "justify_items": null,
      "left": null,
      "margin": null,
      "max_height": null,
      "max_width": null,
      "min_height": null,
      "min_width": null,
      "object_fit": null,
      "object_position": null,
      "order": null,
      "overflow": null,
      "overflow_x": null,
      "overflow_y": null,
      "padding": null,
      "right": null,
      "top": null,
      "visibility": null,
      "width": null
     }
    },
    "75b1b831121a4e689615b80a319928ad": {
     "model_module": "@jupyter-widgets/controls",
     "model_name": "ProgressStyleModel",
     "state": {
      "_model_module": "@jupyter-widgets/controls",
      "_model_module_version": "1.5.0",
      "_model_name": "ProgressStyleModel",
      "_view_count": null,
      "_view_module": "@jupyter-widgets/base",
      "_view_module_version": "1.2.0",
      "_view_name": "StyleView",
      "bar_color": null,
      "description_width": "initial"
     }
    },
    "787c4be717e444e49c408289877b65c5": {
     "model_module": "@jupyter-widgets/base",
     "model_name": "LayoutModel",
     "state": {
      "_model_module": "@jupyter-widgets/base",
      "_model_module_version": "1.2.0",
      "_model_name": "LayoutModel",
      "_view_count": null,
      "_view_module": "@jupyter-widgets/base",
      "_view_module_version": "1.2.0",
      "_view_name": "LayoutView",
      "align_content": null,
      "align_items": null,
      "align_self": null,
      "border": null,
      "bottom": null,
      "display": null,
      "flex": null,
      "flex_flow": null,
      "grid_area": null,
      "grid_auto_columns": null,
      "grid_auto_flow": null,
      "grid_auto_rows": null,
      "grid_column": null,
      "grid_gap": null,
      "grid_row": null,
      "grid_template_areas": null,
      "grid_template_columns": null,
      "grid_template_rows": null,
      "height": null,
      "justify_content": null,
      "justify_items": null,
      "left": null,
      "margin": null,
      "max_height": null,
      "max_width": null,
      "min_height": null,
      "min_width": null,
      "object_fit": null,
      "object_position": null,
      "order": null,
      "overflow": null,
      "overflow_x": null,
      "overflow_y": null,
      "padding": null,
      "right": null,
      "top": null,
      "visibility": null,
      "width": null
     }
    },
    "7acf0477101845b1b423c05047fd796b": {
     "model_module": "@jupyter-widgets/base",
     "model_name": "LayoutModel",
     "state": {
      "_model_module": "@jupyter-widgets/base",
      "_model_module_version": "1.2.0",
      "_model_name": "LayoutModel",
      "_view_count": null,
      "_view_module": "@jupyter-widgets/base",
      "_view_module_version": "1.2.0",
      "_view_name": "LayoutView",
      "align_content": null,
      "align_items": null,
      "align_self": null,
      "border": null,
      "bottom": null,
      "display": null,
      "flex": null,
      "flex_flow": null,
      "grid_area": null,
      "grid_auto_columns": null,
      "grid_auto_flow": null,
      "grid_auto_rows": null,
      "grid_column": null,
      "grid_gap": null,
      "grid_row": null,
      "grid_template_areas": null,
      "grid_template_columns": null,
      "grid_template_rows": null,
      "height": null,
      "justify_content": null,
      "justify_items": null,
      "left": null,
      "margin": null,
      "max_height": null,
      "max_width": null,
      "min_height": null,
      "min_width": null,
      "object_fit": null,
      "object_position": null,
      "order": null,
      "overflow": null,
      "overflow_x": null,
      "overflow_y": null,
      "padding": null,
      "right": null,
      "top": null,
      "visibility": null,
      "width": null
     }
    },
    "864f06b086aa4c1ba9df9676ef02f6f0": {
     "model_module": "@jupyter-widgets/controls",
     "model_name": "HBoxModel",
     "state": {
      "_dom_classes": [],
      "_model_module": "@jupyter-widgets/controls",
      "_model_module_version": "1.5.0",
      "_model_name": "HBoxModel",
      "_view_count": null,
      "_view_module": "@jupyter-widgets/controls",
      "_view_module_version": "1.5.0",
      "_view_name": "HBoxView",
      "box_style": "",
      "children": [
       "IPY_MODEL_acf982b4a3484d86a9df52fa7f49f5ea",
       "IPY_MODEL_9385988aaf2b450d9d4755f2fa6f4ff8"
      ],
      "layout": "IPY_MODEL_787c4be717e444e49c408289877b65c5"
     }
    },
    "8ed52b65b3eb4cd3b9a7dbef2de24555": {
     "model_module": "@jupyter-widgets/base",
     "model_name": "LayoutModel",
     "state": {
      "_model_module": "@jupyter-widgets/base",
      "_model_module_version": "1.2.0",
      "_model_name": "LayoutModel",
      "_view_count": null,
      "_view_module": "@jupyter-widgets/base",
      "_view_module_version": "1.2.0",
      "_view_name": "LayoutView",
      "align_content": null,
      "align_items": null,
      "align_self": null,
      "border": null,
      "bottom": null,
      "display": null,
      "flex": null,
      "flex_flow": null,
      "grid_area": null,
      "grid_auto_columns": null,
      "grid_auto_flow": null,
      "grid_auto_rows": null,
      "grid_column": null,
      "grid_gap": null,
      "grid_row": null,
      "grid_template_areas": null,
      "grid_template_columns": null,
      "grid_template_rows": null,
      "height": null,
      "justify_content": null,
      "justify_items": null,
      "left": null,
      "margin": null,
      "max_height": null,
      "max_width": null,
      "min_height": null,
      "min_width": null,
      "object_fit": null,
      "object_position": null,
      "order": null,
      "overflow": null,
      "overflow_x": null,
      "overflow_y": null,
      "padding": null,
      "right": null,
      "top": null,
      "visibility": null,
      "width": null
     }
    },
    "9385988aaf2b450d9d4755f2fa6f4ff8": {
     "model_module": "@jupyter-widgets/controls",
     "model_name": "HTMLModel",
     "state": {
      "_dom_classes": [],
      "_model_module": "@jupyter-widgets/controls",
      "_model_module_version": "1.5.0",
      "_model_name": "HTMLModel",
      "_view_count": null,
      "_view_module": "@jupyter-widgets/controls",
      "_view_module_version": "1.5.0",
      "_view_name": "HTMLView",
      "description": "",
      "description_tooltip": null,
      "layout": "IPY_MODEL_d4d60af4c8a3463ebc811dac204f27cd",
      "placeholder": "​",
      "style": "IPY_MODEL_0bbf224ee54d461e950d49ccb6b94da3",
      "value": " 10/? [00:32&lt;00:00,  3.23s/it]"
     }
    },
    "9c6fbb6279fc48368705eab86fe0bc9e": {
     "model_module": "@jupyter-widgets/controls",
     "model_name": "DescriptionStyleModel",
     "state": {
      "_model_module": "@jupyter-widgets/controls",
      "_model_module_version": "1.5.0",
      "_model_name": "DescriptionStyleModel",
      "_view_count": null,
      "_view_module": "@jupyter-widgets/base",
      "_view_module_version": "1.2.0",
      "_view_name": "StyleView",
      "description_width": ""
     }
    },
    "acf982b4a3484d86a9df52fa7f49f5ea": {
     "model_module": "@jupyter-widgets/controls",
     "model_name": "FloatProgressModel",
     "state": {
      "_dom_classes": [],
      "_model_module": "@jupyter-widgets/controls",
      "_model_module_version": "1.5.0",
      "_model_name": "FloatProgressModel",
      "_view_count": null,
      "_view_module": "@jupyter-widgets/controls",
      "_view_module_version": "1.5.0",
      "_view_name": "ProgressView",
      "bar_style": "success",
      "description": "",
      "description_tooltip": null,
      "layout": "IPY_MODEL_7acf0477101845b1b423c05047fd796b",
      "max": 1,
      "min": 0,
      "orientation": "horizontal",
      "style": "IPY_MODEL_75b1b831121a4e689615b80a319928ad",
      "value": 1
     }
    },
    "b22ba5630d69473da47b26d4d05f719d": {
     "model_module": "@jupyter-widgets/controls",
     "model_name": "HTMLModel",
     "state": {
      "_dom_classes": [],
      "_model_module": "@jupyter-widgets/controls",
      "_model_module_version": "1.5.0",
      "_model_name": "HTMLModel",
      "_view_count": null,
      "_view_module": "@jupyter-widgets/controls",
      "_view_module_version": "1.5.0",
      "_view_name": "HTMLView",
      "description": "",
      "description_tooltip": null,
      "layout": "IPY_MODEL_68917a00b5bc4dbc842115a1b4e1479a",
      "placeholder": "​",
      "style": "IPY_MODEL_9c6fbb6279fc48368705eab86fe0bc9e",
      "value": " 10/? [00:27&lt;00:00,  2.78s/it]"
     }
    },
    "b8d73a8eff7143d59cdcf43ba5f69991": {
     "model_module": "@jupyter-widgets/controls",
     "model_name": "HTMLModel",
     "state": {
      "_dom_classes": [],
      "_model_module": "@jupyter-widgets/controls",
      "_model_module_version": "1.5.0",
      "_model_name": "HTMLModel",
      "_view_count": null,
      "_view_module": "@jupyter-widgets/controls",
      "_view_module_version": "1.5.0",
      "_view_name": "HTMLView",
      "description": "",
      "description_tooltip": null,
      "layout": "IPY_MODEL_2bbcada326bd4695afd1f79454400a3e",
      "placeholder": "​",
      "style": "IPY_MODEL_d5d7270e351241e58b1cbdd46b4f3187",
      "value": " 10/? [00:37&lt;00:00,  3.76s/it]"
     }
    },
    "cb374406ccb14e0aa69373c88798fa84": {
     "model_module": "@jupyter-widgets/controls",
     "model_name": "FloatProgressModel",
     "state": {
      "_dom_classes": [],
      "_model_module": "@jupyter-widgets/controls",
      "_model_module_version": "1.5.0",
      "_model_name": "FloatProgressModel",
      "_view_count": null,
      "_view_module": "@jupyter-widgets/controls",
      "_view_module_version": "1.5.0",
      "_view_name": "ProgressView",
      "bar_style": "success",
      "description": "",
      "description_tooltip": null,
      "layout": "IPY_MODEL_8ed52b65b3eb4cd3b9a7dbef2de24555",
      "max": 1,
      "min": 0,
      "orientation": "horizontal",
      "style": "IPY_MODEL_d4da992420da452bb46388c01993f57b",
      "value": 1
     }
    },
    "d00cddcad588498b91d40c3c9746521f": {
     "model_module": "@jupyter-widgets/base",
     "model_name": "LayoutModel",
     "state": {
      "_model_module": "@jupyter-widgets/base",
      "_model_module_version": "1.2.0",
      "_model_name": "LayoutModel",
      "_view_count": null,
      "_view_module": "@jupyter-widgets/base",
      "_view_module_version": "1.2.0",
      "_view_name": "LayoutView",
      "align_content": null,
      "align_items": null,
      "align_self": null,
      "border": null,
      "bottom": null,
      "display": null,
      "flex": null,
      "flex_flow": null,
      "grid_area": null,
      "grid_auto_columns": null,
      "grid_auto_flow": null,
      "grid_auto_rows": null,
      "grid_column": null,
      "grid_gap": null,
      "grid_row": null,
      "grid_template_areas": null,
      "grid_template_columns": null,
      "grid_template_rows": null,
      "height": null,
      "justify_content": null,
      "justify_items": null,
      "left": null,
      "margin": null,
      "max_height": null,
      "max_width": null,
      "min_height": null,
      "min_width": null,
      "object_fit": null,
      "object_position": null,
      "order": null,
      "overflow": null,
      "overflow_x": null,
      "overflow_y": null,
      "padding": null,
      "right": null,
      "top": null,
      "visibility": null,
      "width": null
     }
    },
    "d4d60af4c8a3463ebc811dac204f27cd": {
     "model_module": "@jupyter-widgets/base",
     "model_name": "LayoutModel",
     "state": {
      "_model_module": "@jupyter-widgets/base",
      "_model_module_version": "1.2.0",
      "_model_name": "LayoutModel",
      "_view_count": null,
      "_view_module": "@jupyter-widgets/base",
      "_view_module_version": "1.2.0",
      "_view_name": "LayoutView",
      "align_content": null,
      "align_items": null,
      "align_self": null,
      "border": null,
      "bottom": null,
      "display": null,
      "flex": null,
      "flex_flow": null,
      "grid_area": null,
      "grid_auto_columns": null,
      "grid_auto_flow": null,
      "grid_auto_rows": null,
      "grid_column": null,
      "grid_gap": null,
      "grid_row": null,
      "grid_template_areas": null,
      "grid_template_columns": null,
      "grid_template_rows": null,
      "height": null,
      "justify_content": null,
      "justify_items": null,
      "left": null,
      "margin": null,
      "max_height": null,
      "max_width": null,
      "min_height": null,
      "min_width": null,
      "object_fit": null,
      "object_position": null,
      "order": null,
      "overflow": null,
      "overflow_x": null,
      "overflow_y": null,
      "padding": null,
      "right": null,
      "top": null,
      "visibility": null,
      "width": null
     }
    },
    "d4da992420da452bb46388c01993f57b": {
     "model_module": "@jupyter-widgets/controls",
     "model_name": "ProgressStyleModel",
     "state": {
      "_model_module": "@jupyter-widgets/controls",
      "_model_module_version": "1.5.0",
      "_model_name": "ProgressStyleModel",
      "_view_count": null,
      "_view_module": "@jupyter-widgets/base",
      "_view_module_version": "1.2.0",
      "_view_name": "StyleView",
      "bar_color": null,
      "description_width": "initial"
     }
    },
    "d5d7270e351241e58b1cbdd46b4f3187": {
     "model_module": "@jupyter-widgets/controls",
     "model_name": "DescriptionStyleModel",
     "state": {
      "_model_module": "@jupyter-widgets/controls",
      "_model_module_version": "1.5.0",
      "_model_name": "DescriptionStyleModel",
      "_view_count": null,
      "_view_module": "@jupyter-widgets/base",
      "_view_module_version": "1.2.0",
      "_view_name": "StyleView",
      "description_width": ""
     }
    },
    "e4dfefa5d6c14ad3a3945aa07cb094f1": {
     "model_module": "@jupyter-widgets/base",
     "model_name": "LayoutModel",
     "state": {
      "_model_module": "@jupyter-widgets/base",
      "_model_module_version": "1.2.0",
      "_model_name": "LayoutModel",
      "_view_count": null,
      "_view_module": "@jupyter-widgets/base",
      "_view_module_version": "1.2.0",
      "_view_name": "LayoutView",
      "align_content": null,
      "align_items": null,
      "align_self": null,
      "border": null,
      "bottom": null,
      "display": null,
      "flex": null,
      "flex_flow": null,
      "grid_area": null,
      "grid_auto_columns": null,
      "grid_auto_flow": null,
      "grid_auto_rows": null,
      "grid_column": null,
      "grid_gap": null,
      "grid_row": null,
      "grid_template_areas": null,
      "grid_template_columns": null,
      "grid_template_rows": null,
      "height": null,
      "justify_content": null,
      "justify_items": null,
      "left": null,
      "margin": null,
      "max_height": null,
      "max_width": null,
      "min_height": null,
      "min_width": null,
      "object_fit": null,
      "object_position": null,
      "order": null,
      "overflow": null,
      "overflow_x": null,
      "overflow_y": null,
      "padding": null,
      "right": null,
      "top": null,
      "visibility": null,
      "width": null
     }
    },
    "fc6cb75aacfb4ba394153ca304d3b723": {
     "model_module": "@jupyter-widgets/controls",
     "model_name": "HBoxModel",
     "state": {
      "_dom_classes": [],
      "_model_module": "@jupyter-widgets/controls",
      "_model_module_version": "1.5.0",
      "_model_name": "HBoxModel",
      "_view_count": null,
      "_view_module": "@jupyter-widgets/controls",
      "_view_module_version": "1.5.0",
      "_view_name": "HBoxView",
      "box_style": "",
      "children": [
       "IPY_MODEL_cb374406ccb14e0aa69373c88798fa84",
       "IPY_MODEL_b22ba5630d69473da47b26d4d05f719d"
      ],
      "layout": "IPY_MODEL_d00cddcad588498b91d40c3c9746521f"
     }
    }
   }
  }
 },
 "nbformat": 4,
 "nbformat_minor": 4
}
