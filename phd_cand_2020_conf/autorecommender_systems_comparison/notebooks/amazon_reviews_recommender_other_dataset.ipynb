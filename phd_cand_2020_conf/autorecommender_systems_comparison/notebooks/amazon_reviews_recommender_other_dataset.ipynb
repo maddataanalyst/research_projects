{
  "nbformat": 4,
  "nbformat_minor": 0,
  "metadata": {
    "colab": {
      "name": "amazon reviews recommender - other dataset.ipynb",
      "provenance": [],
      "collapsed_sections": [],
      "toc_visible": true
    },
    "kernelspec": {
      "name": "python3",
      "display_name": "Python 3"
    },
    "widgets": {
      "application/vnd.jupyter.widget-state+json": {
        "fc6cb75aacfb4ba394153ca304d3b723": {
          "model_module": "@jupyter-widgets/controls",
          "model_name": "HBoxModel",
          "state": {
            "_view_name": "HBoxView",
            "_dom_classes": [],
            "_model_name": "HBoxModel",
            "_view_module": "@jupyter-widgets/controls",
            "_model_module_version": "1.5.0",
            "_view_count": null,
            "_view_module_version": "1.5.0",
            "box_style": "",
            "layout": "IPY_MODEL_d00cddcad588498b91d40c3c9746521f",
            "_model_module": "@jupyter-widgets/controls",
            "children": [
              "IPY_MODEL_cb374406ccb14e0aa69373c88798fa84",
              "IPY_MODEL_b22ba5630d69473da47b26d4d05f719d"
            ]
          }
        },
        "d00cddcad588498b91d40c3c9746521f": {
          "model_module": "@jupyter-widgets/base",
          "model_name": "LayoutModel",
          "state": {
            "_view_name": "LayoutView",
            "grid_template_rows": null,
            "right": null,
            "justify_content": null,
            "_view_module": "@jupyter-widgets/base",
            "overflow": null,
            "_model_module_version": "1.2.0",
            "_view_count": null,
            "flex_flow": null,
            "width": null,
            "min_width": null,
            "border": null,
            "align_items": null,
            "bottom": null,
            "_model_module": "@jupyter-widgets/base",
            "top": null,
            "grid_column": null,
            "overflow_y": null,
            "overflow_x": null,
            "grid_auto_flow": null,
            "grid_area": null,
            "grid_template_columns": null,
            "flex": null,
            "_model_name": "LayoutModel",
            "justify_items": null,
            "grid_row": null,
            "max_height": null,
            "align_content": null,
            "visibility": null,
            "align_self": null,
            "height": null,
            "min_height": null,
            "padding": null,
            "grid_auto_rows": null,
            "grid_gap": null,
            "max_width": null,
            "order": null,
            "_view_module_version": "1.2.0",
            "grid_template_areas": null,
            "object_position": null,
            "object_fit": null,
            "grid_auto_columns": null,
            "margin": null,
            "display": null,
            "left": null
          }
        },
        "cb374406ccb14e0aa69373c88798fa84": {
          "model_module": "@jupyter-widgets/controls",
          "model_name": "FloatProgressModel",
          "state": {
            "_view_name": "ProgressView",
            "style": "IPY_MODEL_d4da992420da452bb46388c01993f57b",
            "_dom_classes": [],
            "description": "",
            "_model_name": "FloatProgressModel",
            "bar_style": "success",
            "max": 1,
            "_view_module": "@jupyter-widgets/controls",
            "_model_module_version": "1.5.0",
            "value": 1,
            "_view_count": null,
            "_view_module_version": "1.5.0",
            "orientation": "horizontal",
            "min": 0,
            "description_tooltip": null,
            "_model_module": "@jupyter-widgets/controls",
            "layout": "IPY_MODEL_8ed52b65b3eb4cd3b9a7dbef2de24555"
          }
        },
        "b22ba5630d69473da47b26d4d05f719d": {
          "model_module": "@jupyter-widgets/controls",
          "model_name": "HTMLModel",
          "state": {
            "_view_name": "HTMLView",
            "style": "IPY_MODEL_9c6fbb6279fc48368705eab86fe0bc9e",
            "_dom_classes": [],
            "description": "",
            "_model_name": "HTMLModel",
            "placeholder": "​",
            "_view_module": "@jupyter-widgets/controls",
            "_model_module_version": "1.5.0",
            "value": " 10/? [00:27&lt;00:00,  2.78s/it]",
            "_view_count": null,
            "_view_module_version": "1.5.0",
            "description_tooltip": null,
            "_model_module": "@jupyter-widgets/controls",
            "layout": "IPY_MODEL_68917a00b5bc4dbc842115a1b4e1479a"
          }
        },
        "d4da992420da452bb46388c01993f57b": {
          "model_module": "@jupyter-widgets/controls",
          "model_name": "ProgressStyleModel",
          "state": {
            "_view_name": "StyleView",
            "_model_name": "ProgressStyleModel",
            "description_width": "initial",
            "_view_module": "@jupyter-widgets/base",
            "_model_module_version": "1.5.0",
            "_view_count": null,
            "_view_module_version": "1.2.0",
            "bar_color": null,
            "_model_module": "@jupyter-widgets/controls"
          }
        },
        "8ed52b65b3eb4cd3b9a7dbef2de24555": {
          "model_module": "@jupyter-widgets/base",
          "model_name": "LayoutModel",
          "state": {
            "_view_name": "LayoutView",
            "grid_template_rows": null,
            "right": null,
            "justify_content": null,
            "_view_module": "@jupyter-widgets/base",
            "overflow": null,
            "_model_module_version": "1.2.0",
            "_view_count": null,
            "flex_flow": null,
            "width": null,
            "min_width": null,
            "border": null,
            "align_items": null,
            "bottom": null,
            "_model_module": "@jupyter-widgets/base",
            "top": null,
            "grid_column": null,
            "overflow_y": null,
            "overflow_x": null,
            "grid_auto_flow": null,
            "grid_area": null,
            "grid_template_columns": null,
            "flex": null,
            "_model_name": "LayoutModel",
            "justify_items": null,
            "grid_row": null,
            "max_height": null,
            "align_content": null,
            "visibility": null,
            "align_self": null,
            "height": null,
            "min_height": null,
            "padding": null,
            "grid_auto_rows": null,
            "grid_gap": null,
            "max_width": null,
            "order": null,
            "_view_module_version": "1.2.0",
            "grid_template_areas": null,
            "object_position": null,
            "object_fit": null,
            "grid_auto_columns": null,
            "margin": null,
            "display": null,
            "left": null
          }
        },
        "9c6fbb6279fc48368705eab86fe0bc9e": {
          "model_module": "@jupyter-widgets/controls",
          "model_name": "DescriptionStyleModel",
          "state": {
            "_view_name": "StyleView",
            "_model_name": "DescriptionStyleModel",
            "description_width": "",
            "_view_module": "@jupyter-widgets/base",
            "_model_module_version": "1.5.0",
            "_view_count": null,
            "_view_module_version": "1.2.0",
            "_model_module": "@jupyter-widgets/controls"
          }
        },
        "68917a00b5bc4dbc842115a1b4e1479a": {
          "model_module": "@jupyter-widgets/base",
          "model_name": "LayoutModel",
          "state": {
            "_view_name": "LayoutView",
            "grid_template_rows": null,
            "right": null,
            "justify_content": null,
            "_view_module": "@jupyter-widgets/base",
            "overflow": null,
            "_model_module_version": "1.2.0",
            "_view_count": null,
            "flex_flow": null,
            "width": null,
            "min_width": null,
            "border": null,
            "align_items": null,
            "bottom": null,
            "_model_module": "@jupyter-widgets/base",
            "top": null,
            "grid_column": null,
            "overflow_y": null,
            "overflow_x": null,
            "grid_auto_flow": null,
            "grid_area": null,
            "grid_template_columns": null,
            "flex": null,
            "_model_name": "LayoutModel",
            "justify_items": null,
            "grid_row": null,
            "max_height": null,
            "align_content": null,
            "visibility": null,
            "align_self": null,
            "height": null,
            "min_height": null,
            "padding": null,
            "grid_auto_rows": null,
            "grid_gap": null,
            "max_width": null,
            "order": null,
            "_view_module_version": "1.2.0",
            "grid_template_areas": null,
            "object_position": null,
            "object_fit": null,
            "grid_auto_columns": null,
            "margin": null,
            "display": null,
            "left": null
          }
        },
        "864f06b086aa4c1ba9df9676ef02f6f0": {
          "model_module": "@jupyter-widgets/controls",
          "model_name": "HBoxModel",
          "state": {
            "_view_name": "HBoxView",
            "_dom_classes": [],
            "_model_name": "HBoxModel",
            "_view_module": "@jupyter-widgets/controls",
            "_model_module_version": "1.5.0",
            "_view_count": null,
            "_view_module_version": "1.5.0",
            "box_style": "",
            "layout": "IPY_MODEL_787c4be717e444e49c408289877b65c5",
            "_model_module": "@jupyter-widgets/controls",
            "children": [
              "IPY_MODEL_acf982b4a3484d86a9df52fa7f49f5ea",
              "IPY_MODEL_9385988aaf2b450d9d4755f2fa6f4ff8"
            ]
          }
        },
        "787c4be717e444e49c408289877b65c5": {
          "model_module": "@jupyter-widgets/base",
          "model_name": "LayoutModel",
          "state": {
            "_view_name": "LayoutView",
            "grid_template_rows": null,
            "right": null,
            "justify_content": null,
            "_view_module": "@jupyter-widgets/base",
            "overflow": null,
            "_model_module_version": "1.2.0",
            "_view_count": null,
            "flex_flow": null,
            "width": null,
            "min_width": null,
            "border": null,
            "align_items": null,
            "bottom": null,
            "_model_module": "@jupyter-widgets/base",
            "top": null,
            "grid_column": null,
            "overflow_y": null,
            "overflow_x": null,
            "grid_auto_flow": null,
            "grid_area": null,
            "grid_template_columns": null,
            "flex": null,
            "_model_name": "LayoutModel",
            "justify_items": null,
            "grid_row": null,
            "max_height": null,
            "align_content": null,
            "visibility": null,
            "align_self": null,
            "height": null,
            "min_height": null,
            "padding": null,
            "grid_auto_rows": null,
            "grid_gap": null,
            "max_width": null,
            "order": null,
            "_view_module_version": "1.2.0",
            "grid_template_areas": null,
            "object_position": null,
            "object_fit": null,
            "grid_auto_columns": null,
            "margin": null,
            "display": null,
            "left": null
          }
        },
        "acf982b4a3484d86a9df52fa7f49f5ea": {
          "model_module": "@jupyter-widgets/controls",
          "model_name": "FloatProgressModel",
          "state": {
            "_view_name": "ProgressView",
            "style": "IPY_MODEL_75b1b831121a4e689615b80a319928ad",
            "_dom_classes": [],
            "description": "",
            "_model_name": "FloatProgressModel",
            "bar_style": "success",
            "max": 1,
            "_view_module": "@jupyter-widgets/controls",
            "_model_module_version": "1.5.0",
            "value": 1,
            "_view_count": null,
            "_view_module_version": "1.5.0",
            "orientation": "horizontal",
            "min": 0,
            "description_tooltip": null,
            "_model_module": "@jupyter-widgets/controls",
            "layout": "IPY_MODEL_7acf0477101845b1b423c05047fd796b"
          }
        },
        "9385988aaf2b450d9d4755f2fa6f4ff8": {
          "model_module": "@jupyter-widgets/controls",
          "model_name": "HTMLModel",
          "state": {
            "_view_name": "HTMLView",
            "style": "IPY_MODEL_0bbf224ee54d461e950d49ccb6b94da3",
            "_dom_classes": [],
            "description": "",
            "_model_name": "HTMLModel",
            "placeholder": "​",
            "_view_module": "@jupyter-widgets/controls",
            "_model_module_version": "1.5.0",
            "value": " 10/? [00:32&lt;00:00,  3.23s/it]",
            "_view_count": null,
            "_view_module_version": "1.5.0",
            "description_tooltip": null,
            "_model_module": "@jupyter-widgets/controls",
            "layout": "IPY_MODEL_d4d60af4c8a3463ebc811dac204f27cd"
          }
        },
        "75b1b831121a4e689615b80a319928ad": {
          "model_module": "@jupyter-widgets/controls",
          "model_name": "ProgressStyleModel",
          "state": {
            "_view_name": "StyleView",
            "_model_name": "ProgressStyleModel",
            "description_width": "initial",
            "_view_module": "@jupyter-widgets/base",
            "_model_module_version": "1.5.0",
            "_view_count": null,
            "_view_module_version": "1.2.0",
            "bar_color": null,
            "_model_module": "@jupyter-widgets/controls"
          }
        },
        "7acf0477101845b1b423c05047fd796b": {
          "model_module": "@jupyter-widgets/base",
          "model_name": "LayoutModel",
          "state": {
            "_view_name": "LayoutView",
            "grid_template_rows": null,
            "right": null,
            "justify_content": null,
            "_view_module": "@jupyter-widgets/base",
            "overflow": null,
            "_model_module_version": "1.2.0",
            "_view_count": null,
            "flex_flow": null,
            "width": null,
            "min_width": null,
            "border": null,
            "align_items": null,
            "bottom": null,
            "_model_module": "@jupyter-widgets/base",
            "top": null,
            "grid_column": null,
            "overflow_y": null,
            "overflow_x": null,
            "grid_auto_flow": null,
            "grid_area": null,
            "grid_template_columns": null,
            "flex": null,
            "_model_name": "LayoutModel",
            "justify_items": null,
            "grid_row": null,
            "max_height": null,
            "align_content": null,
            "visibility": null,
            "align_self": null,
            "height": null,
            "min_height": null,
            "padding": null,
            "grid_auto_rows": null,
            "grid_gap": null,
            "max_width": null,
            "order": null,
            "_view_module_version": "1.2.0",
            "grid_template_areas": null,
            "object_position": null,
            "object_fit": null,
            "grid_auto_columns": null,
            "margin": null,
            "display": null,
            "left": null
          }
        },
        "0bbf224ee54d461e950d49ccb6b94da3": {
          "model_module": "@jupyter-widgets/controls",
          "model_name": "DescriptionStyleModel",
          "state": {
            "_view_name": "StyleView",
            "_model_name": "DescriptionStyleModel",
            "description_width": "",
            "_view_module": "@jupyter-widgets/base",
            "_model_module_version": "1.5.0",
            "_view_count": null,
            "_view_module_version": "1.2.0",
            "_model_module": "@jupyter-widgets/controls"
          }
        },
        "d4d60af4c8a3463ebc811dac204f27cd": {
          "model_module": "@jupyter-widgets/base",
          "model_name": "LayoutModel",
          "state": {
            "_view_name": "LayoutView",
            "grid_template_rows": null,
            "right": null,
            "justify_content": null,
            "_view_module": "@jupyter-widgets/base",
            "overflow": null,
            "_model_module_version": "1.2.0",
            "_view_count": null,
            "flex_flow": null,
            "width": null,
            "min_width": null,
            "border": null,
            "align_items": null,
            "bottom": null,
            "_model_module": "@jupyter-widgets/base",
            "top": null,
            "grid_column": null,
            "overflow_y": null,
            "overflow_x": null,
            "grid_auto_flow": null,
            "grid_area": null,
            "grid_template_columns": null,
            "flex": null,
            "_model_name": "LayoutModel",
            "justify_items": null,
            "grid_row": null,
            "max_height": null,
            "align_content": null,
            "visibility": null,
            "align_self": null,
            "height": null,
            "min_height": null,
            "padding": null,
            "grid_auto_rows": null,
            "grid_gap": null,
            "max_width": null,
            "order": null,
            "_view_module_version": "1.2.0",
            "grid_template_areas": null,
            "object_position": null,
            "object_fit": null,
            "grid_auto_columns": null,
            "margin": null,
            "display": null,
            "left": null
          }
        },
        "5750d51fd3804f5cb32d8231e7eae159": {
          "model_module": "@jupyter-widgets/controls",
          "model_name": "HBoxModel",
          "state": {
            "_view_name": "HBoxView",
            "_dom_classes": [],
            "_model_name": "HBoxModel",
            "_view_module": "@jupyter-widgets/controls",
            "_model_module_version": "1.5.0",
            "_view_count": null,
            "_view_module_version": "1.5.0",
            "box_style": "",
            "layout": "IPY_MODEL_1627b8b706464edaa7c7c58919c40a88",
            "_model_module": "@jupyter-widgets/controls",
            "children": [
              "IPY_MODEL_101e8fe1b4a3420790e3dd8c86d1ae80",
              "IPY_MODEL_b8d73a8eff7143d59cdcf43ba5f69991"
            ]
          }
        },
        "1627b8b706464edaa7c7c58919c40a88": {
          "model_module": "@jupyter-widgets/base",
          "model_name": "LayoutModel",
          "state": {
            "_view_name": "LayoutView",
            "grid_template_rows": null,
            "right": null,
            "justify_content": null,
            "_view_module": "@jupyter-widgets/base",
            "overflow": null,
            "_model_module_version": "1.2.0",
            "_view_count": null,
            "flex_flow": null,
            "width": null,
            "min_width": null,
            "border": null,
            "align_items": null,
            "bottom": null,
            "_model_module": "@jupyter-widgets/base",
            "top": null,
            "grid_column": null,
            "overflow_y": null,
            "overflow_x": null,
            "grid_auto_flow": null,
            "grid_area": null,
            "grid_template_columns": null,
            "flex": null,
            "_model_name": "LayoutModel",
            "justify_items": null,
            "grid_row": null,
            "max_height": null,
            "align_content": null,
            "visibility": null,
            "align_self": null,
            "height": null,
            "min_height": null,
            "padding": null,
            "grid_auto_rows": null,
            "grid_gap": null,
            "max_width": null,
            "order": null,
            "_view_module_version": "1.2.0",
            "grid_template_areas": null,
            "object_position": null,
            "object_fit": null,
            "grid_auto_columns": null,
            "margin": null,
            "display": null,
            "left": null
          }
        },
        "101e8fe1b4a3420790e3dd8c86d1ae80": {
          "model_module": "@jupyter-widgets/controls",
          "model_name": "FloatProgressModel",
          "state": {
            "_view_name": "ProgressView",
            "style": "IPY_MODEL_2ec05b1dc54045679c6a3e3c969eb50a",
            "_dom_classes": [],
            "description": "",
            "_model_name": "FloatProgressModel",
            "bar_style": "success",
            "max": 1,
            "_view_module": "@jupyter-widgets/controls",
            "_model_module_version": "1.5.0",
            "value": 1,
            "_view_count": null,
            "_view_module_version": "1.5.0",
            "orientation": "horizontal",
            "min": 0,
            "description_tooltip": null,
            "_model_module": "@jupyter-widgets/controls",
            "layout": "IPY_MODEL_e4dfefa5d6c14ad3a3945aa07cb094f1"
          }
        },
        "b8d73a8eff7143d59cdcf43ba5f69991": {
          "model_module": "@jupyter-widgets/controls",
          "model_name": "HTMLModel",
          "state": {
            "_view_name": "HTMLView",
            "style": "IPY_MODEL_d5d7270e351241e58b1cbdd46b4f3187",
            "_dom_classes": [],
            "description": "",
            "_model_name": "HTMLModel",
            "placeholder": "​",
            "_view_module": "@jupyter-widgets/controls",
            "_model_module_version": "1.5.0",
            "value": " 10/? [00:37&lt;00:00,  3.76s/it]",
            "_view_count": null,
            "_view_module_version": "1.5.0",
            "description_tooltip": null,
            "_model_module": "@jupyter-widgets/controls",
            "layout": "IPY_MODEL_2bbcada326bd4695afd1f79454400a3e"
          }
        },
        "2ec05b1dc54045679c6a3e3c969eb50a": {
          "model_module": "@jupyter-widgets/controls",
          "model_name": "ProgressStyleModel",
          "state": {
            "_view_name": "StyleView",
            "_model_name": "ProgressStyleModel",
            "description_width": "initial",
            "_view_module": "@jupyter-widgets/base",
            "_model_module_version": "1.5.0",
            "_view_count": null,
            "_view_module_version": "1.2.0",
            "bar_color": null,
            "_model_module": "@jupyter-widgets/controls"
          }
        },
        "e4dfefa5d6c14ad3a3945aa07cb094f1": {
          "model_module": "@jupyter-widgets/base",
          "model_name": "LayoutModel",
          "state": {
            "_view_name": "LayoutView",
            "grid_template_rows": null,
            "right": null,
            "justify_content": null,
            "_view_module": "@jupyter-widgets/base",
            "overflow": null,
            "_model_module_version": "1.2.0",
            "_view_count": null,
            "flex_flow": null,
            "width": null,
            "min_width": null,
            "border": null,
            "align_items": null,
            "bottom": null,
            "_model_module": "@jupyter-widgets/base",
            "top": null,
            "grid_column": null,
            "overflow_y": null,
            "overflow_x": null,
            "grid_auto_flow": null,
            "grid_area": null,
            "grid_template_columns": null,
            "flex": null,
            "_model_name": "LayoutModel",
            "justify_items": null,
            "grid_row": null,
            "max_height": null,
            "align_content": null,
            "visibility": null,
            "align_self": null,
            "height": null,
            "min_height": null,
            "padding": null,
            "grid_auto_rows": null,
            "grid_gap": null,
            "max_width": null,
            "order": null,
            "_view_module_version": "1.2.0",
            "grid_template_areas": null,
            "object_position": null,
            "object_fit": null,
            "grid_auto_columns": null,
            "margin": null,
            "display": null,
            "left": null
          }
        },
        "d5d7270e351241e58b1cbdd46b4f3187": {
          "model_module": "@jupyter-widgets/controls",
          "model_name": "DescriptionStyleModel",
          "state": {
            "_view_name": "StyleView",
            "_model_name": "DescriptionStyleModel",
            "description_width": "",
            "_view_module": "@jupyter-widgets/base",
            "_model_module_version": "1.5.0",
            "_view_count": null,
            "_view_module_version": "1.2.0",
            "_model_module": "@jupyter-widgets/controls"
          }
        },
        "2bbcada326bd4695afd1f79454400a3e": {
          "model_module": "@jupyter-widgets/base",
          "model_name": "LayoutModel",
          "state": {
            "_view_name": "LayoutView",
            "grid_template_rows": null,
            "right": null,
            "justify_content": null,
            "_view_module": "@jupyter-widgets/base",
            "overflow": null,
            "_model_module_version": "1.2.0",
            "_view_count": null,
            "flex_flow": null,
            "width": null,
            "min_width": null,
            "border": null,
            "align_items": null,
            "bottom": null,
            "_model_module": "@jupyter-widgets/base",
            "top": null,
            "grid_column": null,
            "overflow_y": null,
            "overflow_x": null,
            "grid_auto_flow": null,
            "grid_area": null,
            "grid_template_columns": null,
            "flex": null,
            "_model_name": "LayoutModel",
            "justify_items": null,
            "grid_row": null,
            "max_height": null,
            "align_content": null,
            "visibility": null,
            "align_self": null,
            "height": null,
            "min_height": null,
            "padding": null,
            "grid_auto_rows": null,
            "grid_gap": null,
            "max_width": null,
            "order": null,
            "_view_module_version": "1.2.0",
            "grid_template_areas": null,
            "object_position": null,
            "object_fit": null,
            "grid_auto_columns": null,
            "margin": null,
            "display": null,
            "left": null
          }
        }
      }
    }
  },
  "cells": [
    {
      "cell_type": "markdown",
      "metadata": {
        "id": "rTxLNl1ubikF",
        "colab_type": "text"
      },
      "source": [
        "# Intro\n",
        "\n",
        "This notebook is an experimentation code for \"Case study: a comparision of different consumer recommendation engines based on deep neural networks\".\n",
        "\n",
        "Paper is using [Amazon Reviews 2018 dataset](https://nijianmo.github.io/amazon/index.html)\n",
        "\n",
        "Insiration notebook [can be found here](https://github.com/iritfh1/Next-item-recommendation-using-keras/blob/master/DeepRecommendation_LAST3.ipynb)\n"
      ]
    },
    {
      "cell_type": "code",
      "metadata": {
        "id": "bRl_UJ4idH8I",
        "colab_type": "code",
        "colab": {}
      },
      "source": [
        "import pandas as pd\n",
        "import os\n",
        "import json\n",
        "import gzip\n",
        "import numpy as np\n",
        "import tensorflow as tf\n",
        "import tensorflow.keras as kk\n",
        "import scipy.stats as st\n",
        "import gc \n",
        "import seaborn as sns\n",
        "\n",
        "from collections import defaultdict\n",
        "from sklearn.preprocessing import LabelEncoder\n",
        "from sklearn.model_selection import train_test_split\n",
        "from sklearn.metrics import mean_absolute_error, mean_squared_error\n",
        "from sklearn.model_selection import KFold\n",
        "from tqdm.auto import tqdm"
      ],
      "execution_count": 35,
      "outputs": []
    },
    {
      "cell_type": "code",
      "metadata": {
        "id": "HhJ9FF0OEe_3",
        "colab_type": "code",
        "colab": {}
      },
      "source": [
        "sns.set_style(\"whitegrid\")"
      ],
      "execution_count": 36,
      "outputs": []
    },
    {
      "cell_type": "code",
      "metadata": {
        "id": "6cG2vY8_l_QN",
        "colab_type": "code",
        "colab": {
          "base_uri": "https://localhost:8080/",
          "height": 275
        },
        "outputId": "9716cc99-37ce-4536-940b-1bace713e5ce"
      },
      "source": [
        "!pip install scikit-posthocs"
      ],
      "execution_count": 37,
      "outputs": [
        {
          "output_type": "stream",
          "text": [
            "Requirement already satisfied: scikit-posthocs in /usr/local/lib/python3.6/dist-packages (0.6.4)\n",
            "Requirement already satisfied: seaborn in /usr/local/lib/python3.6/dist-packages (from scikit-posthocs) (0.10.1)\n",
            "Requirement already satisfied: matplotlib in /usr/local/lib/python3.6/dist-packages (from scikit-posthocs) (3.2.2)\n",
            "Requirement already satisfied: scipy in /usr/local/lib/python3.6/dist-packages (from scikit-posthocs) (1.4.1)\n",
            "Requirement already satisfied: pandas>=0.20.0 in /usr/local/lib/python3.6/dist-packages (from scikit-posthocs) (1.0.5)\n",
            "Requirement already satisfied: statsmodels in /usr/local/lib/python3.6/dist-packages (from scikit-posthocs) (0.10.2)\n",
            "Requirement already satisfied: numpy in /usr/local/lib/python3.6/dist-packages (from scikit-posthocs) (1.18.5)\n",
            "Requirement already satisfied: kiwisolver>=1.0.1 in /usr/local/lib/python3.6/dist-packages (from matplotlib->scikit-posthocs) (1.2.0)\n",
            "Requirement already satisfied: cycler>=0.10 in /usr/local/lib/python3.6/dist-packages (from matplotlib->scikit-posthocs) (0.10.0)\n",
            "Requirement already satisfied: pyparsing!=2.0.4,!=2.1.2,!=2.1.6,>=2.0.1 in /usr/local/lib/python3.6/dist-packages (from matplotlib->scikit-posthocs) (2.4.7)\n",
            "Requirement already satisfied: python-dateutil>=2.1 in /usr/local/lib/python3.6/dist-packages (from matplotlib->scikit-posthocs) (2.8.1)\n",
            "Requirement already satisfied: pytz>=2017.2 in /usr/local/lib/python3.6/dist-packages (from pandas>=0.20.0->scikit-posthocs) (2018.9)\n",
            "Requirement already satisfied: patsy>=0.4.0 in /usr/local/lib/python3.6/dist-packages (from statsmodels->scikit-posthocs) (0.5.1)\n",
            "Requirement already satisfied: six in /usr/local/lib/python3.6/dist-packages (from cycler>=0.10->matplotlib->scikit-posthocs) (1.12.0)\n"
          ],
          "name": "stdout"
        }
      ]
    },
    {
      "cell_type": "code",
      "metadata": {
        "id": "3IOgp5pemAJE",
        "colab_type": "code",
        "colab": {}
      },
      "source": [
        "import scikit_posthocs as sp"
      ],
      "execution_count": 38,
      "outputs": []
    },
    {
      "cell_type": "markdown",
      "metadata": {
        "id": "VLMmM1judriI",
        "colab_type": "text"
      },
      "source": [
        "# Loading data"
      ]
    },
    {
      "cell_type": "markdown",
      "metadata": {
        "id": "ltIXOW6rSvOF",
        "colab_type": "text"
      },
      "source": [
        "## 'All beauty' data"
      ]
    },
    {
      "cell_type": "code",
      "metadata": {
        "id": "h-lARiDGd5tS",
        "colab_type": "code",
        "colab": {
          "base_uri": "https://localhost:8080/",
          "height": 204
        },
        "outputId": "35e3c967-e6e4-4357-9217-d25e2c7ef1b5"
      },
      "source": [
        "!wget http://deepyeti.ucsd.edu/jianmo/amazon/categoryFilesSmall/All_Beauty_5.json.gz"
      ],
      "execution_count": 39,
      "outputs": [
        {
          "output_type": "stream",
          "text": [
            "--2020-07-15 13:38:26--  http://deepyeti.ucsd.edu/jianmo/amazon/categoryFilesSmall/All_Beauty_5.json.gz\n",
            "Resolving deepyeti.ucsd.edu (deepyeti.ucsd.edu)... 169.228.63.50\n",
            "Connecting to deepyeti.ucsd.edu (deepyeti.ucsd.edu)|169.228.63.50|:80... connected.\n",
            "HTTP request sent, awaiting response... 200 OK\n",
            "Length: 633507 (619K) [application/octet-stream]\n",
            "Saving to: ‘All_Beauty_5.json.gz.1’\n",
            "\n",
            "All_Beauty_5.json.g 100%[===================>] 618.66K   947KB/s    in 0.7s    \n",
            "\n",
            "2020-07-15 13:38:27 (947 KB/s) - ‘All_Beauty_5.json.gz.1’ saved [633507/633507]\n",
            "\n"
          ],
          "name": "stdout"
        }
      ]
    },
    {
      "cell_type": "code",
      "metadata": {
        "id": "cpI_MSrAe3Au",
        "colab_type": "code",
        "colab": {}
      },
      "source": [
        "data_f = \"All_Beauty_5.json.gz\""
      ],
      "execution_count": 40,
      "outputs": []
    },
    {
      "cell_type": "code",
      "metadata": {
        "id": "MjlbIGohdudE",
        "colab_type": "code",
        "colab": {
          "base_uri": "https://localhost:8080/",
          "height": 71
        },
        "outputId": "dd17f6f9-638b-4bc1-d029-30ab9be516e5"
      },
      "source": [
        "data = []\n",
        "with gzip.open(data_f) as f:\n",
        "    for l in f:\n",
        "        data.append(json.loads(l.strip()))\n",
        "    \n",
        "# total length of list, this number equals total number of products\n",
        "print(len(data))\n",
        "\n",
        "# first row of the list\n",
        "print(data[0])"
      ],
      "execution_count": 41,
      "outputs": [
        {
          "output_type": "stream",
          "text": [
            "5269\n",
            "{'overall': 5.0, 'verified': True, 'reviewTime': '09 1, 2016', 'reviewerID': 'A3CIUOJXQ5VDQ2', 'asin': 'B0000530HU', 'style': {'Size:': ' 7.0 oz', 'Flavor:': ' Classic Ice Blue'}, 'reviewerName': 'Shelly F', 'reviewText': 'As advertised. Reasonably priced', 'summary': 'Five Stars', 'unixReviewTime': 1472688000}\n"
          ],
          "name": "stdout"
        }
      ]
    },
    {
      "cell_type": "code",
      "metadata": {
        "id": "lkBtq5Jbe7rs",
        "colab_type": "code",
        "colab": {
          "base_uri": "https://localhost:8080/",
          "height": 530
        },
        "outputId": "dd889891-9cdd-4d32-fc55-6c8836b888bc"
      },
      "source": [
        "df = pd.DataFrame.from_dict(data)\n",
        "\n",
        "df.head(5)"
      ],
      "execution_count": 42,
      "outputs": [
        {
          "output_type": "execute_result",
          "data": {
            "text/html": [
              "<div>\n",
              "<style scoped>\n",
              "    .dataframe tbody tr th:only-of-type {\n",
              "        vertical-align: middle;\n",
              "    }\n",
              "\n",
              "    .dataframe tbody tr th {\n",
              "        vertical-align: top;\n",
              "    }\n",
              "\n",
              "    .dataframe thead th {\n",
              "        text-align: right;\n",
              "    }\n",
              "</style>\n",
              "<table border=\"1\" class=\"dataframe\">\n",
              "  <thead>\n",
              "    <tr style=\"text-align: right;\">\n",
              "      <th></th>\n",
              "      <th>overall</th>\n",
              "      <th>verified</th>\n",
              "      <th>reviewTime</th>\n",
              "      <th>reviewerID</th>\n",
              "      <th>asin</th>\n",
              "      <th>style</th>\n",
              "      <th>reviewerName</th>\n",
              "      <th>reviewText</th>\n",
              "      <th>summary</th>\n",
              "      <th>unixReviewTime</th>\n",
              "      <th>vote</th>\n",
              "      <th>image</th>\n",
              "    </tr>\n",
              "  </thead>\n",
              "  <tbody>\n",
              "    <tr>\n",
              "      <th>0</th>\n",
              "      <td>5.0</td>\n",
              "      <td>True</td>\n",
              "      <td>09 1, 2016</td>\n",
              "      <td>A3CIUOJXQ5VDQ2</td>\n",
              "      <td>B0000530HU</td>\n",
              "      <td>{'Size:': ' 7.0 oz', 'Flavor:': ' Classic Ice ...</td>\n",
              "      <td>Shelly F</td>\n",
              "      <td>As advertised. Reasonably priced</td>\n",
              "      <td>Five Stars</td>\n",
              "      <td>1472688000</td>\n",
              "      <td>NaN</td>\n",
              "      <td>NaN</td>\n",
              "    </tr>\n",
              "    <tr>\n",
              "      <th>1</th>\n",
              "      <td>5.0</td>\n",
              "      <td>True</td>\n",
              "      <td>11 14, 2013</td>\n",
              "      <td>A3H7T87S984REU</td>\n",
              "      <td>B0000530HU</td>\n",
              "      <td>{'Size:': ' 7.0 oz', 'Flavor:': ' Classic Ice ...</td>\n",
              "      <td>houserules18</td>\n",
              "      <td>Like the oder and the feel when I put it on my...</td>\n",
              "      <td>Good for the face</td>\n",
              "      <td>1384387200</td>\n",
              "      <td>NaN</td>\n",
              "      <td>NaN</td>\n",
              "    </tr>\n",
              "    <tr>\n",
              "      <th>2</th>\n",
              "      <td>1.0</td>\n",
              "      <td>True</td>\n",
              "      <td>08 18, 2013</td>\n",
              "      <td>A3J034YH7UG4KT</td>\n",
              "      <td>B0000530HU</td>\n",
              "      <td>{'Size:': ' 7.0 oz', 'Flavor:': ' Classic Ice ...</td>\n",
              "      <td>Adam</td>\n",
              "      <td>I bought this to smell nice after I shave.  Wh...</td>\n",
              "      <td>Smells awful</td>\n",
              "      <td>1376784000</td>\n",
              "      <td>NaN</td>\n",
              "      <td>NaN</td>\n",
              "    </tr>\n",
              "    <tr>\n",
              "      <th>3</th>\n",
              "      <td>5.0</td>\n",
              "      <td>False</td>\n",
              "      <td>05 3, 2011</td>\n",
              "      <td>A2UEO5XR3598GI</td>\n",
              "      <td>B0000530HU</td>\n",
              "      <td>{'Size:': ' 7.0 oz', 'Flavor:': ' Classic Ice ...</td>\n",
              "      <td>Rich K</td>\n",
              "      <td>HEY!! I am an Aqua Velva Man and absolutely lo...</td>\n",
              "      <td>Truth is There IS Nothing Like an AQUA VELVA MAN.</td>\n",
              "      <td>1304380800</td>\n",
              "      <td>25</td>\n",
              "      <td>NaN</td>\n",
              "    </tr>\n",
              "    <tr>\n",
              "      <th>4</th>\n",
              "      <td>5.0</td>\n",
              "      <td>True</td>\n",
              "      <td>05 6, 2011</td>\n",
              "      <td>A3SFRT223XXWF7</td>\n",
              "      <td>B00006L9LC</td>\n",
              "      <td>{'Size:': ' 200ml/6.7oz'}</td>\n",
              "      <td>C. C. Christian</td>\n",
              "      <td>If you ever want to feel pampered by a shampoo...</td>\n",
              "      <td>Bvlgari Shampoo</td>\n",
              "      <td>1304640000</td>\n",
              "      <td>3</td>\n",
              "      <td>NaN</td>\n",
              "    </tr>\n",
              "  </tbody>\n",
              "</table>\n",
              "</div>"
            ],
            "text/plain": [
              "   overall  verified   reviewTime  ... unixReviewTime vote image\n",
              "0      5.0      True   09 1, 2016  ...     1472688000  NaN   NaN\n",
              "1      5.0      True  11 14, 2013  ...     1384387200  NaN   NaN\n",
              "2      1.0      True  08 18, 2013  ...     1376784000  NaN   NaN\n",
              "3      5.0     False   05 3, 2011  ...     1304380800   25   NaN\n",
              "4      5.0      True   05 6, 2011  ...     1304640000    3   NaN\n",
              "\n",
              "[5 rows x 12 columns]"
            ]
          },
          "metadata": {
            "tags": []
          },
          "execution_count": 42
        }
      ]
    },
    {
      "cell_type": "code",
      "metadata": {
        "id": "K8nVEy-ifCJr",
        "colab_type": "code",
        "colab": {
          "base_uri": "https://localhost:8080/",
          "height": 35
        },
        "outputId": "5add57cc-2679-4859-805e-7854410511fc"
      },
      "source": [
        "df.iloc[0].style[\"Size:\"]"
      ],
      "execution_count": 43,
      "outputs": [
        {
          "output_type": "execute_result",
          "data": {
            "application/vnd.google.colaboratory.intrinsic": {
              "type": "string"
            },
            "text/plain": [
              "' 7.0 oz'"
            ]
          },
          "metadata": {
            "tags": []
          },
          "execution_count": 43
        }
      ]
    },
    {
      "cell_type": "markdown",
      "metadata": {
        "id": "kShbJG7bS0Za",
        "colab_type": "text"
      },
      "source": [
        "## Fashion data"
      ]
    },
    {
      "cell_type": "code",
      "metadata": {
        "id": "iouV28OiS3bq",
        "colab_type": "code",
        "colab": {
          "base_uri": "https://localhost:8080/",
          "height": 204
        },
        "outputId": "3225dd22-7c16-4e2b-c113-7a83d282069e"
      },
      "source": [
        "!wget http://deepyeti.ucsd.edu/jianmo/amazon/categoryFilesSmall/AMAZON_FASHION_5.json.gz"
      ],
      "execution_count": 44,
      "outputs": [
        {
          "output_type": "stream",
          "text": [
            "--2020-07-15 13:38:29--  http://deepyeti.ucsd.edu/jianmo/amazon/categoryFilesSmall/AMAZON_FASHION_5.json.gz\n",
            "Resolving deepyeti.ucsd.edu (deepyeti.ucsd.edu)... 169.228.63.50\n",
            "Connecting to deepyeti.ucsd.edu (deepyeti.ucsd.edu)|169.228.63.50|:80... connected.\n",
            "HTTP request sent, awaiting response... 200 OK\n",
            "Length: 287013 (280K) [application/octet-stream]\n",
            "Saving to: ‘AMAZON_FASHION_5.json.gz.1’\n",
            "\n",
            "AMAZON_FASHION_5.js 100%[===================>] 280.29K   539KB/s    in 0.5s    \n",
            "\n",
            "2020-07-15 13:38:30 (539 KB/s) - ‘AMAZON_FASHION_5.json.gz.1’ saved [287013/287013]\n",
            "\n"
          ],
          "name": "stdout"
        }
      ]
    },
    {
      "cell_type": "code",
      "metadata": {
        "id": "yfoLto22S567",
        "colab_type": "code",
        "colab": {
          "base_uri": "https://localhost:8080/",
          "height": 71
        },
        "outputId": "b3a6ae95-3452-4aa0-fdb6-702eff7c3f12"
      },
      "source": [
        "data_2_f = 'AMAZON_FASHION_5.json.gz'\n",
        "data2 = []\n",
        "with gzip.open(data_2_f) as f:\n",
        "    for l in f:\n",
        "        data2.append(json.loads(l.strip()))\n",
        "    \n",
        "# total length of list, this number equals total number of products\n",
        "print(len(data2))\n",
        "\n",
        "# first row of the list\n",
        "print(data2[0])"
      ],
      "execution_count": 45,
      "outputs": [
        {
          "output_type": "stream",
          "text": [
            "3176\n",
            "{'overall': 5.0, 'verified': True, 'reviewTime': '09 4, 2015', 'reviewerID': 'ALJ66O1Y6SLHA', 'asin': 'B000K2PJ4K', 'style': {'Size:': ' Big Boys', 'Color:': ' Blue/Orange'}, 'reviewerName': 'Tonya B.', 'reviewText': 'Great product and price!', 'summary': 'Five Stars', 'unixReviewTime': 1441324800}\n"
          ],
          "name": "stdout"
        }
      ]
    },
    {
      "cell_type": "code",
      "metadata": {
        "id": "LZK85ykpTDAc",
        "colab_type": "code",
        "colab": {
          "base_uri": "https://localhost:8080/",
          "height": 479
        },
        "outputId": "2fec255a-998b-49d7-f1c9-a79886baf86f"
      },
      "source": [
        "df2 = pd.DataFrame.from_dict(data2)\n",
        "\n",
        "df2.head(5)"
      ],
      "execution_count": 46,
      "outputs": [
        {
          "output_type": "execute_result",
          "data": {
            "text/html": [
              "<div>\n",
              "<style scoped>\n",
              "    .dataframe tbody tr th:only-of-type {\n",
              "        vertical-align: middle;\n",
              "    }\n",
              "\n",
              "    .dataframe tbody tr th {\n",
              "        vertical-align: top;\n",
              "    }\n",
              "\n",
              "    .dataframe thead th {\n",
              "        text-align: right;\n",
              "    }\n",
              "</style>\n",
              "<table border=\"1\" class=\"dataframe\">\n",
              "  <thead>\n",
              "    <tr style=\"text-align: right;\">\n",
              "      <th></th>\n",
              "      <th>overall</th>\n",
              "      <th>verified</th>\n",
              "      <th>reviewTime</th>\n",
              "      <th>reviewerID</th>\n",
              "      <th>asin</th>\n",
              "      <th>style</th>\n",
              "      <th>reviewerName</th>\n",
              "      <th>reviewText</th>\n",
              "      <th>summary</th>\n",
              "      <th>unixReviewTime</th>\n",
              "      <th>vote</th>\n",
              "      <th>image</th>\n",
              "    </tr>\n",
              "  </thead>\n",
              "  <tbody>\n",
              "    <tr>\n",
              "      <th>0</th>\n",
              "      <td>5.0</td>\n",
              "      <td>True</td>\n",
              "      <td>09 4, 2015</td>\n",
              "      <td>ALJ66O1Y6SLHA</td>\n",
              "      <td>B000K2PJ4K</td>\n",
              "      <td>{'Size:': ' Big Boys', 'Color:': ' Blue/Orange'}</td>\n",
              "      <td>Tonya B.</td>\n",
              "      <td>Great product and price!</td>\n",
              "      <td>Five Stars</td>\n",
              "      <td>1441324800</td>\n",
              "      <td>NaN</td>\n",
              "      <td>NaN</td>\n",
              "    </tr>\n",
              "    <tr>\n",
              "      <th>1</th>\n",
              "      <td>5.0</td>\n",
              "      <td>True</td>\n",
              "      <td>09 4, 2015</td>\n",
              "      <td>ALJ66O1Y6SLHA</td>\n",
              "      <td>B000K2PJ4K</td>\n",
              "      <td>{'Size:': ' Big Boys', 'Color:': ' Black (3746...</td>\n",
              "      <td>Tonya B.</td>\n",
              "      <td>Great product and price!</td>\n",
              "      <td>Five Stars</td>\n",
              "      <td>1441324800</td>\n",
              "      <td>NaN</td>\n",
              "      <td>NaN</td>\n",
              "    </tr>\n",
              "    <tr>\n",
              "      <th>2</th>\n",
              "      <td>5.0</td>\n",
              "      <td>True</td>\n",
              "      <td>09 4, 2015</td>\n",
              "      <td>ALJ66O1Y6SLHA</td>\n",
              "      <td>B000K2PJ4K</td>\n",
              "      <td>{'Size:': ' Big Boys', 'Color:': ' Blue/Gray L...</td>\n",
              "      <td>Tonya B.</td>\n",
              "      <td>Great product and price!</td>\n",
              "      <td>Five Stars</td>\n",
              "      <td>1441324800</td>\n",
              "      <td>NaN</td>\n",
              "      <td>NaN</td>\n",
              "    </tr>\n",
              "    <tr>\n",
              "      <th>3</th>\n",
              "      <td>5.0</td>\n",
              "      <td>True</td>\n",
              "      <td>09 4, 2015</td>\n",
              "      <td>ALJ66O1Y6SLHA</td>\n",
              "      <td>B000K2PJ4K</td>\n",
              "      <td>{'Size:': ' Big Boys', 'Color:': ' Blue (37867...</td>\n",
              "      <td>Tonya B.</td>\n",
              "      <td>Great product and price!</td>\n",
              "      <td>Five Stars</td>\n",
              "      <td>1441324800</td>\n",
              "      <td>NaN</td>\n",
              "      <td>NaN</td>\n",
              "    </tr>\n",
              "    <tr>\n",
              "      <th>4</th>\n",
              "      <td>5.0</td>\n",
              "      <td>True</td>\n",
              "      <td>09 4, 2015</td>\n",
              "      <td>ALJ66O1Y6SLHA</td>\n",
              "      <td>B000K2PJ4K</td>\n",
              "      <td>{'Size:': ' Big Boys', 'Color:': ' Blue/Pink'}</td>\n",
              "      <td>Tonya B.</td>\n",
              "      <td>Great product and price!</td>\n",
              "      <td>Five Stars</td>\n",
              "      <td>1441324800</td>\n",
              "      <td>NaN</td>\n",
              "      <td>NaN</td>\n",
              "    </tr>\n",
              "  </tbody>\n",
              "</table>\n",
              "</div>"
            ],
            "text/plain": [
              "   overall  verified  reviewTime  ... unixReviewTime vote image\n",
              "0      5.0      True  09 4, 2015  ...     1441324800  NaN   NaN\n",
              "1      5.0      True  09 4, 2015  ...     1441324800  NaN   NaN\n",
              "2      5.0      True  09 4, 2015  ...     1441324800  NaN   NaN\n",
              "3      5.0      True  09 4, 2015  ...     1441324800  NaN   NaN\n",
              "4      5.0      True  09 4, 2015  ...     1441324800  NaN   NaN\n",
              "\n",
              "[5 rows x 12 columns]"
            ]
          },
          "metadata": {
            "tags": []
          },
          "execution_count": 46
        }
      ]
    },
    {
      "cell_type": "markdown",
      "metadata": {
        "id": "SSx6NdRVTSAG",
        "colab_type": "text"
      },
      "source": [
        "## Merge two data frames"
      ]
    },
    {
      "cell_type": "code",
      "metadata": {
        "id": "TSdtMRceTW-z",
        "colab_type": "code",
        "colab": {}
      },
      "source": [
        ""
      ],
      "execution_count": 46,
      "outputs": []
    },
    {
      "cell_type": "markdown",
      "metadata": {
        "id": "AsRggrDGfNuR",
        "colab_type": "text"
      },
      "source": [
        "# Preprocess data"
      ]
    },
    {
      "cell_type": "markdown",
      "metadata": {
        "id": "4CMOXchbfr3W",
        "colab_type": "text"
      },
      "source": [
        "First of all, we need to extract prouct metadata from embedded dictionary. Once all possible values are known, they will be properly encoded."
      ]
    },
    {
      "cell_type": "markdown",
      "metadata": {
        "id": "ileqJkOrSYGh",
        "colab_type": "text"
      },
      "source": [
        "## Find unique values per each category"
      ]
    },
    {
      "cell_type": "code",
      "metadata": {
        "id": "aWAMY1uKf63E",
        "colab_type": "code",
        "colab": {}
      },
      "source": [
        "unique_values = defaultdict(lambda: set())\n",
        "for i, row in df.iterrows():\n",
        "    if row.style and not pd.isnull(row.style):\n",
        "        for k, v in row.style.items():\n",
        "            unique_values[k.replace(\":\", \"\")].add(v)"
      ],
      "execution_count": 47,
      "outputs": []
    },
    {
      "cell_type": "code",
      "metadata": {
        "id": "JXm9yra0ix2Q",
        "colab_type": "code",
        "colab": {
          "base_uri": "https://localhost:8080/",
          "height": 34
        },
        "outputId": "4ba8190e-1d50-453f-d489-f852ad6b4504"
      },
      "source": [
        "unique_values.keys()"
      ],
      "execution_count": 48,
      "outputs": [
        {
          "output_type": "execute_result",
          "data": {
            "text/plain": [
              "dict_keys(['Size', 'Flavor', 'Color', 'Scent Name', 'Style Name', 'Design'])"
            ]
          },
          "metadata": {
            "tags": []
          },
          "execution_count": 48
        }
      ]
    },
    {
      "cell_type": "code",
      "metadata": {
        "id": "Aorfn8jN-d7H",
        "colab_type": "code",
        "colab": {
          "base_uri": "https://localhost:8080/",
          "height": 119
        },
        "outputId": "41aa7e8a-efa9-475e-aa2a-1946d9f7f2b4"
      },
      "source": [
        "for k, v in unique_values.items():\n",
        "    print(f\"{k}: {len(v)}\")"
      ],
      "execution_count": 49,
      "outputs": [
        {
          "output_type": "stream",
          "text": [
            "Size: 289\n",
            "Flavor: 4\n",
            "Color: 76\n",
            "Scent Name: 8\n",
            "Style Name: 4\n",
            "Design: 21\n"
          ],
          "name": "stdout"
        }
      ]
    },
    {
      "cell_type": "code",
      "metadata": {
        "id": "ijPtdwB-gWh5",
        "colab_type": "code",
        "colab": {
          "base_uri": "https://localhost:8080/",
          "height": 343
        },
        "outputId": "9dd2227c-0167-4472-ac75-7488237f0e55"
      },
      "source": [
        "for k, v in unique_values.items():\n",
        "    if k != \"Size:\":\n",
        "        print(k)\n",
        "        print(v)\n",
        "        print('----')"
      ],
      "execution_count": 50,
      "outputs": [
        {
          "output_type": "stream",
          "text": [
            "Size\n",
            "{' 59', ' 19', ' 87', ' 3 oz.', ' 114', ' 7.0 oz', ' 29.2', ' Shampoo', ' 38', ' 157', ' 110', ' B-013', ' 150 Gram', ' 13.5 Fl.Oz.', ' 203', ' 256', ' 177', ' 285', ' 147', ' 354', ' 7', ' 49', ' 57', ' 369', ' 60', ' 287', ' 99', ' 67', ' 198', ' 145', ' 25.3', ' 15', ' 127', ' 156', ' 16', ' 4', ' -', ' 24 oz.', ' 261', ' w-087', ' 6 Pack', ' 120', ' 80', ' 30mla144', ' 86', ' 439', ' 143', ' 149', ' 184', ' 85', ' 340', ' B-002', ' 106', ' 28', ' 6.5 Ounce (Pack of 4)', ' A-015', ' 292', ' 432', ' 1.69oz', ' 291', ' 205', ' 361', ' 280', ' 32 oz', ' 65', ' 2 oz', ' 483', ' 160', ' 305', ' 228', ' Ultra', ' 283', ' 126', ' 200ml/6.7oz', ' 91', ' 1.7 oz', ' 1 count', ' 264', ' 43', ' 52', ' 162', ' 1', ' 8.4', ' 351', ' 1-Count', ' 31', ' 13', ' 206', ' 258', ' 265', ' 3 Ounce', ' A-019', ' 1 ounce', ' 255', ' 123', ' 108', ' 2.82 oz', ' 444', ' 41', ' 78', ' 55', ' 6.7 oz', ' 90', ' 281', ' 23', ' 392', ' 33', ' 250 Gram', ' 121', ' 243', ' 1 oz', ' 247', ' 328', ' 53', ' 329', ' 100', ' 124', ' 170', ' 186', ' 303', ' 1 Pound', ' 275', ' 2 Fl. Oz.', ' 266', ' 104', ' 163', ' Single Pack', ' 7.6oz', ' 12-Ounce (Pack of 3)', ' 8', ' 79', ' 248', ' 195', ' 402', ' 58', ' 410', ' 8.0 fl. oz.', ' 5', ' 181', ' 8.5oz', ' 3/4 Inch', ' 118', ' 51', ' 1000ml/33.8oz', ' 5.1 oz', ' 17', ' 119', ' 352', ' 16fl oz.', ' 13 Fl. Oz', ' 306', ' 363', ' 34', ' Multiset', ' 77', ' 95', ' 259', ' 50', ' 82', ' 367', ' 500ml', ' 84', ' 586', ' 97', ' 111', ' 200ml/ 6.7OZ', ' 69', ' 122', ' 6.6 oz', ' 304', ' 364', ' 56', ' 561', ' 101', ' 286', ' 144', ' 44', ' 192', ' 48', ' 71', ' 18', ' 22', ' 112', ' 175', ' 14 oz', ' 200', ' 509', ' 36', ' 293', ' 263', ' 4 Ounce (8 Count)', ' 25', ' 191', ' 366', ' 11 fl. oz.', ' 6 Strips', ' 25.4 Fluid Ounce', ' 401', ' one size', ' 177ml/6oz', ' 98', ' LG X 32', ' 16.8 Fl.Oz.', ' 235', ' 7 Ounce', ' 16.9 Ounce', ' 72', ' 10.2 oz', ' 379', ' 268', ' 6.7 oz.', ' 511', ' 187', ' 300', ' 70', ' 174', ' 125', ' C-071', ' 64', ' 45', ' 505', ' 179', ' 27', ' 197', ' 934', ' 214', ' 16.9', ' Original', ' C-017', ' 169', ' 46', ' 299', ' C-024', ' 5 oz.', ' 6.7 Oz.', ' 129', ' 4-piece Gift Set', ' 14 Ounce', ' 39', ' 76', ' 1 Pack', ' 29', ' 295', ' 178', ' 312', ' 33.8 oz', ' 6.8 oz', ' 370', ' 33.8 Ounce', ' 350 Gram', ' 136', ' 180', ' 188', ' 26', ' 515', ' 403', ' 3', ' 176', ' 494', ' 468', ' 105', ' 10.1 oz.', ' B-020', ' Small', ' 233', ' 109', ' 223', ' 89', ' 103', ' 290', ' 6', ' 267', ' 32', ' 61', ' 463', ' Shower Gel 6.8 oz', ' 92', ' 279', ' 3.3 oz', ' 196', ' 551', ' 3.4 fl oz', ' 337', ' 277', ' 241', ' 16.9 oz.', ' 74', ' 10', ' 113'}\n",
            "----\n",
            "Flavor\n",
            "{' Original Floss', ' Classic Ice Blue', ' Deep Clean Cool Mint', ' Comfort Plus Mint'}\n",
            "----\n",
            "Color\n",
            "{' Moisturizing Booties', ' Lavender', ' Linen Water With Sprayer', ' Honey Almond', ' Manicure & Pedicure 5 Piece Set', ' Body Lotion', ' Foot Paddle', ' Bath Mitt', ' Nail Brush', ' Milk', ' Millionails Treatment', ' Lemongrass', ' Herbs of Provence', ' White Gardenia', ' Wildflowers', ' Bath Pillow', ' Blueberry', ' Juicy Pomegranate', ' Cellulite Brush', ' Sandalwood', ' Olive Oil', ' Wearing Hue', ' Moisturizing Gloves', ' Agrumes', ' Sage', ' Mint Leaf', ' Boucle Bath Mitt', ' Fairy Tailor', ' Orgasm', ' Pomegranate', ' Olive Oil & Lavender', ' Violate', ' Verbena', ' Patchouli', ' Super Orgasm', ' Lavender Blossoms', ' Sea Salt', ' Sea Sponge', ' Apricot Cuticle Oil', ' Apple Pear', ' Rosemary Mint', ' V.I.Please', ' Raspberry', ' Rose Petal', ' Shower Cap', ' Starflower', ' Soap Mitt', ' Linen Water Refill', ' Style Stunner', ' Jasmin', ' Beau-Tie', ' Eye Pillow', ' Inside Scoop', ' Shower Gel', ' Tiare', ' Star Flower', ' Raspberry Navy Forest', ' Heart Breaker', ' Foot File', \" Angel's Trumpet\", ' Coconut', ' Green Tea', ' Take Me To Thread', ' Rock The Runway', ' Loofah', ' Bath Salts', ' Lime Zest', ' Black Natural and Navy', ' Volcanic Pumice Stone', ' Pineapple', ' Linden', ' Exfoliating Gloves', ' Mirabelle', ' Blue Spice After Shave', ' Peony', ' Manicure & Pedicure Tools'}\n",
            "----\n",
            "Scent Name\n",
            "{' Sandalwood', ' Sugar', ' Frankincense & Myrrh', ' 1000 Roses Floral', ' Pomegranate Anise', ' Redcurrant Basil', ' Lime Basil', ' Sugar Lemon'}\n",
            "----\n",
            "Style Name\n",
            "{' Volume Plumping Whip', ' Cream, Sensitive Skin', ' Eye Cream', ' Bubble Fruit'}\n",
            "----\n",
            "Design\n",
            "{' ETA-C4893097E9', ' ETA-03868FCB34', ' ETA-587B698A12', ' ETA-F2C716495B', ' ETA-6C65F81441', ' ETA-4809CDF7BD', ' ETA-E6B23EAB7B', ' ETA-F7102291F5', ' ETA-BF66BD2F87', ' ETA-BCBB1FE978', ' ETA-A2D23DCD64', ' ETA-A14D63B301', ' ETA-595E2D87BD', ' ETA-5AC628FDC3', ' ETA-C6B5F7C374', ' ETA-A76D0C9755', ' ETA-B1EBECB839', ' ETA-8AA8B0C3A1', ' ETA-7117EE3788', ' ETA-17D419DCD9', ' ETA-F4F7CA8275'}\n",
            "----\n"
          ],
          "name": "stdout"
        }
      ]
    },
    {
      "cell_type": "markdown",
      "metadata": {
        "id": "tsj5kbGsSiah",
        "colab_type": "text"
      },
      "source": [
        "## Build per-category encoders"
      ]
    },
    {
      "cell_type": "code",
      "metadata": {
        "id": "BPrrr90dTSU5",
        "colab_type": "code",
        "colab": {}
      },
      "source": [
        "MISSING_VAL = 'missing'"
      ],
      "execution_count": 51,
      "outputs": []
    },
    {
      "cell_type": "code",
      "metadata": {
        "id": "RaRmKkdwgxbn",
        "colab_type": "code",
        "colab": {}
      },
      "source": [
        "style_encoders = {}\n",
        "for category, values in unique_values.items():\n",
        "    vals = list(values)\n",
        "    vals += [MISSING_VAL]\n",
        "    le = LabelEncoder()\n",
        "    le.fit(vals)\n",
        "    style_encoders[category] = le\n",
        "    df[category] = None"
      ],
      "execution_count": 52,
      "outputs": []
    },
    {
      "cell_type": "code",
      "metadata": {
        "id": "Qb6G8d_pQj5M",
        "colab_type": "code",
        "colab": {
          "base_uri": "https://localhost:8080/",
          "height": 383
        },
        "outputId": "63c6e6e9-60b2-4f87-a170-62d29cf3119a"
      },
      "source": [
        "df.head(3)"
      ],
      "execution_count": 53,
      "outputs": [
        {
          "output_type": "execute_result",
          "data": {
            "text/html": [
              "<div>\n",
              "<style scoped>\n",
              "    .dataframe tbody tr th:only-of-type {\n",
              "        vertical-align: middle;\n",
              "    }\n",
              "\n",
              "    .dataframe tbody tr th {\n",
              "        vertical-align: top;\n",
              "    }\n",
              "\n",
              "    .dataframe thead th {\n",
              "        text-align: right;\n",
              "    }\n",
              "</style>\n",
              "<table border=\"1\" class=\"dataframe\">\n",
              "  <thead>\n",
              "    <tr style=\"text-align: right;\">\n",
              "      <th></th>\n",
              "      <th>overall</th>\n",
              "      <th>verified</th>\n",
              "      <th>reviewTime</th>\n",
              "      <th>reviewerID</th>\n",
              "      <th>asin</th>\n",
              "      <th>style</th>\n",
              "      <th>reviewerName</th>\n",
              "      <th>reviewText</th>\n",
              "      <th>summary</th>\n",
              "      <th>unixReviewTime</th>\n",
              "      <th>vote</th>\n",
              "      <th>image</th>\n",
              "      <th>Size</th>\n",
              "      <th>Flavor</th>\n",
              "      <th>Color</th>\n",
              "      <th>Scent Name</th>\n",
              "      <th>Style Name</th>\n",
              "      <th>Design</th>\n",
              "    </tr>\n",
              "  </thead>\n",
              "  <tbody>\n",
              "    <tr>\n",
              "      <th>0</th>\n",
              "      <td>5.0</td>\n",
              "      <td>True</td>\n",
              "      <td>09 1, 2016</td>\n",
              "      <td>A3CIUOJXQ5VDQ2</td>\n",
              "      <td>B0000530HU</td>\n",
              "      <td>{'Size:': ' 7.0 oz', 'Flavor:': ' Classic Ice ...</td>\n",
              "      <td>Shelly F</td>\n",
              "      <td>As advertised. Reasonably priced</td>\n",
              "      <td>Five Stars</td>\n",
              "      <td>1472688000</td>\n",
              "      <td>NaN</td>\n",
              "      <td>NaN</td>\n",
              "      <td>None</td>\n",
              "      <td>None</td>\n",
              "      <td>None</td>\n",
              "      <td>None</td>\n",
              "      <td>None</td>\n",
              "      <td>None</td>\n",
              "    </tr>\n",
              "    <tr>\n",
              "      <th>1</th>\n",
              "      <td>5.0</td>\n",
              "      <td>True</td>\n",
              "      <td>11 14, 2013</td>\n",
              "      <td>A3H7T87S984REU</td>\n",
              "      <td>B0000530HU</td>\n",
              "      <td>{'Size:': ' 7.0 oz', 'Flavor:': ' Classic Ice ...</td>\n",
              "      <td>houserules18</td>\n",
              "      <td>Like the oder and the feel when I put it on my...</td>\n",
              "      <td>Good for the face</td>\n",
              "      <td>1384387200</td>\n",
              "      <td>NaN</td>\n",
              "      <td>NaN</td>\n",
              "      <td>None</td>\n",
              "      <td>None</td>\n",
              "      <td>None</td>\n",
              "      <td>None</td>\n",
              "      <td>None</td>\n",
              "      <td>None</td>\n",
              "    </tr>\n",
              "    <tr>\n",
              "      <th>2</th>\n",
              "      <td>1.0</td>\n",
              "      <td>True</td>\n",
              "      <td>08 18, 2013</td>\n",
              "      <td>A3J034YH7UG4KT</td>\n",
              "      <td>B0000530HU</td>\n",
              "      <td>{'Size:': ' 7.0 oz', 'Flavor:': ' Classic Ice ...</td>\n",
              "      <td>Adam</td>\n",
              "      <td>I bought this to smell nice after I shave.  Wh...</td>\n",
              "      <td>Smells awful</td>\n",
              "      <td>1376784000</td>\n",
              "      <td>NaN</td>\n",
              "      <td>NaN</td>\n",
              "      <td>None</td>\n",
              "      <td>None</td>\n",
              "      <td>None</td>\n",
              "      <td>None</td>\n",
              "      <td>None</td>\n",
              "      <td>None</td>\n",
              "    </tr>\n",
              "  </tbody>\n",
              "</table>\n",
              "</div>"
            ],
            "text/plain": [
              "   overall  verified   reviewTime  ... Scent Name Style Name Design\n",
              "0      5.0      True   09 1, 2016  ...       None       None   None\n",
              "1      5.0      True  11 14, 2013  ...       None       None   None\n",
              "2      1.0      True  08 18, 2013  ...       None       None   None\n",
              "\n",
              "[3 rows x 18 columns]"
            ]
          },
          "metadata": {
            "tags": []
          },
          "execution_count": 53
        }
      ]
    },
    {
      "cell_type": "markdown",
      "metadata": {
        "id": "kkIu4EwySn0L",
        "colab_type": "text"
      },
      "source": [
        "## Encode values per each record"
      ]
    },
    {
      "cell_type": "code",
      "metadata": {
        "id": "PiSqQ0w3iMPO",
        "colab_type": "code",
        "colab": {}
      },
      "source": [
        "encoded_vals = {k: [] for k in unique_values.keys()}\n",
        "\n",
        "for i, row in df.iterrows():\n",
        "    row_styles = row.style\n",
        "    if pd.isnull(row_styles):\n",
        "        for cat in unique_values.keys():\n",
        "            v = style_encoders[cat].transform([MISSING_VAL])[0]\n",
        "            encoded_vals[cat].append(v)\n",
        "    else:\n",
        "        for cat in unique_values.keys():\n",
        "            cat_with_colon = cat + \":\"\n",
        "            raw_val = row_styles[cat_with_colon] if cat_with_colon in row_styles.keys() else MISSING_VAL\n",
        "            le = style_encoders[cat]\n",
        "            v = le.transform([raw_val])[0]\n",
        "            encoded_vals[cat].append(v)"
      ],
      "execution_count": 54,
      "outputs": []
    },
    {
      "cell_type": "code",
      "metadata": {
        "id": "tGgiyyshkFVm",
        "colab_type": "code",
        "colab": {}
      },
      "source": [
        "for k, vals in encoded_vals.items():\n",
        "    df[k] = vals"
      ],
      "execution_count": 55,
      "outputs": []
    },
    {
      "cell_type": "code",
      "metadata": {
        "id": "6hw_0Te5qCSm",
        "colab_type": "code",
        "colab": {}
      },
      "source": [
        "uencoder = LabelEncoder()\n",
        "iencoder = LabelEncoder()\n",
        "\n",
        "uencoded = uencoder.fit_transform(df.reviewerID)\n",
        "iencoded  = iencoder.fit_transform(df.asin)"
      ],
      "execution_count": 56,
      "outputs": []
    },
    {
      "cell_type": "code",
      "metadata": {
        "id": "eOJFi8fHqgA1",
        "colab_type": "code",
        "colab": {}
      },
      "source": [
        "df['userid'] = uencoded\n",
        "df['itemid'] = iencoded"
      ],
      "execution_count": 57,
      "outputs": []
    },
    {
      "cell_type": "code",
      "metadata": {
        "id": "BMlYVUFvReey",
        "colab_type": "code",
        "colab": {
          "base_uri": "https://localhost:8080/",
          "height": 383
        },
        "outputId": "fe982744-c7d0-45da-b5f2-9467633f455b"
      },
      "source": [
        "df.head(3)"
      ],
      "execution_count": 58,
      "outputs": [
        {
          "output_type": "execute_result",
          "data": {
            "text/html": [
              "<div>\n",
              "<style scoped>\n",
              "    .dataframe tbody tr th:only-of-type {\n",
              "        vertical-align: middle;\n",
              "    }\n",
              "\n",
              "    .dataframe tbody tr th {\n",
              "        vertical-align: top;\n",
              "    }\n",
              "\n",
              "    .dataframe thead th {\n",
              "        text-align: right;\n",
              "    }\n",
              "</style>\n",
              "<table border=\"1\" class=\"dataframe\">\n",
              "  <thead>\n",
              "    <tr style=\"text-align: right;\">\n",
              "      <th></th>\n",
              "      <th>overall</th>\n",
              "      <th>verified</th>\n",
              "      <th>reviewTime</th>\n",
              "      <th>reviewerID</th>\n",
              "      <th>asin</th>\n",
              "      <th>style</th>\n",
              "      <th>reviewerName</th>\n",
              "      <th>reviewText</th>\n",
              "      <th>summary</th>\n",
              "      <th>unixReviewTime</th>\n",
              "      <th>vote</th>\n",
              "      <th>image</th>\n",
              "      <th>Size</th>\n",
              "      <th>Flavor</th>\n",
              "      <th>Color</th>\n",
              "      <th>Scent Name</th>\n",
              "      <th>Style Name</th>\n",
              "      <th>Design</th>\n",
              "      <th>userid</th>\n",
              "      <th>itemid</th>\n",
              "    </tr>\n",
              "  </thead>\n",
              "  <tbody>\n",
              "    <tr>\n",
              "      <th>0</th>\n",
              "      <td>5.0</td>\n",
              "      <td>True</td>\n",
              "      <td>09 1, 2016</td>\n",
              "      <td>A3CIUOJXQ5VDQ2</td>\n",
              "      <td>B0000530HU</td>\n",
              "      <td>{'Size:': ' 7.0 oz', 'Flavor:': ' Classic Ice ...</td>\n",
              "      <td>Shelly F</td>\n",
              "      <td>As advertised. Reasonably priced</td>\n",
              "      <td>Five Stars</td>\n",
              "      <td>1472688000</td>\n",
              "      <td>NaN</td>\n",
              "      <td>NaN</td>\n",
              "      <td>242</td>\n",
              "      <td>0</td>\n",
              "      <td>76</td>\n",
              "      <td>8</td>\n",
              "      <td>4</td>\n",
              "      <td>21</td>\n",
              "      <td>610</td>\n",
              "      <td>0</td>\n",
              "    </tr>\n",
              "    <tr>\n",
              "      <th>1</th>\n",
              "      <td>5.0</td>\n",
              "      <td>True</td>\n",
              "      <td>11 14, 2013</td>\n",
              "      <td>A3H7T87S984REU</td>\n",
              "      <td>B0000530HU</td>\n",
              "      <td>{'Size:': ' 7.0 oz', 'Flavor:': ' Classic Ice ...</td>\n",
              "      <td>houserules18</td>\n",
              "      <td>Like the oder and the feel when I put it on my...</td>\n",
              "      <td>Good for the face</td>\n",
              "      <td>1384387200</td>\n",
              "      <td>NaN</td>\n",
              "      <td>NaN</td>\n",
              "      <td>242</td>\n",
              "      <td>0</td>\n",
              "      <td>76</td>\n",
              "      <td>8</td>\n",
              "      <td>4</td>\n",
              "      <td>21</td>\n",
              "      <td>644</td>\n",
              "      <td>0</td>\n",
              "    </tr>\n",
              "    <tr>\n",
              "      <th>2</th>\n",
              "      <td>1.0</td>\n",
              "      <td>True</td>\n",
              "      <td>08 18, 2013</td>\n",
              "      <td>A3J034YH7UG4KT</td>\n",
              "      <td>B0000530HU</td>\n",
              "      <td>{'Size:': ' 7.0 oz', 'Flavor:': ' Classic Ice ...</td>\n",
              "      <td>Adam</td>\n",
              "      <td>I bought this to smell nice after I shave.  Wh...</td>\n",
              "      <td>Smells awful</td>\n",
              "      <td>1376784000</td>\n",
              "      <td>NaN</td>\n",
              "      <td>NaN</td>\n",
              "      <td>242</td>\n",
              "      <td>0</td>\n",
              "      <td>76</td>\n",
              "      <td>8</td>\n",
              "      <td>4</td>\n",
              "      <td>21</td>\n",
              "      <td>663</td>\n",
              "      <td>0</td>\n",
              "    </tr>\n",
              "  </tbody>\n",
              "</table>\n",
              "</div>"
            ],
            "text/plain": [
              "   overall  verified   reviewTime  ... Design userid itemid\n",
              "0      5.0      True   09 1, 2016  ...     21    610      0\n",
              "1      5.0      True  11 14, 2013  ...     21    644      0\n",
              "2      1.0      True  08 18, 2013  ...     21    663      0\n",
              "\n",
              "[3 rows x 20 columns]"
            ]
          },
          "metadata": {
            "tags": []
          },
          "execution_count": 58
        }
      ]
    },
    {
      "cell_type": "markdown",
      "metadata": {
        "id": "dtqwN8iRXyCQ",
        "colab_type": "text"
      },
      "source": [
        "## Clean data"
      ]
    },
    {
      "cell_type": "code",
      "metadata": {
        "id": "MxS69RJIXzFC",
        "colab_type": "code",
        "colab": {
          "base_uri": "https://localhost:8080/",
          "height": 296
        },
        "outputId": "e7e26255-bf94-4523-c25c-958e8f2cdedd"
      },
      "source": [
        "axarr = df.overall.hist()\n",
        "axarr.set_xlabel(\"Ratings\")\n",
        "axarr.set_ylabel(\"Count\")"
      ],
      "execution_count": 59,
      "outputs": [
        {
          "output_type": "execute_result",
          "data": {
            "text/plain": [
              "Text(0, 0.5, 'Count')"
            ]
          },
          "metadata": {
            "tags": []
          },
          "execution_count": 59
        },
        {
          "output_type": "display_data",
          "data": {
            "image/png": "[encoded data removed]",
            "text/plain": [
              "<Figure size 432x288 with 1 Axes>"
            ]
          },
          "metadata": {
            "tags": []
          }
        }
      ]
    },
    {
      "cell_type": "code",
      "metadata": {
        "id": "AtJyAHtIErLq",
        "colab_type": "code",
        "colab": {
          "base_uri": "https://localhost:8080/",
          "height": 34
        },
        "outputId": "f728c916-106c-4383-be8b-9d847851f545"
      },
      "source": [
        "df.shape"
      ],
      "execution_count": 60,
      "outputs": [
        {
          "output_type": "execute_result",
          "data": {
            "text/plain": [
              "(5269, 20)"
            ]
          },
          "metadata": {
            "tags": []
          },
          "execution_count": 60
        }
      ]
    },
    {
      "cell_type": "markdown",
      "metadata": {
        "id": "uKHk0eeRVR9E",
        "colab_type": "text"
      },
      "source": [
        "# Training models"
      ]
    },
    {
      "cell_type": "code",
      "metadata": {
        "id": "jgHfdreTXNWP",
        "colab_type": "code",
        "colab": {
          "base_uri": "https://localhost:8080/",
          "height": 34
        },
        "outputId": "6f1064e2-94ff-4857-b775-da4b581d3090"
      },
      "source": [
        "nusers = df.userid.nunique()\n",
        "nitems = df.itemid.nunique()\n",
        "\n",
        "nusers, nitems"
      ],
      "execution_count": 61,
      "outputs": [
        {
          "output_type": "execute_result",
          "data": {
            "text/plain": [
              "(991, 85)"
            ]
          },
          "metadata": {
            "tags": []
          },
          "execution_count": 61
        }
      ]
    },
    {
      "cell_type": "code",
      "metadata": {
        "id": "7T1sWQ1OZUyu",
        "colab_type": "code",
        "colab": {
          "base_uri": "https://localhost:8080/",
          "height": 119
        },
        "outputId": "de380006-54ea-4f1b-ec38-021ed30c9772"
      },
      "source": [
        "for cat, le in style_encoders.items():\n",
        "    print(f\"{cat}, ncls: {len(le.classes_)}\")"
      ],
      "execution_count": 62,
      "outputs": [
        {
          "output_type": "stream",
          "text": [
            "Size, ncls: 290\n",
            "Flavor, ncls: 5\n",
            "Color, ncls: 77\n",
            "Scent Name, ncls: 9\n",
            "Style Name, ncls: 5\n",
            "Design, ncls: 22\n"
          ],
          "name": "stdout"
        }
      ]
    },
    {
      "cell_type": "code",
      "metadata": {
        "id": "GPTQ2e6hdrVV",
        "colab_type": "code",
        "colab": {}
      },
      "source": [
        "X_train, X_test, y_train, y_test = train_test_split(df.drop(\"overall\", axis=1), df.overall, random_state=999, test_size=0.1)"
      ],
      "execution_count": 63,
      "outputs": []
    },
    {
      "cell_type": "code",
      "metadata": {
        "id": "o3FsKPFmIVhJ",
        "colab_type": "code",
        "colab": {
          "base_uri": "https://localhost:8080/",
          "height": 34
        },
        "outputId": "a389ddde-0184-46ec-b376-eaed8040e6b9"
      },
      "source": [
        "X_train.shape, X_test.shape"
      ],
      "execution_count": 64,
      "outputs": [
        {
          "output_type": "execute_result",
          "data": {
            "text/plain": [
              "((4742, 19), (527, 19))"
            ]
          },
          "metadata": {
            "tags": []
          },
          "execution_count": 64
        }
      ]
    },
    {
      "cell_type": "code",
      "metadata": {
        "id": "mPoyrep5Y0hY",
        "colab_type": "code",
        "colab": {
          "base_uri": "https://localhost:8080/",
          "height": 71
        },
        "outputId": "2aee1bc9-efb9-4469-add6-c4d996bf7e95"
      },
      "source": [
        "kf = KFold(n_splits=10, random_state=777)"
      ],
      "execution_count": 65,
      "outputs": [
        {
          "output_type": "stream",
          "text": [
            "/usr/local/lib/python3.6/dist-packages/sklearn/model_selection/_split.py:296: FutureWarning: Setting a random_state has no effect since shuffle is False. This will raise an error in 0.24. You should leave random_state to its default (None), or set shuffle=True.\n",
            "  FutureWarning\n"
          ],
          "name": "stderr"
        }
      ]
    },
    {
      "cell_type": "code",
      "metadata": {
        "id": "lfNO50UYtXdL",
        "colab_type": "code",
        "colab": {
          "base_uri": "https://localhost:8080/",
          "height": 51
        },
        "outputId": "29aaeb84-8842-48d7-e69d-e78b04acf625"
      },
      "source": [
        "for traini, testi in kf.split(X_train, y_train):\n",
        "    X_train_cv, y_train_cv = X_train.iloc[traini], y_train.iloc[traini]\n",
        "    X_test_cv, y_test_cv = X_train.iloc[testi], y_train.iloc[testi]\n",
        "    print(X_train_cv.shape)\n",
        "    print(X_test_cv.shape)\n",
        "    break"
      ],
      "execution_count": 66,
      "outputs": [
        {
          "output_type": "stream",
          "text": [
            "(4267, 19)\n",
            "(475, 19)\n"
          ],
          "name": "stdout"
        }
      ]
    },
    {
      "cell_type": "code",
      "metadata": {
        "id": "aWYJXjkS_yDW",
        "colab_type": "code",
        "colab": {}
      },
      "source": [
        "def MAPE(y_true, y_pred): \n",
        "    #y_true, y_pred = check_arrays(y_true, y_pred)\n",
        "\n",
        "    ## Note: does not handle mix 1d representation\n",
        "    #if _is_1d(y_true): \n",
        "    #    y_true, y_pred = _check_1d_array(y_true, y_pred)\n",
        "\n",
        "    return np.mean(np.abs((y_true - y_pred) / y_true))"
      ],
      "execution_count": 67,
      "outputs": []
    },
    {
      "cell_type": "code",
      "metadata": {
        "id": "0fTdWEjmb2pE",
        "colab_type": "code",
        "colab": {}
      },
      "source": [
        "def train_model(model_builder, feature_builder_f, X_train, y_train, X_test, y_test, kf, *args, **kwargs):\n",
        "    mse_vals = []\n",
        "    mae_vals = []\n",
        "    mape_vals = []\n",
        "    for traini, testi in tqdm(kf.split(X_train, y_train)):\n",
        "        X_train_cv, y_train_cv = X_train.iloc[traini], y_train.iloc[traini]\n",
        "        X_test_cv, y_test_cv = X_train.iloc[testi], y_train.iloc[testi]\n",
        "\n",
        "        #print(f\"CV train: {X_train_cv.shape}, test: {X_test_cv.shape}\")\n",
        "\n",
        "        model = model_builder()\n",
        "        history = model.fit(feature_builder_f(X_train_cv), y_train_cv, epochs=10, *args, **kwargs)\n",
        "\n",
        "        yhat_cv = model.predict(feature_builder_f(X_test_cv)).squeeze()\n",
        "        mse, mae, mape = mean_squared_error(y_true=y_test_cv, y_pred=yhat_cv), mean_absolute_error(y_true=y_test_cv, y_pred=yhat_cv), MAPE(y_true=y_test_cv, y_pred=yhat_cv)\n",
        "        mse_vals.append(mse)\n",
        "        mae_vals.append(mae)\n",
        "        mape_vals.append(mape)\n",
        "\n",
        "    model_full = model_builder()\n",
        "    full_hist = model_full.fit(feature_builder_f(X_train), y_train, *args, **kwargs)\n",
        "    test_yhat = model_full.predict(feature_builder_f(X_test)).squeeze()\n",
        "    test_mse, test_mae, test_mape = mean_squared_error(y_true=y_test, y_pred=test_yhat), mean_absolute_error(y_true=y_test, y_pred=test_yhat),  MAPE(y_true=y_test, y_pred=test_yhat)\n",
        "\n",
        "    return mse_vals, mae_vals, mape_vals, test_mse, test_mae, test_mape, full_hist, model_full"
      ],
      "execution_count": 68,
      "outputs": []
    },
    {
      "cell_type": "code",
      "metadata": {
        "id": "teackNK8cv2z",
        "colab_type": "code",
        "colab": {}
      },
      "source": [
        "def print_model_errors(model_name, mse, mae, mape, test_mse, test_mae, test_mape):\n",
        "    print(f\"\"\"\n",
        "    Model: {model_name}\n",
        "    train MSE: {np.mean(mse)}\n",
        "    train MAE: {np.mean(mae)}\n",
        "    train MAPE: {np.mean(mape)}\n",
        "\n",
        "    test MSE: {np.mean(test_mse)}\n",
        "    test MAE: {np.mean(test_mae)}\n",
        "    test MAPE: {np.mean(test_mape)}\n",
        "    \"\"\")"
      ],
      "execution_count": 69,
      "outputs": []
    },
    {
      "cell_type": "markdown",
      "metadata": {
        "id": "X6YRtUzNWimQ",
        "colab_type": "text"
      },
      "source": [
        "## Collaborative filtering"
      ]
    },
    {
      "cell_type": "code",
      "metadata": {
        "id": "_5e4CvJ7WlnA",
        "colab_type": "code",
        "colab": {}
      },
      "source": [
        "def build_colabfilt():\n",
        "    kk.backend.clear_session()\n",
        "    gc.collect()\n",
        "\n",
        "    uiembed_sz = 32\n",
        "\n",
        "    uinput = kk.layers.Input(shape=(1,))\n",
        "    uembed = kk.layers.Embedding(\n",
        "        output_dim=uiembed_sz,\n",
        "        input_dim=nusers+1,\n",
        "        input_length=1,\n",
        "        name='userembed')(uinput)\n",
        "    uembed = kk.layers.Flatten()(uembed)\n",
        "    ubias = kk.layers.Flatten()(kk.layers.Embedding(\n",
        "        output_dim=1,\n",
        "        input_dim=nusers,\n",
        "        input_length=1,\n",
        "        name='ubias')(uinput))\n",
        "\n",
        "    iinput = kk.layers.Input(shape=(1,))\n",
        "    iembed = kk.layers.Embedding(\n",
        "        output_dim=uiembed_sz,\n",
        "        input_dim=nitems+1,\n",
        "        input_length=1,\n",
        "        name='iembed')(iinput)\n",
        "    iembed = kk.layers.Flatten()(iembed)\n",
        "    ibias = kk.layers.Flatten()(kk.layers.Embedding(\n",
        "        output_dim=1,\n",
        "        input_dim=nitems+1,\n",
        "        input_length=1,\n",
        "        name='ibias')(iinput))\n",
        "\n",
        "    ufull = kk.layers.add([uembed, ubias])\n",
        "    ifull = kk.layers.add([iembed, ibias])\n",
        "    out = kk.layers.Dot(axes=(1,1))([ifull, ufull])\n",
        "    #out = kk.layers.add([dot, ubias, ibias])\n",
        "\n",
        "    model_colab = kk.models.Model(inputs=[uinput, iinput], outputs=out)\n",
        "    opt = kk.optimizers.Adam(lr=0.001)\n",
        "    model_colab.compile(loss='mean_squared_error', optimizer=opt, metrics=['mse', 'mae', 'mape'])\n",
        "    return model_colab"
      ],
      "execution_count": 70,
      "outputs": []
    },
    {
      "cell_type": "code",
      "metadata": {
        "id": "ZLg8s58Sc7_e",
        "colab_type": "code",
        "colab": {}
      },
      "source": [
        "colab_feature_builder = lambda data: [data.userid, data.itemid]"
      ],
      "execution_count": 71,
      "outputs": []
    },
    {
      "cell_type": "code",
      "metadata": {
        "id": "XaEQgoMBfpP7",
        "colab_type": "code",
        "colab": {
          "base_uri": "https://localhost:8080/",
          "height": 66,
          "referenced_widgets": [
            "fc6cb75aacfb4ba394153ca304d3b723",
            "d00cddcad588498b91d40c3c9746521f",
            "cb374406ccb14e0aa69373c88798fa84",
            "b22ba5630d69473da47b26d4d05f719d",
            "d4da992420da452bb46388c01993f57b",
            "8ed52b65b3eb4cd3b9a7dbef2de24555",
            "9c6fbb6279fc48368705eab86fe0bc9e",
            "68917a00b5bc4dbc842115a1b4e1479a"
          ]
        },
        "outputId": "5cb3bb36-823a-4cc3-9582-216f1cbb86a7"
      },
      "source": [
        "colab_mse, colab_mae, colab_mape, colab_test_mse, colab_test_mae, colab_test_mape, colab_hist, colab_model = train_model(build_colabfilt, colab_feature_builder, X_train, y_train, X_test, y_test, kf, verbose=0, validation_split=0.1)"
      ],
      "execution_count": 72,
      "outputs": [
        {
          "output_type": "display_data",
          "data": {
            "application/vnd.jupyter.widget-view+json": {
              "model_id": "fc6cb75aacfb4ba394153ca304d3b723",
              "version_minor": 0,
              "version_major": 2
            },
            "text/plain": [
              "HBox(children=(FloatProgress(value=1.0, bar_style='info', max=1.0), HTML(value='')))"
            ]
          },
          "metadata": {
            "tags": []
          }
        },
        {
          "output_type": "stream",
          "text": [
            "\n"
          ],
          "name": "stdout"
        }
      ]
    },
    {
      "cell_type": "code",
      "metadata": {
        "id": "eyW1dyk6TmCV",
        "colab_type": "code",
        "colab": {
          "base_uri": "https://localhost:8080/",
          "height": 187
        },
        "outputId": "6fea1f53-73ee-4986-860f-4a95bf8727cf"
      },
      "source": [
        "print_model_errors(\"colab\", colab_mse, colab_mae, colab_mape, colab_test_mse, colab_test_mae, colab_test_mape)"
      ],
      "execution_count": 73,
      "outputs": [
        {
          "output_type": "stream",
          "text": [
            "\n",
            "    Model: colab\n",
            "    train MSE: 0.8701976359643646\n",
            "    train MAE: 0.3476181629182874\n",
            "    train MAPE: 0.08218735328480872\n",
            "\n",
            "    test MSE: 22.857315422868076\n",
            "    test MAE: 4.7270519392276835\n",
            "    test MAPE: 0.9867103607851144\n",
            "    \n"
          ],
          "name": "stdout"
        }
      ]
    },
    {
      "cell_type": "markdown",
      "metadata": {
        "id": "UpdoPXc06xS_",
        "colab_type": "text"
      },
      "source": [
        "## Deep matrix factorization"
      ]
    },
    {
      "cell_type": "code",
      "metadata": {
        "id": "dtvohWae60dI",
        "colab_type": "code",
        "colab": {}
      },
      "source": [
        "def build_deep_colabfilt():\n",
        "    kk.backend.clear_session()\n",
        "    gc.collect()\n",
        "\n",
        "    uiembed_sz = 32\n",
        "\n",
        "    uinput = kk.layers.Input(shape=(1,))\n",
        "    uembed = kk.layers.Embedding(\n",
        "        output_dim=uiembed_sz,\n",
        "        input_dim=nusers+1,\n",
        "        input_length=1,\n",
        "        name='userembed', \n",
        "        embeddings_initializer=kk.initializers.he_normal())(uinput)\n",
        "    uembed = kk.layers.Flatten()(uembed)\n",
        "    ubias = kk.layers.Flatten()(kk.layers.Embedding(\n",
        "        output_dim=1,\n",
        "        input_dim=nusers,\n",
        "        input_length=1,\n",
        "        name='ubias')(uinput))\n",
        "\n",
        "    iinput = kk.layers.Input(shape=(1,))\n",
        "    iembed = kk.layers.Embedding(\n",
        "        output_dim=uiembed_sz,\n",
        "        input_dim=nitems+1,\n",
        "        input_length=1,\n",
        "        name='iembed',\n",
        "        embeddings_initializer=kk.initializers.he_normal())(iinput)\n",
        "    iembed = kk.layers.Flatten()(iembed)\n",
        "    ibias = kk.layers.Flatten()(kk.layers.Embedding(\n",
        "        output_dim=1,\n",
        "        input_dim=nitems+1,\n",
        "        input_length=1,\n",
        "        name='ibias')(iinput))\n",
        "\n",
        "    concat = kk.layers.Concatenate()([uembed, iembed, ubias, ibias])\n",
        "    drop1 = kk.layers.Dropout(0.2)(concat)\n",
        "    d1 = kk.layers.Dense(16, activation='tanh', kernel_regularizer=kk.regularizers.l2(0.001))(drop1)\n",
        "\n",
        "    drop2 = kk.layers.Dropout(0.2)(d1)\n",
        "    d2 = kk.layers.Dense(8, activation='tanh')(drop2)\n",
        "\n",
        "    #drop3 = kk.layers.Dropout(0.2)(d1)\n",
        "    out = kk.layers.Dense(1, activation='relu',  kernel_regularizer=kk.regularizers.l2(0.001))(d2)\n",
        "\n",
        "    model_colab_deep = kk.models.Model(inputs=[uinput, iinput], outputs=out)\n",
        "    opt = kk.optimizers.Adam(lr=0.01)\n",
        "    model_colab_deep.compile(loss='mean_squared_error', optimizer=opt, metrics=['mse', 'mae', 'mape'])\n",
        "    return model_colab_deep"
      ],
      "execution_count": 74,
      "outputs": []
    },
    {
      "cell_type": "code",
      "metadata": {
        "id": "QgWrw6O1dYQ2",
        "colab_type": "code",
        "colab": {}
      },
      "source": [
        "deepcolabfilt_feature_builder = lambda data: [data.userid, data.itemid]"
      ],
      "execution_count": 75,
      "outputs": []
    },
    {
      "cell_type": "code",
      "metadata": {
        "id": "jKQMdhk-dbXb",
        "colab_type": "code",
        "colab": {
          "base_uri": "https://localhost:8080/",
          "height": 66,
          "referenced_widgets": [
            "864f06b086aa4c1ba9df9676ef02f6f0",
            "787c4be717e444e49c408289877b65c5",
            "acf982b4a3484d86a9df52fa7f49f5ea",
            "9385988aaf2b450d9d4755f2fa6f4ff8",
            "75b1b831121a4e689615b80a319928ad",
            "7acf0477101845b1b423c05047fd796b",
            "0bbf224ee54d461e950d49ccb6b94da3",
            "d4d60af4c8a3463ebc811dac204f27cd"
          ]
        },
        "outputId": "2d068fab-1930-4880-f6df-6b37460f5ded"
      },
      "source": [
        "deepcolab_mse, deepcolab_mae, deepcolab_mape, deepcolab_test_mse, deepcolab_test_mae, deepcolab_test_mape, deepcolab_hist, deepcolab_model = train_model(build_deep_colabfilt, deepcolabfilt_feature_builder, X_train, y_train, X_test, y_test, kf, verbose=0, validation_split=0.1)"
      ],
      "execution_count": 76,
      "outputs": [
        {
          "output_type": "display_data",
          "data": {
            "application/vnd.jupyter.widget-view+json": {
              "model_id": "864f06b086aa4c1ba9df9676ef02f6f0",
              "version_minor": 0,
              "version_major": 2
            },
            "text/plain": [
              "HBox(children=(FloatProgress(value=1.0, bar_style='info', max=1.0), HTML(value='')))"
            ]
          },
          "metadata": {
            "tags": []
          }
        },
        {
          "output_type": "stream",
          "text": [
            "\n"
          ],
          "name": "stdout"
        }
      ]
    },
    {
      "cell_type": "code",
      "metadata": {
        "id": "InNEVD_1Tw7L",
        "colab_type": "code",
        "colab": {
          "base_uri": "https://localhost:8080/",
          "height": 187
        },
        "outputId": "f242bc24-774a-475c-9b71-6ff9733a5353"
      },
      "source": [
        "print_model_errors(\"deep colab\", deepcolab_mse, deepcolab_mae, deepcolab_mape, deepcolab_test_mse, deepcolab_test_mae, deepcolab_test_mape)"
      ],
      "execution_count": 77,
      "outputs": [
        {
          "output_type": "stream",
          "text": [
            "\n",
            "    Model: deep colab\n",
            "    train MSE: 0.12137566756044856\n",
            "    train MAE: 0.10803681771537607\n",
            "    train MAPE: 0.037663587470137226\n",
            "\n",
            "    test MSE: 0.5302707811488842\n",
            "    test MAE: 0.3592532737431535\n",
            "    test MAPE: 0.13923411587233192\n",
            "    \n"
          ],
          "name": "stdout"
        }
      ]
    },
    {
      "cell_type": "code",
      "metadata": {
        "id": "EL2BBzDq28o9",
        "colab_type": "code",
        "colab": {
          "base_uri": "https://localhost:8080/",
          "height": 856
        },
        "outputId": "aaee10d5-c19d-406e-9817-ab010b971c58"
      },
      "source": [
        "kk.utils.plot_model(deepcolab_model)"
      ],
      "execution_count": 78,
      "outputs": [
        {
          "output_type": "execute_result",
          "data": {
            "image/png": "[encoded data removed]",
            "text/plain": [
              "<IPython.core.display.Image object>"
            ]
          },
          "metadata": {
            "tags": []
          },
          "execution_count": 78
        }
      ]
    },
    {
      "cell_type": "code",
      "metadata": {
        "id": "-dSIburH3B5n",
        "colab_type": "code",
        "colab": {
          "base_uri": "https://localhost:8080/",
          "height": 748
        },
        "outputId": "df2a28f9-ba6e-43e9-caaf-76f444e03d5d"
      },
      "source": [
        "deepcolab_model.summary()"
      ],
      "execution_count": 79,
      "outputs": [
        {
          "output_type": "stream",
          "text": [
            "Model: \"model\"\n",
            "__________________________________________________________________________________________________\n",
            "Layer (type)                    Output Shape         Param #     Connected to                     \n",
            "==================================================================================================\n",
            "input_1 (InputLayer)            [(None, 1)]          0                                            \n",
            "__________________________________________________________________________________________________\n",
            "input_2 (InputLayer)            [(None, 1)]          0                                            \n",
            "__________________________________________________________________________________________________\n",
            "userembed (Embedding)           (None, 1, 32)        31744       input_1[0][0]                    \n",
            "__________________________________________________________________________________________________\n",
            "iembed (Embedding)              (None, 1, 32)        2752        input_2[0][0]                    \n",
            "__________________________________________________________________________________________________\n",
            "ubias (Embedding)               (None, 1, 1)         991         input_1[0][0]                    \n",
            "__________________________________________________________________________________________________\n",
            "ibias (Embedding)               (None, 1, 1)         86          input_2[0][0]                    \n",
            "__________________________________________________________________________________________________\n",
            "flatten (Flatten)               (None, 32)           0           userembed[0][0]                  \n",
            "__________________________________________________________________________________________________\n",
            "flatten_2 (Flatten)             (None, 32)           0           iembed[0][0]                     \n",
            "__________________________________________________________________________________________________\n",
            "flatten_1 (Flatten)             (None, 1)            0           ubias[0][0]                      \n",
            "__________________________________________________________________________________________________\n",
            "flatten_3 (Flatten)             (None, 1)            0           ibias[0][0]                      \n",
            "__________________________________________________________________________________________________\n",
            "concatenate (Concatenate)       (None, 66)           0           flatten[0][0]                    \n",
            "                                                                 flatten_2[0][0]                  \n",
            "                                                                 flatten_1[0][0]                  \n",
            "                                                                 flatten_3[0][0]                  \n",
            "__________________________________________________________________________________________________\n",
            "dropout (Dropout)               (None, 66)           0           concatenate[0][0]                \n",
            "__________________________________________________________________________________________________\n",
            "dense (Dense)                   (None, 16)           1072        dropout[0][0]                    \n",
            "__________________________________________________________________________________________________\n",
            "dropout_1 (Dropout)             (None, 16)           0           dense[0][0]                      \n",
            "__________________________________________________________________________________________________\n",
            "dense_1 (Dense)                 (None, 8)            136         dropout_1[0][0]                  \n",
            "__________________________________________________________________________________________________\n",
            "dense_2 (Dense)                 (None, 1)            9           dense_1[0][0]                    \n",
            "==================================================================================================\n",
            "Total params: 36,790\n",
            "Trainable params: 36,790\n",
            "Non-trainable params: 0\n",
            "__________________________________________________________________________________________________\n"
          ],
          "name": "stdout"
        }
      ]
    },
    {
      "cell_type": "markdown",
      "metadata": {
        "id": "rZs3_b1ibA9Y",
        "colab_type": "text"
      },
      "source": [
        "## Content based model"
      ]
    },
    {
      "cell_type": "code",
      "metadata": {
        "id": "qH7hM8tFOsWQ",
        "colab_type": "code",
        "colab": {
          "base_uri": "https://localhost:8080/",
          "height": 119
        },
        "outputId": "aca9817e-9ecc-471b-ddfc-9a369d4a3866"
      },
      "source": [
        "for cat, le in style_encoders.items():\n",
        "    print(f\"{cat}, ncls: {len(le.classes_)}\")"
      ],
      "execution_count": 80,
      "outputs": [
        {
          "output_type": "stream",
          "text": [
            "Size, ncls: 290\n",
            "Flavor, ncls: 5\n",
            "Color, ncls: 77\n",
            "Scent Name, ncls: 9\n",
            "Style Name, ncls: 5\n",
            "Design, ncls: 22\n"
          ],
          "name": "stdout"
        }
      ]
    },
    {
      "cell_type": "code",
      "metadata": {
        "id": "EyjBK6SWbGzE",
        "colab_type": "code",
        "colab": {}
      },
      "source": [
        "def build_content_model():\n",
        "    kk.backend.clear_session()\n",
        "    gc.collect()\n",
        "\n",
        "    size_embed_sz = 16\n",
        "    col_embed_sz = 16\n",
        "    design_embed_sz = 4\n",
        "    flavor_embed_sz = 4\n",
        "    style_name_embed_sz = 4\n",
        "    scent_name_embed_sz = 8\n",
        "\n",
        "    uiembed_sz = 32\n",
        "\n",
        "    iinput = kk.layers.Input(shape=(1,))\n",
        "    uinput = kk.layers.Input(shape=(1,))\n",
        "    size_input = kk.layers.Input(shape=(1,))\n",
        "    col_input = kk.layers.Input(shape=(1, ))\n",
        "    design_input = kk.layers.Input(shape=(1,))\n",
        "    flavor_input = kk.layers.Input(shape=(1,))\n",
        "    style_input = kk.layers.Input(shape=(1,))\n",
        "    scent_input = kk.layers.Input(shape=(1,))\n",
        "\n",
        "    uembed = kk.layers.Embedding(\n",
        "        output_dim=24,\n",
        "        input_dim=nusers+1,\n",
        "        input_length=1,\n",
        "        name='userembed',\n",
        "        #embeddings_initializer=kk.initializers.he_normal()\n",
        "        )(uinput)\n",
        "    uembed = kk.layers.Flatten()(uembed)\n",
        "    ubias = kk.layers.Flatten()(kk.layers.Embedding(\n",
        "        output_dim=1,\n",
        "        input_dim=nusers,\n",
        "        input_length=1,\n",
        "        name='ubias')(uinput))\n",
        "\n",
        "    iembed = kk.layers.Embedding(\n",
        "        output_dim=16,\n",
        "        input_dim=nitems+1,\n",
        "        input_length=1,\n",
        "        name='iembed',\n",
        "        #embeddings_initializer=kk.initializers.he_normal()\n",
        "        )(iinput)\n",
        "    iembed = kk.layers.Flatten()(iembed)\n",
        "    ibias = kk.layers.Flatten()(kk.layers.Embedding(\n",
        "        output_dim=1,\n",
        "        input_dim=nitems+1,\n",
        "        input_length=1,\n",
        "        name='ibias')(iinput))\n",
        "\n",
        "    size_embed = kk.layers.Flatten()(kk.layers.Embedding(\n",
        "        output_dim=size_embed_sz,\n",
        "        input_dim=len(style_encoders['Size'].classes_) + 1,\n",
        "        input_length=1,\n",
        "        name=\"size_embed\",\n",
        "     #   embeddings_initializer=kk.initializers.he_normal()\n",
        "    )(size_input))\n",
        "    color_embed = kk.layers.Flatten()(kk.layers.Embedding(\n",
        "        output_dim=col_embed_sz,\n",
        "        input_dim=len(style_encoders['Color'].classes_) + 1,\n",
        "        input_length=1,\n",
        "        name=\"col_embed\",\n",
        "       # embeddings_initializer=kk.initializers.he_normal()\n",
        "    )(col_input))\n",
        "    design_embed = kk.layers.Flatten()(kk.layers.Embedding(\n",
        "        output_dim=design_embed_sz,\n",
        "        input_dim=len(style_encoders['Design'].classes_) + 1,\n",
        "        input_length=1,\n",
        "        name=\"design_embed\",\n",
        "       # embeddings_initializer=kk.initializers.he_normal()\n",
        "    )(design_input))\n",
        "    flavor_embed = kk.layers.Flatten()(kk.layers.Embedding(\n",
        "        output_dim=flavor_embed_sz,\n",
        "        input_dim=len(style_encoders['Flavor'].classes_) + 1,\n",
        "        input_length=1,\n",
        "        name=\"flavor_embed\",\n",
        "      #  embeddings_initializer=kk.initializers.he_normal()\n",
        "    )(flavor_input))\n",
        "    stylename_embed = kk.layers.Flatten()(kk.layers.Embedding(\n",
        "        output_dim=style_name_embed_sz,\n",
        "        input_dim=len(style_encoders['Style Name'].classes_) + 1,\n",
        "        input_length=1,\n",
        "        name=\"stylename_embed\",\n",
        "      #  embeddings_initializer=kk.initializers.he_normal()\n",
        "    )(style_input))\n",
        "    scent_embed = kk.layers.Flatten()(kk.layers.Embedding(\n",
        "        output_dim=scent_name_embed_sz,\n",
        "        input_dim=len(style_encoders['Scent Name'].classes_) + 1,\n",
        "        input_length=1,\n",
        "        name=\"scent_embed\",\n",
        "     #   embeddings_initializer=kk.initializers.he_normal()\n",
        "    )(scent_input))\n",
        "\n",
        "    # 25 units\n",
        "    uall = kk.layers.Concatenate()([uembed, ubias])\n",
        "    udrop = kk.layers.Dropout(0.1)(uall)\n",
        "    udense = kk.layers.Dense(8, activation='tanh')(udrop)\n",
        "\n",
        "    # 17 units\n",
        "    iall = kk.layers.Concatenate()([iembed, ibias])\n",
        "    idrop = kk.layers.Dropout(0.1)(iall)\n",
        "    idense = kk.layers.Dense(8, activation='tanh')(idrop)\n",
        "\n",
        "    # 16 + 4 + 4 = 24 units\n",
        "    fall = kk.layers.Concatenate()([color_embed, stylename_embed, scent_embed]) #, color_embed, scent_embed])\n",
        "    fdrop = kk.layers.Dropout(0.1)(fall)\n",
        "    fdense = kk.layers.Dense(16, activation='tanh')(fdrop)\n",
        "\n",
        "    # 24 + 25 + 17\n",
        "    concat = kk.layers.Concatenate()([udense, idense, fdense])\n",
        "    #dropall = kk.layers.Dropout(0.1)(concat)\n",
        "    denseall = kk.layers.Dense(16, activation='tanh')(concat)\n",
        "    #denseall2 = kk.layers.Dense(16, activation='tanh', kernel_regularizer=kk.regularizers.l2(0.001))(denseall)\n",
        "    out = kk.layers.Dense(1, activation='relu')(denseall)\n",
        "    \"\"\"\n",
        "    concat = kk.layers.Concatenate()([uembed, ubias, iembed, ibias, size_embed, stylename_embed, flavor_embed]) #, stylename_embed, flavor_embed])\n",
        "    drop1 = kk.layers.Dropout(0.2)(concat)\n",
        "    d1 = kk.layers.Dense(32, activation='tanh', kernel_regularizer=kk.regularizers.l2(0.001))(drop1)\n",
        "\n",
        "    drop2 = kk.layers.Dropout(0.1)(d1)\n",
        "    d2 = kk.layers.Dense(16, activation='tanh')(drop2)\n",
        "\n",
        "    out = kk.layers.Dense(1, activation='relu')(d2)\n",
        "    \"\"\"\n",
        "    \n",
        "    model_content = kk.models.Model(inputs=[uinput, iinput, size_input, col_input, design_input, flavor_input, style_input, scent_input], outputs=out)\n",
        "    opt = kk.optimizers.Adam(0.01)\n",
        "    model_content.compile(loss='mean_squared_error', optimizer=opt, metrics=['mse', 'mae', 'mape'])\n",
        "    return model_content"
      ],
      "execution_count": 92,
      "outputs": []
    },
    {
      "cell_type": "code",
      "metadata": {
        "id": "qos8CCJygFvc",
        "colab_type": "code",
        "colab": {}
      },
      "source": [
        "content_model_feature_builder = lambda data: [data.userid, data.itemid, data.Size, data.Color, data.Design, data.Flavor, data['Style Name'], data['Scent Name']]"
      ],
      "execution_count": 93,
      "outputs": []
    },
    {
      "cell_type": "code",
      "metadata": {
        "id": "y0fuTZ41gNfs",
        "colab_type": "code",
        "colab": {
          "base_uri": "https://localhost:8080/",
          "height": 66,
          "referenced_widgets": [
            "5750d51fd3804f5cb32d8231e7eae159",
            "1627b8b706464edaa7c7c58919c40a88",
            "101e8fe1b4a3420790e3dd8c86d1ae80",
            "b8d73a8eff7143d59cdcf43ba5f69991",
            "2ec05b1dc54045679c6a3e3c969eb50a",
            "e4dfefa5d6c14ad3a3945aa07cb094f1",
            "d5d7270e351241e58b1cbdd46b4f3187",
            "2bbcada326bd4695afd1f79454400a3e"
          ]
        },
        "outputId": "69585d19-d2ae-44ef-960a-afb55e87597d"
      },
      "source": [
        "es = kk.callbacks.EarlyStopping(monitor='mse', min_delta=0.005, patience=2)\n",
        "content_mse, content_mae, content_mape, content_test_mse, content_test_mae, content_test_mape, conent_hist, content_model = train_model(build_content_model, content_model_feature_builder, X_train, y_train, X_test, y_test, kf, verbose=0, callbacks=[es])"
      ],
      "execution_count": 94,
      "outputs": [
        {
          "output_type": "display_data",
          "data": {
            "application/vnd.jupyter.widget-view+json": {
              "model_id": "5750d51fd3804f5cb32d8231e7eae159",
              "version_minor": 0,
              "version_major": 2
            },
            "text/plain": [
              "HBox(children=(FloatProgress(value=1.0, bar_style='info', max=1.0), HTML(value='')))"
            ]
          },
          "metadata": {
            "tags": []
          }
        },
        {
          "output_type": "stream",
          "text": [
            "\n"
          ],
          "name": "stdout"
        }
      ]
    },
    {
      "cell_type": "code",
      "metadata": {
        "id": "akCRVzW5c0zo",
        "colab_type": "code",
        "colab": {
          "base_uri": "https://localhost:8080/",
          "height": 187
        },
        "outputId": "8463e701-fcb6-4b3c-98fa-cc31904e465a"
      },
      "source": [
        "print_model_errors(\"Content model\", content_mse, content_mae, content_mape, content_test_mse, content_test_mae, content_test_mape)"
      ],
      "execution_count": 96,
      "outputs": [
        {
          "output_type": "stream",
          "text": [
            "\n",
            "    Model: Content model\n",
            "    train MSE: 0.09583486656651453\n",
            "    train MAE: 0.08693241182656625\n",
            "    train MAPE: 0.02735752764008622\n",
            "\n",
            "    test MSE: 0.16981348403016774\n",
            "    test MAE: 0.16918544117820783\n",
            "    test MAPE: 0.06523918938139128\n",
            "    \n"
          ],
          "name": "stdout"
        }
      ]
    },
    {
      "cell_type": "markdown",
      "metadata": {
        "id": "JbJajaGVymJK",
        "colab_type": "text"
      },
      "source": [
        "----------------------------"
      ]
    },
    {
      "cell_type": "code",
      "metadata": {
        "id": "T-W-5dTdaCtq",
        "colab_type": "code",
        "colab": {
          "base_uri": "https://localhost:8080/",
          "height": 187
        },
        "outputId": "49a17245-0d99-407e-aaa5-0f9e86c4a60f"
      },
      "source": [
        "# uembed: 24  (user dense: 8 - item dense: 8 - features dense: 16) - (dense: 16 - 1) no dropout on dense, no regularization\n",
        "print_model_errors(\"Content model\", content_mse, content_mae, content_mape, content_test_mse, content_test_mae, content_test_mape)"
      ],
      "execution_count": null,
      "outputs": [
        {
          "output_type": "stream",
          "text": [
            "\n",
            "    Model: Content model\n",
            "    train MSE: 0.09300321332403756\n",
            "    train MAE: 0.08373591233109888\n",
            "    train MAPE: 0.02883052729803167\n",
            "\n",
            "    test MSE: 0.21010976081888158\n",
            "    test MAE: 0.15495792195285746\n",
            "    test MAPE: 0.07630318119735532\n",
            "    \n"
          ],
          "name": "stdout"
        }
      ]
    },
    {
      "cell_type": "code",
      "metadata": {
        "id": "hQBUQRLGX0ob",
        "colab_type": "code",
        "colab": {
          "base_uri": "https://localhost:8080/",
          "height": 187
        },
        "outputId": "1c8baa9e-17da-45e8-f66c-8cb1e207804c"
      },
      "source": [
        "print_model_errors(\"deep colab\", deepcolab_mse, deepcolab_mae, deepcolab_mape, deepcolab_test_mse, deepcolab_test_mae, deepcolab_test_mape)"
      ],
      "execution_count": 85,
      "outputs": [
        {
          "output_type": "stream",
          "text": [
            "\n",
            "    Model: deep colab\n",
            "    train MSE: 0.12137566756044856\n",
            "    train MAE: 0.10803681771537607\n",
            "    train MAPE: 0.037663587470137226\n",
            "\n",
            "    test MSE: 0.5302707811488842\n",
            "    test MAE: 0.3592532737431535\n",
            "    test MAPE: 0.13923411587233192\n",
            "    \n"
          ],
          "name": "stdout"
        }
      ]
    },
    {
      "cell_type": "code",
      "metadata": {
        "id": "pa8Jwj1I2rlH",
        "colab_type": "code",
        "colab": {
          "base_uri": "https://localhost:8080/",
          "height": 410
        },
        "outputId": "f70ff964-01b5-4594-e370-071c88c16587"
      },
      "source": [
        "kk.utils.plot_model(content_model)"
      ],
      "execution_count": null,
      "outputs": [
        {
          "output_type": "execute_result",
          "data": {
            "image/png": "[encoded data removed]",
            "text/plain": [
              "<IPython.core.display.Image object>"
            ]
          },
          "metadata": {
            "tags": []
          },
          "execution_count": 377
        }
      ]
    },
    {
      "cell_type": "code",
      "metadata": {
        "id": "sWs6WCjm22u-",
        "colab_type": "code",
        "colab": {
          "base_uri": "https://localhost:8080/",
          "height": 1000
        },
        "outputId": "825f935b-024b-4cf2-a79d-f97a2409d270"
      },
      "source": [
        "content_model.summary()"
      ],
      "execution_count": null,
      "outputs": [
        {
          "output_type": "stream",
          "text": [
            "Model: \"model\"\n",
            "__________________________________________________________________________________________________\n",
            "Layer (type)                    Output Shape         Param #     Connected to                     \n",
            "==================================================================================================\n",
            "input_2 (InputLayer)            [(None, 1)]          0                                            \n",
            "__________________________________________________________________________________________________\n",
            "input_1 (InputLayer)            [(None, 1)]          0                                            \n",
            "__________________________________________________________________________________________________\n",
            "input_4 (InputLayer)            [(None, 1)]          0                                            \n",
            "__________________________________________________________________________________________________\n",
            "input_7 (InputLayer)            [(None, 1)]          0                                            \n",
            "__________________________________________________________________________________________________\n",
            "input_8 (InputLayer)            [(None, 1)]          0                                            \n",
            "__________________________________________________________________________________________________\n",
            "userembed (Embedding)           (None, 1, 24)        23808       input_2[0][0]                    \n",
            "__________________________________________________________________________________________________\n",
            "ubias (Embedding)               (None, 1, 1)         991         input_2[0][0]                    \n",
            "__________________________________________________________________________________________________\n",
            "iembed (Embedding)              (None, 1, 16)        1376        input_1[0][0]                    \n",
            "__________________________________________________________________________________________________\n",
            "ibias (Embedding)               (None, 1, 1)         86          input_1[0][0]                    \n",
            "__________________________________________________________________________________________________\n",
            "col_embed (Embedding)           (None, 1, 16)        1248        input_4[0][0]                    \n",
            "__________________________________________________________________________________________________\n",
            "stylename_embed (Embedding)     (None, 1, 4)         24          input_7[0][0]                    \n",
            "__________________________________________________________________________________________________\n",
            "scent_embed (Embedding)         (None, 1, 8)         80          input_8[0][0]                    \n",
            "__________________________________________________________________________________________________\n",
            "flatten (Flatten)               (None, 24)           0           userembed[0][0]                  \n",
            "__________________________________________________________________________________________________\n",
            "flatten_1 (Flatten)             (None, 1)            0           ubias[0][0]                      \n",
            "__________________________________________________________________________________________________\n",
            "flatten_2 (Flatten)             (None, 16)           0           iembed[0][0]                     \n",
            "__________________________________________________________________________________________________\n",
            "flatten_3 (Flatten)             (None, 1)            0           ibias[0][0]                      \n",
            "__________________________________________________________________________________________________\n",
            "flatten_5 (Flatten)             (None, 16)           0           col_embed[0][0]                  \n",
            "__________________________________________________________________________________________________\n",
            "flatten_8 (Flatten)             (None, 4)            0           stylename_embed[0][0]            \n",
            "__________________________________________________________________________________________________\n",
            "flatten_9 (Flatten)             (None, 8)            0           scent_embed[0][0]                \n",
            "__________________________________________________________________________________________________\n",
            "concatenate (Concatenate)       (None, 25)           0           flatten[0][0]                    \n",
            "                                                                 flatten_1[0][0]                  \n",
            "__________________________________________________________________________________________________\n",
            "concatenate_1 (Concatenate)     (None, 17)           0           flatten_2[0][0]                  \n",
            "                                                                 flatten_3[0][0]                  \n",
            "__________________________________________________________________________________________________\n",
            "concatenate_2 (Concatenate)     (None, 28)           0           flatten_5[0][0]                  \n",
            "                                                                 flatten_8[0][0]                  \n",
            "                                                                 flatten_9[0][0]                  \n",
            "__________________________________________________________________________________________________\n",
            "dropout (Dropout)               (None, 25)           0           concatenate[0][0]                \n",
            "__________________________________________________________________________________________________\n",
            "dropout_1 (Dropout)             (None, 17)           0           concatenate_1[0][0]              \n",
            "__________________________________________________________________________________________________\n",
            "dropout_2 (Dropout)             (None, 28)           0           concatenate_2[0][0]              \n",
            "__________________________________________________________________________________________________\n",
            "dense (Dense)                   (None, 8)            208         dropout[0][0]                    \n",
            "__________________________________________________________________________________________________\n",
            "dense_1 (Dense)                 (None, 8)            144         dropout_1[0][0]                  \n",
            "__________________________________________________________________________________________________\n",
            "dense_2 (Dense)                 (None, 16)           464         dropout_2[0][0]                  \n",
            "__________________________________________________________________________________________________\n",
            "concatenate_3 (Concatenate)     (None, 32)           0           dense[0][0]                      \n",
            "                                                                 dense_1[0][0]                    \n",
            "                                                                 dense_2[0][0]                    \n",
            "__________________________________________________________________________________________________\n",
            "dense_3 (Dense)                 (None, 16)           528         concatenate_3[0][0]              \n",
            "__________________________________________________________________________________________________\n",
            "input_3 (InputLayer)            [(None, 1)]          0                                            \n",
            "__________________________________________________________________________________________________\n",
            "input_5 (InputLayer)            [(None, 1)]          0                                            \n",
            "__________________________________________________________________________________________________\n",
            "input_6 (InputLayer)            [(None, 1)]          0                                            \n",
            "__________________________________________________________________________________________________\n",
            "dense_4 (Dense)                 (None, 1)            17          dense_3[0][0]                    \n",
            "==================================================================================================\n",
            "Total params: 28,974\n",
            "Trainable params: 28,974\n",
            "Non-trainable params: 0\n",
            "__________________________________________________________________________________________________\n"
          ],
          "name": "stdout"
        }
      ]
    },
    {
      "cell_type": "markdown",
      "metadata": {
        "id": "znxnZhayulo9",
        "colab_type": "text"
      },
      "source": [
        "# Save model results"
      ]
    },
    {
      "cell_type": "code",
      "metadata": {
        "id": "ACRBo3Rou554",
        "colab_type": "code",
        "colab": {}
      },
      "source": [
        "train_mae = pd.DataFrame({\n",
        "    'content': content_mae,\n",
        "    'deep_colab': deepcolab_mae,\n",
        "    'colab': colab_mae\n",
        "})\n",
        "train_mse = pd.DataFrame({\n",
        "    'content': content_mse,\n",
        "    'deep_colab': deepcolab_mse,\n",
        "    'colab': colab_mse\n",
        "})\n",
        "train_mape = pd.DataFrame({\n",
        "    'content': content_mape,\n",
        "    'deep_colab': deepcolab_mape,\n",
        "    'colab': colab_mape\n",
        "})\n",
        "\n",
        "test_data_res = pd.DataFrame({\n",
        "    'colab': [colab_test_mae, colab_test_mape, colab_test_mse],\n",
        "    'deep_colab': [deepcolab_test_mae, deepcolab_test_mape, deepcolab_test_mse],\n",
        "    'content': [content_test_mae, content_test_mape, content_test_mse]\n",
        "}, index=['test_mae', 'test_mape', 'test_mse'])\n"
      ],
      "execution_count": 97,
      "outputs": []
    },
    {
      "cell_type": "code",
      "metadata": {
        "id": "Sjqh1qMjfipu",
        "colab_type": "code",
        "colab": {}
      },
      "source": [
        "train_mae.to_csv(\"train_mae_res.csv\", index=False)\n",
        "train_mse.to_csv(\"train_mse_res.csv\", index=False)\n",
        "train_mape.to_csv(\"train_mape_res.csv\", index=False)\n",
        "\n",
        "test_data_res.to_csv(\"test_data_res.csv\", index=True)"
      ],
      "execution_count": 98,
      "outputs": []
    },
    {
      "cell_type": "code",
      "metadata": {
        "id": "LbEzn7Yk1Ouq",
        "colab_type": "code",
        "colab": {
          "base_uri": "https://localhost:8080/",
          "height": 139
        },
        "outputId": "1faf59a3-00cf-40e8-cd68-42e576d81163"
      },
      "source": [
        "colab_model.save(\"./colab_model\")\n",
        "content_model.save(\"./conent_model\")\n",
        "deepcolab_model.save(\"./deep_colab_model\")"
      ],
      "execution_count": 99,
      "outputs": [
        {
          "output_type": "stream",
          "text": [
            "WARNING:tensorflow:From /usr/local/lib/python3.6/dist-packages/tensorflow/python/ops/resource_variable_ops.py:1817: calling BaseResourceVariable.__init__ (from tensorflow.python.ops.resource_variable_ops) with constraint is deprecated and will be removed in a future version.\n",
            "Instructions for updating:\n",
            "If using Keras pass *_constraint arguments to layers.\n",
            "INFO:tensorflow:Assets written to: ./colab_model/assets\n",
            "INFO:tensorflow:Assets written to: ./conent_model/assets\n",
            "INFO:tensorflow:Assets written to: ./deep_colab_model/assets\n"
          ],
          "name": "stdout"
        }
      ]
    },
    {
      "cell_type": "code",
      "metadata": {
        "id": "aiOq1mU71srS",
        "colab_type": "code",
        "colab": {
          "base_uri": "https://localhost:8080/",
          "height": 119
        },
        "outputId": "6249575b-1c36-4692-973b-814534f0478e"
      },
      "source": [
        "!zip -r ./colab_model.zip ./colab_model/"
      ],
      "execution_count": 100,
      "outputs": [
        {
          "output_type": "stream",
          "text": [
            "  adding: colab_model/ (stored 0%)\n",
            "  adding: colab_model/saved_model.pb (deflated 89%)\n",
            "  adding: colab_model/variables/ (stored 0%)\n",
            "  adding: colab_model/variables/variables.index (deflated 63%)\n",
            "  adding: colab_model/variables/variables.data-00000-of-00001 (deflated 8%)\n",
            "  adding: colab_model/assets/ (stored 0%)\n"
          ],
          "name": "stdout"
        }
      ]
    },
    {
      "cell_type": "code",
      "metadata": {
        "id": "k79tXBQp1ysn",
        "colab_type": "code",
        "colab": {
          "base_uri": "https://localhost:8080/",
          "height": 119
        },
        "outputId": "eff8cdaf-2ac7-4885-e8b0-004e598c7006"
      },
      "source": [
        "!zip -r ./content_model.zip ./conent_model/"
      ],
      "execution_count": 101,
      "outputs": [
        {
          "output_type": "stream",
          "text": [
            "  adding: conent_model/ (stored 0%)\n",
            "  adding: conent_model/saved_model.pb (deflated 90%)\n",
            "  adding: conent_model/variables/ (stored 0%)\n",
            "  adding: conent_model/variables/variables.index (deflated 70%)\n",
            "  adding: conent_model/variables/variables.data-00000-of-00001 (deflated 9%)\n",
            "  adding: conent_model/assets/ (stored 0%)\n"
          ],
          "name": "stdout"
        }
      ]
    },
    {
      "cell_type": "code",
      "metadata": {
        "id": "zgH-bZAc142Q",
        "colab_type": "code",
        "colab": {
          "base_uri": "https://localhost:8080/",
          "height": 119
        },
        "outputId": "bc95df17-ed7b-4631-dc2b-8ffc62cd48c2"
      },
      "source": [
        "!zip -r ./deep_colab_model.zip ./deep_colab_model/"
      ],
      "execution_count": 102,
      "outputs": [
        {
          "output_type": "stream",
          "text": [
            "  adding: deep_colab_model/ (stored 0%)\n",
            "  adding: deep_colab_model/saved_model.pb (deflated 90%)\n",
            "  adding: deep_colab_model/variables/ (stored 0%)\n",
            "  adding: deep_colab_model/variables/variables.index (deflated 67%)\n",
            "  adding: deep_colab_model/variables/variables.data-00000-of-00001 (deflated 7%)\n",
            "  adding: deep_colab_model/assets/ (stored 0%)\n"
          ],
          "name": "stdout"
        }
      ]
    },
    {
      "cell_type": "markdown",
      "metadata": {
        "id": "L-vdiLO9h6sq",
        "colab_type": "text"
      },
      "source": [
        "# Statistical comparisons"
      ]
    },
    {
      "cell_type": "code",
      "metadata": {
        "id": "vn8mwLxxrqE0",
        "colab_type": "code",
        "colab": {
          "base_uri": "https://localhost:8080/",
          "height": 297
        },
        "outputId": "9f73bb40-8fbd-437f-87b5-dcc295cc33ea"
      },
      "source": [
        "train_mae.describe()"
      ],
      "execution_count": 103,
      "outputs": [
        {
          "output_type": "execute_result",
          "data": {
            "text/html": [
              "<div>\n",
              "<style scoped>\n",
              "    .dataframe tbody tr th:only-of-type {\n",
              "        vertical-align: middle;\n",
              "    }\n",
              "\n",
              "    .dataframe tbody tr th {\n",
              "        vertical-align: top;\n",
              "    }\n",
              "\n",
              "    .dataframe thead th {\n",
              "        text-align: right;\n",
              "    }\n",
              "</style>\n",
              "<table border=\"1\" class=\"dataframe\">\n",
              "  <thead>\n",
              "    <tr style=\"text-align: right;\">\n",
              "      <th></th>\n",
              "      <th>content</th>\n",
              "      <th>deep_colab</th>\n",
              "      <th>colab</th>\n",
              "    </tr>\n",
              "  </thead>\n",
              "  <tbody>\n",
              "    <tr>\n",
              "      <th>count</th>\n",
              "      <td>10.000000</td>\n",
              "      <td>10.000000</td>\n",
              "      <td>10.000000</td>\n",
              "    </tr>\n",
              "    <tr>\n",
              "      <th>mean</th>\n",
              "      <td>0.086932</td>\n",
              "      <td>0.108037</td>\n",
              "      <td>0.347618</td>\n",
              "    </tr>\n",
              "    <tr>\n",
              "      <th>std</th>\n",
              "      <td>0.013374</td>\n",
              "      <td>0.016036</td>\n",
              "      <td>0.077915</td>\n",
              "    </tr>\n",
              "    <tr>\n",
              "      <th>min</th>\n",
              "      <td>0.071966</td>\n",
              "      <td>0.082395</td>\n",
              "      <td>0.229990</td>\n",
              "    </tr>\n",
              "    <tr>\n",
              "      <th>25%</th>\n",
              "      <td>0.077140</td>\n",
              "      <td>0.096528</td>\n",
              "      <td>0.302102</td>\n",
              "    </tr>\n",
              "    <tr>\n",
              "      <th>50%</th>\n",
              "      <td>0.082345</td>\n",
              "      <td>0.109263</td>\n",
              "      <td>0.336365</td>\n",
              "    </tr>\n",
              "    <tr>\n",
              "      <th>75%</th>\n",
              "      <td>0.100326</td>\n",
              "      <td>0.120567</td>\n",
              "      <td>0.402659</td>\n",
              "    </tr>\n",
              "    <tr>\n",
              "      <th>max</th>\n",
              "      <td>0.105977</td>\n",
              "      <td>0.131735</td>\n",
              "      <td>0.487377</td>\n",
              "    </tr>\n",
              "  </tbody>\n",
              "</table>\n",
              "</div>"
            ],
            "text/plain": [
              "         content  deep_colab      colab\n",
              "count  10.000000   10.000000  10.000000\n",
              "mean    0.086932    0.108037   0.347618\n",
              "std     0.013374    0.016036   0.077915\n",
              "min     0.071966    0.082395   0.229990\n",
              "25%     0.077140    0.096528   0.302102\n",
              "50%     0.082345    0.109263   0.336365\n",
              "75%     0.100326    0.120567   0.402659\n",
              "max     0.105977    0.131735   0.487377"
            ]
          },
          "metadata": {
            "tags": []
          },
          "execution_count": 103
        }
      ]
    },
    {
      "cell_type": "code",
      "metadata": {
        "id": "kerLLJt0rtEe",
        "colab_type": "code",
        "colab": {
          "base_uri": "https://localhost:8080/",
          "height": 297
        },
        "outputId": "a5b9e4bd-825a-4538-96ac-3150620d1741"
      },
      "source": [
        "train_mape.describe()"
      ],
      "execution_count": 104,
      "outputs": [
        {
          "output_type": "execute_result",
          "data": {
            "text/html": [
              "<div>\n",
              "<style scoped>\n",
              "    .dataframe tbody tr th:only-of-type {\n",
              "        vertical-align: middle;\n",
              "    }\n",
              "\n",
              "    .dataframe tbody tr th {\n",
              "        vertical-align: top;\n",
              "    }\n",
              "\n",
              "    .dataframe thead th {\n",
              "        text-align: right;\n",
              "    }\n",
              "</style>\n",
              "<table border=\"1\" class=\"dataframe\">\n",
              "  <thead>\n",
              "    <tr style=\"text-align: right;\">\n",
              "      <th></th>\n",
              "      <th>content</th>\n",
              "      <th>deep_colab</th>\n",
              "      <th>colab</th>\n",
              "    </tr>\n",
              "  </thead>\n",
              "  <tbody>\n",
              "    <tr>\n",
              "      <th>count</th>\n",
              "      <td>10.000000</td>\n",
              "      <td>10.000000</td>\n",
              "      <td>10.000000</td>\n",
              "    </tr>\n",
              "    <tr>\n",
              "      <th>mean</th>\n",
              "      <td>0.027358</td>\n",
              "      <td>0.037664</td>\n",
              "      <td>0.082187</td>\n",
              "    </tr>\n",
              "    <tr>\n",
              "      <th>std</th>\n",
              "      <td>0.006914</td>\n",
              "      <td>0.007112</td>\n",
              "      <td>0.018024</td>\n",
              "    </tr>\n",
              "    <tr>\n",
              "      <th>min</th>\n",
              "      <td>0.018393</td>\n",
              "      <td>0.022453</td>\n",
              "      <td>0.056065</td>\n",
              "    </tr>\n",
              "    <tr>\n",
              "      <th>25%</th>\n",
              "      <td>0.022683</td>\n",
              "      <td>0.034671</td>\n",
              "      <td>0.073383</td>\n",
              "    </tr>\n",
              "    <tr>\n",
              "      <th>50%</th>\n",
              "      <td>0.024775</td>\n",
              "      <td>0.037409</td>\n",
              "      <td>0.077206</td>\n",
              "    </tr>\n",
              "    <tr>\n",
              "      <th>75%</th>\n",
              "      <td>0.033288</td>\n",
              "      <td>0.042545</td>\n",
              "      <td>0.093773</td>\n",
              "    </tr>\n",
              "    <tr>\n",
              "      <th>max</th>\n",
              "      <td>0.039227</td>\n",
              "      <td>0.046571</td>\n",
              "      <td>0.116838</td>\n",
              "    </tr>\n",
              "  </tbody>\n",
              "</table>\n",
              "</div>"
            ],
            "text/plain": [
              "         content  deep_colab      colab\n",
              "count  10.000000   10.000000  10.000000\n",
              "mean    0.027358    0.037664   0.082187\n",
              "std     0.006914    0.007112   0.018024\n",
              "min     0.018393    0.022453   0.056065\n",
              "25%     0.022683    0.034671   0.073383\n",
              "50%     0.024775    0.037409   0.077206\n",
              "75%     0.033288    0.042545   0.093773\n",
              "max     0.039227    0.046571   0.116838"
            ]
          },
          "metadata": {
            "tags": []
          },
          "execution_count": 104
        }
      ]
    },
    {
      "cell_type": "code",
      "metadata": {
        "id": "IQjTNPHgrwIT",
        "colab_type": "code",
        "colab": {
          "base_uri": "https://localhost:8080/",
          "height": 297
        },
        "outputId": "948e76e2-defe-400c-d453-5efaba4b70ea"
      },
      "source": [
        "train_mse.describe()"
      ],
      "execution_count": 105,
      "outputs": [
        {
          "output_type": "execute_result",
          "data": {
            "text/html": [
              "<div>\n",
              "<style scoped>\n",
              "    .dataframe tbody tr th:only-of-type {\n",
              "        vertical-align: middle;\n",
              "    }\n",
              "\n",
              "    .dataframe tbody tr th {\n",
              "        vertical-align: top;\n",
              "    }\n",
              "\n",
              "    .dataframe thead th {\n",
              "        text-align: right;\n",
              "    }\n",
              "</style>\n",
              "<table border=\"1\" class=\"dataframe\">\n",
              "  <thead>\n",
              "    <tr style=\"text-align: right;\">\n",
              "      <th></th>\n",
              "      <th>content</th>\n",
              "      <th>deep_colab</th>\n",
              "      <th>colab</th>\n",
              "    </tr>\n",
              "  </thead>\n",
              "  <tbody>\n",
              "    <tr>\n",
              "      <th>count</th>\n",
              "      <td>10.000000</td>\n",
              "      <td>10.000000</td>\n",
              "      <td>10.000000</td>\n",
              "    </tr>\n",
              "    <tr>\n",
              "      <th>mean</th>\n",
              "      <td>0.095835</td>\n",
              "      <td>0.121376</td>\n",
              "      <td>0.870198</td>\n",
              "    </tr>\n",
              "    <tr>\n",
              "      <th>std</th>\n",
              "      <td>0.036194</td>\n",
              "      <td>0.026243</td>\n",
              "      <td>0.405272</td>\n",
              "    </tr>\n",
              "    <tr>\n",
              "      <th>min</th>\n",
              "      <td>0.048836</td>\n",
              "      <td>0.081004</td>\n",
              "      <td>0.367964</td>\n",
              "    </tr>\n",
              "    <tr>\n",
              "      <th>25%</th>\n",
              "      <td>0.068130</td>\n",
              "      <td>0.106168</td>\n",
              "      <td>0.658509</td>\n",
              "    </tr>\n",
              "    <tr>\n",
              "      <th>50%</th>\n",
              "      <td>0.093216</td>\n",
              "      <td>0.121486</td>\n",
              "      <td>0.772182</td>\n",
              "    </tr>\n",
              "    <tr>\n",
              "      <th>75%</th>\n",
              "      <td>0.117481</td>\n",
              "      <td>0.139986</td>\n",
              "      <td>0.947518</td>\n",
              "    </tr>\n",
              "    <tr>\n",
              "      <th>max</th>\n",
              "      <td>0.160067</td>\n",
              "      <td>0.157365</td>\n",
              "      <td>1.708260</td>\n",
              "    </tr>\n",
              "  </tbody>\n",
              "</table>\n",
              "</div>"
            ],
            "text/plain": [
              "         content  deep_colab      colab\n",
              "count  10.000000   10.000000  10.000000\n",
              "mean    0.095835    0.121376   0.870198\n",
              "std     0.036194    0.026243   0.405272\n",
              "min     0.048836    0.081004   0.367964\n",
              "25%     0.068130    0.106168   0.658509\n",
              "50%     0.093216    0.121486   0.772182\n",
              "75%     0.117481    0.139986   0.947518\n",
              "max     0.160067    0.157365   1.708260"
            ]
          },
          "metadata": {
            "tags": []
          },
          "execution_count": 105
        }
      ]
    },
    {
      "cell_type": "code",
      "metadata": {
        "id": "6FryO4vvqRZU",
        "colab_type": "code",
        "colab": {
          "base_uri": "https://localhost:8080/",
          "height": 321
        },
        "outputId": "e2e6b437-b401-4af9-b2c5-d495bbb84446"
      },
      "source": [
        "mae_fig =sns.boxplot(x=['Content model', 'Deep collab. filt.', 'Collab. filt.'], y=[train_mae.content, train_mae.deep_colab, train_mae.colab]);\n",
        "mae_fig.set_xticklabels(mae_fig.get_xticklabels(), rotation=30);\n",
        "mae_fig.set_title(\"Train MAE\");"
      ],
      "execution_count": 106,
      "outputs": [
        {
          "output_type": "display_data",
          "data": {
            "image/png": "[encoded data removed]",
            "text/plain": [
              "<Figure size 432x288 with 1 Axes>"
            ]
          },
          "metadata": {
            "tags": []
          }
        }
      ]
    },
    {
      "cell_type": "code",
      "metadata": {
        "id": "67CNNx2ArQ8_",
        "colab_type": "code",
        "colab": {
          "base_uri": "https://localhost:8080/",
          "height": 321
        },
        "outputId": "b1d26535-8291-4459-ffd8-8f5ea5ffc05f"
      },
      "source": [
        "mape_fig =sns.boxplot(x=['Content model', 'Deep collab. filt.', 'Collab. filt.'], y=[train_mape.content, train_mape.deep_colab, train_mape.colab]);\n",
        "mape_fig.set_xticklabels(mape_fig.get_xticklabels(), rotation=30);\n",
        "mape_fig.set_title(\"Train MAPE\");"
      ],
      "execution_count": 107,
      "outputs": [
        {
          "output_type": "display_data",
          "data": {
            "image/png": "[encoded data removed]",
            "text/plain": [
              "<Figure size 432x288 with 1 Axes>"
            ]
          },
          "metadata": {
            "tags": []
          }
        }
      ]
    },
    {
      "cell_type": "code",
      "metadata": {
        "id": "r_n4CH0-rYrb",
        "colab_type": "code",
        "colab": {
          "base_uri": "https://localhost:8080/",
          "height": 321
        },
        "outputId": "87ba5e00-1a90-44a7-a62c-e7d1d6956d87"
      },
      "source": [
        "mse_fig =sns.boxplot(x=['Content model', 'Deep collab. filt.', 'Collab. filt.'], y=[train_mse.content, train_mse.deep_colab, train_mse.colab]);\n",
        "mse_fig.set_xticklabels(mse_fig.get_xticklabels(), rotation=30);\n",
        "mse_fig.set_title(\"Train MSE\");"
      ],
      "execution_count": 108,
      "outputs": [
        {
          "output_type": "display_data",
          "data": {
            "image/png": "[encoded data removed]",
            "text/plain": [
              "<Figure size 432x288 with 1 Axes>"
            ]
          },
          "metadata": {
            "tags": []
          }
        }
      ]
    },
    {
      "cell_type": "code",
      "metadata": {
        "id": "RPLSeC82tjHZ",
        "colab_type": "code",
        "colab": {
          "base_uri": "https://localhost:8080/",
          "height": 119
        },
        "outputId": "7313af07-1cf3-4104-c8f5-c83aeca5d3ab"
      },
      "source": [
        "print(f\"\"\"\n",
        "Test MAE results:\n",
        "COLAB:            {colab_test_mae}\n",
        "DEEP COLAB:       {deepcolab_test_mae}\n",
        "CONTENT:          {content_test_mae}\n",
        "\"\"\")"
      ],
      "execution_count": 109,
      "outputs": [
        {
          "output_type": "stream",
          "text": [
            "\n",
            "Test MAE results:\n",
            "COLAB:            4.7270519392276835\n",
            "DEEP COLAB:       0.3592532737431535\n",
            "CONTENT:          0.16918544117820783\n",
            "\n"
          ],
          "name": "stdout"
        }
      ]
    },
    {
      "cell_type": "code",
      "metadata": {
        "id": "iKRRP3YNtyob",
        "colab_type": "code",
        "colab": {
          "base_uri": "https://localhost:8080/",
          "height": 119
        },
        "outputId": "d37d4b6a-b78e-47d4-faa2-8a4efefb3e01"
      },
      "source": [
        "print(f\"\"\"\n",
        "Test MSE results:\n",
        "COLAB:            {colab_test_mse}\n",
        "DEEP COLAB:       {deepcolab_test_mse}\n",
        "CONTENT:          {content_test_mse}\n",
        "\"\"\")"
      ],
      "execution_count": 110,
      "outputs": [
        {
          "output_type": "stream",
          "text": [
            "\n",
            "Test MSE results:\n",
            "COLAB:            22.857315422868076\n",
            "DEEP COLAB:       0.5302707811488842\n",
            "CONTENT:          0.16981348403016774\n",
            "\n"
          ],
          "name": "stdout"
        }
      ]
    },
    {
      "cell_type": "code",
      "metadata": {
        "id": "7zKtyUqrt275",
        "colab_type": "code",
        "colab": {
          "base_uri": "https://localhost:8080/",
          "height": 119
        },
        "outputId": "873a5780-65b1-437e-ab7c-ab0b4a732253"
      },
      "source": [
        "print(f\"\"\"\n",
        "Test MSE results:\n",
        "COLAB:            {colab_test_mape}\n",
        "DEEP COLAB:       {deepcolab_test_mape}\n",
        "CONTENT:          {content_test_mape}\n",
        "\"\"\")"
      ],
      "execution_count": 111,
      "outputs": [
        {
          "output_type": "stream",
          "text": [
            "\n",
            "Test MSE results:\n",
            "COLAB:            0.9867103607851144\n",
            "DEEP COLAB:       0.13923411587233192\n",
            "CONTENT:          0.06523918938139128\n",
            "\n"
          ],
          "name": "stdout"
        }
      ]
    },
    {
      "cell_type": "code",
      "metadata": {
        "id": "0D5cbO7sgx1S",
        "colab_type": "code",
        "colab": {
          "base_uri": "https://localhost:8080/",
          "height": 34
        },
        "outputId": "4d308fed-8851-4f2e-b661-c96ea096b536"
      },
      "source": [
        "st.kruskal(content_mse, deepcolab_mse, colab_mse)"
      ],
      "execution_count": 112,
      "outputs": [
        {
          "output_type": "execute_result",
          "data": {
            "text/plain": [
              "KruskalResult(statistic=20.603870967741926, pvalue=3.356806182826548e-05)"
            ]
          },
          "metadata": {
            "tags": []
          },
          "execution_count": 112
        }
      ]
    },
    {
      "cell_type": "code",
      "metadata": {
        "id": "z2229A7wbOVQ",
        "colab_type": "code",
        "colab": {
          "base_uri": "https://localhost:8080/",
          "height": 142
        },
        "outputId": "c6c177b5-3e01-439e-e57b-8e147d9a816d"
      },
      "source": [
        "sp.posthoc_conover([content_mae, deepcolab_mae, colab_mae], p_adjust='holm')"
      ],
      "execution_count": 113,
      "outputs": [
        {
          "output_type": "execute_result",
          "data": {
            "text/html": [
              "<div>\n",
              "<style scoped>\n",
              "    .dataframe tbody tr th:only-of-type {\n",
              "        vertical-align: middle;\n",
              "    }\n",
              "\n",
              "    .dataframe tbody tr th {\n",
              "        vertical-align: top;\n",
              "    }\n",
              "\n",
              "    .dataframe thead th {\n",
              "        text-align: right;\n",
              "    }\n",
              "</style>\n",
              "<table border=\"1\" class=\"dataframe\">\n",
              "  <thead>\n",
              "    <tr style=\"text-align: right;\">\n",
              "      <th></th>\n",
              "      <th>1</th>\n",
              "      <th>2</th>\n",
              "      <th>3</th>\n",
              "    </tr>\n",
              "  </thead>\n",
              "  <tbody>\n",
              "    <tr>\n",
              "      <th>1</th>\n",
              "      <td>-1.000000e+00</td>\n",
              "      <td>0.003570</td>\n",
              "      <td>3.257647e-09</td>\n",
              "    </tr>\n",
              "    <tr>\n",
              "      <th>2</th>\n",
              "      <td>3.570100e-03</td>\n",
              "      <td>-1.000000</td>\n",
              "      <td>5.727498e-06</td>\n",
              "    </tr>\n",
              "    <tr>\n",
              "      <th>3</th>\n",
              "      <td>3.257647e-09</td>\n",
              "      <td>0.000006</td>\n",
              "      <td>-1.000000e+00</td>\n",
              "    </tr>\n",
              "  </tbody>\n",
              "</table>\n",
              "</div>"
            ],
            "text/plain": [
              "              1         2             3\n",
              "1 -1.000000e+00  0.003570  3.257647e-09\n",
              "2  3.570100e-03 -1.000000  5.727498e-06\n",
              "3  3.257647e-09  0.000006 -1.000000e+00"
            ]
          },
          "metadata": {
            "tags": []
          },
          "execution_count": 113
        }
      ]
    },
    {
      "cell_type": "code",
      "metadata": {
        "id": "fkBDFaLAZn4x",
        "colab_type": "code",
        "colab": {
          "base_uri": "https://localhost:8080/",
          "height": 142
        },
        "outputId": "12e961d6-806a-49e2-ce30-7bf069e9441d"
      },
      "source": [
        "sp.posthoc_conover([content_mse, deepcolab_mse, colab_mse], p_adjust='holm')"
      ],
      "execution_count": 114,
      "outputs": [
        {
          "output_type": "execute_result",
          "data": {
            "text/html": [
              "<div>\n",
              "<style scoped>\n",
              "    .dataframe tbody tr th:only-of-type {\n",
              "        vertical-align: middle;\n",
              "    }\n",
              "\n",
              "    .dataframe tbody tr th {\n",
              "        vertical-align: top;\n",
              "    }\n",
              "\n",
              "    .dataframe thead th {\n",
              "        text-align: right;\n",
              "    }\n",
              "</style>\n",
              "<table border=\"1\" class=\"dataframe\">\n",
              "  <thead>\n",
              "    <tr style=\"text-align: right;\">\n",
              "      <th></th>\n",
              "      <th>1</th>\n",
              "      <th>2</th>\n",
              "      <th>3</th>\n",
              "    </tr>\n",
              "  </thead>\n",
              "  <tbody>\n",
              "    <tr>\n",
              "      <th>1</th>\n",
              "      <td>-1.000000e+00</td>\n",
              "      <td>0.055181</td>\n",
              "      <td>6.024843e-08</td>\n",
              "    </tr>\n",
              "    <tr>\n",
              "      <th>2</th>\n",
              "      <td>5.518052e-02</td>\n",
              "      <td>-1.000000</td>\n",
              "      <td>6.626016e-06</td>\n",
              "    </tr>\n",
              "    <tr>\n",
              "      <th>3</th>\n",
              "      <td>6.024843e-08</td>\n",
              "      <td>0.000007</td>\n",
              "      <td>-1.000000e+00</td>\n",
              "    </tr>\n",
              "  </tbody>\n",
              "</table>\n",
              "</div>"
            ],
            "text/plain": [
              "              1         2             3\n",
              "1 -1.000000e+00  0.055181  6.024843e-08\n",
              "2  5.518052e-02 -1.000000  6.626016e-06\n",
              "3  6.024843e-08  0.000007 -1.000000e+00"
            ]
          },
          "metadata": {
            "tags": []
          },
          "execution_count": 114
        }
      ]
    },
    {
      "cell_type": "code",
      "metadata": {
        "id": "mHK3pa1vmFET",
        "colab_type": "code",
        "colab": {
          "base_uri": "https://localhost:8080/",
          "height": 142
        },
        "outputId": "0112177d-4c90-4fcd-94ac-3d7ce634535b"
      },
      "source": [
        "sp.posthoc_conover([content_mape, deepcolab_mape, colab_mape], p_adjust='holm')"
      ],
      "execution_count": 115,
      "outputs": [
        {
          "output_type": "execute_result",
          "data": {
            "text/html": [
              "<div>\n",
              "<style scoped>\n",
              "    .dataframe tbody tr th:only-of-type {\n",
              "        vertical-align: middle;\n",
              "    }\n",
              "\n",
              "    .dataframe tbody tr th {\n",
              "        vertical-align: top;\n",
              "    }\n",
              "\n",
              "    .dataframe thead th {\n",
              "        text-align: right;\n",
              "    }\n",
              "</style>\n",
              "<table border=\"1\" class=\"dataframe\">\n",
              "  <thead>\n",
              "    <tr style=\"text-align: right;\">\n",
              "      <th></th>\n",
              "      <th>1</th>\n",
              "      <th>2</th>\n",
              "      <th>3</th>\n",
              "    </tr>\n",
              "  </thead>\n",
              "  <tbody>\n",
              "    <tr>\n",
              "      <th>1</th>\n",
              "      <td>-1.000000e+00</td>\n",
              "      <td>0.002509</td>\n",
              "      <td>2.265006e-09</td>\n",
              "    </tr>\n",
              "    <tr>\n",
              "      <th>2</th>\n",
              "      <td>2.509331e-03</td>\n",
              "      <td>-1.000000</td>\n",
              "      <td>5.413948e-06</td>\n",
              "    </tr>\n",
              "    <tr>\n",
              "      <th>3</th>\n",
              "      <td>2.265006e-09</td>\n",
              "      <td>0.000005</td>\n",
              "      <td>-1.000000e+00</td>\n",
              "    </tr>\n",
              "  </tbody>\n",
              "</table>\n",
              "</div>"
            ],
            "text/plain": [
              "              1         2             3\n",
              "1 -1.000000e+00  0.002509  2.265006e-09\n",
              "2  2.509331e-03 -1.000000  5.413948e-06\n",
              "3  2.265006e-09  0.000005 -1.000000e+00"
            ]
          },
          "metadata": {
            "tags": []
          },
          "execution_count": 115
        }
      ]
    },
    {
      "cell_type": "code",
      "metadata": {
        "id": "LWFXTPtxtgVJ",
        "colab_type": "code",
        "colab": {}
      },
      "source": [
        ""
      ],
      "execution_count": null,
      "outputs": []
    }
  ]
}