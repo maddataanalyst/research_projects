{
  "nbformat": 4,
  "nbformat_minor": 0,
  "metadata": {
    "colab": {
      "name": "amazon reviews recommender.ipynb",
      "provenance": [],
      "collapsed_sections": [],
      "toc_visible": true
    },
    "kernelspec": {
      "name": "python3",
      "display_name": "Python 3"
    },
    "widgets": {
      "application/vnd.jupyter.widget-state+json": {
        "cce9ee1ff9424a958747c956613b20ac": {
          "model_module": "@jupyter-widgets/controls",
          "model_name": "HBoxModel",
          "state": {
            "_view_name": "HBoxView",
            "_dom_classes": [],
            "_model_name": "HBoxModel",
            "_view_module": "@jupyter-widgets/controls",
            "_model_module_version": "1.5.0",
            "_view_count": null,
            "_view_module_version": "1.5.0",
            "box_style": "",
            "layout": "IPY_MODEL_6a90f881b7e84aabaa5a2db952a934d4",
            "_model_module": "@jupyter-widgets/controls",
            "children": [
              "IPY_MODEL_047fb6bb436c41b3af5ff34352a5a62f",
              "IPY_MODEL_d568595c04fa4f1ab443ed50105aeac2"
            ]
          }
        },
        "6a90f881b7e84aabaa5a2db952a934d4": {
          "model_module": "@jupyter-widgets/base",
          "model_name": "LayoutModel",
          "state": {
            "_view_name": "LayoutView",
            "grid_template_rows": null,
            "right": null,
            "justify_content": null,
            "_view_module": "@jupyter-widgets/base",
            "overflow": null,
            "_model_module_version": "1.2.0",
            "_view_count": null,
            "flex_flow": null,
            "width": null,
            "min_width": null,
            "border": null,
            "align_items": null,
            "bottom": null,
            "_model_module": "@jupyter-widgets/base",
            "top": null,
            "grid_column": null,
            "overflow_y": null,
            "overflow_x": null,
            "grid_auto_flow": null,
            "grid_area": null,
            "grid_template_columns": null,
            "flex": null,
            "_model_name": "LayoutModel",
            "justify_items": null,
            "grid_row": null,
            "max_height": null,
            "align_content": null,
            "visibility": null,
            "align_self": null,
            "height": null,
            "min_height": null,
            "padding": null,
            "grid_auto_rows": null,
            "grid_gap": null,
            "max_width": null,
            "order": null,
            "_view_module_version": "1.2.0",
            "grid_template_areas": null,
            "object_position": null,
            "object_fit": null,
            "grid_auto_columns": null,
            "margin": null,
            "display": null,
            "left": null
          }
        },
        "047fb6bb436c41b3af5ff34352a5a62f": {
          "model_module": "@jupyter-widgets/controls",
          "model_name": "FloatProgressModel",
          "state": {
            "_view_name": "ProgressView",
            "style": "IPY_MODEL_c0bb127188124025a9457b17d0dde6f6",
            "_dom_classes": [],
            "description": "",
            "_model_name": "FloatProgressModel",
            "bar_style": "success",
            "max": 1,
            "_view_module": "@jupyter-widgets/controls",
            "_model_module_version": "1.5.0",
            "value": 1,
            "_view_count": null,
            "_view_module_version": "1.5.0",
            "orientation": "horizontal",
            "min": 0,
            "description_tooltip": null,
            "_model_module": "@jupyter-widgets/controls",
            "layout": "IPY_MODEL_12b1699dd0bd4c679303976ba639aab4"
          }
        },
        "d568595c04fa4f1ab443ed50105aeac2": {
          "model_module": "@jupyter-widgets/controls",
          "model_name": "HTMLModel",
          "state": {
            "_view_name": "HTMLView",
            "style": "IPY_MODEL_c76e3d1074594cb3aa9085f5873a2921",
            "_dom_classes": [],
            "description": "",
            "_model_name": "HTMLModel",
            "placeholder": "​",
            "_view_module": "@jupyter-widgets/controls",
            "_model_module_version": "1.5.0",
            "value": " 10/? [02:36&lt;00:00, 15.69s/it]",
            "_view_count": null,
            "_view_module_version": "1.5.0",
            "description_tooltip": null,
            "_model_module": "@jupyter-widgets/controls",
            "layout": "IPY_MODEL_ca3d298d47c7492f809fcc7a435cf34a"
          }
        },
        "c0bb127188124025a9457b17d0dde6f6": {
          "model_module": "@jupyter-widgets/controls",
          "model_name": "ProgressStyleModel",
          "state": {
            "_view_name": "StyleView",
            "_model_name": "ProgressStyleModel",
            "description_width": "initial",
            "_view_module": "@jupyter-widgets/base",
            "_model_module_version": "1.5.0",
            "_view_count": null,
            "_view_module_version": "1.2.0",
            "bar_color": null,
            "_model_module": "@jupyter-widgets/controls"
          }
        },
        "12b1699dd0bd4c679303976ba639aab4": {
          "model_module": "@jupyter-widgets/base",
          "model_name": "LayoutModel",
          "state": {
            "_view_name": "LayoutView",
            "grid_template_rows": null,
            "right": null,
            "justify_content": null,
            "_view_module": "@jupyter-widgets/base",
            "overflow": null,
            "_model_module_version": "1.2.0",
            "_view_count": null,
            "flex_flow": null,
            "width": null,
            "min_width": null,
            "border": null,
            "align_items": null,
            "bottom": null,
            "_model_module": "@jupyter-widgets/base",
            "top": null,
            "grid_column": null,
            "overflow_y": null,
            "overflow_x": null,
            "grid_auto_flow": null,
            "grid_area": null,
            "grid_template_columns": null,
            "flex": null,
            "_model_name": "LayoutModel",
            "justify_items": null,
            "grid_row": null,
            "max_height": null,
            "align_content": null,
            "visibility": null,
            "align_self": null,
            "height": null,
            "min_height": null,
            "padding": null,
            "grid_auto_rows": null,
            "grid_gap": null,
            "max_width": null,
            "order": null,
            "_view_module_version": "1.2.0",
            "grid_template_areas": null,
            "object_position": null,
            "object_fit": null,
            "grid_auto_columns": null,
            "margin": null,
            "display": null,
            "left": null
          }
        },
        "c76e3d1074594cb3aa9085f5873a2921": {
          "model_module": "@jupyter-widgets/controls",
          "model_name": "DescriptionStyleModel",
          "state": {
            "_view_name": "StyleView",
            "_model_name": "DescriptionStyleModel",
            "description_width": "",
            "_view_module": "@jupyter-widgets/base",
            "_model_module_version": "1.5.0",
            "_view_count": null,
            "_view_module_version": "1.2.0",
            "_model_module": "@jupyter-widgets/controls"
          }
        },
        "ca3d298d47c7492f809fcc7a435cf34a": {
          "model_module": "@jupyter-widgets/base",
          "model_name": "LayoutModel",
          "state": {
            "_view_name": "LayoutView",
            "grid_template_rows": null,
            "right": null,
            "justify_content": null,
            "_view_module": "@jupyter-widgets/base",
            "overflow": null,
            "_model_module_version": "1.2.0",
            "_view_count": null,
            "flex_flow": null,
            "width": null,
            "min_width": null,
            "border": null,
            "align_items": null,
            "bottom": null,
            "_model_module": "@jupyter-widgets/base",
            "top": null,
            "grid_column": null,
            "overflow_y": null,
            "overflow_x": null,
            "grid_auto_flow": null,
            "grid_area": null,
            "grid_template_columns": null,
            "flex": null,
            "_model_name": "LayoutModel",
            "justify_items": null,
            "grid_row": null,
            "max_height": null,
            "align_content": null,
            "visibility": null,
            "align_self": null,
            "height": null,
            "min_height": null,
            "padding": null,
            "grid_auto_rows": null,
            "grid_gap": null,
            "max_width": null,
            "order": null,
            "_view_module_version": "1.2.0",
            "grid_template_areas": null,
            "object_position": null,
            "object_fit": null,
            "grid_auto_columns": null,
            "margin": null,
            "display": null,
            "left": null
          }
        },
        "08507d3a095e46f6bcda494ae4c9a23c": {
          "model_module": "@jupyter-widgets/controls",
          "model_name": "HBoxModel",
          "state": {
            "_view_name": "HBoxView",
            "_dom_classes": [],
            "_model_name": "HBoxModel",
            "_view_module": "@jupyter-widgets/controls",
            "_model_module_version": "1.5.0",
            "_view_count": null,
            "_view_module_version": "1.5.0",
            "box_style": "",
            "layout": "IPY_MODEL_3b7973e85cc645849957fe59b55ef21e",
            "_model_module": "@jupyter-widgets/controls",
            "children": [
              "IPY_MODEL_888b0601a50746eb8e4e1c48d4a10d59",
              "IPY_MODEL_7b77e8c05b04497fba7d6820d6a71d4f"
            ]
          }
        },
        "3b7973e85cc645849957fe59b55ef21e": {
          "model_module": "@jupyter-widgets/base",
          "model_name": "LayoutModel",
          "state": {
            "_view_name": "LayoutView",
            "grid_template_rows": null,
            "right": null,
            "justify_content": null,
            "_view_module": "@jupyter-widgets/base",
            "overflow": null,
            "_model_module_version": "1.2.0",
            "_view_count": null,
            "flex_flow": null,
            "width": null,
            "min_width": null,
            "border": null,
            "align_items": null,
            "bottom": null,
            "_model_module": "@jupyter-widgets/base",
            "top": null,
            "grid_column": null,
            "overflow_y": null,
            "overflow_x": null,
            "grid_auto_flow": null,
            "grid_area": null,
            "grid_template_columns": null,
            "flex": null,
            "_model_name": "LayoutModel",
            "justify_items": null,
            "grid_row": null,
            "max_height": null,
            "align_content": null,
            "visibility": null,
            "align_self": null,
            "height": null,
            "min_height": null,
            "padding": null,
            "grid_auto_rows": null,
            "grid_gap": null,
            "max_width": null,
            "order": null,
            "_view_module_version": "1.2.0",
            "grid_template_areas": null,
            "object_position": null,
            "object_fit": null,
            "grid_auto_columns": null,
            "margin": null,
            "display": null,
            "left": null
          }
        },
        "888b0601a50746eb8e4e1c48d4a10d59": {
          "model_module": "@jupyter-widgets/controls",
          "model_name": "FloatProgressModel",
          "state": {
            "_view_name": "ProgressView",
            "style": "IPY_MODEL_d2d3626314ff49ec9650b0dcab53cd72",
            "_dom_classes": [],
            "description": "",
            "_model_name": "FloatProgressModel",
            "bar_style": "success",
            "max": 1,
            "_view_module": "@jupyter-widgets/controls",
            "_model_module_version": "1.5.0",
            "value": 1,
            "_view_count": null,
            "_view_module_version": "1.5.0",
            "orientation": "horizontal",
            "min": 0,
            "description_tooltip": null,
            "_model_module": "@jupyter-widgets/controls",
            "layout": "IPY_MODEL_413c271dc2a84842805f55e4d5e8b4cc"
          }
        },
        "7b77e8c05b04497fba7d6820d6a71d4f": {
          "model_module": "@jupyter-widgets/controls",
          "model_name": "HTMLModel",
          "state": {
            "_view_name": "HTMLView",
            "style": "IPY_MODEL_b7eb29313228417e98ba9cd7daa07e37",
            "_dom_classes": [],
            "description": "",
            "_model_name": "HTMLModel",
            "placeholder": "​",
            "_view_module": "@jupyter-widgets/controls",
            "_model_module_version": "1.5.0",
            "value": " 10/? [32:56&lt;00:00, 197.68s/it]",
            "_view_count": null,
            "_view_module_version": "1.5.0",
            "description_tooltip": null,
            "_model_module": "@jupyter-widgets/controls",
            "layout": "IPY_MODEL_ff9d49d66faa47ad971124b646f52717"
          }
        },
        "d2d3626314ff49ec9650b0dcab53cd72": {
          "model_module": "@jupyter-widgets/controls",
          "model_name": "ProgressStyleModel",
          "state": {
            "_view_name": "StyleView",
            "_model_name": "ProgressStyleModel",
            "description_width": "initial",
            "_view_module": "@jupyter-widgets/base",
            "_model_module_version": "1.5.0",
            "_view_count": null,
            "_view_module_version": "1.2.0",
            "bar_color": null,
            "_model_module": "@jupyter-widgets/controls"
          }
        },
        "413c271dc2a84842805f55e4d5e8b4cc": {
          "model_module": "@jupyter-widgets/base",
          "model_name": "LayoutModel",
          "state": {
            "_view_name": "LayoutView",
            "grid_template_rows": null,
            "right": null,
            "justify_content": null,
            "_view_module": "@jupyter-widgets/base",
            "overflow": null,
            "_model_module_version": "1.2.0",
            "_view_count": null,
            "flex_flow": null,
            "width": null,
            "min_width": null,
            "border": null,
            "align_items": null,
            "bottom": null,
            "_model_module": "@jupyter-widgets/base",
            "top": null,
            "grid_column": null,
            "overflow_y": null,
            "overflow_x": null,
            "grid_auto_flow": null,
            "grid_area": null,
            "grid_template_columns": null,
            "flex": null,
            "_model_name": "LayoutModel",
            "justify_items": null,
            "grid_row": null,
            "max_height": null,
            "align_content": null,
            "visibility": null,
            "align_self": null,
            "height": null,
            "min_height": null,
            "padding": null,
            "grid_auto_rows": null,
            "grid_gap": null,
            "max_width": null,
            "order": null,
            "_view_module_version": "1.2.0",
            "grid_template_areas": null,
            "object_position": null,
            "object_fit": null,
            "grid_auto_columns": null,
            "margin": null,
            "display": null,
            "left": null
          }
        },
        "b7eb29313228417e98ba9cd7daa07e37": {
          "model_module": "@jupyter-widgets/controls",
          "model_name": "DescriptionStyleModel",
          "state": {
            "_view_name": "StyleView",
            "_model_name": "DescriptionStyleModel",
            "description_width": "",
            "_view_module": "@jupyter-widgets/base",
            "_model_module_version": "1.5.0",
            "_view_count": null,
            "_view_module_version": "1.2.0",
            "_model_module": "@jupyter-widgets/controls"
          }
        },
        "ff9d49d66faa47ad971124b646f52717": {
          "model_module": "@jupyter-widgets/base",
          "model_name": "LayoutModel",
          "state": {
            "_view_name": "LayoutView",
            "grid_template_rows": null,
            "right": null,
            "justify_content": null,
            "_view_module": "@jupyter-widgets/base",
            "overflow": null,
            "_model_module_version": "1.2.0",
            "_view_count": null,
            "flex_flow": null,
            "width": null,
            "min_width": null,
            "border": null,
            "align_items": null,
            "bottom": null,
            "_model_module": "@jupyter-widgets/base",
            "top": null,
            "grid_column": null,
            "overflow_y": null,
            "overflow_x": null,
            "grid_auto_flow": null,
            "grid_area": null,
            "grid_template_columns": null,
            "flex": null,
            "_model_name": "LayoutModel",
            "justify_items": null,
            "grid_row": null,
            "max_height": null,
            "align_content": null,
            "visibility": null,
            "align_self": null,
            "height": null,
            "min_height": null,
            "padding": null,
            "grid_auto_rows": null,
            "grid_gap": null,
            "max_width": null,
            "order": null,
            "_view_module_version": "1.2.0",
            "grid_template_areas": null,
            "object_position": null,
            "object_fit": null,
            "grid_auto_columns": null,
            "margin": null,
            "display": null,
            "left": null
          }
        },
        "1e0585adf0de41faa36dd88918989b06": {
          "model_module": "@jupyter-widgets/controls",
          "model_name": "HBoxModel",
          "state": {
            "_view_name": "HBoxView",
            "_dom_classes": [],
            "_model_name": "HBoxModel",
            "_view_module": "@jupyter-widgets/controls",
            "_model_module_version": "1.5.0",
            "_view_count": null,
            "_view_module_version": "1.5.0",
            "box_style": "",
            "layout": "IPY_MODEL_73d31729474b48bba7107e7d57a1f4cd",
            "_model_module": "@jupyter-widgets/controls",
            "children": [
              "IPY_MODEL_ced85f7c066b4a37b1145241a824dfb7",
              "IPY_MODEL_908c37b846e14e6587a45f7d3ee19476"
            ]
          }
        },
        "73d31729474b48bba7107e7d57a1f4cd": {
          "model_module": "@jupyter-widgets/base",
          "model_name": "LayoutModel",
          "state": {
            "_view_name": "LayoutView",
            "grid_template_rows": null,
            "right": null,
            "justify_content": null,
            "_view_module": "@jupyter-widgets/base",
            "overflow": null,
            "_model_module_version": "1.2.0",
            "_view_count": null,
            "flex_flow": null,
            "width": null,
            "min_width": null,
            "border": null,
            "align_items": null,
            "bottom": null,
            "_model_module": "@jupyter-widgets/base",
            "top": null,
            "grid_column": null,
            "overflow_y": null,
            "overflow_x": null,
            "grid_auto_flow": null,
            "grid_area": null,
            "grid_template_columns": null,
            "flex": null,
            "_model_name": "LayoutModel",
            "justify_items": null,
            "grid_row": null,
            "max_height": null,
            "align_content": null,
            "visibility": null,
            "align_self": null,
            "height": null,
            "min_height": null,
            "padding": null,
            "grid_auto_rows": null,
            "grid_gap": null,
            "max_width": null,
            "order": null,
            "_view_module_version": "1.2.0",
            "grid_template_areas": null,
            "object_position": null,
            "object_fit": null,
            "grid_auto_columns": null,
            "margin": null,
            "display": null,
            "left": null
          }
        },
        "ced85f7c066b4a37b1145241a824dfb7": {
          "model_module": "@jupyter-widgets/controls",
          "model_name": "FloatProgressModel",
          "state": {
            "_view_name": "ProgressView",
            "style": "IPY_MODEL_e3981733ff19478181c96a7daf538b26",
            "_dom_classes": [],
            "description": "",
            "_model_name": "FloatProgressModel",
            "bar_style": "success",
            "max": 1,
            "_view_module": "@jupyter-widgets/controls",
            "_model_module_version": "1.5.0",
            "value": 1,
            "_view_count": null,
            "_view_module_version": "1.5.0",
            "orientation": "horizontal",
            "min": 0,
            "description_tooltip": null,
            "_model_module": "@jupyter-widgets/controls",
            "layout": "IPY_MODEL_dd553e9f13c142a6aae5293b1b584b22"
          }
        },
        "908c37b846e14e6587a45f7d3ee19476": {
          "model_module": "@jupyter-widgets/controls",
          "model_name": "HTMLModel",
          "state": {
            "_view_name": "HTMLView",
            "style": "IPY_MODEL_ff84c8e3f0ca43e39318bf2dc7f39c55",
            "_dom_classes": [],
            "description": "",
            "_model_name": "HTMLModel",
            "placeholder": "​",
            "_view_module": "@jupyter-widgets/controls",
            "_model_module_version": "1.5.0",
            "value": " 10/? [05:50&lt;00:00, 35.06s/it]",
            "_view_count": null,
            "_view_module_version": "1.5.0",
            "description_tooltip": null,
            "_model_module": "@jupyter-widgets/controls",
            "layout": "IPY_MODEL_9facb4f6a2e24dc4854dc5e520033ba9"
          }
        },
        "e3981733ff19478181c96a7daf538b26": {
          "model_module": "@jupyter-widgets/controls",
          "model_name": "ProgressStyleModel",
          "state": {
            "_view_name": "StyleView",
            "_model_name": "ProgressStyleModel",
            "description_width": "initial",
            "_view_module": "@jupyter-widgets/base",
            "_model_module_version": "1.5.0",
            "_view_count": null,
            "_view_module_version": "1.2.0",
            "bar_color": null,
            "_model_module": "@jupyter-widgets/controls"
          }
        },
        "dd553e9f13c142a6aae5293b1b584b22": {
          "model_module": "@jupyter-widgets/base",
          "model_name": "LayoutModel",
          "state": {
            "_view_name": "LayoutView",
            "grid_template_rows": null,
            "right": null,
            "justify_content": null,
            "_view_module": "@jupyter-widgets/base",
            "overflow": null,
            "_model_module_version": "1.2.0",
            "_view_count": null,
            "flex_flow": null,
            "width": null,
            "min_width": null,
            "border": null,
            "align_items": null,
            "bottom": null,
            "_model_module": "@jupyter-widgets/base",
            "top": null,
            "grid_column": null,
            "overflow_y": null,
            "overflow_x": null,
            "grid_auto_flow": null,
            "grid_area": null,
            "grid_template_columns": null,
            "flex": null,
            "_model_name": "LayoutModel",
            "justify_items": null,
            "grid_row": null,
            "max_height": null,
            "align_content": null,
            "visibility": null,
            "align_self": null,
            "height": null,
            "min_height": null,
            "padding": null,
            "grid_auto_rows": null,
            "grid_gap": null,
            "max_width": null,
            "order": null,
            "_view_module_version": "1.2.0",
            "grid_template_areas": null,
            "object_position": null,
            "object_fit": null,
            "grid_auto_columns": null,
            "margin": null,
            "display": null,
            "left": null
          }
        },
        "ff84c8e3f0ca43e39318bf2dc7f39c55": {
          "model_module": "@jupyter-widgets/controls",
          "model_name": "DescriptionStyleModel",
          "state": {
            "_view_name": "StyleView",
            "_model_name": "DescriptionStyleModel",
            "description_width": "",
            "_view_module": "@jupyter-widgets/base",
            "_model_module_version": "1.5.0",
            "_view_count": null,
            "_view_module_version": "1.2.0",
            "_model_module": "@jupyter-widgets/controls"
          }
        },
        "9facb4f6a2e24dc4854dc5e520033ba9": {
          "model_module": "@jupyter-widgets/base",
          "model_name": "LayoutModel",
          "state": {
            "_view_name": "LayoutView",
            "grid_template_rows": null,
            "right": null,
            "justify_content": null,
            "_view_module": "@jupyter-widgets/base",
            "overflow": null,
            "_model_module_version": "1.2.0",
            "_view_count": null,
            "flex_flow": null,
            "width": null,
            "min_width": null,
            "border": null,
            "align_items": null,
            "bottom": null,
            "_model_module": "@jupyter-widgets/base",
            "top": null,
            "grid_column": null,
            "overflow_y": null,
            "overflow_x": null,
            "grid_auto_flow": null,
            "grid_area": null,
            "grid_template_columns": null,
            "flex": null,
            "_model_name": "LayoutModel",
            "justify_items": null,
            "grid_row": null,
            "max_height": null,
            "align_content": null,
            "visibility": null,
            "align_self": null,
            "height": null,
            "min_height": null,
            "padding": null,
            "grid_auto_rows": null,
            "grid_gap": null,
            "max_width": null,
            "order": null,
            "_view_module_version": "1.2.0",
            "grid_template_areas": null,
            "object_position": null,
            "object_fit": null,
            "grid_auto_columns": null,
            "margin": null,
            "display": null,
            "left": null
          }
        }
      }
    }
  },
  "cells": [
    {
      "cell_type": "markdown",
      "metadata": {
        "id": "rTxLNl1ubikF",
        "colab_type": "text"
      },
      "source": [
        "# Intro\n",
        "\n",
        "This notebook is an experimentation code for \"Case study: a comparision of different consumer recommendation engines based on deep neural networks\".\n",
        "\n",
        "Paper is using [Amazon Reviews 2018 dataset](http://jmcauley.ucsd.edu/data/amazon/links.html)\n",
        "\n",
        "Insiration notebook [can be found here](https://github.com/iritfh1/Next-item-recommendation-using-keras/blob/master/DeepRecommendation_LAST3.ipynb)\n"
      ]
    },
    {
      "cell_type": "code",
      "metadata": {
        "id": "bRl_UJ4idH8I",
        "colab_type": "code",
        "colab": {}
      },
      "source": [
        "import pandas as pd\n",
        "import os\n",
        "import json\n",
        "import gzip\n",
        "import numpy as np\n",
        "import tensorflow as tf\n",
        "import tensorflow.keras as kk\n",
        "import scipy.stats as st\n",
        "import gc \n",
        "\n",
        "from collections import defaultdict\n",
        "from sklearn.preprocessing import LabelEncoder\n",
        "from sklearn.model_selection import train_test_split\n",
        "from sklearn.metrics import mean_absolute_error, mean_squared_error\n",
        "from sklearn.model_selection import KFold\n",
        "from tqdm.auto import tqdm"
      ],
      "execution_count": 2,
      "outputs": []
    },
    {
      "cell_type": "code",
      "metadata": {
        "id": "6cG2vY8_l_QN",
        "colab_type": "code",
        "colab": {
          "base_uri": "https://localhost:8080/",
          "height": 306
        },
        "outputId": "71d50d61-0665-40af-c307-419186f0c8fd"
      },
      "source": [
        "!pip install scikit-posthocs"
      ],
      "execution_count": 3,
      "outputs": [
        {
          "output_type": "stream",
          "text": [
            "Collecting scikit-posthocs\n",
            "  Downloading https://files.pythonhosted.org/packages/3b/b8/8a9769c7a286070f74fbc56bcede507680210010ce0887c70112e70ced5a/scikit_posthocs-0.6.4-py3-none-any.whl\n",
            "Requirement already satisfied: scipy in /usr/local/lib/python3.6/dist-packages (from scikit-posthocs) (1.4.1)\n",
            "Requirement already satisfied: seaborn in /usr/local/lib/python3.6/dist-packages (from scikit-posthocs) (0.10.1)\n",
            "Requirement already satisfied: pandas>=0.20.0 in /usr/local/lib/python3.6/dist-packages (from scikit-posthocs) (1.0.5)\n",
            "Requirement already satisfied: numpy in /usr/local/lib/python3.6/dist-packages (from scikit-posthocs) (1.18.5)\n",
            "Requirement already satisfied: matplotlib in /usr/local/lib/python3.6/dist-packages (from scikit-posthocs) (3.2.2)\n",
            "Requirement already satisfied: statsmodels in /usr/local/lib/python3.6/dist-packages (from scikit-posthocs) (0.10.2)\n",
            "Requirement already satisfied: python-dateutil>=2.6.1 in /usr/local/lib/python3.6/dist-packages (from pandas>=0.20.0->scikit-posthocs) (2.8.1)\n",
            "Requirement already satisfied: pytz>=2017.2 in /usr/local/lib/python3.6/dist-packages (from pandas>=0.20.0->scikit-posthocs) (2018.9)\n",
            "Requirement already satisfied: kiwisolver>=1.0.1 in /usr/local/lib/python3.6/dist-packages (from matplotlib->scikit-posthocs) (1.2.0)\n",
            "Requirement already satisfied: cycler>=0.10 in /usr/local/lib/python3.6/dist-packages (from matplotlib->scikit-posthocs) (0.10.0)\n",
            "Requirement already satisfied: pyparsing!=2.0.4,!=2.1.2,!=2.1.6,>=2.0.1 in /usr/local/lib/python3.6/dist-packages (from matplotlib->scikit-posthocs) (2.4.7)\n",
            "Requirement already satisfied: patsy>=0.4.0 in /usr/local/lib/python3.6/dist-packages (from statsmodels->scikit-posthocs) (0.5.1)\n",
            "Requirement already satisfied: six>=1.5 in /usr/local/lib/python3.6/dist-packages (from python-dateutil>=2.6.1->pandas>=0.20.0->scikit-posthocs) (1.12.0)\n",
            "Installing collected packages: scikit-posthocs\n",
            "Successfully installed scikit-posthocs-0.6.4\n"
          ],
          "name": "stdout"
        }
      ]
    },
    {
      "cell_type": "code",
      "metadata": {
        "id": "3IOgp5pemAJE",
        "colab_type": "code",
        "colab": {
          "base_uri": "https://localhost:8080/",
          "height": 51
        },
        "outputId": "7f9a4878-341f-4506-e17d-383d0d4919ac"
      },
      "source": [
        "import scikit_posthocs as sp"
      ],
      "execution_count": 4,
      "outputs": [
        {
          "output_type": "stream",
          "text": [
            "/usr/local/lib/python3.6/dist-packages/statsmodels/tools/_testing.py:19: FutureWarning: pandas.util.testing is deprecated. Use the functions in the public API at pandas.testing instead.\n",
            "  import pandas.util.testing as tm\n"
          ],
          "name": "stderr"
        }
      ]
    },
    {
      "cell_type": "markdown",
      "metadata": {
        "id": "VLMmM1judriI",
        "colab_type": "text"
      },
      "source": [
        "# Loading data"
      ]
    },
    {
      "cell_type": "code",
      "metadata": {
        "id": "h-lARiDGd5tS",
        "colab_type": "code",
        "colab": {
          "base_uri": "https://localhost:8080/",
          "height": 204
        },
        "outputId": "930874a1-1ae0-4c29-b6db-402530b530a0"
      },
      "source": [
        "!wget http://deepyeti.ucsd.edu/jianmo/amazon/categoryFilesSmall/AMAZON_FASHION_5.json.gz"
      ],
      "execution_count": 5,
      "outputs": [
        {
          "output_type": "stream",
          "text": [
            "--2020-07-10 06:35:44--  http://deepyeti.ucsd.edu/jianmo/amazon/categoryFilesSmall/AMAZON_FASHION_5.json.gz\n",
            "Resolving deepyeti.ucsd.edu (deepyeti.ucsd.edu)... 169.228.63.50\n",
            "Connecting to deepyeti.ucsd.edu (deepyeti.ucsd.edu)|169.228.63.50|:80... connected.\n",
            "HTTP request sent, awaiting response... 200 OK\n",
            "Length: 287013 (280K) [application/octet-stream]\n",
            "Saving to: ‘AMAZON_FASHION_5.json.gz’\n",
            "\n",
            "\rAMAZON_FASHION_5.js   0%[                    ]       0  --.-KB/s               \rAMAZON_FASHION_5.js 100%[===================>] 280.29K  --.-KB/s    in 0.1s    \n",
            "\n",
            "2020-07-10 06:35:44 (2.41 MB/s) - ‘AMAZON_FASHION_5.json.gz’ saved [287013/287013]\n",
            "\n"
          ],
          "name": "stdout"
        }
      ]
    },
    {
      "cell_type": "code",
      "metadata": {
        "id": "cpI_MSrAe3Au",
        "colab_type": "code",
        "colab": {}
      },
      "source": [
        "data_f = \"AMAZON_FASHION_5.json.gz\""
      ],
      "execution_count": 6,
      "outputs": []
    },
    {
      "cell_type": "code",
      "metadata": {
        "id": "MjlbIGohdudE",
        "colab_type": "code",
        "colab": {
          "base_uri": "https://localhost:8080/",
          "height": 71
        },
        "outputId": "128215a9-ac2d-4d32-a347-a1912c3e2d1d"
      },
      "source": [
        "data = []\n",
        "with gzip.open(data_f) as f:\n",
        "    for l in f:\n",
        "        data.append(json.loads(l.strip()))\n",
        "    \n",
        "# total length of list, this number equals total number of products\n",
        "print(len(data))\n",
        "\n",
        "# first row of the list\n",
        "print(data[0])"
      ],
      "execution_count": 7,
      "outputs": [
        {
          "output_type": "stream",
          "text": [
            "3176\n",
            "{'overall': 5.0, 'verified': True, 'reviewTime': '09 4, 2015', 'reviewerID': 'ALJ66O1Y6SLHA', 'asin': 'B000K2PJ4K', 'style': {'Size:': ' Big Boys', 'Color:': ' Blue/Orange'}, 'reviewerName': 'Tonya B.', 'reviewText': 'Great product and price!', 'summary': 'Five Stars', 'unixReviewTime': 1441324800}\n"
          ],
          "name": "stdout"
        }
      ]
    },
    {
      "cell_type": "code",
      "metadata": {
        "id": "lkBtq5Jbe7rs",
        "colab_type": "code",
        "colab": {
          "base_uri": "https://localhost:8080/",
          "height": 204
        },
        "outputId": "ddf1d06c-8201-4b44-9d5d-af3a3bd50565"
      },
      "source": [
        "df = pd.DataFrame.from_dict(data)\n",
        "\n",
        "df.head(5)"
      ],
      "execution_count": 8,
      "outputs": [
        {
          "output_type": "execute_result",
          "data": {
            "text/html": [
              "<div>\n",
              "<style scoped>\n",
              "    .dataframe tbody tr th:only-of-type {\n",
              "        vertical-align: middle;\n",
              "    }\n",
              "\n",
              "    .dataframe tbody tr th {\n",
              "        vertical-align: top;\n",
              "    }\n",
              "\n",
              "    .dataframe thead th {\n",
              "        text-align: right;\n",
              "    }\n",
              "</style>\n",
              "<table border=\"1\" class=\"dataframe\">\n",
              "  <thead>\n",
              "    <tr style=\"text-align: right;\">\n",
              "      <th></th>\n",
              "      <th>overall</th>\n",
              "      <th>verified</th>\n",
              "      <th>reviewTime</th>\n",
              "      <th>reviewerID</th>\n",
              "      <th>asin</th>\n",
              "      <th>style</th>\n",
              "      <th>reviewerName</th>\n",
              "      <th>reviewText</th>\n",
              "      <th>summary</th>\n",
              "      <th>unixReviewTime</th>\n",
              "      <th>vote</th>\n",
              "      <th>image</th>\n",
              "    </tr>\n",
              "  </thead>\n",
              "  <tbody>\n",
              "    <tr>\n",
              "      <th>0</th>\n",
              "      <td>5.0</td>\n",
              "      <td>True</td>\n",
              "      <td>09 4, 2015</td>\n",
              "      <td>ALJ66O1Y6SLHA</td>\n",
              "      <td>B000K2PJ4K</td>\n",
              "      <td>{'Size:': ' Big Boys', 'Color:': ' Blue/Orange'}</td>\n",
              "      <td>Tonya B.</td>\n",
              "      <td>Great product and price!</td>\n",
              "      <td>Five Stars</td>\n",
              "      <td>1441324800</td>\n",
              "      <td>NaN</td>\n",
              "      <td>NaN</td>\n",
              "    </tr>\n",
              "    <tr>\n",
              "      <th>1</th>\n",
              "      <td>5.0</td>\n",
              "      <td>True</td>\n",
              "      <td>09 4, 2015</td>\n",
              "      <td>ALJ66O1Y6SLHA</td>\n",
              "      <td>B000K2PJ4K</td>\n",
              "      <td>{'Size:': ' Big Boys', 'Color:': ' Black (3746...</td>\n",
              "      <td>Tonya B.</td>\n",
              "      <td>Great product and price!</td>\n",
              "      <td>Five Stars</td>\n",
              "      <td>1441324800</td>\n",
              "      <td>NaN</td>\n",
              "      <td>NaN</td>\n",
              "    </tr>\n",
              "    <tr>\n",
              "      <th>2</th>\n",
              "      <td>5.0</td>\n",
              "      <td>True</td>\n",
              "      <td>09 4, 2015</td>\n",
              "      <td>ALJ66O1Y6SLHA</td>\n",
              "      <td>B000K2PJ4K</td>\n",
              "      <td>{'Size:': ' Big Boys', 'Color:': ' Blue/Gray L...</td>\n",
              "      <td>Tonya B.</td>\n",
              "      <td>Great product and price!</td>\n",
              "      <td>Five Stars</td>\n",
              "      <td>1441324800</td>\n",
              "      <td>NaN</td>\n",
              "      <td>NaN</td>\n",
              "    </tr>\n",
              "    <tr>\n",
              "      <th>3</th>\n",
              "      <td>5.0</td>\n",
              "      <td>True</td>\n",
              "      <td>09 4, 2015</td>\n",
              "      <td>ALJ66O1Y6SLHA</td>\n",
              "      <td>B000K2PJ4K</td>\n",
              "      <td>{'Size:': ' Big Boys', 'Color:': ' Blue (37867...</td>\n",
              "      <td>Tonya B.</td>\n",
              "      <td>Great product and price!</td>\n",
              "      <td>Five Stars</td>\n",
              "      <td>1441324800</td>\n",
              "      <td>NaN</td>\n",
              "      <td>NaN</td>\n",
              "    </tr>\n",
              "    <tr>\n",
              "      <th>4</th>\n",
              "      <td>5.0</td>\n",
              "      <td>True</td>\n",
              "      <td>09 4, 2015</td>\n",
              "      <td>ALJ66O1Y6SLHA</td>\n",
              "      <td>B000K2PJ4K</td>\n",
              "      <td>{'Size:': ' Big Boys', 'Color:': ' Blue/Pink'}</td>\n",
              "      <td>Tonya B.</td>\n",
              "      <td>Great product and price!</td>\n",
              "      <td>Five Stars</td>\n",
              "      <td>1441324800</td>\n",
              "      <td>NaN</td>\n",
              "      <td>NaN</td>\n",
              "    </tr>\n",
              "  </tbody>\n",
              "</table>\n",
              "</div>"
            ],
            "text/plain": [
              "   overall  verified  reviewTime  ... unixReviewTime vote image\n",
              "0      5.0      True  09 4, 2015  ...     1441324800  NaN   NaN\n",
              "1      5.0      True  09 4, 2015  ...     1441324800  NaN   NaN\n",
              "2      5.0      True  09 4, 2015  ...     1441324800  NaN   NaN\n",
              "3      5.0      True  09 4, 2015  ...     1441324800  NaN   NaN\n",
              "4      5.0      True  09 4, 2015  ...     1441324800  NaN   NaN\n",
              "\n",
              "[5 rows x 12 columns]"
            ]
          },
          "metadata": {
            "tags": []
          },
          "execution_count": 8
        }
      ]
    },
    {
      "cell_type": "code",
      "metadata": {
        "id": "K8nVEy-ifCJr",
        "colab_type": "code",
        "colab": {
          "base_uri": "https://localhost:8080/",
          "height": 35
        },
        "outputId": "170c65a8-33f2-4922-847c-a41ab18d298b"
      },
      "source": [
        "df.iloc[0].style[\"Color:\"]"
      ],
      "execution_count": 9,
      "outputs": [
        {
          "output_type": "execute_result",
          "data": {
            "application/vnd.google.colaboratory.intrinsic": {
              "type": "string"
            },
            "text/plain": [
              "' Blue/Orange'"
            ]
          },
          "metadata": {
            "tags": []
          },
          "execution_count": 9
        }
      ]
    },
    {
      "cell_type": "markdown",
      "metadata": {
        "id": "AsRggrDGfNuR",
        "colab_type": "text"
      },
      "source": [
        "# Preprocess data"
      ]
    },
    {
      "cell_type": "markdown",
      "metadata": {
        "id": "4CMOXchbfr3W",
        "colab_type": "text"
      },
      "source": [
        "First of all, we need to extract prouct metadata from embedded dictionary. Once all possible values are known, they will be properly encoded."
      ]
    },
    {
      "cell_type": "markdown",
      "metadata": {
        "id": "ileqJkOrSYGh",
        "colab_type": "text"
      },
      "source": [
        "## Find unique values per each category"
      ]
    },
    {
      "cell_type": "code",
      "metadata": {
        "id": "aWAMY1uKf63E",
        "colab_type": "code",
        "colab": {}
      },
      "source": [
        "unique_values = defaultdict(lambda: set())\n",
        "for i, row in df.iterrows():\n",
        "    if row.style and not pd.isnull(row.style):\n",
        "        for k, v in row.style.items():\n",
        "            unique_values[k.replace(\":\", \"\")].add(v)"
      ],
      "execution_count": 10,
      "outputs": []
    },
    {
      "cell_type": "code",
      "metadata": {
        "id": "JXm9yra0ix2Q",
        "colab_type": "code",
        "colab": {
          "base_uri": "https://localhost:8080/",
          "height": 34
        },
        "outputId": "589be472-bfa2-4191-acc9-7a34465424c5"
      },
      "source": [
        "unique_values.keys()"
      ],
      "execution_count": 11,
      "outputs": [
        {
          "output_type": "execute_result",
          "data": {
            "text/plain": [
              "dict_keys(['Size', 'Color', 'Size Name', 'Style'])"
            ]
          },
          "metadata": {
            "tags": []
          },
          "execution_count": 11
        }
      ]
    },
    {
      "cell_type": "code",
      "metadata": {
        "id": "Aorfn8jN-d7H",
        "colab_type": "code",
        "colab": {
          "base_uri": "https://localhost:8080/",
          "height": 85
        },
        "outputId": "1367e473-71b8-4c40-83a7-d45d61cf7a1a"
      },
      "source": [
        "for k, v in unique_values.items():\n",
        "    print(f\"{k}: {len(v)}\")"
      ],
      "execution_count": 12,
      "outputs": [
        {
          "output_type": "stream",
          "text": [
            "Size: 71\n",
            "Color: 63\n",
            "Size Name: 2\n",
            "Style: 2\n"
          ],
          "name": "stdout"
        }
      ]
    },
    {
      "cell_type": "markdown",
      "metadata": {
        "id": "tsj5kbGsSiah",
        "colab_type": "text"
      },
      "source": [
        "## Build per-category encoders"
      ]
    },
    {
      "cell_type": "code",
      "metadata": {
        "id": "BPrrr90dTSU5",
        "colab_type": "code",
        "colab": {}
      },
      "source": [
        "MISSING_VAL = 'missing'"
      ],
      "execution_count": 13,
      "outputs": []
    },
    {
      "cell_type": "code",
      "metadata": {
        "id": "RaRmKkdwgxbn",
        "colab_type": "code",
        "colab": {}
      },
      "source": [
        "style_encoders = {}\n",
        "for category, values in unique_values.items():\n",
        "    vals = list(values)\n",
        "    vals += [MISSING_VAL]\n",
        "    le = LabelEncoder()\n",
        "    le.fit(vals)\n",
        "    style_encoders[category] = le\n",
        "    df[category] = None"
      ],
      "execution_count": 14,
      "outputs": []
    },
    {
      "cell_type": "code",
      "metadata": {
        "id": "Qb6G8d_pQj5M",
        "colab_type": "code",
        "colab": {
          "base_uri": "https://localhost:8080/",
          "height": 142
        },
        "outputId": "e88cc240-cbd3-46a7-b4ca-527c6e38033e"
      },
      "source": [
        "df.head(3)"
      ],
      "execution_count": 15,
      "outputs": [
        {
          "output_type": "execute_result",
          "data": {
            "text/html": [
              "<div>\n",
              "<style scoped>\n",
              "    .dataframe tbody tr th:only-of-type {\n",
              "        vertical-align: middle;\n",
              "    }\n",
              "\n",
              "    .dataframe tbody tr th {\n",
              "        vertical-align: top;\n",
              "    }\n",
              "\n",
              "    .dataframe thead th {\n",
              "        text-align: right;\n",
              "    }\n",
              "</style>\n",
              "<table border=\"1\" class=\"dataframe\">\n",
              "  <thead>\n",
              "    <tr style=\"text-align: right;\">\n",
              "      <th></th>\n",
              "      <th>overall</th>\n",
              "      <th>verified</th>\n",
              "      <th>reviewTime</th>\n",
              "      <th>reviewerID</th>\n",
              "      <th>asin</th>\n",
              "      <th>style</th>\n",
              "      <th>reviewerName</th>\n",
              "      <th>reviewText</th>\n",
              "      <th>summary</th>\n",
              "      <th>unixReviewTime</th>\n",
              "      <th>vote</th>\n",
              "      <th>image</th>\n",
              "      <th>Size</th>\n",
              "      <th>Color</th>\n",
              "      <th>Size Name</th>\n",
              "      <th>Style</th>\n",
              "    </tr>\n",
              "  </thead>\n",
              "  <tbody>\n",
              "    <tr>\n",
              "      <th>0</th>\n",
              "      <td>5.0</td>\n",
              "      <td>True</td>\n",
              "      <td>09 4, 2015</td>\n",
              "      <td>ALJ66O1Y6SLHA</td>\n",
              "      <td>B000K2PJ4K</td>\n",
              "      <td>{'Size:': ' Big Boys', 'Color:': ' Blue/Orange'}</td>\n",
              "      <td>Tonya B.</td>\n",
              "      <td>Great product and price!</td>\n",
              "      <td>Five Stars</td>\n",
              "      <td>1441324800</td>\n",
              "      <td>NaN</td>\n",
              "      <td>NaN</td>\n",
              "      <td>None</td>\n",
              "      <td>None</td>\n",
              "      <td>None</td>\n",
              "      <td>None</td>\n",
              "    </tr>\n",
              "    <tr>\n",
              "      <th>1</th>\n",
              "      <td>5.0</td>\n",
              "      <td>True</td>\n",
              "      <td>09 4, 2015</td>\n",
              "      <td>ALJ66O1Y6SLHA</td>\n",
              "      <td>B000K2PJ4K</td>\n",
              "      <td>{'Size:': ' Big Boys', 'Color:': ' Black (3746...</td>\n",
              "      <td>Tonya B.</td>\n",
              "      <td>Great product and price!</td>\n",
              "      <td>Five Stars</td>\n",
              "      <td>1441324800</td>\n",
              "      <td>NaN</td>\n",
              "      <td>NaN</td>\n",
              "      <td>None</td>\n",
              "      <td>None</td>\n",
              "      <td>None</td>\n",
              "      <td>None</td>\n",
              "    </tr>\n",
              "    <tr>\n",
              "      <th>2</th>\n",
              "      <td>5.0</td>\n",
              "      <td>True</td>\n",
              "      <td>09 4, 2015</td>\n",
              "      <td>ALJ66O1Y6SLHA</td>\n",
              "      <td>B000K2PJ4K</td>\n",
              "      <td>{'Size:': ' Big Boys', 'Color:': ' Blue/Gray L...</td>\n",
              "      <td>Tonya B.</td>\n",
              "      <td>Great product and price!</td>\n",
              "      <td>Five Stars</td>\n",
              "      <td>1441324800</td>\n",
              "      <td>NaN</td>\n",
              "      <td>NaN</td>\n",
              "      <td>None</td>\n",
              "      <td>None</td>\n",
              "      <td>None</td>\n",
              "      <td>None</td>\n",
              "    </tr>\n",
              "  </tbody>\n",
              "</table>\n",
              "</div>"
            ],
            "text/plain": [
              "   overall  verified  reviewTime     reviewerID  ...  Size Color Size Name Style\n",
              "0      5.0      True  09 4, 2015  ALJ66O1Y6SLHA  ...  None  None      None  None\n",
              "1      5.0      True  09 4, 2015  ALJ66O1Y6SLHA  ...  None  None      None  None\n",
              "2      5.0      True  09 4, 2015  ALJ66O1Y6SLHA  ...  None  None      None  None\n",
              "\n",
              "[3 rows x 16 columns]"
            ]
          },
          "metadata": {
            "tags": []
          },
          "execution_count": 15
        }
      ]
    },
    {
      "cell_type": "markdown",
      "metadata": {
        "id": "kkIu4EwySn0L",
        "colab_type": "text"
      },
      "source": [
        "## Encode values per each record"
      ]
    },
    {
      "cell_type": "code",
      "metadata": {
        "id": "PiSqQ0w3iMPO",
        "colab_type": "code",
        "colab": {}
      },
      "source": [
        "encoded_vals = {k: [] for k in unique_values.keys()}\n",
        "\n",
        "for i, row in df.iterrows():\n",
        "    row_styles = row.style\n",
        "    if pd.isnull(row_styles):\n",
        "        for cat in unique_values.keys():\n",
        "            v = style_encoders[cat].transform([MISSING_VAL])[0]\n",
        "            encoded_vals[cat].append(v)\n",
        "    else:\n",
        "        for cat in unique_values.keys():\n",
        "            cat_with_colon = cat + \":\"\n",
        "            raw_val = row_styles[cat_with_colon] if cat_with_colon in row_styles.keys() else MISSING_VAL\n",
        "            le = style_encoders[cat]\n",
        "            v = le.transform([raw_val])[0]\n",
        "            encoded_vals[cat].append(v)"
      ],
      "execution_count": 16,
      "outputs": []
    },
    {
      "cell_type": "code",
      "metadata": {
        "id": "tGgiyyshkFVm",
        "colab_type": "code",
        "colab": {}
      },
      "source": [
        "for k, vals in encoded_vals.items():\n",
        "    df[k] = vals"
      ],
      "execution_count": 17,
      "outputs": []
    },
    {
      "cell_type": "code",
      "metadata": {
        "id": "6hw_0Te5qCSm",
        "colab_type": "code",
        "colab": {}
      },
      "source": [
        "uencoder = LabelEncoder()\n",
        "iencoder = LabelEncoder()\n",
        "\n",
        "uencoded = uencoder.fit_transform(df.reviewerID)\n",
        "iencoded  = iencoder.fit_transform(df.asin)"
      ],
      "execution_count": 18,
      "outputs": []
    },
    {
      "cell_type": "code",
      "metadata": {
        "id": "eOJFi8fHqgA1",
        "colab_type": "code",
        "colab": {}
      },
      "source": [
        "df['userid'] = uencoded\n",
        "df['itemid'] = iencoded"
      ],
      "execution_count": 19,
      "outputs": []
    },
    {
      "cell_type": "code",
      "metadata": {
        "id": "BMlYVUFvReey",
        "colab_type": "code",
        "colab": {
          "base_uri": "https://localhost:8080/",
          "height": 210
        },
        "outputId": "9672f242-4a2e-470e-c659-32ff8a96981f"
      },
      "source": [
        "df.head(3)"
      ],
      "execution_count": 20,
      "outputs": [
        {
          "output_type": "execute_result",
          "data": {
            "text/html": [
              "<div>\n",
              "<style scoped>\n",
              "    .dataframe tbody tr th:only-of-type {\n",
              "        vertical-align: middle;\n",
              "    }\n",
              "\n",
              "    .dataframe tbody tr th {\n",
              "        vertical-align: top;\n",
              "    }\n",
              "\n",
              "    .dataframe thead th {\n",
              "        text-align: right;\n",
              "    }\n",
              "</style>\n",
              "<table border=\"1\" class=\"dataframe\">\n",
              "  <thead>\n",
              "    <tr style=\"text-align: right;\">\n",
              "      <th></th>\n",
              "      <th>overall</th>\n",
              "      <th>verified</th>\n",
              "      <th>reviewTime</th>\n",
              "      <th>reviewerID</th>\n",
              "      <th>asin</th>\n",
              "      <th>style</th>\n",
              "      <th>reviewerName</th>\n",
              "      <th>reviewText</th>\n",
              "      <th>summary</th>\n",
              "      <th>unixReviewTime</th>\n",
              "      <th>vote</th>\n",
              "      <th>image</th>\n",
              "      <th>Size</th>\n",
              "      <th>Color</th>\n",
              "      <th>Size Name</th>\n",
              "      <th>Style</th>\n",
              "      <th>userid</th>\n",
              "      <th>itemid</th>\n",
              "    </tr>\n",
              "  </thead>\n",
              "  <tbody>\n",
              "    <tr>\n",
              "      <th>0</th>\n",
              "      <td>5.0</td>\n",
              "      <td>True</td>\n",
              "      <td>09 4, 2015</td>\n",
              "      <td>ALJ66O1Y6SLHA</td>\n",
              "      <td>B000K2PJ4K</td>\n",
              "      <td>{'Size:': ' Big Boys', 'Color:': ' Blue/Orange'}</td>\n",
              "      <td>Tonya B.</td>\n",
              "      <td>Great product and price!</td>\n",
              "      <td>Five Stars</td>\n",
              "      <td>1441324800</td>\n",
              "      <td>NaN</td>\n",
              "      <td>NaN</td>\n",
              "      <td>60</td>\n",
              "      <td>20</td>\n",
              "      <td>2</td>\n",
              "      <td>2</td>\n",
              "      <td>362</td>\n",
              "      <td>0</td>\n",
              "    </tr>\n",
              "    <tr>\n",
              "      <th>1</th>\n",
              "      <td>5.0</td>\n",
              "      <td>True</td>\n",
              "      <td>09 4, 2015</td>\n",
              "      <td>ALJ66O1Y6SLHA</td>\n",
              "      <td>B000K2PJ4K</td>\n",
              "      <td>{'Size:': ' Big Boys', 'Color:': ' Black (3746...</td>\n",
              "      <td>Tonya B.</td>\n",
              "      <td>Great product and price!</td>\n",
              "      <td>Five Stars</td>\n",
              "      <td>1441324800</td>\n",
              "      <td>NaN</td>\n",
              "      <td>NaN</td>\n",
              "      <td>60</td>\n",
              "      <td>7</td>\n",
              "      <td>2</td>\n",
              "      <td>2</td>\n",
              "      <td>362</td>\n",
              "      <td>0</td>\n",
              "    </tr>\n",
              "    <tr>\n",
              "      <th>2</th>\n",
              "      <td>5.0</td>\n",
              "      <td>True</td>\n",
              "      <td>09 4, 2015</td>\n",
              "      <td>ALJ66O1Y6SLHA</td>\n",
              "      <td>B000K2PJ4K</td>\n",
              "      <td>{'Size:': ' Big Boys', 'Color:': ' Blue/Gray L...</td>\n",
              "      <td>Tonya B.</td>\n",
              "      <td>Great product and price!</td>\n",
              "      <td>Five Stars</td>\n",
              "      <td>1441324800</td>\n",
              "      <td>NaN</td>\n",
              "      <td>NaN</td>\n",
              "      <td>60</td>\n",
              "      <td>19</td>\n",
              "      <td>2</td>\n",
              "      <td>2</td>\n",
              "      <td>362</td>\n",
              "      <td>0</td>\n",
              "    </tr>\n",
              "  </tbody>\n",
              "</table>\n",
              "</div>"
            ],
            "text/plain": [
              "   overall  verified  reviewTime  ... Style userid itemid\n",
              "0      5.0      True  09 4, 2015  ...     2    362      0\n",
              "1      5.0      True  09 4, 2015  ...     2    362      0\n",
              "2      5.0      True  09 4, 2015  ...     2    362      0\n",
              "\n",
              "[3 rows x 18 columns]"
            ]
          },
          "metadata": {
            "tags": []
          },
          "execution_count": 20
        }
      ]
    },
    {
      "cell_type": "markdown",
      "metadata": {
        "id": "dtqwN8iRXyCQ",
        "colab_type": "text"
      },
      "source": [
        "## Clean data"
      ]
    },
    {
      "cell_type": "code",
      "metadata": {
        "id": "MxS69RJIXzFC",
        "colab_type": "code",
        "colab": {
          "base_uri": "https://localhost:8080/",
          "height": 282
        },
        "outputId": "5e679825-66fa-4cd6-e492-b16c5306a175"
      },
      "source": [
        "df.overall.hist()"
      ],
      "execution_count": 21,
      "outputs": [
        {
          "output_type": "execute_result",
          "data": {
            "text/plain": [
              "<matplotlib.axes._subplots.AxesSubplot at 0x7fbcfc37d6d8>"
            ]
          },
          "metadata": {
            "tags": []
          },
          "execution_count": 21
        },
        {
          "output_type": "display_data",
          "data": {
            "image/png": "[encoded data removed]",
            "text/plain": [
              "<Figure size 432x288 with 1 Axes>"
            ]
          },
          "metadata": {
            "tags": [],
            "needs_background": "light"
          }
        }
      ]
    },
    {
      "cell_type": "markdown",
      "metadata": {
        "id": "uKHk0eeRVR9E",
        "colab_type": "text"
      },
      "source": [
        "# Training models"
      ]
    },
    {
      "cell_type": "code",
      "metadata": {
        "id": "jgHfdreTXNWP",
        "colab_type": "code",
        "colab": {
          "base_uri": "https://localhost:8080/",
          "height": 34
        },
        "outputId": "3280c638-81b4-41b5-d1df-03e00463652e"
      },
      "source": [
        "nusers = df.userid.nunique()\n",
        "nitems = df.itemid.nunique()\n",
        "\n",
        "nusers, nitems"
      ],
      "execution_count": 22,
      "outputs": [
        {
          "output_type": "execute_result",
          "data": {
            "text/plain": [
              "(406, 31)"
            ]
          },
          "metadata": {
            "tags": []
          },
          "execution_count": 22
        }
      ]
    },
    {
      "cell_type": "code",
      "metadata": {
        "id": "7T1sWQ1OZUyu",
        "colab_type": "code",
        "colab": {
          "base_uri": "https://localhost:8080/",
          "height": 85
        },
        "outputId": "4dd6060f-8323-43c7-fe1f-7b5397b13ecd"
      },
      "source": [
        "for cat, le in style_encoders.items():\n",
        "    print(f\"{cat}, ncls: {len(le.classes_)}\")"
      ],
      "execution_count": 23,
      "outputs": [
        {
          "output_type": "stream",
          "text": [
            "Size, ncls: 72\n",
            "Color, ncls: 64\n",
            "Size Name, ncls: 3\n",
            "Style, ncls: 3\n"
          ],
          "name": "stdout"
        }
      ]
    },
    {
      "cell_type": "code",
      "metadata": {
        "id": "GPTQ2e6hdrVV",
        "colab_type": "code",
        "colab": {}
      },
      "source": [
        "X_train, X_test, y_train, y_test = train_test_split(df.drop(\"overall\", axis=1), df.overall, random_state=123, test_size=0.15)"
      ],
      "execution_count": 24,
      "outputs": []
    },
    {
      "cell_type": "code",
      "metadata": {
        "id": "mPoyrep5Y0hY",
        "colab_type": "code",
        "colab": {
          "base_uri": "https://localhost:8080/",
          "height": 71
        },
        "outputId": "3e179415-c721-4fad-f00a-ed23c3959698"
      },
      "source": [
        "kf = KFold(n_splits=10, random_state=123)"
      ],
      "execution_count": 25,
      "outputs": [
        {
          "output_type": "stream",
          "text": [
            "/usr/local/lib/python3.6/dist-packages/sklearn/model_selection/_split.py:296: FutureWarning: Setting a random_state has no effect since shuffle is False. This will raise an error in 0.24. You should leave random_state to its default (None), or set shuffle=True.\n",
            "  FutureWarning\n"
          ],
          "name": "stderr"
        }
      ]
    },
    {
      "cell_type": "code",
      "metadata": {
        "id": "aWYJXjkS_yDW",
        "colab_type": "code",
        "colab": {}
      },
      "source": [
        "def MAPE(y_true, y_pred): \n",
        "    #y_true, y_pred = check_arrays(y_true, y_pred)\n",
        "\n",
        "    ## Note: does not handle mix 1d representation\n",
        "    #if _is_1d(y_true): \n",
        "    #    y_true, y_pred = _check_1d_array(y_true, y_pred)\n",
        "\n",
        "    return np.mean(np.abs((y_true - y_pred) / y_true))"
      ],
      "execution_count": 29,
      "outputs": []
    },
    {
      "cell_type": "code",
      "metadata": {
        "id": "0fTdWEjmb2pE",
        "colab_type": "code",
        "colab": {}
      },
      "source": [
        "def train_model(model_builder, feature_builder_f, X_train, y_train, X_test, y_test, kf, *args, **kwargs):\n",
        "    mse_vals = []\n",
        "    mae_vals = []\n",
        "    mape_vals = []\n",
        "    for traini, testi in tqdm(kf.split(X_train, y_train)):\n",
        "        X_train_cv, y_train_cv = X_train.iloc[traini], y_train.iloc[traini]\n",
        "        X_test_cv, y_test_cv = X_train.iloc[testi], y_train.iloc[testi]\n",
        "\n",
        "        model = model_builder()\n",
        "        history = model.fit(feature_builder_f(X_train_cv), y_train_cv, epochs=10, *args, **kwargs)\n",
        "\n",
        "        yhat_cv = model.predict(feature_builder_f(X_test_cv)).squeeze()\n",
        "        mse, mae, mape = mean_squared_error(y_true=y_test_cv, y_pred=yhat_cv), mean_absolute_error(y_true=y_test_cv, y_pred=yhat_cv), MAPE(y_true=y_test_cv, y_pred=yhat_cv)\n",
        "        mse_vals.append(mse)\n",
        "        mae_vals.append(mae)\n",
        "        mape_vals.append(mape)\n",
        "\n",
        "    model_full = model_builder()\n",
        "    full_hist = model_full.fit(feature_builder_f(X_train), y_train, *args, **kwargs)\n",
        "    test_yhat = model_full.predict(feature_builder_f(X_test)).squeeze()\n",
        "    test_mse, test_mae, test_mape = mean_squared_error(y_true=y_test, y_pred=test_yhat), mean_absolute_error(y_true=y_test, y_pred=test_yhat),  MAPE(y_true=y_test, y_pred=test_yhat)\n",
        "\n",
        "    return mse_vals, mae_vals, mape_vals, test_mse, test_mae, test_mape, full_hist, model_full"
      ],
      "execution_count": 113,
      "outputs": []
    },
    {
      "cell_type": "code",
      "metadata": {
        "id": "teackNK8cv2z",
        "colab_type": "code",
        "colab": {}
      },
      "source": [
        "def print_model_errors(model_name, mse, mae, mape, test_mse, test_mae, test_mape):\n",
        "    print(f\"\"\"\n",
        "    Model: {model_name}\n",
        "    train MSE: {np.mean(mse)}\n",
        "    train MAE: {np.mean(mae)}\n",
        "    train MAPE: {np.mean(mape)}\n",
        "\n",
        "    test MSE: {np.mean(test_mse)}\n",
        "    test MAE: {np.mean(test_mae)}\n",
        "    test MAPE: {np.mean(test_mape)}\n",
        "    \"\"\")"
      ],
      "execution_count": 114,
      "outputs": []
    },
    {
      "cell_type": "markdown",
      "metadata": {
        "id": "X6YRtUzNWimQ",
        "colab_type": "text"
      },
      "source": [
        "## Collaborative filtering"
      ]
    },
    {
      "cell_type": "code",
      "metadata": {
        "id": "_5e4CvJ7WlnA",
        "colab_type": "code",
        "colab": {}
      },
      "source": [
        "def build_colabfilt():\n",
        "    kk.backend.clear_session()\n",
        "    gc.collect()\n",
        "\n",
        "    uiembed_sz = 24\n",
        "\n",
        "    uinput = kk.layers.Input(shape=(1,))\n",
        "    uembed = kk.layers.Embedding(\n",
        "        output_dim=uiembed_sz,\n",
        "        input_dim=nusers+1,\n",
        "        input_length=1,\n",
        "        name='userembed')(uinput)\n",
        "    uembed = kk.layers.Flatten()(uembed)\n",
        "    ubias = kk.layers.Flatten()(kk.layers.Embedding(\n",
        "        output_dim=1,\n",
        "        input_dim=nusers,\n",
        "        input_length=1,\n",
        "        name='ubias')(uinput))\n",
        "\n",
        "    iinput = kk.layers.Input(shape=(1,))\n",
        "    iembed = kk.layers.Embedding(\n",
        "        output_dim=uiembed_sz,\n",
        "        input_dim=nitems+1,\n",
        "        input_length=1,\n",
        "        name='iembed')(iinput)\n",
        "    iembed = kk.layers.Flatten()(iembed)\n",
        "    ibias = kk.layers.Flatten()(kk.layers.Embedding(\n",
        "        output_dim=1,\n",
        "        input_dim=nitems+1,\n",
        "        input_length=1,\n",
        "        name='ibias')(iinput))\n",
        "\n",
        "    ufull = kk.layers.add([uembed, ubias])\n",
        "    ifull = kk.layers.add([iembed, ibias])\n",
        "    out = kk.layers.Dot(axes=(1,1))([ifull, ufull])\n",
        "    #out = kk.layers.add([dot, ubias, ibias])\n",
        "\n",
        "    model_colab = kk.models.Model(inputs=[uinput, iinput], outputs=out)\n",
        "    opt = kk.optimizers.Adam(lr=0.001)\n",
        "    model_colab.compile(loss='mean_squared_error', optimizer=opt, metrics=['mse', 'mae', 'mape'])\n",
        "    return model_colab"
      ],
      "execution_count": 115,
      "outputs": []
    },
    {
      "cell_type": "code",
      "metadata": {
        "id": "ZLg8s58Sc7_e",
        "colab_type": "code",
        "colab": {}
      },
      "source": [
        "colab_feature_builder = lambda data: [data.userid, data.itemid]"
      ],
      "execution_count": 116,
      "outputs": []
    },
    {
      "cell_type": "code",
      "metadata": {
        "id": "XaEQgoMBfpP7",
        "colab_type": "code",
        "colab": {
          "base_uri": "https://localhost:8080/",
          "height": 66,
          "referenced_widgets": [
            "cce9ee1ff9424a958747c956613b20ac",
            "6a90f881b7e84aabaa5a2db952a934d4",
            "047fb6bb436c41b3af5ff34352a5a62f",
            "d568595c04fa4f1ab443ed50105aeac2",
            "c0bb127188124025a9457b17d0dde6f6",
            "12b1699dd0bd4c679303976ba639aab4",
            "c76e3d1074594cb3aa9085f5873a2921",
            "ca3d298d47c7492f809fcc7a435cf34a"
          ]
        },
        "outputId": "b89380ec-00d9-4835-db66-18fb2722a90c"
      },
      "source": [
        "colab_mse, colab_mae, colab_mape, colab_test_mse, colab_test_mae, colab_test_mape, colab_hist, colab_model = train_model(build_colabfilt, colab_feature_builder, X_train, y_train, X_test, y_test, kf, verbose=0, validation_split=0.1)"
      ],
      "execution_count": 154,
      "outputs": [
        {
          "output_type": "display_data",
          "data": {
            "application/vnd.jupyter.widget-view+json": {
              "model_id": "cce9ee1ff9424a958747c956613b20ac",
              "version_minor": 0,
              "version_major": 2
            },
            "text/plain": [
              "HBox(children=(FloatProgress(value=1.0, bar_style='info', max=1.0), HTML(value='')))"
            ]
          },
          "metadata": {
            "tags": []
          }
        },
        {
          "output_type": "stream",
          "text": [
            "\n"
          ],
          "name": "stdout"
        }
      ]
    },
    {
      "cell_type": "code",
      "metadata": {
        "id": "IpgTNHwwlWk7",
        "colab_type": "code",
        "colab": {
          "base_uri": "https://localhost:8080/",
          "height": 187
        },
        "outputId": "9a4a6735-b4c5-45d8-eb43-ed6eff59f4a4"
      },
      "source": [
        "print_model_errors(\"colab\", colab_mse, colab_mae, colab_mape, colab_test_mse, colab_test_mae, colab_test_mape)"
      ],
      "execution_count": 156,
      "outputs": [
        {
          "output_type": "stream",
          "text": [
            "\n",
            "    Model: colab\n",
            "    train MSE: 0.26906924027459517\n",
            "    train MAE: 0.15178580229912422\n",
            "    train MAPE: 0.03577652534541779\n",
            "\n",
            "    test MSE: 20.69780258149214\n",
            "    test MAE: 4.436761780251725\n",
            "    test MAPE: 0.9949391631497635\n",
            "    \n"
          ],
          "name": "stdout"
        }
      ]
    },
    {
      "cell_type": "markdown",
      "metadata": {
        "id": "UpdoPXc06xS_",
        "colab_type": "text"
      },
      "source": [
        "## Deep matrix factorization"
      ]
    },
    {
      "cell_type": "code",
      "metadata": {
        "id": "dtvohWae60dI",
        "colab_type": "code",
        "colab": {}
      },
      "source": [
        "def build_deep_colabfilt():\n",
        "    kk.backend.clear_session()\n",
        "    gc.collect()\n",
        "\n",
        "    uiembed_sz = 24\n",
        "\n",
        "    uinput = kk.layers.Input(shape=(1,))\n",
        "    uembed = kk.layers.Embedding(\n",
        "        output_dim=uiembed_sz,\n",
        "        input_dim=nusers+1,\n",
        "        input_length=1,\n",
        "        name='userembed', \n",
        "        embeddings_initializer=kk.initializers.he_normal())(uinput)\n",
        "    uembed = kk.layers.Flatten()(uembed)\n",
        "    ubias = kk.layers.Flatten()(kk.layers.Embedding(\n",
        "        output_dim=1,\n",
        "        input_dim=nusers,\n",
        "        input_length=1,\n",
        "        name='ubias')(uinput))\n",
        "\n",
        "    iinput = kk.layers.Input(shape=(1,))\n",
        "    iembed = kk.layers.Embedding(\n",
        "        output_dim=uiembed_sz,\n",
        "        input_dim=nitems+1,\n",
        "        input_length=1,\n",
        "        name='iembed',\n",
        "        embeddings_initializer=kk.initializers.he_normal())(iinput)\n",
        "    iembed = kk.layers.Flatten()(iembed)\n",
        "    ibias = kk.layers.Flatten()(kk.layers.Embedding(\n",
        "        output_dim=1,\n",
        "        input_dim=nitems+1,\n",
        "        input_length=1,\n",
        "        name='ibias')(iinput))\n",
        "\n",
        "    concat = kk.layers.Concatenate()([uembed, iembed, ubias, ibias])\n",
        "    drop1 = kk.layers.Dropout(0.2)(concat)\n",
        "    d1 = kk.layers.Dense(16, activation='tanh', kernel_regularizer=kk.regularizers.l2(0.001))(drop1)\n",
        "\n",
        "    drop2 = kk.layers.Dropout(0.2)(d1)\n",
        "    d2 = kk.layers.Dense(8, activation='tanh')(drop2)\n",
        "\n",
        "    #drop3 = kk.layers.Dropout(0.2)(d1)\n",
        "    out = kk.layers.Dense(1, activation='relu',  kernel_regularizer=kk.regularizers.l2(0.001))(d2)\n",
        "\n",
        "    model_colab_deep = kk.models.Model(inputs=[uinput, iinput], outputs=out)\n",
        "    opt = kk.optimizers.Adam(lr=0.01)\n",
        "    model_colab_deep.compile(loss='mean_squared_error', optimizer=opt, metrics=['mse', 'mae', 'mape'])\n",
        "    return model_colab_deep"
      ],
      "execution_count": 157,
      "outputs": []
    },
    {
      "cell_type": "code",
      "metadata": {
        "id": "QgWrw6O1dYQ2",
        "colab_type": "code",
        "colab": {}
      },
      "source": [
        "deepcolabfilt_feature_builder = lambda data: [data.userid, data.itemid]"
      ],
      "execution_count": 158,
      "outputs": []
    },
    {
      "cell_type": "code",
      "metadata": {
        "id": "jKQMdhk-dbXb",
        "colab_type": "code",
        "colab": {
          "base_uri": "https://localhost:8080/",
          "height": 66,
          "referenced_widgets": [
            "08507d3a095e46f6bcda494ae4c9a23c",
            "3b7973e85cc645849957fe59b55ef21e",
            "888b0601a50746eb8e4e1c48d4a10d59",
            "7b77e8c05b04497fba7d6820d6a71d4f",
            "d2d3626314ff49ec9650b0dcab53cd72",
            "413c271dc2a84842805f55e4d5e8b4cc",
            "b7eb29313228417e98ba9cd7daa07e37",
            "ff9d49d66faa47ad971124b646f52717"
          ]
        },
        "outputId": "db2f3793-5066-42be-9aa3-52bcc80b273a"
      },
      "source": [
        "deepcolab_mse, deepcolab_mae, deepcolab_mape, deepcolab_test_mse, deepcolab_test_mae, deepcolab_test_mape, deepcolab_hist, deepcolab_model = train_model(build_deep_colabfilt, deepcolabfilt_feature_builder, X_train, y_train, X_test, y_test, kf, verbose=0, validation_split=0.1)"
      ],
      "execution_count": 159,
      "outputs": [
        {
          "output_type": "display_data",
          "data": {
            "application/vnd.jupyter.widget-view+json": {
              "model_id": "08507d3a095e46f6bcda494ae4c9a23c",
              "version_minor": 0,
              "version_major": 2
            },
            "text/plain": [
              "HBox(children=(FloatProgress(value=1.0, bar_style='info', max=1.0), HTML(value='')))"
            ]
          },
          "metadata": {
            "tags": []
          }
        },
        {
          "output_type": "stream",
          "text": [
            "\n"
          ],
          "name": "stdout"
        }
      ]
    },
    {
      "cell_type": "code",
      "metadata": {
        "id": "SgdTkyIIkdG7",
        "colab_type": "code",
        "colab": {
          "base_uri": "https://localhost:8080/",
          "height": 187
        },
        "outputId": "46b156ab-f994-4578-8fb4-ded3838c34d2"
      },
      "source": [
        "# tanh activation, adam, embed: 24 - dense: (16-8-1)\n",
        "print_model_errors(\"deep colab\", deepcolab_mse, deepcolab_mae, deepcolab_mape, deepcolab_test_mse, deepcolab_test_mae, deepcolab_test_mape)"
      ],
      "execution_count": 160,
      "outputs": [
        {
          "output_type": "stream",
          "text": [
            "\n",
            "    Model: deep colab\n",
            "    train MSE: 0.05921130735640009\n",
            "    train MAE: 0.08726150326593904\n",
            "    train MAPE: 0.03169457732461418\n",
            "\n",
            "    test MSE: 0.5617355545271608\n",
            "    test MAE: 0.5216582589616815\n",
            "    test MAPE: 0.19555105594677316\n",
            "    \n"
          ],
          "name": "stdout"
        }
      ]
    },
    {
      "cell_type": "code",
      "metadata": {
        "id": "EL2BBzDq28o9",
        "colab_type": "code",
        "colab": {
          "base_uri": "https://localhost:8080/",
          "height": 856
        },
        "outputId": "14b3c363-e36b-4f23-a0ce-fbb7341f4eed"
      },
      "source": [
        "kk.utils.plot_model(deepcolab_model)"
      ],
      "execution_count": 236,
      "outputs": [
        {
          "output_type": "execute_result",
          "data": {
            "image/png": "[encoded data removed]",
            "text/plain": [
              "<IPython.core.display.Image object>"
            ]
          },
          "metadata": {
            "tags": []
          },
          "execution_count": 236
        }
      ]
    },
    {
      "cell_type": "code",
      "metadata": {
        "id": "-dSIburH3B5n",
        "colab_type": "code",
        "colab": {
          "base_uri": "https://localhost:8080/",
          "height": 748
        },
        "outputId": "78728b11-43ef-4fb3-80d9-ce11d9130380"
      },
      "source": [
        "deepcolab_model.summary()"
      ],
      "execution_count": 237,
      "outputs": [
        {
          "output_type": "stream",
          "text": [
            "Model: \"model\"\n",
            "__________________________________________________________________________________________________\n",
            "Layer (type)                    Output Shape         Param #     Connected to                     \n",
            "==================================================================================================\n",
            "input_1 (InputLayer)            [(None, 1)]          0                                            \n",
            "__________________________________________________________________________________________________\n",
            "input_2 (InputLayer)            [(None, 1)]          0                                            \n",
            "__________________________________________________________________________________________________\n",
            "userembed (Embedding)           (None, 1, 24)        9768        input_1[0][0]                    \n",
            "__________________________________________________________________________________________________\n",
            "iembed (Embedding)              (None, 1, 24)        768         input_2[0][0]                    \n",
            "__________________________________________________________________________________________________\n",
            "ubias (Embedding)               (None, 1, 1)         406         input_1[0][0]                    \n",
            "__________________________________________________________________________________________________\n",
            "ibias (Embedding)               (None, 1, 1)         32          input_2[0][0]                    \n",
            "__________________________________________________________________________________________________\n",
            "flatten (Flatten)               (None, 24)           0           userembed[0][0]                  \n",
            "__________________________________________________________________________________________________\n",
            "flatten_2 (Flatten)             (None, 24)           0           iembed[0][0]                     \n",
            "__________________________________________________________________________________________________\n",
            "flatten_1 (Flatten)             (None, 1)            0           ubias[0][0]                      \n",
            "__________________________________________________________________________________________________\n",
            "flatten_3 (Flatten)             (None, 1)            0           ibias[0][0]                      \n",
            "__________________________________________________________________________________________________\n",
            "concatenate (Concatenate)       (None, 50)           0           flatten[0][0]                    \n",
            "                                                                 flatten_2[0][0]                  \n",
            "                                                                 flatten_1[0][0]                  \n",
            "                                                                 flatten_3[0][0]                  \n",
            "__________________________________________________________________________________________________\n",
            "dropout (Dropout)               (None, 50)           0           concatenate[0][0]                \n",
            "__________________________________________________________________________________________________\n",
            "dense (Dense)                   (None, 16)           816         dropout[0][0]                    \n",
            "__________________________________________________________________________________________________\n",
            "dropout_1 (Dropout)             (None, 16)           0           dense[0][0]                      \n",
            "__________________________________________________________________________________________________\n",
            "dense_1 (Dense)                 (None, 8)            136         dropout_1[0][0]                  \n",
            "__________________________________________________________________________________________________\n",
            "dense_2 (Dense)                 (None, 1)            9           dense_1[0][0]                    \n",
            "==================================================================================================\n",
            "Total params: 11,935\n",
            "Trainable params: 11,935\n",
            "Non-trainable params: 0\n",
            "__________________________________________________________________________________________________\n"
          ],
          "name": "stdout"
        }
      ]
    },
    {
      "cell_type": "markdown",
      "metadata": {
        "id": "rZs3_b1ibA9Y",
        "colab_type": "text"
      },
      "source": [
        "## Content based model"
      ]
    },
    {
      "cell_type": "code",
      "metadata": {
        "id": "EyjBK6SWbGzE",
        "colab_type": "code",
        "colab": {}
      },
      "source": [
        "def build_content_model():\n",
        "    kk.backend.clear_session()\n",
        "    gc.collect()\n",
        "\n",
        "    size_embed_sz = 48\n",
        "    col_embed_sz = 48\n",
        "    size_name_embed_sz = 3\n",
        "    style_embed_sz = 3\n",
        "\n",
        "    uiembed_sz = 32\n",
        "\n",
        "    iinput = kk.layers.Input(shape=(1,))\n",
        "    uinput = kk.layers.Input(shape=(1,))\n",
        "    size_input = kk.layers.Input(shape=(1,))\n",
        "    col_input = kk.layers.Input(shape=(1, ))\n",
        "    size_name_input = kk.layers.Input(shape=(1,))\n",
        "    style_input = kk.layers.Input(shape=(1, ))\n",
        "\n",
        "    uembed = kk.layers.Embedding(\n",
        "        output_dim=64,\n",
        "        input_dim=nusers+1,\n",
        "        input_length=1,\n",
        "        name='userembed',\n",
        "        embeddings_initializer=kk.initializers.he_normal())(uinput)\n",
        "    uembed = kk.layers.Flatten()(uembed)\n",
        "    ubias = kk.layers.Flatten()(kk.layers.Embedding(\n",
        "        output_dim=1,\n",
        "        input_dim=nusers,\n",
        "        input_length=1,\n",
        "        name='ubias')(uinput))\n",
        "\n",
        "    iembed = kk.layers.Embedding(\n",
        "        output_dim=8,\n",
        "        input_dim=nitems+1,\n",
        "        input_length=1,\n",
        "        name='iembed',\n",
        "        embeddings_initializer=kk.initializers.he_normal())(iinput)\n",
        "    iembed = kk.layers.Flatten()(iembed)\n",
        "    ibias = kk.layers.Flatten()(kk.layers.Embedding(\n",
        "        output_dim=1,\n",
        "        input_dim=nitems+1,\n",
        "        input_length=1,\n",
        "        name='ibias')(iinput))\n",
        "\n",
        "    user_part = kk.layers.Concatenate()([uembed, ubias])\n",
        "    user_drop = kk.layers.Dropout(rate=0.2)(user_part)\n",
        "    user_deep = kk.layers.Dense(32, activation='tanh', kernel_regularizer=kk.regularizers.l2(0.001))(user_drop)\n",
        "\n",
        "    size_embed = kk.layers.Flatten()(kk.layers.Embedding(\n",
        "        output_dim=size_embed_sz,\n",
        "        input_dim=len(style_encoders['Size'].classes_) + 1,\n",
        "        input_length=1,\n",
        "        name=\"size_embed\",\n",
        "        embeddings_initializer=kk.initializers.he_normal()\n",
        "    )(size_input))\n",
        "    color_embed = kk.layers.Flatten()(kk.layers.Embedding(\n",
        "        output_dim=col_embed_sz,\n",
        "        input_dim=len(style_encoders['Color'].classes_) + 1,\n",
        "        input_length=1,\n",
        "        name=\"col_embed\",\n",
        "        embeddings_initializer=kk.initializers.he_normal()\n",
        "    )(col_input))\n",
        "\n",
        "    content_part = kk.layers.Concatenate()([iembed, ibias, size_embed, color_embed]) #, style_embed])\n",
        "    content_drop = kk.layers.Dropout(rate=0.2)(content_part)\n",
        "    conent_deep = kk.layers.Dense(16, activation='tanh', kernel_regularizer=kk.regularizers.l2(0.001))(content_drop)\n",
        "\n",
        "    concat = kk.layers.Concatenate()([iembed, ibias, size_embed, color_embed, uembed, ubias]) #([conent_deep, user_deep])\n",
        "    drop1 = kk.layers.Dropout(0.2)(concat)\n",
        "    d1 = kk.layers.Dense(128, activation='tanh', kernel_regularizer=kk.regularizers.l2(0.001))(drop1)\n",
        "\n",
        "    drop2 = kk.layers.Dropout(0.2)(d1)\n",
        "    d2 = kk.layers.Dense(32, activation='tanh')(drop2)\n",
        "\n",
        "    #drop3 = kk.layers.Dropout(0.2)(d2)\n",
        "    out = kk.layers.Dense(1, activation='relu')(d2)\n",
        "\n",
        "    model_content = kk.models.Model(inputs=[uinput, iinput, size_input, col_input, style_input], outputs=out)\n",
        "    opt = kk.optimizers.Adam(0.01) #SGD(lr=0.01, momentum=0.9)\n",
        "    model_content.compile(loss='mean_squared_error', optimizer=opt, metrics=['mse', 'mae', 'mape'])\n",
        "    return model_content"
      ],
      "execution_count": 193,
      "outputs": []
    },
    {
      "cell_type": "code",
      "metadata": {
        "id": "qos8CCJygFvc",
        "colab_type": "code",
        "colab": {}
      },
      "source": [
        "content_model_feature_builder = lambda data: [data.userid, data.itemid, data.Size, data.Color, data.Style]"
      ],
      "execution_count": 194,
      "outputs": []
    },
    {
      "cell_type": "code",
      "metadata": {
        "id": "y0fuTZ41gNfs",
        "colab_type": "code",
        "colab": {
          "base_uri": "https://localhost:8080/",
          "height": 66,
          "referenced_widgets": [
            "1e0585adf0de41faa36dd88918989b06",
            "73d31729474b48bba7107e7d57a1f4cd",
            "ced85f7c066b4a37b1145241a824dfb7",
            "908c37b846e14e6587a45f7d3ee19476",
            "e3981733ff19478181c96a7daf538b26",
            "dd553e9f13c142a6aae5293b1b584b22",
            "ff84c8e3f0ca43e39318bf2dc7f39c55",
            "9facb4f6a2e24dc4854dc5e520033ba9"
          ]
        },
        "outputId": "ae897897-035c-4a7c-eb37-466c7cf694cf"
      },
      "source": [
        "content_mse, content_mae, content_mape, content_test_mse, content_test_mae, content_test_mape, conent_hist, content_model = train_model(build_content_model, content_model_feature_builder, X_train, y_train, X_test, y_test, kf, verbose=0)"
      ],
      "execution_count": 195,
      "outputs": [
        {
          "output_type": "display_data",
          "data": {
            "application/vnd.jupyter.widget-view+json": {
              "model_id": "1e0585adf0de41faa36dd88918989b06",
              "version_minor": 0,
              "version_major": 2
            },
            "text/plain": [
              "HBox(children=(FloatProgress(value=1.0, bar_style='info', max=1.0), HTML(value='')))"
            ]
          },
          "metadata": {
            "tags": []
          }
        },
        {
          "output_type": "stream",
          "text": [
            "\n"
          ],
          "name": "stdout"
        }
      ]
    },
    {
      "cell_type": "code",
      "metadata": {
        "id": "gjx2jUmYz31M",
        "colab_type": "code",
        "colab": {
          "base_uri": "https://localhost:8080/",
          "height": 187
        },
        "outputId": "44670540-c30b-4ba3-b4f0-2d615626c982"
      },
      "source": [
        "print_model_errors(\"Content model\", content_mse, content_mae, content_mape, content_test_mse, content_test_mae, content_test_mape)"
      ],
      "execution_count": 196,
      "outputs": [
        {
          "output_type": "stream",
          "text": [
            "\n",
            "    Model: Content model\n",
            "    train MSE: 0.035163644121157696\n",
            "    train MAE: 0.06753394948997955\n",
            "    train MAPE: 0.022193513546931453\n",
            "\n",
            "    test MSE: 0.10189070663191771\n",
            "    test MAE: 0.1711329339185351\n",
            "    test MAPE: 0.07531161872262646\n",
            "    \n"
          ],
          "name": "stdout"
        }
      ]
    },
    {
      "cell_type": "code",
      "metadata": {
        "id": "hcVfWtYXqG3D",
        "colab_type": "code",
        "colab": {
          "base_uri": "https://localhost:8080/",
          "height": 191
        },
        "outputId": "89802f57-836d-48a8-a99d-31f15805f5f3"
      },
      "source": [
        "print_model_errors(\"Content model\", content_mse, content_mae, content_mape, content_test_mse, content_test_mae, content_test_mape)"
      ],
      "execution_count": 163,
      "outputs": [
        {
          "output_type": "stream",
          "text": [
            "\n",
            "    Model: Content model\n",
            "    train MSE: 0.03487408901992961\n",
            "    train MAE: 0.0792899024439764\n",
            "    train MAPE: 0.023980649585737878\n",
            "\n",
            "    test MSE: 0.13517728838223\n",
            "    test MAE: 0.21587162797555984\n",
            "    test MAPE: 0.07791695957163848\n",
            "    \n"
          ],
          "name": "stdout"
        }
      ]
    },
    {
      "cell_type": "code",
      "metadata": {
        "id": "pa8Jwj1I2rlH",
        "colab_type": "code",
        "colab": {
          "base_uri": "https://localhost:8080/",
          "height": 856
        },
        "outputId": "b57ef211-7742-4974-9859-d7082fe617a4"
      },
      "source": [
        "kk.utils.plot_model(content_model)"
      ],
      "execution_count": 234,
      "outputs": [
        {
          "output_type": "execute_result",
          "data": {
            "image/png": "[encoded data removed]",
            "text/plain": [
              "<IPython.core.display.Image object>"
            ]
          },
          "metadata": {
            "tags": []
          },
          "execution_count": 234
        }
      ]
    },
    {
      "cell_type": "code",
      "metadata": {
        "id": "sWs6WCjm22u-",
        "colab_type": "code",
        "colab": {
          "base_uri": "https://localhost:8080/",
          "height": 1000
        },
        "outputId": "097827aa-a348-455e-ff0e-7c63418135ae"
      },
      "source": [
        "content_model.summary()"
      ],
      "execution_count": 235,
      "outputs": [
        {
          "output_type": "stream",
          "text": [
            "Model: \"model\"\n",
            "__________________________________________________________________________________________________\n",
            "Layer (type)                    Output Shape         Param #     Connected to                     \n",
            "==================================================================================================\n",
            "input_1 (InputLayer)            [(None, 1)]          0                                            \n",
            "__________________________________________________________________________________________________\n",
            "input_3 (InputLayer)            [(None, 1)]          0                                            \n",
            "__________________________________________________________________________________________________\n",
            "input_4 (InputLayer)            [(None, 1)]          0                                            \n",
            "__________________________________________________________________________________________________\n",
            "input_2 (InputLayer)            [(None, 1)]          0                                            \n",
            "__________________________________________________________________________________________________\n",
            "iembed (Embedding)              (None, 1, 8)         256         input_1[0][0]                    \n",
            "__________________________________________________________________________________________________\n",
            "ibias (Embedding)               (None, 1, 1)         32          input_1[0][0]                    \n",
            "__________________________________________________________________________________________________\n",
            "size_embed (Embedding)          (None, 1, 48)        3504        input_3[0][0]                    \n",
            "__________________________________________________________________________________________________\n",
            "col_embed (Embedding)           (None, 1, 48)        3120        input_4[0][0]                    \n",
            "__________________________________________________________________________________________________\n",
            "userembed (Embedding)           (None, 1, 64)        26048       input_2[0][0]                    \n",
            "__________________________________________________________________________________________________\n",
            "ubias (Embedding)               (None, 1, 1)         406         input_2[0][0]                    \n",
            "__________________________________________________________________________________________________\n",
            "flatten_2 (Flatten)             (None, 8)            0           iembed[0][0]                     \n",
            "__________________________________________________________________________________________________\n",
            "flatten_3 (Flatten)             (None, 1)            0           ibias[0][0]                      \n",
            "__________________________________________________________________________________________________\n",
            "flatten_4 (Flatten)             (None, 48)           0           size_embed[0][0]                 \n",
            "__________________________________________________________________________________________________\n",
            "flatten_5 (Flatten)             (None, 48)           0           col_embed[0][0]                  \n",
            "__________________________________________________________________________________________________\n",
            "flatten (Flatten)               (None, 64)           0           userembed[0][0]                  \n",
            "__________________________________________________________________________________________________\n",
            "flatten_1 (Flatten)             (None, 1)            0           ubias[0][0]                      \n",
            "__________________________________________________________________________________________________\n",
            "concatenate_2 (Concatenate)     (None, 170)          0           flatten_2[0][0]                  \n",
            "                                                                 flatten_3[0][0]                  \n",
            "                                                                 flatten_4[0][0]                  \n",
            "                                                                 flatten_5[0][0]                  \n",
            "                                                                 flatten[0][0]                    \n",
            "                                                                 flatten_1[0][0]                  \n",
            "__________________________________________________________________________________________________\n",
            "dropout_2 (Dropout)             (None, 170)          0           concatenate_2[0][0]              \n",
            "__________________________________________________________________________________________________\n",
            "dense_2 (Dense)                 (None, 128)          21888       dropout_2[0][0]                  \n",
            "__________________________________________________________________________________________________\n",
            "dropout_3 (Dropout)             (None, 128)          0           dense_2[0][0]                    \n",
            "__________________________________________________________________________________________________\n",
            "dense_3 (Dense)                 (None, 32)           4128        dropout_3[0][0]                  \n",
            "__________________________________________________________________________________________________\n",
            "input_6 (InputLayer)            [(None, 1)]          0                                            \n",
            "__________________________________________________________________________________________________\n",
            "dense_4 (Dense)                 (None, 1)            33          dense_3[0][0]                    \n",
            "==================================================================================================\n",
            "Total params: 59,415\n",
            "Trainable params: 59,415\n",
            "Non-trainable params: 0\n",
            "__________________________________________________________________________________________________\n"
          ],
          "name": "stdout"
        }
      ]
    },
    {
      "cell_type": "markdown",
      "metadata": {
        "id": "znxnZhayulo9",
        "colab_type": "text"
      },
      "source": [
        "# Save model results"
      ]
    },
    {
      "cell_type": "code",
      "metadata": {
        "id": "ACRBo3Rou554",
        "colab_type": "code",
        "colab": {}
      },
      "source": [
        "train_mae = pd.DataFrame({\n",
        "    'content': content_mae,\n",
        "    'deep_colab': deepcolab_mae,\n",
        "    'colab': colab_mae\n",
        "})\n",
        "train_mse = pd.DataFrame({\n",
        "    'content': content_mse,\n",
        "    'deep_colab': deepcolab_mse,\n",
        "    'colab': colab_mse\n",
        "})\n",
        "train_mape = pd.DataFrame({\n",
        "    'content': content_mape,\n",
        "    'deep_colab': deepcolab_mape,\n",
        "    'colab': colab_mape\n",
        "})\n",
        "\n",
        "train_mae.to_csv(\"train_mae_res.csv\", index=False)\n",
        "train_mse.to_csv(\"train_mse_res.csv\", index=False)\n",
        "train_mape.to_csv(\"train_mape_res.csv\", index=False)\n",
        "\n",
        "test_data_res = pd.DataFrame({\n",
        "    'colab': [colab_test_mae, colab_test_mape, colab_test_mse],\n",
        "    'deep_colab': [deepcolab_test_mae, deepcolab_test_mape, deepcolab_test_mse],\n",
        "    'content': [content_test_mae, content_test_mape, content_test_mse]\n",
        "}, index=['test_mae', 'test_mape', 'test_mse'])\n",
        "test_data_res.to_csv(\"test_data_res.csv\", index=True)"
      ],
      "execution_count": 204,
      "outputs": []
    },
    {
      "cell_type": "code",
      "metadata": {
        "id": "LbEzn7Yk1Ouq",
        "colab_type": "code",
        "colab": {
          "base_uri": "https://localhost:8080/",
          "height": 139
        },
        "outputId": "f3751020-ef49-4306-852f-b983666d1570"
      },
      "source": [
        "colab_model.save(\"./colab_model\")\n",
        "content_model.save(\"./conent_model\")\n",
        "deepcolab_model.save(\"./deep_colab_model\")"
      ],
      "execution_count": 219,
      "outputs": [
        {
          "output_type": "stream",
          "text": [
            "WARNING:tensorflow:From /usr/local/lib/python3.6/dist-packages/tensorflow/python/ops/resource_variable_ops.py:1817: calling BaseResourceVariable.__init__ (from tensorflow.python.ops.resource_variable_ops) with constraint is deprecated and will be removed in a future version.\n",
            "Instructions for updating:\n",
            "If using Keras pass *_constraint arguments to layers.\n",
            "INFO:tensorflow:Assets written to: ./colab_model/assets\n",
            "INFO:tensorflow:Assets written to: ./conent_model/assets\n",
            "INFO:tensorflow:Assets written to: ./deep_colab_model/assets\n"
          ],
          "name": "stdout"
        }
      ]
    },
    {
      "cell_type": "code",
      "metadata": {
        "id": "aiOq1mU71srS",
        "colab_type": "code",
        "colab": {
          "base_uri": "https://localhost:8080/",
          "height": 119
        },
        "outputId": "3515806d-e49d-4b38-9322-1795779abef5"
      },
      "source": [
        "!zip -r ./colab_model.zip ./colab_model/"
      ],
      "execution_count": 224,
      "outputs": [
        {
          "output_type": "stream",
          "text": [
            "  adding: colab_model/ (stored 0%)\n",
            "  adding: colab_model/assets/ (stored 0%)\n",
            "  adding: colab_model/saved_model.pb (deflated 89%)\n",
            "  adding: colab_model/variables/ (stored 0%)\n",
            "  adding: colab_model/variables/variables.index (deflated 63%)\n",
            "  adding: colab_model/variables/variables.data-00000-of-00001 (deflated 11%)\n"
          ],
          "name": "stdout"
        }
      ]
    },
    {
      "cell_type": "code",
      "metadata": {
        "id": "k79tXBQp1ysn",
        "colab_type": "code",
        "colab": {
          "base_uri": "https://localhost:8080/",
          "height": 119
        },
        "outputId": "6f5b6102-79e5-4bb0-cd86-4f3b07ecec0a"
      },
      "source": [
        "!zip -r ./content_model.zip ./conent_model/"
      ],
      "execution_count": 223,
      "outputs": [
        {
          "output_type": "stream",
          "text": [
            "  adding: conent_model/ (stored 0%)\n",
            "  adding: conent_model/assets/ (stored 0%)\n",
            "  adding: conent_model/saved_model.pb (deflated 90%)\n",
            "  adding: conent_model/variables/ (stored 0%)\n",
            "  adding: conent_model/variables/variables.index (deflated 68%)\n",
            "  adding: conent_model/variables/variables.data-00000-of-00001 (deflated 8%)\n"
          ],
          "name": "stdout"
        }
      ]
    },
    {
      "cell_type": "code",
      "metadata": {
        "id": "zgH-bZAc142Q",
        "colab_type": "code",
        "colab": {
          "base_uri": "https://localhost:8080/",
          "height": 119
        },
        "outputId": "d6917c60-17b3-435e-894d-d1cb70e426f1"
      },
      "source": [
        "!zip -r ./deep_colab_model.zip ./deep_colab_model/"
      ],
      "execution_count": 222,
      "outputs": [
        {
          "output_type": "stream",
          "text": [
            "  adding: deep_colab_model/ (stored 0%)\n",
            "  adding: deep_colab_model/assets/ (stored 0%)\n",
            "  adding: deep_colab_model/saved_model.pb (deflated 90%)\n",
            "  adding: deep_colab_model/variables/ (stored 0%)\n",
            "  adding: deep_colab_model/variables/variables.index (deflated 67%)\n",
            "  adding: deep_colab_model/variables/variables.data-00000-of-00001 (deflated 11%)\n"
          ],
          "name": "stdout"
        }
      ]
    },
    {
      "cell_type": "markdown",
      "metadata": {
        "id": "L-vdiLO9h6sq",
        "colab_type": "text"
      },
      "source": [
        "# Statistical comparisons"
      ]
    },
    {
      "cell_type": "code",
      "metadata": {
        "id": "_dBVcs6ZtI_c",
        "colab_type": "code",
        "colab": {
          "base_uri": "https://localhost:8080/",
          "height": 85
        },
        "outputId": "02588884-f897-4c57-a91a-7de70ee88cbc"
      },
      "source": [
        "train_mae.mean(axis=0)"
      ],
      "execution_count": 205,
      "outputs": [
        {
          "output_type": "execute_result",
          "data": {
            "text/plain": [
              "content       0.067534\n",
              "deep_colab    0.087262\n",
              "colab         0.151786\n",
              "dtype: float64"
            ]
          },
          "metadata": {
            "tags": []
          },
          "execution_count": 205
        }
      ]
    },
    {
      "cell_type": "code",
      "metadata": {
        "id": "loWaSPaS2f_W",
        "colab_type": "code",
        "colab": {
          "base_uri": "https://localhost:8080/",
          "height": 283
        },
        "outputId": "c6ab44b2-45be-484f-dac9-3fc2b30d5ed2"
      },
      "source": [
        "train_mae.boxplot()"
      ],
      "execution_count": 226,
      "outputs": [
        {
          "output_type": "execute_result",
          "data": {
            "text/plain": [
              "<matplotlib.axes._subplots.AxesSubplot at 0x7fbce7525d30>"
            ]
          },
          "metadata": {
            "tags": []
          },
          "execution_count": 226
        },
        {
          "output_type": "display_data",
          "data": {
            "image/png": "[encoded data removed]",
            "text/plain": [
              "<Figure size 432x288 with 1 Axes>"
            ]
          },
          "metadata": {
            "tags": [],
            "needs_background": "light"
          }
        }
      ]
    },
    {
      "cell_type": "code",
      "metadata": {
        "id": "iFrursVwtQCt",
        "colab_type": "code",
        "colab": {
          "base_uri": "https://localhost:8080/",
          "height": 85
        },
        "outputId": "a02a117c-6d55-4d87-c289-22b0d87b8d81"
      },
      "source": [
        "train_mse.mean(axis=0)"
      ],
      "execution_count": 206,
      "outputs": [
        {
          "output_type": "execute_result",
          "data": {
            "text/plain": [
              "content       0.035164\n",
              "deep_colab    0.059211\n",
              "colab         0.269069\n",
              "dtype: float64"
            ]
          },
          "metadata": {
            "tags": []
          },
          "execution_count": 206
        }
      ]
    },
    {
      "cell_type": "code",
      "metadata": {
        "id": "pTZLzSVW2kJX",
        "colab_type": "code",
        "colab": {
          "base_uri": "https://localhost:8080/",
          "height": 287
        },
        "outputId": "8076a2bc-cb18-478e-a876-25da0f5459e0"
      },
      "source": [
        "train_mse.boxplot()"
      ],
      "execution_count": 227,
      "outputs": [
        {
          "output_type": "execute_result",
          "data": {
            "text/plain": [
              "<matplotlib.axes._subplots.AxesSubplot at 0x7fbcec384940>"
            ]
          },
          "metadata": {
            "tags": []
          },
          "execution_count": 227
        },
        {
          "output_type": "display_data",
          "data": {
            "image/png": "[encoded data removed]",
            "text/plain": [
              "<Figure size 432x288 with 1 Axes>"
            ]
          },
          "metadata": {
            "tags": [],
            "needs_background": "light"
          }
        }
      ]
    },
    {
      "cell_type": "code",
      "metadata": {
        "id": "BV9G3M7GtSBx",
        "colab_type": "code",
        "colab": {
          "base_uri": "https://localhost:8080/",
          "height": 85
        },
        "outputId": "abc7109e-0cae-4754-e1c9-f8cff581a225"
      },
      "source": [
        "train_mape.mean(axis=0)"
      ],
      "execution_count": 207,
      "outputs": [
        {
          "output_type": "execute_result",
          "data": {
            "text/plain": [
              "content       0.022194\n",
              "deep_colab    0.031695\n",
              "colab         0.035777\n",
              "dtype: float64"
            ]
          },
          "metadata": {
            "tags": []
          },
          "execution_count": 207
        }
      ]
    },
    {
      "cell_type": "code",
      "metadata": {
        "id": "KgGaDjvK2nLg",
        "colab_type": "code",
        "colab": {
          "base_uri": "https://localhost:8080/",
          "height": 283
        },
        "outputId": "a618fb94-44a4-4abb-d802-4f6d9ccc1e99"
      },
      "source": [
        "train_mape.boxplot()"
      ],
      "execution_count": 229,
      "outputs": [
        {
          "output_type": "execute_result",
          "data": {
            "text/plain": [
              "<matplotlib.axes._subplots.AxesSubplot at 0x7fbced5926d8>"
            ]
          },
          "metadata": {
            "tags": []
          },
          "execution_count": 229
        },
        {
          "output_type": "display_data",
          "data": {
            "image/png": "[encoded data removed]",
            "text/plain": [
              "<Figure size 432x288 with 1 Axes>"
            ]
          },
          "metadata": {
            "tags": [],
            "needs_background": "light"
          }
        }
      ]
    },
    {
      "cell_type": "code",
      "metadata": {
        "id": "RPLSeC82tjHZ",
        "colab_type": "code",
        "colab": {
          "base_uri": "https://localhost:8080/",
          "height": 119
        },
        "outputId": "308cc621-837b-4fae-f5e0-11250315d3d8"
      },
      "source": [
        "print(f\"\"\"\n",
        "Test MAE results:\n",
        "COLAB:            {colab_test_mae}\n",
        "DEEP COLAB:       {deepcolab_test_mae}\n",
        "CONTENT:          {content_test_mae}\n",
        "\"\"\")"
      ],
      "execution_count": 208,
      "outputs": [
        {
          "output_type": "stream",
          "text": [
            "\n",
            "Test MAE results:\n",
            "COLAB:            4.436761780251725\n",
            "DEEP COLAB:       0.5216582589616815\n",
            "CONTENT:          0.1711329339185351\n",
            "\n"
          ],
          "name": "stdout"
        }
      ]
    },
    {
      "cell_type": "code",
      "metadata": {
        "id": "iKRRP3YNtyob",
        "colab_type": "code",
        "colab": {
          "base_uri": "https://localhost:8080/",
          "height": 119
        },
        "outputId": "4e8c1ebc-62f7-4886-bc40-5241f12e5fa1"
      },
      "source": [
        "print(f\"\"\"\n",
        "Test MSE results:\n",
        "COLAB:            {colab_test_mse}\n",
        "DEEP COLAB:       {deepcolab_test_mse}\n",
        "CONTENT:          {content_test_mse}\n",
        "\"\"\")"
      ],
      "execution_count": 209,
      "outputs": [
        {
          "output_type": "stream",
          "text": [
            "\n",
            "Test MSE results:\n",
            "COLAB:            20.69780258149214\n",
            "DEEP COLAB:       0.5617355545271608\n",
            "CONTENT:          0.10189070663191771\n",
            "\n"
          ],
          "name": "stdout"
        }
      ]
    },
    {
      "cell_type": "code",
      "metadata": {
        "id": "7zKtyUqrt275",
        "colab_type": "code",
        "colab": {
          "base_uri": "https://localhost:8080/",
          "height": 119
        },
        "outputId": "871afdcc-7aae-421b-d8fb-f755396921df"
      },
      "source": [
        "print(f\"\"\"\n",
        "Test MSE results:\n",
        "COLAB:            {colab_test_mape}\n",
        "DEEP COLAB:       {deepcolab_test_mape}\n",
        "CONTENT:          {content_test_mape}\n",
        "\"\"\")"
      ],
      "execution_count": 210,
      "outputs": [
        {
          "output_type": "stream",
          "text": [
            "\n",
            "Test MSE results:\n",
            "COLAB:            0.9949391631497635\n",
            "DEEP COLAB:       0.19555105594677316\n",
            "CONTENT:          0.07531161872262646\n",
            "\n"
          ],
          "name": "stdout"
        }
      ]
    },
    {
      "cell_type": "code",
      "metadata": {
        "id": "jOj2a1g88z7f",
        "colab_type": "code",
        "colab": {
          "base_uri": "https://localhost:8080/",
          "height": 34
        },
        "outputId": "c4cb3c37-e8f4-456e-909e-29f987d7e3a0"
      },
      "source": [
        "st.mannwhitneyu(content_mse, colab_mse)"
      ],
      "execution_count": 211,
      "outputs": [
        {
          "output_type": "execute_result",
          "data": {
            "text/plain": [
              "MannwhitneyuResult(statistic=2.0, pvalue=0.00016491926038899677)"
            ]
          },
          "metadata": {
            "tags": []
          },
          "execution_count": 211
        }
      ]
    },
    {
      "cell_type": "code",
      "metadata": {
        "id": "bjr5zFn20c0D",
        "colab_type": "code",
        "colab": {
          "base_uri": "https://localhost:8080/",
          "height": 34
        },
        "outputId": "ab810458-0fa5-4a8b-8d9d-d0bbb2f8f380"
      },
      "source": [
        "st.mannwhitneyu(content_mse, deepcolab_mse)"
      ],
      "execution_count": 212,
      "outputs": [
        {
          "output_type": "execute_result",
          "data": {
            "text/plain": [
              "MannwhitneyuResult(statistic=19.0, pvalue=0.01056696406458055)"
            ]
          },
          "metadata": {
            "tags": []
          },
          "execution_count": 212
        }
      ]
    },
    {
      "cell_type": "code",
      "metadata": {
        "id": "pnQHwDUk9G8n",
        "colab_type": "code",
        "colab": {
          "base_uri": "https://localhost:8080/",
          "height": 34
        },
        "outputId": "e89da025-813c-4d54-ba4f-be5bda55daaa"
      },
      "source": [
        "st.mannwhitneyu(content_mae, colab_mae)"
      ],
      "execution_count": 213,
      "outputs": [
        {
          "output_type": "execute_result",
          "data": {
            "text/plain": [
              "MannwhitneyuResult(statistic=1.0, pvalue=0.00012306406395261486)"
            ]
          },
          "metadata": {
            "tags": []
          },
          "execution_count": 213
        }
      ]
    },
    {
      "cell_type": "code",
      "metadata": {
        "id": "uBdReGXq0gdJ",
        "colab_type": "code",
        "colab": {
          "base_uri": "https://localhost:8080/",
          "height": 34
        },
        "outputId": "531da680-484b-485a-eef4-4ef6700761e8"
      },
      "source": [
        "st.mannwhitneyu(content_mae, deepcolab_mae)"
      ],
      "execution_count": 214,
      "outputs": [
        {
          "output_type": "execute_result",
          "data": {
            "text/plain": [
              "MannwhitneyuResult(statistic=23.0, pvalue=0.022577284812139504)"
            ]
          },
          "metadata": {
            "tags": []
          },
          "execution_count": 214
        }
      ]
    },
    {
      "cell_type": "code",
      "metadata": {
        "id": "NB-dT8ZX0jG3",
        "colab_type": "code",
        "colab": {
          "base_uri": "https://localhost:8080/",
          "height": 34
        },
        "outputId": "838d6f33-6d4e-4068-9606-6bfc8fac3510"
      },
      "source": [
        "st.mannwhitneyu(content_mape, deepcolab_mape)"
      ],
      "execution_count": 215,
      "outputs": [
        {
          "output_type": "execute_result",
          "data": {
            "text/plain": [
              "MannwhitneyuResult(statistic=20.0, pvalue=0.012874040410554032)"
            ]
          },
          "metadata": {
            "tags": []
          },
          "execution_count": 215
        }
      ]
    },
    {
      "cell_type": "code",
      "metadata": {
        "id": "mHK3pa1vmFET",
        "colab_type": "code",
        "colab": {
          "base_uri": "https://localhost:8080/",
          "height": 142
        },
        "outputId": "a263cabd-6cc6-4739-fba3-e73c179d8bbf"
      },
      "source": [
        "sp.posthoc_mannwhitney([content_mse, deepcolab_mse, colab_mse])"
      ],
      "execution_count": 216,
      "outputs": [
        {
          "output_type": "execute_result",
          "data": {
            "text/html": [
              "<div>\n",
              "<style scoped>\n",
              "    .dataframe tbody tr th:only-of-type {\n",
              "        vertical-align: middle;\n",
              "    }\n",
              "\n",
              "    .dataframe tbody tr th {\n",
              "        vertical-align: top;\n",
              "    }\n",
              "\n",
              "    .dataframe thead th {\n",
              "        text-align: right;\n",
              "    }\n",
              "</style>\n",
              "<table border=\"1\" class=\"dataframe\">\n",
              "  <thead>\n",
              "    <tr style=\"text-align: right;\">\n",
              "      <th></th>\n",
              "      <th>1</th>\n",
              "      <th>2</th>\n",
              "      <th>3</th>\n",
              "    </tr>\n",
              "  </thead>\n",
              "  <tbody>\n",
              "    <tr>\n",
              "      <th>1</th>\n",
              "      <td>-1.000000</td>\n",
              "      <td>0.021134</td>\n",
              "      <td>0.000330</td>\n",
              "    </tr>\n",
              "    <tr>\n",
              "      <th>2</th>\n",
              "      <td>0.021134</td>\n",
              "      <td>-1.000000</td>\n",
              "      <td>0.000583</td>\n",
              "    </tr>\n",
              "    <tr>\n",
              "      <th>3</th>\n",
              "      <td>0.000330</td>\n",
              "      <td>0.000583</td>\n",
              "      <td>-1.000000</td>\n",
              "    </tr>\n",
              "  </tbody>\n",
              "</table>\n",
              "</div>"
            ],
            "text/plain": [
              "          1         2         3\n",
              "1 -1.000000  0.021134  0.000330\n",
              "2  0.021134 -1.000000  0.000583\n",
              "3  0.000330  0.000583 -1.000000"
            ]
          },
          "metadata": {
            "tags": []
          },
          "execution_count": 216
        }
      ]
    },
    {
      "cell_type": "code",
      "metadata": {
        "id": "R8hXl84ymQ9D",
        "colab_type": "code",
        "colab": {
          "base_uri": "https://localhost:8080/",
          "height": 142
        },
        "outputId": "5dd9f369-350f-420c-b36d-8bfb0b5ec34f"
      },
      "source": [
        "sp.posthoc_mannwhitney([content_mae, deepcolab_mae, colab_mae])"
      ],
      "execution_count": 217,
      "outputs": [
        {
          "output_type": "execute_result",
          "data": {
            "text/html": [
              "<div>\n",
              "<style scoped>\n",
              "    .dataframe tbody tr th:only-of-type {\n",
              "        vertical-align: middle;\n",
              "    }\n",
              "\n",
              "    .dataframe tbody tr th {\n",
              "        vertical-align: top;\n",
              "    }\n",
              "\n",
              "    .dataframe thead th {\n",
              "        text-align: right;\n",
              "    }\n",
              "</style>\n",
              "<table border=\"1\" class=\"dataframe\">\n",
              "  <thead>\n",
              "    <tr style=\"text-align: right;\">\n",
              "      <th></th>\n",
              "      <th>1</th>\n",
              "      <th>2</th>\n",
              "      <th>3</th>\n",
              "    </tr>\n",
              "  </thead>\n",
              "  <tbody>\n",
              "    <tr>\n",
              "      <th>1</th>\n",
              "      <td>-1.000000</td>\n",
              "      <td>0.045155</td>\n",
              "      <td>0.000246</td>\n",
              "    </tr>\n",
              "    <tr>\n",
              "      <th>2</th>\n",
              "      <td>0.045155</td>\n",
              "      <td>-1.000000</td>\n",
              "      <td>0.001008</td>\n",
              "    </tr>\n",
              "    <tr>\n",
              "      <th>3</th>\n",
              "      <td>0.000246</td>\n",
              "      <td>0.001008</td>\n",
              "      <td>-1.000000</td>\n",
              "    </tr>\n",
              "  </tbody>\n",
              "</table>\n",
              "</div>"
            ],
            "text/plain": [
              "          1         2         3\n",
              "1 -1.000000  0.045155  0.000246\n",
              "2  0.045155 -1.000000  0.001008\n",
              "3  0.000246  0.001008 -1.000000"
            ]
          },
          "metadata": {
            "tags": []
          },
          "execution_count": 217
        }
      ]
    },
    {
      "cell_type": "code",
      "metadata": {
        "id": "U_BLxFsfpA8D",
        "colab_type": "code",
        "colab": {
          "base_uri": "https://localhost:8080/",
          "height": 142
        },
        "outputId": "60954600-2e6d-4243-a5d6-720ba3518510"
      },
      "source": [
        "sp.posthoc_mannwhitney([content_mape, deepcolab_mape, colab_mape])"
      ],
      "execution_count": 218,
      "outputs": [
        {
          "output_type": "execute_result",
          "data": {
            "text/html": [
              "<div>\n",
              "<style scoped>\n",
              "    .dataframe tbody tr th:only-of-type {\n",
              "        vertical-align: middle;\n",
              "    }\n",
              "\n",
              "    .dataframe tbody tr th {\n",
              "        vertical-align: top;\n",
              "    }\n",
              "\n",
              "    .dataframe thead th {\n",
              "        text-align: right;\n",
              "    }\n",
              "</style>\n",
              "<table border=\"1\" class=\"dataframe\">\n",
              "  <thead>\n",
              "    <tr style=\"text-align: right;\">\n",
              "      <th></th>\n",
              "      <th>1</th>\n",
              "      <th>2</th>\n",
              "      <th>3</th>\n",
              "    </tr>\n",
              "  </thead>\n",
              "  <tbody>\n",
              "    <tr>\n",
              "      <th>1</th>\n",
              "      <td>-1.000000</td>\n",
              "      <td>0.025748</td>\n",
              "      <td>0.002202</td>\n",
              "    </tr>\n",
              "    <tr>\n",
              "      <th>2</th>\n",
              "      <td>0.025748</td>\n",
              "      <td>-1.000000</td>\n",
              "      <td>0.212294</td>\n",
              "    </tr>\n",
              "    <tr>\n",
              "      <th>3</th>\n",
              "      <td>0.002202</td>\n",
              "      <td>0.212294</td>\n",
              "      <td>-1.000000</td>\n",
              "    </tr>\n",
              "  </tbody>\n",
              "</table>\n",
              "</div>"
            ],
            "text/plain": [
              "          1         2         3\n",
              "1 -1.000000  0.025748  0.002202\n",
              "2  0.025748 -1.000000  0.212294\n",
              "3  0.002202  0.212294 -1.000000"
            ]
          },
          "metadata": {
            "tags": []
          },
          "execution_count": 218
        }
      ]
    },
    {
      "cell_type": "code",
      "metadata": {
        "id": "LWFXTPtxtgVJ",
        "colab_type": "code",
        "colab": {}
      },
      "source": [
        ""
      ],
      "execution_count": null,
      "outputs": []
    }
  ]
}